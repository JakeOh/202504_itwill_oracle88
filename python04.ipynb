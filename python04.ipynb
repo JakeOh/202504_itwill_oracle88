{
  "nbformat": 4,
  "nbformat_minor": 0,
  "metadata": {
    "colab": {
      "provenance": [],
      "toc_visible": true,
      "authorship_tag": "ABX9TyMVGV2twZRwm71REfK9V0Uy",
      "include_colab_link": true
    },
    "kernelspec": {
      "name": "python3",
      "display_name": "Python 3"
    },
    "language_info": {
      "name": "python"
    }
  },
  "cells": [
    {
      "cell_type": "markdown",
      "metadata": {
        "id": "view-in-github",
        "colab_type": "text"
      },
      "source": [
        "<a href=\"https://colab.research.google.com/github/JakeOh/202504_itwill_oracle88/blob/main/python04.ipynb\" target=\"_parent\"><img src=\"https://colab.research.google.com/assets/colab-badge.svg\" alt=\"Open In Colab\"/></a>"
      ]
    },
    {
      "cell_type": "markdown",
      "source": [
        "# while 반복문"
      ],
      "metadata": {
        "id": "XSCrdJvAIXTT"
      }
    },
    {
      "cell_type": "markdown",
      "source": [
        "## 문법"
      ],
      "metadata": {
        "id": "zZc_j-mvIdHq"
      }
    },
    {
      "cell_type": "markdown",
      "source": [
        "```\n",
        "[초기화 문장]\n",
        "while 조건식:\n",
        "    조건식을 만족하는 동안에 반복할 코드 블록\n",
        "    [조건식의 결과를 바꿀 수 있는 문장]\n",
        "```\n",
        "\n",
        "*   `while 조건식` 다음에는 반드시 콜론(:)을 써야 함.\n",
        "*   조건식을 만족하는 동안 블록 내부를 실행.\n",
        "*   조건식의 결과가 False가 되면 반복을 멈춤.\n"
      ],
      "metadata": {
        "id": "8Y6oeUgEIfcK"
      }
    },
    {
      "cell_type": "code",
      "execution_count": 1,
      "metadata": {
        "colab": {
          "base_uri": "https://localhost:8080/"
        },
        "id": "bU8jEkJsIMvr",
        "outputId": "901ae5cf-ea42-4a56-c601-f6b915b293d8"
      },
      "outputs": [
        {
          "output_type": "stream",
          "name": "stdout",
          "text": [
            "1\n",
            "2\n",
            "3\n",
            "4\n",
            "5\n"
          ]
        }
      ],
      "source": [
        "print(1)\n",
        "print(2)\n",
        "print(3)\n",
        "print(4)\n",
        "print(5)"
      ]
    },
    {
      "cell_type": "code",
      "source": [
        "n = 1  # 초기화 문장\n",
        "while n < 6:  # 변수 n의 값이 6보다 작은 동안에\n",
        "    print(n)  # 변수 n의 값을 출력\n",
        "    n += 1  # n = n + 1"
      ],
      "metadata": {
        "colab": {
          "base_uri": "https://localhost:8080/"
        },
        "id": "QG-FGsT9KggT",
        "outputId": "fd434d8b-7814-4223-d9cd-6a86950f5161"
      },
      "execution_count": 2,
      "outputs": [
        {
          "output_type": "stream",
          "name": "stdout",
          "text": [
            "1\n",
            "2\n",
            "3\n",
            "4\n",
            "5\n"
          ]
        }
      ]
    },
    {
      "cell_type": "markdown",
      "source": [
        "5부터 1씩 감소시키면서 1까지 한 줄씩 출력"
      ],
      "metadata": {
        "id": "LxFrLyQKMUpy"
      }
    },
    {
      "cell_type": "code",
      "source": [
        "n = 5\n",
        "while n > 0:  # while n >= 1:\n",
        "    print(n)\n",
        "    n -= 1"
      ],
      "metadata": {
        "colab": {
          "base_uri": "https://localhost:8080/"
        },
        "id": "mJQnrCh9MeLi",
        "outputId": "6ca8c346-7feb-4294-9856-a1c4dfa6a2ab"
      },
      "execution_count": 3,
      "outputs": [
        {
          "output_type": "stream",
          "name": "stdout",
          "text": [
            "5\n",
            "4\n",
            "3\n",
            "2\n",
            "1\n"
          ]
        }
      ]
    },
    {
      "cell_type": "markdown",
      "source": [
        "2 4 6 8 10을 한 줄씩 출력"
      ],
      "metadata": {
        "id": "JuQSlxhTNJ6K"
      }
    },
    {
      "cell_type": "code",
      "source": [
        "n = 2\n",
        "while n <= 10:\n",
        "    print(n)\n",
        "    n += 2"
      ],
      "metadata": {
        "colab": {
          "base_uri": "https://localhost:8080/"
        },
        "id": "38wzGwI-NPcr",
        "outputId": "bad51f05-b12f-43e3-a30f-b5ae88bcef69"
      },
      "execution_count": 4,
      "outputs": [
        {
          "output_type": "stream",
          "name": "stdout",
          "text": [
            "2\n",
            "4\n",
            "6\n",
            "8\n",
            "10\n"
          ]
        }
      ]
    },
    {
      "cell_type": "code",
      "source": [
        "n = 2\n",
        "while n <= 10:      # n의 값이 10 이하인 동안에\n",
        "    if n % 2 == 0:  # n이 짝수이면\n",
        "        print(n)    # n을 출력\n",
        "    n += 1          # n의 값을 1 증가"
      ],
      "metadata": {
        "colab": {
          "base_uri": "https://localhost:8080/"
        },
        "id": "zcDGLRjqOwnK",
        "outputId": "623ca318-9cb6-4b8b-fce3-08d6e91ee66e"
      },
      "execution_count": 5,
      "outputs": [
        {
          "output_type": "stream",
          "name": "stdout",
          "text": [
            "2\n",
            "4\n",
            "6\n",
            "8\n",
            "10\n"
          ]
        }
      ]
    }
  ]
}