{
  "nbformat": 4,
  "nbformat_minor": 0,
  "metadata": {
    "colab": {
      "provenance": [],
      "toc_visible": true,
      "authorship_tag": "ABX9TyOCAH9uMyWyNJAzgwXMx4od",
      "include_colab_link": true
    },
    "kernelspec": {
      "name": "python3",
      "display_name": "Python 3"
    },
    "language_info": {
      "name": "python"
    }
  },
  "cells": [
    {
      "cell_type": "markdown",
      "metadata": {
        "id": "view-in-github",
        "colab_type": "text"
      },
      "source": [
        "<a href=\"https://colab.research.google.com/github/JakeOh/202504_itwill_oracle88/blob/main/python24.ipynb\" target=\"_parent\"><img src=\"https://colab.research.google.com/assets/colab-badge.svg\" alt=\"Open In Colab\"/></a>"
      ]
    },
    {
      "cell_type": "markdown",
      "source": [
        "# Colab에서 한글 폰트 사용하기"
      ],
      "metadata": {
        "id": "YuAm20XNppoT"
      }
    },
    {
      "cell_type": "markdown",
      "source": [
        "## Step 1. 한글 폰트 설치"
      ],
      "metadata": {
        "id": "V6QP-tUhqRrz"
      }
    },
    {
      "cell_type": "code",
      "execution_count": 1,
      "metadata": {
        "colab": {
          "base_uri": "https://localhost:8080/"
        },
        "id": "AMJdYOJAplWk",
        "outputId": "a733eada-7d27-4d66-f105-25aa99b1b95f"
      },
      "outputs": [
        {
          "output_type": "stream",
          "name": "stdout",
          "text": [
            "Reading package lists... Done\n",
            "Building dependency tree... Done\n",
            "Reading state information... Done\n",
            "The following NEW packages will be installed:\n",
            "  fonts-nanum\n",
            "0 upgraded, 1 newly installed, 0 to remove and 34 not upgraded.\n",
            "Need to get 10.3 MB of archives.\n",
            "After this operation, 34.1 MB of additional disk space will be used.\n",
            "Get:1 http://archive.ubuntu.com/ubuntu jammy/universe amd64 fonts-nanum all 20200506-1 [10.3 MB]\n",
            "Fetched 10.3 MB in 1s (9,542 kB/s)\n",
            "debconf: unable to initialize frontend: Dialog\n",
            "debconf: (No usable dialog-like program is installed, so the dialog based frontend cannot be used. at /usr/share/perl5/Debconf/FrontEnd/Dialog.pm line 78, <> line 1.)\n",
            "debconf: falling back to frontend: Readline\n",
            "debconf: unable to initialize frontend: Readline\n",
            "debconf: (This frontend requires a controlling tty.)\n",
            "debconf: falling back to frontend: Teletype\n",
            "dpkg-preconfigure: unable to re-open stdin: \n",
            "Selecting previously unselected package fonts-nanum.\n",
            "(Reading database ... 126102 files and directories currently installed.)\n",
            "Preparing to unpack .../fonts-nanum_20200506-1_all.deb ...\n",
            "Unpacking fonts-nanum (20200506-1) ...\n",
            "Setting up fonts-nanum (20200506-1) ...\n",
            "Processing triggers for fontconfig (2.13.1-4.2ubuntu5) ...\n",
            "/usr/share/fonts: caching, new cache contents: 0 fonts, 1 dirs\n",
            "/usr/share/fonts/truetype: caching, new cache contents: 0 fonts, 3 dirs\n",
            "/usr/share/fonts/truetype/humor-sans: caching, new cache contents: 1 fonts, 0 dirs\n",
            "/usr/share/fonts/truetype/liberation: caching, new cache contents: 16 fonts, 0 dirs\n",
            "/usr/share/fonts/truetype/nanum: caching, new cache contents: 12 fonts, 0 dirs\n",
            "/usr/local/share/fonts: caching, new cache contents: 0 fonts, 0 dirs\n",
            "/root/.local/share/fonts: skipping, no such directory\n",
            "/root/.fonts: skipping, no such directory\n",
            "/usr/share/fonts/truetype: skipping, looped directory detected\n",
            "/usr/share/fonts/truetype/humor-sans: skipping, looped directory detected\n",
            "/usr/share/fonts/truetype/liberation: skipping, looped directory detected\n",
            "/usr/share/fonts/truetype/nanum: skipping, looped directory detected\n",
            "/var/cache/fontconfig: cleaning cache directory\n",
            "/root/.cache/fontconfig: not cleaning non-existent cache directory\n",
            "/root/.fontconfig: not cleaning non-existent cache directory\n",
            "fc-cache: succeeded\n"
          ]
        }
      ],
      "source": [
        "# Jupyter notebook 환경에서 리눅스 명령어를 실행\n",
        "!sudo apt-get install -y fonts-nanum\n",
        "!sudo fc-cache -fv\n",
        "!rm ~/.cache/matplotlib -rf"
      ]
    },
    {
      "cell_type": "markdown",
      "source": [
        "## Step 2. Colab Runtime 재시작(Ctrl+M)"
      ],
      "metadata": {
        "id": "SOIXmP8-rd-j"
      }
    },
    {
      "cell_type": "markdown",
      "source": [
        "## Step 3. matplotlib 패키지에서 한글 폰트를 사용할 수 있도록 설정"
      ],
      "metadata": {
        "id": "VC0woQRqr0Bb"
      }
    },
    {
      "cell_type": "code",
      "source": [
        "import matplotlib.pyplot as plt\n",
        "\n",
        "plt.rc('font', family='NanumBarunGothic')"
      ],
      "metadata": {
        "id": "4-slZ51Tr7E1"
      },
      "execution_count": 1,
      "outputs": []
    },
    {
      "cell_type": "code",
      "source": [
        "# 한글 폰트 테스트\n",
        "import pandas as pd\n",
        "\n",
        "df = pd.DataFrame({\n",
        "    '구': ['강남구', '서초구'],\n",
        "    '유동인구': [1_000, 1_100]\n",
        "})\n",
        "\n",
        "plt.bar(x=df['구'], height=df['유동인구'])\n",
        "plt.xlabel('구')\n",
        "plt.ylabel('유동인구')\n",
        "plt.show()"
      ],
      "metadata": {
        "colab": {
          "base_uri": "https://localhost:8080/",
          "height": 449
        },
        "id": "Ttujo0aRsMq0",
        "outputId": "210de0b4-4d65-41f2-b89e-7d2d21c891b2"
      },
      "execution_count": 2,
      "outputs": [
        {
          "output_type": "display_data",
          "data": {
            "text/plain": [
              "<Figure size 640x480 with 1 Axes>"
            ],
            "image/png": "[encoded data removed]"
          },
          "metadata": {}
        }
      ]
    },
    {
      "cell_type": "markdown",
      "source": [
        "# 2025년 4월 전국 아파트 실거래가 분석"
      ],
      "metadata": {
        "id": "RNfN-RMzugkb"
      }
    },
    {
      "cell_type": "markdown",
      "source": [
        "*   [apt_201910.csv](https://github.com/JakeOh/202504_itwill_oracle88/raw/refs/heads/main/apt_202504.csv) 파일을 읽고 DataFrame 생성\n",
        "    *   encoding 파라미터 설정\n",
        "    *   첫 15줄은 파일에 대한 설명 -> skip\n",
        "    *   '가격' 컬럼에는 숫자 자릿수를 구분하는 comma가 사용되고 있음(예: 10,000)\n",
        "        *   '가격' 컬럼은 숫자 타입이어야 함!\n",
        "*   데이터 프레임 파악\n",
        "    *   info, head, tail, describe, dtypes, ...\n",
        "*   '시군구' 컬럼의 값을 이용해서, 'province' 파생 변수(도, 광역시 이름) 만듦.\n",
        "    *   '강원도 강릉시 견소동' -> '강원도'\n",
        "*   '계약년월' 컬럼의 값을 이용해서, 'year(계약년도)', 'month(계약월)' 파생 변수 만듦.\n",
        "    *   202504 -> 2025, 4\n",
        "*    서울특별시 아파트들의 동별 아파트 가격의 개수, 평균, 최솟값, 최댓값\n",
        "*    도/광역시별 아파트 가격 개수, 평균, 최솟값, 최댓값\n",
        "*    면적이  $84 m^2$  이상  $100 m^2$  미만의 서울특별시 아파트들 중에서, 동별 아파트 가격 개수, 평균, 최솟값, 최댓값\n",
        "*    면적이 $84 m^2$ 이상 $100 m^2$ 미만의 아파트들 중에서, 도/광역시별 아파트 가격 개수, 평균, 최솟값, 최댓값\n",
        "    *   결과를 평균의 내림차순으로 정렬해서 출력\n",
        "    *   결과를 최댓값의 내림차순으로 정렬해서 출력\n",
        "    *   결과를 최솟값의 오름차순으로 정렬해서 출력"
      ],
      "metadata": {
        "id": "Vtq6HlySuunD"
      }
    },
    {
      "cell_type": "markdown",
      "source": [
        "## 필요 패키지 import"
      ],
      "metadata": {
        "id": "wp8slL5ey9-D"
      }
    },
    {
      "cell_type": "code",
      "source": [
        "import numpy as np\n",
        "import pandas as pd\n",
        "import matplotlib.pyplot as plt\n",
        "import seaborn as sns"
      ],
      "metadata": {
        "id": "QwNF1fUWzDMD"
      },
      "execution_count": 3,
      "outputs": []
    },
    {
      "cell_type": "markdown",
      "source": [
        "## 데이터프레임 생성"
      ],
      "metadata": {
        "id": "Kqa2IipuzNQi"
      }
    },
    {
      "cell_type": "code",
      "source": [
        "file_path = 'https://github.com/JakeOh/202504_itwill_oracle88/raw/refs/heads/main/apt_202504.csv'"
      ],
      "metadata": {
        "id": "Qwg5J_OMzLej"
      },
      "execution_count": 4,
      "outputs": []
    },
    {
      "cell_type": "code",
      "source": [
        "apt = pd.read_csv(file_path, skiprows=15, encoding='euc-kr', thousands=',')\n",
        "# skiprows 파라미터: 파일에서 생략하고 넘어가는 줄 수.\n",
        "# encoding 파라미터: 텍스트 파일의 인코딩 타입을 설정. (예) utf-8(Linux, MacOS), cp949(한글 Windows), euc-kr, ...\n",
        "# thousands 파라미터: 숫자 자료에서 천자리 구분자가 사용되고 있을 때. (예) 10,000"
      ],
      "metadata": {
        "id": "xsNKiXtqz5tj"
      },
      "execution_count": 5,
      "outputs": []
    },
    {
      "cell_type": "code",
      "source": [
        "apt.head()"
      ],
      "metadata": {
        "colab": {
          "base_uri": "https://localhost:8080/",
          "height": 340
        },
        "id": "R52qfz4H1gAE",
        "outputId": "bcd720e1-8e4c-4cb8-cd62-aa3a04739528"
      },
      "execution_count": 6,
      "outputs": [
        {
          "output_type": "execute_result",
          "data": {
            "text/plain": [
              "   NO              시군구     번지    본번  부번          단지명   전용면적(㎡)    계약년월  계약일  \\\n",
              "0   1    인천광역시 부평구 부평동  140-6   140   6     신영(1동2동)   48.0100  202504   30   \n",
              "1   2   인천광역시 미추홀구 주안동   1662  1662   0  주안파크자이더플래티넘   84.9937  202504   30   \n",
              "2   3   인천광역시 미추홀구 주안동   1628  1628   0      주안역센트레빌   59.9813  202504   30   \n",
              "3   4    서울특별시 성동구 마장동    784   784   0           세림   84.9300  202504   30   \n",
              "4   5  서울특별시 동대문구 청량리동     60    60   0           한신  114.9500  202504   30   \n",
              "\n",
              "   거래금액(만원)  동   층 매수자 매도자  건축년도          도로명 해제사유발생일  거래유형   중개사소재지      등기일자  \n",
              "0     17355  -   3  개인  개인  1983  길주남로90번길 45       -  중개거래   인천 부평구         -  \n",
              "1     57800  -  23  개인  개인  2023  인하로222번길 20       -  중개거래  인천 미추홀구         -  \n",
              "2     41000  -  22  개인  개인  2021      염전로 414       -  중개거래  인천 미추홀구         -  \n",
              "3     73850  2  15  개인  개인  1986    마장로42길 16       -   직거래        -  25.04.30  \n",
              "4     86200  -  20  개인  개인  1997      제기로 131       -  중개거래  서울 동대문구         -  "
            ],
            "text/html": [
              "\n",
              "  <div id=\"df-f924ff39-0766-4b35-9553-bff70a559e6a\" class=\"colab-df-container\">\n",
              "    <div>\n",
              "<style scoped>\n",
              "    .dataframe tbody tr th:only-of-type {\n",
              "        vertical-align: middle;\n",
              "    }\n",
              "\n",
              "    .dataframe tbody tr th {\n",
              "        vertical-align: top;\n",
              "    }\n",
              "\n",
              "    .dataframe thead th {\n",
              "        text-align: right;\n",
              "    }\n",
              "</style>\n",
              "<table border=\"1\" class=\"dataframe\">\n",
              "  <thead>\n",
              "    <tr style=\"text-align: right;\">\n",
              "      <th></th>\n",
              "      <th>NO</th>\n",
              "      <th>시군구</th>\n",
              "      <th>번지</th>\n",
              "      <th>본번</th>\n",
              "      <th>부번</th>\n",
              "      <th>단지명</th>\n",
              "      <th>전용면적(㎡)</th>\n",
              "      <th>계약년월</th>\n",
              "      <th>계약일</th>\n",
              "      <th>거래금액(만원)</th>\n",
              "      <th>동</th>\n",
              "      <th>층</th>\n",
              "      <th>매수자</th>\n",
              "      <th>매도자</th>\n",
              "      <th>건축년도</th>\n",
              "      <th>도로명</th>\n",
              "      <th>해제사유발생일</th>\n",
              "      <th>거래유형</th>\n",
              "      <th>중개사소재지</th>\n",
              "      <th>등기일자</th>\n",
              "    </tr>\n",
              "  </thead>\n",
              "  <tbody>\n",
              "    <tr>\n",
              "      <th>0</th>\n",
              "      <td>1</td>\n",
              "      <td>인천광역시 부평구 부평동</td>\n",
              "      <td>140-6</td>\n",
              "      <td>140</td>\n",
              "      <td>6</td>\n",
              "      <td>신영(1동2동)</td>\n",
              "      <td>48.0100</td>\n",
              "      <td>202504</td>\n",
              "      <td>30</td>\n",
              "      <td>17355</td>\n",
              "      <td>-</td>\n",
              "      <td>3</td>\n",
              "      <td>개인</td>\n",
              "      <td>개인</td>\n",
              "      <td>1983</td>\n",
              "      <td>길주남로90번길 45</td>\n",
              "      <td>-</td>\n",
              "      <td>중개거래</td>\n",
              "      <td>인천 부평구</td>\n",
              "      <td>-</td>\n",
              "    </tr>\n",
              "    <tr>\n",
              "      <th>1</th>\n",
              "      <td>2</td>\n",
              "      <td>인천광역시 미추홀구 주안동</td>\n",
              "      <td>1662</td>\n",
              "      <td>1662</td>\n",
              "      <td>0</td>\n",
              "      <td>주안파크자이더플래티넘</td>\n",
              "      <td>84.9937</td>\n",
              "      <td>202504</td>\n",
              "      <td>30</td>\n",
              "      <td>57800</td>\n",
              "      <td>-</td>\n",
              "      <td>23</td>\n",
              "      <td>개인</td>\n",
              "      <td>개인</td>\n",
              "      <td>2023</td>\n",
              "      <td>인하로222번길 20</td>\n",
              "      <td>-</td>\n",
              "      <td>중개거래</td>\n",
              "      <td>인천 미추홀구</td>\n",
              "      <td>-</td>\n",
              "    </tr>\n",
              "    <tr>\n",
              "      <th>2</th>\n",
              "      <td>3</td>\n",
              "      <td>인천광역시 미추홀구 주안동</td>\n",
              "      <td>1628</td>\n",
              "      <td>1628</td>\n",
              "      <td>0</td>\n",
              "      <td>주안역센트레빌</td>\n",
              "      <td>59.9813</td>\n",
              "      <td>202504</td>\n",
              "      <td>30</td>\n",
              "      <td>41000</td>\n",
              "      <td>-</td>\n",
              "      <td>22</td>\n",
              "      <td>개인</td>\n",
              "      <td>개인</td>\n",
              "      <td>2021</td>\n",
              "      <td>염전로 414</td>\n",
              "      <td>-</td>\n",
              "      <td>중개거래</td>\n",
              "      <td>인천 미추홀구</td>\n",
              "      <td>-</td>\n",
              "    </tr>\n",
              "    <tr>\n",
              "      <th>3</th>\n",
              "      <td>4</td>\n",
              "      <td>서울특별시 성동구 마장동</td>\n",
              "      <td>784</td>\n",
              "      <td>784</td>\n",
              "      <td>0</td>\n",
              "      <td>세림</td>\n",
              "      <td>84.9300</td>\n",
              "      <td>202504</td>\n",
              "      <td>30</td>\n",
              "      <td>73850</td>\n",
              "      <td>2</td>\n",
              "      <td>15</td>\n",
              "      <td>개인</td>\n",
              "      <td>개인</td>\n",
              "      <td>1986</td>\n",
              "      <td>마장로42길 16</td>\n",
              "      <td>-</td>\n",
              "      <td>직거래</td>\n",
              "      <td>-</td>\n",
              "      <td>25.04.30</td>\n",
              "    </tr>\n",
              "    <tr>\n",
              "      <th>4</th>\n",
              "      <td>5</td>\n",
              "      <td>서울특별시 동대문구 청량리동</td>\n",
              "      <td>60</td>\n",
              "      <td>60</td>\n",
              "      <td>0</td>\n",
              "      <td>한신</td>\n",
              "      <td>114.9500</td>\n",
              "      <td>202504</td>\n",
              "      <td>30</td>\n",
              "      <td>86200</td>\n",
              "      <td>-</td>\n",
              "      <td>20</td>\n",
              "      <td>개인</td>\n",
              "      <td>개인</td>\n",
              "      <td>1997</td>\n",
              "      <td>제기로 131</td>\n",
              "      <td>-</td>\n",
              "      <td>중개거래</td>\n",
              "      <td>서울 동대문구</td>\n",
              "      <td>-</td>\n",
              "    </tr>\n",
              "  </tbody>\n",
              "</table>\n",
              "</div>\n",
              "    <div class=\"colab-df-buttons\">\n",
              "\n",
              "  <div class=\"colab-df-container\">\n",
              "    <button class=\"colab-df-convert\" onclick=\"convertToInteractive('df-f924ff39-0766-4b35-9553-bff70a559e6a')\"\n",
              "            title=\"Convert this dataframe to an interactive table.\"\n",
              "            style=\"display:none;\">\n",
              "\n",
              "  <svg xmlns=\"http://www.w3.org/2000/svg\" height=\"24px\" viewBox=\"0 -960 960 960\">\n",
              "    <path d=\"M120-120v-720h720v720H120Zm60-500h600v-160H180v160Zm220 220h160v-160H400v160Zm0 220h160v-160H400v160ZM180-400h160v-160H180v160Zm440 0h160v-160H620v160ZM180-180h160v-160H180v160Zm440 0h160v-160H620v160Z\"/>\n",
              "  </svg>\n",
              "    </button>\n",
              "\n",
              "  <style>\n",
              "    .colab-df-container {\n",
              "      display:flex;\n",
              "      gap: 12px;\n",
              "    }\n",
              "\n",
              "    .colab-df-convert {\n",
              "      background-color: #E8F0FE;\n",
              "      border: none;\n",
              "      border-radius: 50%;\n",
              "      cursor: pointer;\n",
              "      display: none;\n",
              "      fill: #1967D2;\n",
              "      height: 32px;\n",
              "      padding: 0 0 0 0;\n",
              "      width: 32px;\n",
              "    }\n",
              "\n",
              "    .colab-df-convert:hover {\n",
              "      background-color: #E2EBFA;\n",
              "      box-shadow: 0px 1px 2px rgba(60, 64, 67, 0.3), 0px 1px 3px 1px rgba(60, 64, 67, 0.15);\n",
              "      fill: #174EA6;\n",
              "    }\n",
              "\n",
              "    .colab-df-buttons div {\n",
              "      margin-bottom: 4px;\n",
              "    }\n",
              "\n",
              "    [theme=dark] .colab-df-convert {\n",
              "      background-color: #3B4455;\n",
              "      fill: #D2E3FC;\n",
              "    }\n",
              "\n",
              "    [theme=dark] .colab-df-convert:hover {\n",
              "      background-color: #434B5C;\n",
              "      box-shadow: 0px 1px 3px 1px rgba(0, 0, 0, 0.15);\n",
              "      filter: drop-shadow(0px 1px 2px rgba(0, 0, 0, 0.3));\n",
              "      fill: #FFFFFF;\n",
              "    }\n",
              "  </style>\n",
              "\n",
              "    <script>\n",
              "      const buttonEl =\n",
              "        document.querySelector('#df-f924ff39-0766-4b35-9553-bff70a559e6a button.colab-df-convert');\n",
              "      buttonEl.style.display =\n",
              "        google.colab.kernel.accessAllowed ? 'block' : 'none';\n",
              "\n",
              "      async function convertToInteractive(key) {\n",
              "        const element = document.querySelector('#df-f924ff39-0766-4b35-9553-bff70a559e6a');\n",
              "        const dataTable =\n",
              "          await google.colab.kernel.invokeFunction('convertToInteractive',\n",
              "                                                    [key], {});\n",
              "        if (!dataTable) return;\n",
              "\n",
              "        const docLinkHtml = 'Like what you see? Visit the ' +\n",
              "          '<a target=\"_blank\" href=https://colab.research.google.com/notebooks/data_table.ipynb>data table notebook</a>'\n",
              "          + ' to learn more about interactive tables.';\n",
              "        element.innerHTML = '';\n",
              "        dataTable['output_type'] = 'display_data';\n",
              "        await google.colab.output.renderOutput(dataTable, element);\n",
              "        const docLink = document.createElement('div');\n",
              "        docLink.innerHTML = docLinkHtml;\n",
              "        element.appendChild(docLink);\n",
              "      }\n",
              "    </script>\n",
              "  </div>\n",
              "\n",
              "\n",
              "    <div id=\"df-4e42cd55-1f4e-4c20-a172-897c39235f55\">\n",
              "      <button class=\"colab-df-quickchart\" onclick=\"quickchart('df-4e42cd55-1f4e-4c20-a172-897c39235f55')\"\n",
              "                title=\"Suggest charts\"\n",
              "                style=\"display:none;\">\n",
              "\n",
              "<svg xmlns=\"http://www.w3.org/2000/svg\" height=\"24px\"viewBox=\"0 0 24 24\"\n",
              "     width=\"24px\">\n",
              "    <g>\n",
              "        <path d=\"M19 3H5c-1.1 0-2 .9-2 2v14c0 1.1.9 2 2 2h14c1.1 0 2-.9 2-2V5c0-1.1-.9-2-2-2zM9 17H7v-7h2v7zm4 0h-2V7h2v10zm4 0h-2v-4h2v4z\"/>\n",
              "    </g>\n",
              "</svg>\n",
              "      </button>\n",
              "\n",
              "<style>\n",
              "  .colab-df-quickchart {\n",
              "      --bg-color: #E8F0FE;\n",
              "      --fill-color: #1967D2;\n",
              "      --hover-bg-color: #E2EBFA;\n",
              "      --hover-fill-color: #174EA6;\n",
              "      --disabled-fill-color: #AAA;\n",
              "      --disabled-bg-color: #DDD;\n",
              "  }\n",
              "\n",
              "  [theme=dark] .colab-df-quickchart {\n",
              "      --bg-color: #3B4455;\n",
              "      --fill-color: #D2E3FC;\n",
              "      --hover-bg-color: #434B5C;\n",
              "      --hover-fill-color: #FFFFFF;\n",
              "      --disabled-bg-color: #3B4455;\n",
              "      --disabled-fill-color: #666;\n",
              "  }\n",
              "\n",
              "  .colab-df-quickchart {\n",
              "    background-color: var(--bg-color);\n",
              "    border: none;\n",
              "    border-radius: 50%;\n",
              "    cursor: pointer;\n",
              "    display: none;\n",
              "    fill: var(--fill-color);\n",
              "    height: 32px;\n",
              "    padding: 0;\n",
              "    width: 32px;\n",
              "  }\n",
              "\n",
              "  .colab-df-quickchart:hover {\n",
              "    background-color: var(--hover-bg-color);\n",
              "    box-shadow: 0 1px 2px rgba(60, 64, 67, 0.3), 0 1px 3px 1px rgba(60, 64, 67, 0.15);\n",
              "    fill: var(--button-hover-fill-color);\n",
              "  }\n",
              "\n",
              "  .colab-df-quickchart-complete:disabled,\n",
              "  .colab-df-quickchart-complete:disabled:hover {\n",
              "    background-color: var(--disabled-bg-color);\n",
              "    fill: var(--disabled-fill-color);\n",
              "    box-shadow: none;\n",
              "  }\n",
              "\n",
              "  .colab-df-spinner {\n",
              "    border: 2px solid var(--fill-color);\n",
              "    border-color: transparent;\n",
              "    border-bottom-color: var(--fill-color);\n",
              "    animation:\n",
              "      spin 1s steps(1) infinite;\n",
              "  }\n",
              "\n",
              "  @keyframes spin {\n",
              "    0% {\n",
              "      border-color: transparent;\n",
              "      border-bottom-color: var(--fill-color);\n",
              "      border-left-color: var(--fill-color);\n",
              "    }\n",
              "    20% {\n",
              "      border-color: transparent;\n",
              "      border-left-color: var(--fill-color);\n",
              "      border-top-color: var(--fill-color);\n",
              "    }\n",
              "    30% {\n",
              "      border-color: transparent;\n",
              "      border-left-color: var(--fill-color);\n",
              "      border-top-color: var(--fill-color);\n",
              "      border-right-color: var(--fill-color);\n",
              "    }\n",
              "    40% {\n",
              "      border-color: transparent;\n",
              "      border-right-color: var(--fill-color);\n",
              "      border-top-color: var(--fill-color);\n",
              "    }\n",
              "    60% {\n",
              "      border-color: transparent;\n",
              "      border-right-color: var(--fill-color);\n",
              "    }\n",
              "    80% {\n",
              "      border-color: transparent;\n",
              "      border-right-color: var(--fill-color);\n",
              "      border-bottom-color: var(--fill-color);\n",
              "    }\n",
              "    90% {\n",
              "      border-color: transparent;\n",
              "      border-bottom-color: var(--fill-color);\n",
              "    }\n",
              "  }\n",
              "</style>\n",
              "\n",
              "      <script>\n",
              "        async function quickchart(key) {\n",
              "          const quickchartButtonEl =\n",
              "            document.querySelector('#' + key + ' button');\n",
              "          quickchartButtonEl.disabled = true;  // To prevent multiple clicks.\n",
              "          quickchartButtonEl.classList.add('colab-df-spinner');\n",
              "          try {\n",
              "            const charts = await google.colab.kernel.invokeFunction(\n",
              "                'suggestCharts', [key], {});\n",
              "          } catch (error) {\n",
              "            console.error('Error during call to suggestCharts:', error);\n",
              "          }\n",
              "          quickchartButtonEl.classList.remove('colab-df-spinner');\n",
              "          quickchartButtonEl.classList.add('colab-df-quickchart-complete');\n",
              "        }\n",
              "        (() => {\n",
              "          let quickchartButtonEl =\n",
              "            document.querySelector('#df-4e42cd55-1f4e-4c20-a172-897c39235f55 button');\n",
              "          quickchartButtonEl.style.display =\n",
              "            google.colab.kernel.accessAllowed ? 'block' : 'none';\n",
              "        })();\n",
              "      </script>\n",
              "    </div>\n",
              "\n",
              "    </div>\n",
              "  </div>\n"
            ],
            "application/vnd.google.colaboratory.intrinsic+json": {
              "type": "dataframe",
              "variable_name": "apt",
              "summary": "{\n  \"name\": \"apt\",\n  \"rows\": 36974,\n  \"fields\": [\n    {\n      \"column\": \"NO\",\n      \"properties\": {\n        \"dtype\": \"number\",\n        \"std\": 10673,\n        \"min\": 1,\n        \"max\": 36974,\n        \"num_unique_values\": 36974,\n        \"samples\": [\n          2650,\n          466,\n          34821\n        ],\n        \"semantic_type\": \"\",\n        \"description\": \"\"\n      }\n    },\n    {\n      \"column\": \"\\uc2dc\\uad70\\uad6c\",\n      \"properties\": {\n        \"dtype\": \"category\",\n        \"num_unique_values\": 2603,\n        \"samples\": [\n          \"\\ub300\\uad6c\\uad11\\uc5ed\\uc2dc \\uc911\\uad6c \\uad50\\ub3d9\",\n          \"\\uac15\\uc6d0\\ud2b9\\ubcc4\\uc790\\uce58\\ub3c4 \\uac15\\ub989\\uc2dc \\uc8fc\\ubb38\\uc9c4\\uc74d \\uad50\\ud56d\\ub9ac\",\n          \"\\uacbd\\uc0c1\\ub0a8\\ub3c4 \\uae40\\ud574\\uc2dc \\uc9c4\\ub840\\uba74 \\ucd08\\uc804\\ub9ac\"\n        ],\n        \"semantic_type\": \"\",\n        \"description\": \"\"\n      }\n    },\n    {\n      \"column\": \"\\ubc88\\uc9c0\",\n      \"properties\": {\n        \"dtype\": \"category\",\n        \"num_unique_values\": 6312,\n        \"samples\": [\n          \"160-11\",\n          \"373-2\",\n          \"1691\"\n        ],\n        \"semantic_type\": \"\",\n        \"description\": \"\"\n      }\n    },\n    {\n      \"column\": \"\\ubcf8\\ubc88\",\n      \"properties\": {\n        \"dtype\": \"number\",\n        \"std\": 710,\n        \"min\": 0,\n        \"max\": 7346,\n        \"num_unique_values\": 2246,\n        \"samples\": [\n          1313,\n          1342,\n          1241\n        ],\n        \"semantic_type\": \"\",\n        \"description\": \"\"\n      }\n    },\n    {\n      \"column\": \"\\ubd80\\ubc88\",\n      \"properties\": {\n        \"dtype\": \"number\",\n        \"std\": 38,\n        \"min\": 0,\n        \"max\": 5001,\n        \"num_unique_values\": 165,\n        \"samples\": [\n          68,\n          58,\n          56\n        ],\n        \"semantic_type\": \"\",\n        \"description\": \"\"\n      }\n    },\n    {\n      \"column\": \"\\ub2e8\\uc9c0\\uba85\",\n      \"properties\": {\n        \"dtype\": \"category\",\n        \"num_unique_values\": 11833,\n        \"samples\": [\n          \"\\ud3c9\\ud654\\ub9e8\\uc158\",\n          \"\\ub3d9\\ubb38\\ud55c\\uc131\\ud544\\ud558\\uc6b0\\uc2a4\",\n          \"\\uc8fc\\uacf5\\uadf8\\ub9b0\\ube4c9\"\n        ],\n        \"semantic_type\": \"\",\n        \"description\": \"\"\n      }\n    },\n    {\n      \"column\": \"\\uc804\\uc6a9\\uba74\\uc801(\\u33a1)\",\n      \"properties\": {\n        \"dtype\": \"number\",\n        \"std\": 22.468250926499532,\n        \"min\": 12.21,\n        \"max\": 244.47,\n        \"num_unique_values\": 10393,\n        \"samples\": [\n          36.0791,\n          75.5,\n          59.888\n        ],\n        \"semantic_type\": \"\",\n        \"description\": \"\"\n      }\n    },\n    {\n      \"column\": \"\\uacc4\\uc57d\\ub144\\uc6d4\",\n      \"properties\": {\n        \"dtype\": \"number\",\n        \"std\": 0,\n        \"min\": 202504,\n        \"max\": 202504,\n        \"num_unique_values\": 1,\n        \"samples\": [\n          202504\n        ],\n        \"semantic_type\": \"\",\n        \"description\": \"\"\n      }\n    },\n    {\n      \"column\": \"\\uacc4\\uc57d\\uc77c\",\n      \"properties\": {\n        \"dtype\": \"number\",\n        \"std\": 8,\n        \"min\": 1,\n        \"max\": 30,\n        \"num_unique_values\": 30,\n        \"samples\": [\n          3\n        ],\n        \"semantic_type\": \"\",\n        \"description\": \"\"\n      }\n    },\n    {\n      \"column\": \"\\uac70\\ub798\\uae08\\uc561(\\ub9cc\\uc6d0)\",\n      \"properties\": {\n        \"dtype\": \"number\",\n        \"std\": 41639,\n        \"min\": 1200,\n        \"max\": 1050000,\n        \"num_unique_values\": 2167,\n        \"samples\": [\n          187500\n        ],\n        \"semantic_type\": \"\",\n        \"description\": \"\"\n      }\n    },\n    {\n      \"column\": \"\\ub3d9\",\n      \"properties\": {\n        \"dtype\": \"category\",\n        \"num_unique_values\": 551,\n        \"samples\": [\n          \"\\ub0a8\\ubaa9\\uadf8\\ub9b0\\ud0c0\\uc6cc\"\n        ],\n        \"semantic_type\": \"\",\n        \"description\": \"\"\n      }\n    },\n    {\n      \"column\": \"\\uce35\",\n      \"properties\": {\n        \"dtype\": \"number\",\n        \"std\": 6,\n        \"min\": -2,\n        \"max\": 79,\n        \"num_unique_values\": 60,\n        \"samples\": [\n          3\n        ],\n        \"semantic_type\": \"\",\n        \"description\": \"\"\n      }\n    },\n    {\n      \"column\": \"\\ub9e4\\uc218\\uc790\",\n      \"properties\": {\n        \"dtype\": \"category\",\n        \"num_unique_values\": 4,\n        \"samples\": [\n          \"\\ubc95\\uc778\"\n        ],\n        \"semantic_type\": \"\",\n        \"description\": \"\"\n      }\n    },\n    {\n      \"column\": \"\\ub9e4\\ub3c4\\uc790\",\n      \"properties\": {\n        \"dtype\": \"category\",\n        \"num_unique_values\": 4,\n        \"samples\": [\n          \"\\ubc95\\uc778\"\n        ],\n        \"semantic_type\": \"\",\n        \"description\": \"\"\n      }\n    },\n    {\n      \"column\": \"\\uac74\\ucd95\\ub144\\ub3c4\",\n      \"properties\": {\n        \"dtype\": \"number\",\n        \"std\": 10,\n        \"min\": 1962,\n        \"max\": 2025,\n        \"num_unique_values\": 56,\n        \"samples\": [\n          1983\n        ],\n        \"semantic_type\": \"\",\n        \"description\": \"\"\n      }\n    },\n    {\n      \"column\": \"\\ub3c4\\ub85c\\uba85\",\n      \"properties\": {\n        \"dtype\": \"category\",\n        \"num_unique_values\": 14009,\n        \"samples\": [\n          \"\\uc6a9\\ub9c8\\uc0b0\\ub85c84\\uae38 9-16\"\n        ],\n        \"semantic_type\": \"\",\n        \"description\": \"\"\n      }\n    },\n    {\n      \"column\": \"\\ud574\\uc81c\\uc0ac\\uc720\\ubc1c\\uc0dd\\uc77c\",\n      \"properties\": {\n        \"dtype\": \"category\",\n        \"num_unique_values\": 39,\n        \"samples\": [\n          \"20250406\"\n        ],\n        \"semantic_type\": \"\",\n        \"description\": \"\"\n      }\n    },\n    {\n      \"column\": \"\\uac70\\ub798\\uc720\\ud615\",\n      \"properties\": {\n        \"dtype\": \"category\",\n        \"num_unique_values\": 2,\n        \"samples\": [\n          \"\\uc9c1\\uac70\\ub798\"\n        ],\n        \"semantic_type\": \"\",\n        \"description\": \"\"\n      }\n    },\n    {\n      \"column\": \"\\uc911\\uac1c\\uc0ac\\uc18c\\uc7ac\\uc9c0\",\n      \"properties\": {\n        \"dtype\": \"category\",\n        \"num_unique_values\": 985,\n        \"samples\": [\n          \"\\uacbd\\uae30 \\uc218\\uc6d0\\uc2dc \\uad8c\\uc120\\uad6c, \\uacbd\\uae30 \\uc624\\uc0b0\\uc2dc\"\n        ],\n        \"semantic_type\": \"\",\n        \"description\": \"\"\n      }\n    },\n    {\n      \"column\": \"\\ub4f1\\uae30\\uc77c\\uc790\",\n      \"properties\": {\n        \"dtype\": \"category\",\n        \"num_unique_values\": 25,\n        \"samples\": [\n          \"25.04.23\"\n        ],\n        \"semantic_type\": \"\",\n        \"description\": \"\"\n      }\n    }\n  ]\n}"
            }
          },
          "metadata": {},
          "execution_count": 6
        }
      ]
    },
    {
      "cell_type": "code",
      "source": [
        "apt.info()"
      ],
      "metadata": {
        "colab": {
          "base_uri": "https://localhost:8080/"
        },
        "id": "f3qmbKui17yK",
        "outputId": "e1ad93ce-f00e-4274-8337-4fa85b944945"
      },
      "execution_count": 7,
      "outputs": [
        {
          "output_type": "stream",
          "name": "stdout",
          "text": [
            "<class 'pandas.core.frame.DataFrame'>\n",
            "RangeIndex: 36974 entries, 0 to 36973\n",
            "Data columns (total 20 columns):\n",
            " #   Column    Non-Null Count  Dtype  \n",
            "---  ------    --------------  -----  \n",
            " 0   NO        36974 non-null  int64  \n",
            " 1   시군구       36974 non-null  object \n",
            " 2   번지        36973 non-null  object \n",
            " 3   본번        36974 non-null  int64  \n",
            " 4   부번        36974 non-null  int64  \n",
            " 5   단지명       36974 non-null  object \n",
            " 6   전용면적(㎡)   36974 non-null  float64\n",
            " 7   계약년월      36974 non-null  int64  \n",
            " 8   계약일       36974 non-null  int64  \n",
            " 9   거래금액(만원)  36974 non-null  int64  \n",
            " 10  동         36974 non-null  object \n",
            " 11  층         36974 non-null  int64  \n",
            " 12  매수자       36974 non-null  object \n",
            " 13  매도자       36974 non-null  object \n",
            " 14  건축년도      36974 non-null  int64  \n",
            " 15  도로명       36974 non-null  object \n",
            " 16  해제사유발생일   36974 non-null  object \n",
            " 17  거래유형      36974 non-null  object \n",
            " 18  중개사소재지    36974 non-null  object \n",
            " 19  등기일자      36974 non-null  object \n",
            "dtypes: float64(1), int64(8), object(11)\n",
            "memory usage: 5.6+ MB\n"
          ]
        }
      ]
    },
    {
      "cell_type": "code",
      "source": [
        "apt.describe()"
      ],
      "metadata": {
        "colab": {
          "base_uri": "https://localhost:8080/",
          "height": 322
        },
        "id": "0jY63UMA3Gry",
        "outputId": "f93531a7-8373-4c99-fcef-76c96e93b5c3"
      },
      "execution_count": 8,
      "outputs": [
        {
          "output_type": "execute_result",
          "data": {
            "text/plain": [
              "                 NO            본번            부번       전용면적(㎡)      계약년월  \\\n",
              "count  36974.000000  36974.000000  36974.000000  36974.000000   36974.0   \n",
              "mean   18487.500000    820.122951      3.142587     73.912814  202504.0   \n",
              "std    10673.618763    710.453648     38.857493     22.468251       0.0   \n",
              "min        1.000000      0.000000      0.000000     12.210000  202504.0   \n",
              "25%     9244.250000    366.000000      0.000000     59.840000  202504.0   \n",
              "50%    18487.500000    703.000000      0.000000     75.532800  202504.0   \n",
              "75%    27730.750000   1080.000000      1.000000     84.950000  202504.0   \n",
              "max    36974.000000   7346.000000   5001.000000    244.470000  202504.0   \n",
              "\n",
              "                계약일      거래금액(만원)             층          건축년도  \n",
              "count  36974.000000  3.697400e+04  36974.000000  36974.000000  \n",
              "mean      14.394088  4.348493e+04     10.057040   2006.137664  \n",
              "std        8.364038  4.163910e+04      6.925089     10.891869  \n",
              "min        1.000000  1.200000e+03     -2.000000   1962.000000  \n",
              "25%        7.000000  1.820000e+04      5.000000   1997.000000  \n",
              "50%       14.000000  3.370000e+04      9.000000   2006.000000  \n",
              "75%       21.000000  5.550000e+04     14.000000   2017.000000  \n",
              "max       30.000000  1.050000e+06     79.000000   2025.000000  "
            ],
            "text/html": [
              "\n",
              "  <div id=\"df-8d7495e6-26bc-4869-867b-2a528c1260cc\" class=\"colab-df-container\">\n",
              "    <div>\n",
              "<style scoped>\n",
              "    .dataframe tbody tr th:only-of-type {\n",
              "        vertical-align: middle;\n",
              "    }\n",
              "\n",
              "    .dataframe tbody tr th {\n",
              "        vertical-align: top;\n",
              "    }\n",
              "\n",
              "    .dataframe thead th {\n",
              "        text-align: right;\n",
              "    }\n",
              "</style>\n",
              "<table border=\"1\" class=\"dataframe\">\n",
              "  <thead>\n",
              "    <tr style=\"text-align: right;\">\n",
              "      <th></th>\n",
              "      <th>NO</th>\n",
              "      <th>본번</th>\n",
              "      <th>부번</th>\n",
              "      <th>전용면적(㎡)</th>\n",
              "      <th>계약년월</th>\n",
              "      <th>계약일</th>\n",
              "      <th>거래금액(만원)</th>\n",
              "      <th>층</th>\n",
              "      <th>건축년도</th>\n",
              "    </tr>\n",
              "  </thead>\n",
              "  <tbody>\n",
              "    <tr>\n",
              "      <th>count</th>\n",
              "      <td>36974.000000</td>\n",
              "      <td>36974.000000</td>\n",
              "      <td>36974.000000</td>\n",
              "      <td>36974.000000</td>\n",
              "      <td>36974.0</td>\n",
              "      <td>36974.000000</td>\n",
              "      <td>3.697400e+04</td>\n",
              "      <td>36974.000000</td>\n",
              "      <td>36974.000000</td>\n",
              "    </tr>\n",
              "    <tr>\n",
              "      <th>mean</th>\n",
              "      <td>18487.500000</td>\n",
              "      <td>820.122951</td>\n",
              "      <td>3.142587</td>\n",
              "      <td>73.912814</td>\n",
              "      <td>202504.0</td>\n",
              "      <td>14.394088</td>\n",
              "      <td>4.348493e+04</td>\n",
              "      <td>10.057040</td>\n",
              "      <td>2006.137664</td>\n",
              "    </tr>\n",
              "    <tr>\n",
              "      <th>std</th>\n",
              "      <td>10673.618763</td>\n",
              "      <td>710.453648</td>\n",
              "      <td>38.857493</td>\n",
              "      <td>22.468251</td>\n",
              "      <td>0.0</td>\n",
              "      <td>8.364038</td>\n",
              "      <td>4.163910e+04</td>\n",
              "      <td>6.925089</td>\n",
              "      <td>10.891869</td>\n",
              "    </tr>\n",
              "    <tr>\n",
              "      <th>min</th>\n",
              "      <td>1.000000</td>\n",
              "      <td>0.000000</td>\n",
              "      <td>0.000000</td>\n",
              "      <td>12.210000</td>\n",
              "      <td>202504.0</td>\n",
              "      <td>1.000000</td>\n",
              "      <td>1.200000e+03</td>\n",
              "      <td>-2.000000</td>\n",
              "      <td>1962.000000</td>\n",
              "    </tr>\n",
              "    <tr>\n",
              "      <th>25%</th>\n",
              "      <td>9244.250000</td>\n",
              "      <td>366.000000</td>\n",
              "      <td>0.000000</td>\n",
              "      <td>59.840000</td>\n",
              "      <td>202504.0</td>\n",
              "      <td>7.000000</td>\n",
              "      <td>1.820000e+04</td>\n",
              "      <td>5.000000</td>\n",
              "      <td>1997.000000</td>\n",
              "    </tr>\n",
              "    <tr>\n",
              "      <th>50%</th>\n",
              "      <td>18487.500000</td>\n",
              "      <td>703.000000</td>\n",
              "      <td>0.000000</td>\n",
              "      <td>75.532800</td>\n",
              "      <td>202504.0</td>\n",
              "      <td>14.000000</td>\n",
              "      <td>3.370000e+04</td>\n",
              "      <td>9.000000</td>\n",
              "      <td>2006.000000</td>\n",
              "    </tr>\n",
              "    <tr>\n",
              "      <th>75%</th>\n",
              "      <td>27730.750000</td>\n",
              "      <td>1080.000000</td>\n",
              "      <td>1.000000</td>\n",
              "      <td>84.950000</td>\n",
              "      <td>202504.0</td>\n",
              "      <td>21.000000</td>\n",
              "      <td>5.550000e+04</td>\n",
              "      <td>14.000000</td>\n",
              "      <td>2017.000000</td>\n",
              "    </tr>\n",
              "    <tr>\n",
              "      <th>max</th>\n",
              "      <td>36974.000000</td>\n",
              "      <td>7346.000000</td>\n",
              "      <td>5001.000000</td>\n",
              "      <td>244.470000</td>\n",
              "      <td>202504.0</td>\n",
              "      <td>30.000000</td>\n",
              "      <td>1.050000e+06</td>\n",
              "      <td>79.000000</td>\n",
              "      <td>2025.000000</td>\n",
              "    </tr>\n",
              "  </tbody>\n",
              "</table>\n",
              "</div>\n",
              "    <div class=\"colab-df-buttons\">\n",
              "\n",
              "  <div class=\"colab-df-container\">\n",
              "    <button class=\"colab-df-convert\" onclick=\"convertToInteractive('df-8d7495e6-26bc-4869-867b-2a528c1260cc')\"\n",
              "            title=\"Convert this dataframe to an interactive table.\"\n",
              "            style=\"display:none;\">\n",
              "\n",
              "  <svg xmlns=\"http://www.w3.org/2000/svg\" height=\"24px\" viewBox=\"0 -960 960 960\">\n",
              "    <path d=\"M120-120v-720h720v720H120Zm60-500h600v-160H180v160Zm220 220h160v-160H400v160Zm0 220h160v-160H400v160ZM180-400h160v-160H180v160Zm440 0h160v-160H620v160ZM180-180h160v-160H180v160Zm440 0h160v-160H620v160Z\"/>\n",
              "  </svg>\n",
              "    </button>\n",
              "\n",
              "  <style>\n",
              "    .colab-df-container {\n",
              "      display:flex;\n",
              "      gap: 12px;\n",
              "    }\n",
              "\n",
              "    .colab-df-convert {\n",
              "      background-color: #E8F0FE;\n",
              "      border: none;\n",
              "      border-radius: 50%;\n",
              "      cursor: pointer;\n",
              "      display: none;\n",
              "      fill: #1967D2;\n",
              "      height: 32px;\n",
              "      padding: 0 0 0 0;\n",
              "      width: 32px;\n",
              "    }\n",
              "\n",
              "    .colab-df-convert:hover {\n",
              "      background-color: #E2EBFA;\n",
              "      box-shadow: 0px 1px 2px rgba(60, 64, 67, 0.3), 0px 1px 3px 1px rgba(60, 64, 67, 0.15);\n",
              "      fill: #174EA6;\n",
              "    }\n",
              "\n",
              "    .colab-df-buttons div {\n",
              "      margin-bottom: 4px;\n",
              "    }\n",
              "\n",
              "    [theme=dark] .colab-df-convert {\n",
              "      background-color: #3B4455;\n",
              "      fill: #D2E3FC;\n",
              "    }\n",
              "\n",
              "    [theme=dark] .colab-df-convert:hover {\n",
              "      background-color: #434B5C;\n",
              "      box-shadow: 0px 1px 3px 1px rgba(0, 0, 0, 0.15);\n",
              "      filter: drop-shadow(0px 1px 2px rgba(0, 0, 0, 0.3));\n",
              "      fill: #FFFFFF;\n",
              "    }\n",
              "  </style>\n",
              "\n",
              "    <script>\n",
              "      const buttonEl =\n",
              "        document.querySelector('#df-8d7495e6-26bc-4869-867b-2a528c1260cc button.colab-df-convert');\n",
              "      buttonEl.style.display =\n",
              "        google.colab.kernel.accessAllowed ? 'block' : 'none';\n",
              "\n",
              "      async function convertToInteractive(key) {\n",
              "        const element = document.querySelector('#df-8d7495e6-26bc-4869-867b-2a528c1260cc');\n",
              "        const dataTable =\n",
              "          await google.colab.kernel.invokeFunction('convertToInteractive',\n",
              "                                                    [key], {});\n",
              "        if (!dataTable) return;\n",
              "\n",
              "        const docLinkHtml = 'Like what you see? Visit the ' +\n",
              "          '<a target=\"_blank\" href=https://colab.research.google.com/notebooks/data_table.ipynb>data table notebook</a>'\n",
              "          + ' to learn more about interactive tables.';\n",
              "        element.innerHTML = '';\n",
              "        dataTable['output_type'] = 'display_data';\n",
              "        await google.colab.output.renderOutput(dataTable, element);\n",
              "        const docLink = document.createElement('div');\n",
              "        docLink.innerHTML = docLinkHtml;\n",
              "        element.appendChild(docLink);\n",
              "      }\n",
              "    </script>\n",
              "  </div>\n",
              "\n",
              "\n",
              "    <div id=\"df-9911bb05-a04a-4ab3-a9f5-ac89c3f87671\">\n",
              "      <button class=\"colab-df-quickchart\" onclick=\"quickchart('df-9911bb05-a04a-4ab3-a9f5-ac89c3f87671')\"\n",
              "                title=\"Suggest charts\"\n",
              "                style=\"display:none;\">\n",
              "\n",
              "<svg xmlns=\"http://www.w3.org/2000/svg\" height=\"24px\"viewBox=\"0 0 24 24\"\n",
              "     width=\"24px\">\n",
              "    <g>\n",
              "        <path d=\"M19 3H5c-1.1 0-2 .9-2 2v14c0 1.1.9 2 2 2h14c1.1 0 2-.9 2-2V5c0-1.1-.9-2-2-2zM9 17H7v-7h2v7zm4 0h-2V7h2v10zm4 0h-2v-4h2v4z\"/>\n",
              "    </g>\n",
              "</svg>\n",
              "      </button>\n",
              "\n",
              "<style>\n",
              "  .colab-df-quickchart {\n",
              "      --bg-color: #E8F0FE;\n",
              "      --fill-color: #1967D2;\n",
              "      --hover-bg-color: #E2EBFA;\n",
              "      --hover-fill-color: #174EA6;\n",
              "      --disabled-fill-color: #AAA;\n",
              "      --disabled-bg-color: #DDD;\n",
              "  }\n",
              "\n",
              "  [theme=dark] .colab-df-quickchart {\n",
              "      --bg-color: #3B4455;\n",
              "      --fill-color: #D2E3FC;\n",
              "      --hover-bg-color: #434B5C;\n",
              "      --hover-fill-color: #FFFFFF;\n",
              "      --disabled-bg-color: #3B4455;\n",
              "      --disabled-fill-color: #666;\n",
              "  }\n",
              "\n",
              "  .colab-df-quickchart {\n",
              "    background-color: var(--bg-color);\n",
              "    border: none;\n",
              "    border-radius: 50%;\n",
              "    cursor: pointer;\n",
              "    display: none;\n",
              "    fill: var(--fill-color);\n",
              "    height: 32px;\n",
              "    padding: 0;\n",
              "    width: 32px;\n",
              "  }\n",
              "\n",
              "  .colab-df-quickchart:hover {\n",
              "    background-color: var(--hover-bg-color);\n",
              "    box-shadow: 0 1px 2px rgba(60, 64, 67, 0.3), 0 1px 3px 1px rgba(60, 64, 67, 0.15);\n",
              "    fill: var(--button-hover-fill-color);\n",
              "  }\n",
              "\n",
              "  .colab-df-quickchart-complete:disabled,\n",
              "  .colab-df-quickchart-complete:disabled:hover {\n",
              "    background-color: var(--disabled-bg-color);\n",
              "    fill: var(--disabled-fill-color);\n",
              "    box-shadow: none;\n",
              "  }\n",
              "\n",
              "  .colab-df-spinner {\n",
              "    border: 2px solid var(--fill-color);\n",
              "    border-color: transparent;\n",
              "    border-bottom-color: var(--fill-color);\n",
              "    animation:\n",
              "      spin 1s steps(1) infinite;\n",
              "  }\n",
              "\n",
              "  @keyframes spin {\n",
              "    0% {\n",
              "      border-color: transparent;\n",
              "      border-bottom-color: var(--fill-color);\n",
              "      border-left-color: var(--fill-color);\n",
              "    }\n",
              "    20% {\n",
              "      border-color: transparent;\n",
              "      border-left-color: var(--fill-color);\n",
              "      border-top-color: var(--fill-color);\n",
              "    }\n",
              "    30% {\n",
              "      border-color: transparent;\n",
              "      border-left-color: var(--fill-color);\n",
              "      border-top-color: var(--fill-color);\n",
              "      border-right-color: var(--fill-color);\n",
              "    }\n",
              "    40% {\n",
              "      border-color: transparent;\n",
              "      border-right-color: var(--fill-color);\n",
              "      border-top-color: var(--fill-color);\n",
              "    }\n",
              "    60% {\n",
              "      border-color: transparent;\n",
              "      border-right-color: var(--fill-color);\n",
              "    }\n",
              "    80% {\n",
              "      border-color: transparent;\n",
              "      border-right-color: var(--fill-color);\n",
              "      border-bottom-color: var(--fill-color);\n",
              "    }\n",
              "    90% {\n",
              "      border-color: transparent;\n",
              "      border-bottom-color: var(--fill-color);\n",
              "    }\n",
              "  }\n",
              "</style>\n",
              "\n",
              "      <script>\n",
              "        async function quickchart(key) {\n",
              "          const quickchartButtonEl =\n",
              "            document.querySelector('#' + key + ' button');\n",
              "          quickchartButtonEl.disabled = true;  // To prevent multiple clicks.\n",
              "          quickchartButtonEl.classList.add('colab-df-spinner');\n",
              "          try {\n",
              "            const charts = await google.colab.kernel.invokeFunction(\n",
              "                'suggestCharts', [key], {});\n",
              "          } catch (error) {\n",
              "            console.error('Error during call to suggestCharts:', error);\n",
              "          }\n",
              "          quickchartButtonEl.classList.remove('colab-df-spinner');\n",
              "          quickchartButtonEl.classList.add('colab-df-quickchart-complete');\n",
              "        }\n",
              "        (() => {\n",
              "          let quickchartButtonEl =\n",
              "            document.querySelector('#df-9911bb05-a04a-4ab3-a9f5-ac89c3f87671 button');\n",
              "          quickchartButtonEl.style.display =\n",
              "            google.colab.kernel.accessAllowed ? 'block' : 'none';\n",
              "        })();\n",
              "      </script>\n",
              "    </div>\n",
              "\n",
              "    </div>\n",
              "  </div>\n"
            ],
            "application/vnd.google.colaboratory.intrinsic+json": {
              "type": "dataframe",
              "summary": "{\n  \"name\": \"apt\",\n  \"rows\": 8,\n  \"fields\": [\n    {\n      \"column\": \"NO\",\n      \"properties\": {\n        \"dtype\": \"number\",\n        \"std\": 13325.303689659486,\n        \"min\": 1.0,\n        \"max\": 36974.0,\n        \"num_unique_values\": 6,\n        \"samples\": [\n          36974.0,\n          18487.5,\n          27730.75\n        ],\n        \"semantic_type\": \"\",\n        \"description\": \"\"\n      }\n    },\n    {\n      \"column\": \"\\ubcf8\\ubc88\",\n      \"properties\": {\n        \"dtype\": \"number\",\n        \"std\": 12739.23850506958,\n        \"min\": 0.0,\n        \"max\": 36974.0,\n        \"num_unique_values\": 8,\n        \"samples\": [\n          820.1229512630497,\n          703.0,\n          36974.0\n        ],\n        \"semantic_type\": \"\",\n        \"description\": \"\"\n      }\n    },\n    {\n      \"column\": \"\\ubd80\\ubc88\",\n      \"properties\": {\n        \"dtype\": \"number\",\n        \"std\": 12936.102064959641,\n        \"min\": 0.0,\n        \"max\": 36974.0,\n        \"num_unique_values\": 6,\n        \"samples\": [\n          36974.0,\n          3.1425866825336723,\n          5001.0\n        ],\n        \"semantic_type\": \"\",\n        \"description\": \"\"\n      }\n    },\n    {\n      \"column\": \"\\uc804\\uc6a9\\uba74\\uc801(\\u33a1)\",\n      \"properties\": {\n        \"dtype\": \"number\",\n        \"std\": 13043.516762507037,\n        \"min\": 12.21,\n        \"max\": 36974.0,\n        \"num_unique_values\": 8,\n        \"samples\": [\n          73.91281391518363,\n          75.53280000000001,\n          36974.0\n        ],\n        \"semantic_type\": \"\",\n        \"description\": \"\"\n      }\n    },\n    {\n      \"column\": \"\\uacc4\\uc57d\\ub144\\uc6d4\",\n      \"properties\": {\n        \"dtype\": \"number\",\n        \"std\": 85754.56903404207,\n        \"min\": 0.0,\n        \"max\": 202504.0,\n        \"num_unique_values\": 3,\n        \"samples\": [\n          36974.0,\n          202504.0,\n          0.0\n        ],\n        \"semantic_type\": \"\",\n        \"description\": \"\"\n      }\n    },\n    {\n      \"column\": \"\\uacc4\\uc57d\\uc77c\",\n      \"properties\": {\n        \"dtype\": \"number\",\n        \"std\": 13067.44957744526,\n        \"min\": 1.0,\n        \"max\": 36974.0,\n        \"num_unique_values\": 8,\n        \"samples\": [\n          14.394087737328935,\n          14.0,\n          36974.0\n        ],\n        \"semantic_type\": \"\",\n        \"description\": \"\"\n      }\n    },\n    {\n      \"column\": \"\\uac70\\ub798\\uae08\\uc561(\\ub9cc\\uc6d0)\",\n      \"properties\": {\n        \"dtype\": \"number\",\n        \"std\": 359963.6922602765,\n        \"min\": 1200.0,\n        \"max\": 1050000.0,\n        \"num_unique_values\": 8,\n        \"samples\": [\n          43484.93379131281,\n          33700.0,\n          36974.0\n        ],\n        \"semantic_type\": \"\",\n        \"description\": \"\"\n      }\n    },\n    {\n      \"column\": \"\\uce35\",\n      \"properties\": {\n        \"dtype\": \"number\",\n        \"std\": 13066.147021101646,\n        \"min\": -2.0,\n        \"max\": 36974.0,\n        \"num_unique_values\": 8,\n        \"samples\": [\n          10.057040082219938,\n          9.0,\n          36974.0\n        ],\n        \"semantic_type\": \"\",\n        \"description\": \"\"\n      }\n    },\n    {\n      \"column\": \"\\uac74\\ucd95\\ub144\\ub3c4\",\n      \"properties\": {\n        \"dtype\": \"number\",\n        \"std\": 12484.452752390307,\n        \"min\": 10.891869487926579,\n        \"max\": 36974.0,\n        \"num_unique_values\": 8,\n        \"samples\": [\n          2006.1376643046465,\n          2006.0,\n          36974.0\n        ],\n        \"semantic_type\": \"\",\n        \"description\": \"\"\n      }\n    }\n  ]\n}"
            }
          },
          "metadata": {},
          "execution_count": 8
        }
      ]
    },
    {
      "cell_type": "markdown",
      "source": [
        "# 데이터 탐색 시각화"
      ],
      "metadata": {
        "id": "c_yslGI53k28"
      }
    },
    {
      "cell_type": "markdown",
      "source": [
        "아파트 전용 면적 분포 시각화"
      ],
      "metadata": {
        "id": "i7W-6oGK3sFy"
      }
    },
    {
      "cell_type": "code",
      "source": [
        "apt['전용면적(㎡)'].describe()"
      ],
      "metadata": {
        "colab": {
          "base_uri": "https://localhost:8080/",
          "height": 362
        },
        "id": "YR-FukNE3oT7",
        "outputId": "20a57612-0557-4da5-9817-f9227556d38b"
      },
      "execution_count": 10,
      "outputs": [
        {
          "output_type": "execute_result",
          "data": {
            "text/plain": [
              "count    36974.000000\n",
              "mean        73.912814\n",
              "std         22.468251\n",
              "min         12.210000\n",
              "25%         59.840000\n",
              "50%         75.532800\n",
              "75%         84.950000\n",
              "max        244.470000\n",
              "Name: 전용면적(㎡), dtype: float64"
            ],
            "text/html": [
              "<div>\n",
              "<style scoped>\n",
              "    .dataframe tbody tr th:only-of-type {\n",
              "        vertical-align: middle;\n",
              "    }\n",
              "\n",
              "    .dataframe tbody tr th {\n",
              "        vertical-align: top;\n",
              "    }\n",
              "\n",
              "    .dataframe thead th {\n",
              "        text-align: right;\n",
              "    }\n",
              "</style>\n",
              "<table border=\"1\" class=\"dataframe\">\n",
              "  <thead>\n",
              "    <tr style=\"text-align: right;\">\n",
              "      <th></th>\n",
              "      <th>전용면적(㎡)</th>\n",
              "    </tr>\n",
              "  </thead>\n",
              "  <tbody>\n",
              "    <tr>\n",
              "      <th>count</th>\n",
              "      <td>36974.000000</td>\n",
              "    </tr>\n",
              "    <tr>\n",
              "      <th>mean</th>\n",
              "      <td>73.912814</td>\n",
              "    </tr>\n",
              "    <tr>\n",
              "      <th>std</th>\n",
              "      <td>22.468251</td>\n",
              "    </tr>\n",
              "    <tr>\n",
              "      <th>min</th>\n",
              "      <td>12.210000</td>\n",
              "    </tr>\n",
              "    <tr>\n",
              "      <th>25%</th>\n",
              "      <td>59.840000</td>\n",
              "    </tr>\n",
              "    <tr>\n",
              "      <th>50%</th>\n",
              "      <td>75.532800</td>\n",
              "    </tr>\n",
              "    <tr>\n",
              "      <th>75%</th>\n",
              "      <td>84.950000</td>\n",
              "    </tr>\n",
              "    <tr>\n",
              "      <th>max</th>\n",
              "      <td>244.470000</td>\n",
              "    </tr>\n",
              "  </tbody>\n",
              "</table>\n",
              "</div><br><label><b>dtype:</b> float64</label>"
            ]
          },
          "metadata": {},
          "execution_count": 10
        }
      ]
    },
    {
      "cell_type": "code",
      "source": [
        "sns.boxplot(data=apt, x='전용면적(㎡)')\n",
        "plt.show()"
      ],
      "metadata": {
        "colab": {
          "base_uri": "https://localhost:8080/",
          "height": 449
        },
        "id": "ZfexoHui4Ke7",
        "outputId": "bc4b7b22-93cc-460a-82a9-9e89d0be286b"
      },
      "execution_count": 11,
      "outputs": [
        {
          "output_type": "display_data",
          "data": {
            "text/plain": [
              "<Figure size 640x480 with 1 Axes>"
            ],
            "image/png": "[encoded data removed]"
          },
          "metadata": {}
        }
      ]
    },
    {
      "cell_type": "code",
      "source": [
        "sns.histplot(data=apt, x='전용면적(㎡)', bins=20)\n",
        "plt.show()"
      ],
      "metadata": {
        "colab": {
          "base_uri": "https://localhost:8080/",
          "height": 449
        },
        "id": "NwOkHVnm4yJj",
        "outputId": "beba4dd2-46f5-4105-ff60-fcdb81b50c88"
      },
      "execution_count": 16,
      "outputs": [
        {
          "output_type": "display_data",
          "data": {
            "text/plain": [
              "<Figure size 640x480 with 1 Axes>"
            ],
            "image/png": "[encoded data removed]"
          },
          "metadata": {}
        }
      ]
    },
    {
      "cell_type": "markdown",
      "source": [
        "거래 금액 분포 시각화"
      ],
      "metadata": {
        "id": "ePrmbwt15al6"
      }
    },
    {
      "cell_type": "code",
      "source": [
        "apt['거래금액(만원)'].describe()"
      ],
      "metadata": {
        "colab": {
          "base_uri": "https://localhost:8080/",
          "height": 362
        },
        "id": "0BA020T65cTi",
        "outputId": "1b728a1f-9cf3-4dec-856e-8039c484165f"
      },
      "execution_count": 17,
      "outputs": [
        {
          "output_type": "execute_result",
          "data": {
            "text/plain": [
              "count    3.697400e+04\n",
              "mean     4.348493e+04\n",
              "std      4.163910e+04\n",
              "min      1.200000e+03\n",
              "25%      1.820000e+04\n",
              "50%      3.370000e+04\n",
              "75%      5.550000e+04\n",
              "max      1.050000e+06\n",
              "Name: 거래금액(만원), dtype: float64"
            ],
            "text/html": [
              "<div>\n",
              "<style scoped>\n",
              "    .dataframe tbody tr th:only-of-type {\n",
              "        vertical-align: middle;\n",
              "    }\n",
              "\n",
              "    .dataframe tbody tr th {\n",
              "        vertical-align: top;\n",
              "    }\n",
              "\n",
              "    .dataframe thead th {\n",
              "        text-align: right;\n",
              "    }\n",
              "</style>\n",
              "<table border=\"1\" class=\"dataframe\">\n",
              "  <thead>\n",
              "    <tr style=\"text-align: right;\">\n",
              "      <th></th>\n",
              "      <th>거래금액(만원)</th>\n",
              "    </tr>\n",
              "  </thead>\n",
              "  <tbody>\n",
              "    <tr>\n",
              "      <th>count</th>\n",
              "      <td>3.697400e+04</td>\n",
              "    </tr>\n",
              "    <tr>\n",
              "      <th>mean</th>\n",
              "      <td>4.348493e+04</td>\n",
              "    </tr>\n",
              "    <tr>\n",
              "      <th>std</th>\n",
              "      <td>4.163910e+04</td>\n",
              "    </tr>\n",
              "    <tr>\n",
              "      <th>min</th>\n",
              "      <td>1.200000e+03</td>\n",
              "    </tr>\n",
              "    <tr>\n",
              "      <th>25%</th>\n",
              "      <td>1.820000e+04</td>\n",
              "    </tr>\n",
              "    <tr>\n",
              "      <th>50%</th>\n",
              "      <td>3.370000e+04</td>\n",
              "    </tr>\n",
              "    <tr>\n",
              "      <th>75%</th>\n",
              "      <td>5.550000e+04</td>\n",
              "    </tr>\n",
              "    <tr>\n",
              "      <th>max</th>\n",
              "      <td>1.050000e+06</td>\n",
              "    </tr>\n",
              "  </tbody>\n",
              "</table>\n",
              "</div><br><label><b>dtype:</b> float64</label>"
            ]
          },
          "metadata": {},
          "execution_count": 17
        }
      ]
    },
    {
      "cell_type": "code",
      "source": [
        "fig, axes = plt.subplots(nrows=2, ncols=1, figsize=(6, 10))\n",
        "\n",
        "sns.boxplot(data=apt, x='거래금액(만원)', ax=axes[0])\n",
        "sns.histplot(data=apt, x='거래금액(만원)', ax=axes[1])\n",
        "\n",
        "plt.show()"
      ],
      "metadata": {
        "colab": {
          "base_uri": "https://localhost:8080/",
          "height": 850
        },
        "id": "84r9Q82T5jFr",
        "outputId": "447cd55e-21ad-45f0-a17b-34da6ae59d91"
      },
      "execution_count": 25,
      "outputs": [
        {
          "output_type": "display_data",
          "data": {
            "text/plain": [
              "<Figure size 600x1000 with 2 Axes>"
            ],
            "image/png": "[encoded data removed]"
          },
          "metadata": {}
        }
      ]
    },
    {
      "cell_type": "markdown",
      "source": [
        "# 거래유형 빈도수"
      ],
      "metadata": {
        "id": "MXsrIYjX7TAb"
      }
    },
    {
      "cell_type": "code",
      "source": [
        "apt['거래유형'].value_counts()"
      ],
      "metadata": {
        "colab": {
          "base_uri": "https://localhost:8080/",
          "height": 193
        },
        "id": "7uozBymQ7WCS",
        "outputId": "28e5d252-bac6-49f0-e8cf-03e90f0737a4"
      },
      "execution_count": 26,
      "outputs": [
        {
          "output_type": "execute_result",
          "data": {
            "text/plain": [
              "거래유형\n",
              "중개거래    33765\n",
              "직거래      3209\n",
              "Name: count, dtype: int64"
            ],
            "text/html": [
              "<div>\n",
              "<style scoped>\n",
              "    .dataframe tbody tr th:only-of-type {\n",
              "        vertical-align: middle;\n",
              "    }\n",
              "\n",
              "    .dataframe tbody tr th {\n",
              "        vertical-align: top;\n",
              "    }\n",
              "\n",
              "    .dataframe thead th {\n",
              "        text-align: right;\n",
              "    }\n",
              "</style>\n",
              "<table border=\"1\" class=\"dataframe\">\n",
              "  <thead>\n",
              "    <tr style=\"text-align: right;\">\n",
              "      <th></th>\n",
              "      <th>count</th>\n",
              "    </tr>\n",
              "    <tr>\n",
              "      <th>거래유형</th>\n",
              "      <th></th>\n",
              "    </tr>\n",
              "  </thead>\n",
              "  <tbody>\n",
              "    <tr>\n",
              "      <th>중개거래</th>\n",
              "      <td>33765</td>\n",
              "    </tr>\n",
              "    <tr>\n",
              "      <th>직거래</th>\n",
              "      <td>3209</td>\n",
              "    </tr>\n",
              "  </tbody>\n",
              "</table>\n",
              "</div><br><label><b>dtype:</b> int64</label>"
            ]
          },
          "metadata": {},
          "execution_count": 26
        }
      ]
    },
    {
      "cell_type": "code",
      "source": [
        "sns.countplot(data=apt, y='거래유형')\n",
        "plt.show()"
      ],
      "metadata": {
        "colab": {
          "base_uri": "https://localhost:8080/",
          "height": 449
        },
        "id": "YOa4KyPQ7hsL",
        "outputId": "96ea26a0-207d-4a1a-aadc-6047b9ebf5a0"
      },
      "execution_count": 28,
      "outputs": [
        {
          "output_type": "display_data",
          "data": {
            "text/plain": [
              "<Figure size 640x480 with 1 Axes>"
            ],
            "image/png": "[encoded data removed]"
          },
          "metadata": {}
        }
      ]
    }
  ]
}