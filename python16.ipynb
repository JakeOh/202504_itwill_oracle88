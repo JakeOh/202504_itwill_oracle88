{
  "nbformat": 4,
  "nbformat_minor": 0,
  "metadata": {
    "colab": {
      "provenance": [],
      "authorship_tag": "ABX9TyOIBogNH6TS1zZPwT8LCwnR",
      "include_colab_link": true
    },
    "kernelspec": {
      "name": "python3",
      "display_name": "Python 3"
    },
    "language_info": {
      "name": "python"
    }
  },
  "cells": [
    {
      "cell_type": "markdown",
      "metadata": {
        "id": "view-in-github",
        "colab_type": "text"
      },
      "source": [
        "<a href=\"https://colab.research.google.com/github/JakeOh/202504_itwill_oracle88/blob/main/python16.ipynb\" target=\"_parent\"><img src=\"https://colab.research.google.com/assets/colab-badge.svg\" alt=\"Open In Colab\"/></a>"
      ]
    },
    {
      "cell_type": "markdown",
      "source": [
        "# 파일 쓰기(file write)"
      ],
      "metadata": {
        "id": "WuczLbTPDfv6"
      }
    },
    {
      "cell_type": "markdown",
      "source": [
        "1. 파일 열기(file open)\n",
        "2. 파일 쓰기(file write)\n",
        "3. 파일 닫기(file close)\n",
        "\n",
        "```\n",
        "open(file, mode, ...)\n",
        "```\n",
        "*   file: 폴더(디렉토리) 이름을 포함한 전체 파일 이름(경로)\n",
        "    *   폴더 이름 없이 파일 이름만 사용한 경우에는 현재 작업 폴더의 파일을 의미함.\n",
        "*   mode:\n",
        "    *   'r': read. 읽기 모드. 기본값.\n",
        "    *   'w': write. 쓰기 모드. 기존에 작성된 모든 내용이 지워지고 처음부터 새로 쓰기 시작.\n",
        "    *   'a': append. 추가 모드. 기존에 작성된 내용 뒤에 이어서 쓰기.\n",
        "    *   't': text. 텍스트 모드. 읽기/쓰기에서 텍스트(문자열)을 읽기/쓰기. 기본값.\n",
        "    *   'b': binary. 이진 모드. 읽기/쓰기에서 이진 데이터(mp4, mp3, jpg, png, pdf, ...)를 읽기/쓰기."
      ],
      "metadata": {
        "id": "PYU0A8yfDkEB"
      }
    },
    {
      "cell_type": "code",
      "execution_count": 2,
      "metadata": {
        "id": "Q2qIerDLDdga"
      },
      "outputs": [],
      "source": [
        "# 1. 파일 열기\n",
        "f = open(file='hello.txt', mode='w')  # 현재 폴더의 hello.txt 파일을 쓰기 모드로 열어서 파일 객체를 리턴.\n",
        "# mode='wt'와 mode='w'는 같은 내용.\n",
        "\n",
        "# 2. 파일 내용 작성\n",
        "f.write('Hello, Python!\\n')\n",
        "f.write('안녕하세요, 파이썬!\\n')\n",
        "f.write('010-0000-0000\\n')\n",
        "\n",
        "# 3. 파일 닫기\n",
        "f.close()"
      ]
    },
    {
      "cell_type": "code",
      "source": [
        "# with open() as 변수:\n",
        "with open(file='hello2.txt', mode='w') as f:\n",
        "    f.write('안녕하세요.\\n')\n",
        "    f.write('파이썬 파일 쓰기 기능...\\n')\n",
        "    # with-as 블록이 끝나면 파일 객체(f)의 close() 메서드는 자동으로 호출됨."
      ],
      "metadata": {
        "id": "cdO9-afpIhuy"
      },
      "execution_count": 3,
      "outputs": []
    },
    {
      "cell_type": "markdown",
      "source": [
        "파일을 open할 때 mode 파라미터 값을 'w' 또는 'a'로 설정하는 경우에,\n",
        "*   파일이 없으면, 새로운 파일을 만듦.\n",
        "*   파일이 있으면, 기존 파일을 열어줌.\n",
        "\n",
        "파일을 open할 때 mode 파라미터 값이 'r'인 경우, 파일 없으면 에러가 발생."
      ],
      "metadata": {
        "id": "UQnolJ3NKuyS"
      }
    },
    {
      "cell_type": "markdown",
      "source": [
        "# 파일 읽기(file read)"
      ],
      "metadata": {
        "id": "u0KZZQ3CLfNx"
      }
    },
    {
      "cell_type": "markdown",
      "source": [
        "1. 파일 열기(open)\n",
        "2. 파일 읽기(read)\n",
        "3. 파일 닫기(close)\n",
        "\n",
        "with-as 구문을 사용하면 파일 닫기(close) 메서드는 자동으로 호출됨."
      ],
      "metadata": {
        "id": "xd67P6hXLkOU"
      }
    },
    {
      "cell_type": "code",
      "source": [
        "with open('hello.txt') as f:  # 현재 폴더의 hello.txt 파일을 읽기 모드(r)로 열기\n",
        "    line = f.readline()\n",
        "    print(line.strip())\n",
        "    line = f.readline()\n",
        "    print(line.strip())"
      ],
      "metadata": {
        "colab": {
          "base_uri": "https://localhost:8080/"
        },
        "id": "R4PR57OoL747",
        "outputId": "82b45689-5adc-4854-ffa8-dbc313b78ebf"
      },
      "execution_count": 7,
      "outputs": [
        {
          "output_type": "stream",
          "name": "stdout",
          "text": [
            "Hello, Python!\n",
            "안녕하세요, 파이썬!\n"
          ]
        }
      ]
    },
    {
      "cell_type": "markdown",
      "source": [
        "for-in 구문에서 파일 객체를 사용할 수 있음.\n",
        "```\n",
        "for 변수 in file:\n",
        "    블록\n",
        "```\n",
        "file의 첫번째 줄부터 마지막 줄까지 한 줄씩 읽어서 변수에 할당."
      ],
      "metadata": {
        "id": "dHP9WtRsN49Y"
      }
    },
    {
      "cell_type": "code",
      "source": [
        "with open('hello.txt') as f:\n",
        "    for line in f:\n",
        "        print(line.strip())"
      ],
      "metadata": {
        "colab": {
          "base_uri": "https://localhost:8080/"
        },
        "id": "-bCD5fKONewh",
        "outputId": "0c0392d3-fb1c-4947-9dcc-3fc11827d4a8"
      },
      "execution_count": 9,
      "outputs": [
        {
          "output_type": "stream",
          "name": "stdout",
          "text": [
            "Hello, Python!\n",
            "안녕하세요, 파이썬!\n",
            "010-0000-0000\n"
          ]
        }
      ]
    }
  ]
}