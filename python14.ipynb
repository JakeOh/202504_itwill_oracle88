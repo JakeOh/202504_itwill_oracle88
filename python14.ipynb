{
  "nbformat": 4,
  "nbformat_minor": 0,
  "metadata": {
    "colab": {
      "provenance": [],
      "toc_visible": true,
      "authorship_tag": "ABX9TyM5+iq9v2COVvTi+Vo0BoI2",
      "include_colab_link": true
    },
    "kernelspec": {
      "name": "python3",
      "display_name": "Python 3"
    },
    "language_info": {
      "name": "python"
    }
  },
  "cells": [
    {
      "cell_type": "markdown",
      "metadata": {
        "id": "view-in-github",
        "colab_type": "text"
      },
      "source": [
        "<a href=\"https://colab.research.google.com/github/JakeOh/202504_itwill_oracle88/blob/main/python14.ipynb\" target=\"_parent\"><img src=\"https://colab.research.google.com/assets/colab-badge.svg\" alt=\"Open In Colab\"/></a>"
      ]
    },
    {
      "cell_type": "markdown",
      "source": [
        "# Ex1. Score 클래스"
      ],
      "metadata": {
        "id": "5pCNBhum9Sx8"
      }
    },
    {
      "cell_type": "markdown",
      "source": [
        "*   속성(attributes):\n",
        "    *   국어, 영어, 수학 점수\n",
        "    *   국어, 영어, 수학 점수의 기본값은 0.\n",
        "*   기능(functionality):\n",
        "    *   `__str__`: `Score(korean=100, english=100, math=100)` 포맷의 문자열을 리턴\n",
        "    *   `__repr__`: `점수(국어=100, 영어=100, 수학=100)` 포맷의 문자열을 리턴\n",
        "    *   `calculate_sum`: 세 과목의 총점 리턴\n",
        "    *   `calculate_mean`: 세 과목의 평균 리턴\n"
      ],
      "metadata": {
        "id": "hN0J3esd9VaT"
      }
    },
    {
      "cell_type": "code",
      "source": [
        "class Score:\n",
        "    def __init__(self, korean=0, english=0, math=0):\n",
        "        self.korean = korean\n",
        "        self.english = english\n",
        "        self.math = math\n",
        "\n",
        "    def __str__(self):\n",
        "        return f'Score(korean={self.korean}, english={self.english}, math={self.math})'\n",
        "\n",
        "    def __repr__(self):\n",
        "        return f'점수(국어={self.korean}, 영어={self.english}, 수학={self.math})'\n",
        "\n",
        "    def calculate_sum(self):\n",
        "        return self.korean + self.english + self.math\n",
        "\n",
        "    def calculate_mean(self):\n",
        "        return self.calculate_sum() / 3"
      ],
      "metadata": {
        "id": "IBjjkoV8MJZs"
      },
      "execution_count": 24,
      "outputs": []
    },
    {
      "cell_type": "code",
      "source": [
        "score1 = Score()  # 생성자 호출 -> 객체 생성.\n",
        "print(score1)"
      ],
      "metadata": {
        "colab": {
          "base_uri": "https://localhost:8080/"
        },
        "id": "RM0BQtgHNSv0",
        "outputId": "bbe0560a-4369-44f0-a926-aaf88507d741"
      },
      "execution_count": 25,
      "outputs": [
        {
          "output_type": "stream",
          "name": "stdout",
          "text": [
            "Score(korean=0, english=0, math=0)\n"
          ]
        }
      ]
    },
    {
      "cell_type": "markdown",
      "source": [
        "`print(object)` 호출하면, `object.__str__()` 메서드가 리턴하는 문자열을 출력."
      ],
      "metadata": {
        "id": "vFUT0P68PhJE"
      }
    },
    {
      "cell_type": "code",
      "source": [
        "score1"
      ],
      "metadata": {
        "colab": {
          "base_uri": "https://localhost:8080/"
        },
        "id": "iAU5RaxoOiyE",
        "outputId": "cf7acb78-baae-4915-8dc7-4cfe50ee55bf"
      },
      "execution_count": 26,
      "outputs": [
        {
          "output_type": "execute_result",
          "data": {
            "text/plain": [
              "점수(국어=0, 영어=0, 수학=0)"
            ]
          },
          "metadata": {},
          "execution_count": 26
        }
      ]
    },
    {
      "cell_type": "markdown",
      "source": [
        "파이썬 노트북(*.ipynb 파일)의 코드 셀은 가장 마지막 라인의 변수 혹은 식(expression)을 자동으로 출력해 주는 기능을 가지고 있음. 가장 마지막 라인이 객체인 경우, 그 객체의 `__repr__()` 메서드가 리턴하는 문자열을 출력."
      ],
      "metadata": {
        "id": "U__ZUl3IP5Vz"
      }
    },
    {
      "cell_type": "code",
      "source": [
        "score2 = Score(100, 95, 88)  # 객체 생성\n",
        "print(score2)  # __str__() 반환값\n",
        "print('총점:', score2.calculate_sum())  # 메서드 호출\n",
        "print('평균:', score2.calculate_mean())\n",
        "score2  # 식(expression) 출력: __repr__() 메서드 반환값"
      ],
      "metadata": {
        "colab": {
          "base_uri": "https://localhost:8080/"
        },
        "id": "akJSDtBDRPdc",
        "outputId": "2adc1bd1-bb5a-435e-92c5-d434006692d8"
      },
      "execution_count": 27,
      "outputs": [
        {
          "output_type": "stream",
          "name": "stdout",
          "text": [
            "Score(korean=100, english=95, math=88)\n",
            "총점: 283\n",
            "평균: 94.33333333333333\n"
          ]
        },
        {
          "output_type": "execute_result",
          "data": {
            "text/plain": [
              "점수(국어=100, 영어=95, 수학=88)"
            ]
          },
          "metadata": {},
          "execution_count": 27
        }
      ]
    },
    {
      "cell_type": "markdown",
      "source": [
        "# Ex2. Student 클래스"
      ],
      "metadata": {
        "id": "fhiJxz9K9tSE"
      }
    },
    {
      "cell_type": "markdown",
      "source": [
        "*   속성(attributes):\n",
        "    *   학생 번호, 학생 이름, 점수(Score 객체)\n",
        "*   기능(functionality):\n",
        "    *   `__str__`: `Student(no: 123, name: 홍길동, score: Score(korean=100, english=100, math=100))` 포맷의 문자열을 리턴\n",
        "    *   `__repr__`: `학생(no: 123, name: 홍길동, score: 점수(국어=100, 영어=100, 수학=100))` 포맷의 문자열을 리턴\n",
        "*   테스트\n",
        "    *   Student 객체(인스턴스)를 생성.\n",
        "    *   Student 인스턴스를 출력.\n",
        "    *   생성된 객체에서 총점, 평균을 계산하는 메서드를 호출."
      ],
      "metadata": {
        "id": "4TqrYaM49yUL"
      }
    },
    {
      "cell_type": "code",
      "source": [
        "class Student:\n",
        "    def __init__(self, no, name, score):\n",
        "        self.no = no\n",
        "        self.name = name\n",
        "        self.score = score\n",
        "\n",
        "    def __str__(self):\n",
        "        # f'{object}' 사용하면, object.__str__() 메서드가 리턴하는 문자열로 만들어짐.\n",
        "        return f'Student(no: {self.no}, name: {self.name}, score: {self.score})'\n",
        "\n",
        "    def __repr__(self):\n",
        "        return f'학생(no: {self.no}, name: {self.name}, score: {self.score.__repr__()})'"
      ],
      "metadata": {
        "id": "BzVIWaoTST4z"
      },
      "execution_count": 34,
      "outputs": []
    },
    {
      "cell_type": "code",
      "source": [
        "student1 = Student(1001, '오쌤', score1)\n",
        "print(student1)  # __str__() 반환값\n",
        "student1  # __repr__() 반환값"
      ],
      "metadata": {
        "colab": {
          "base_uri": "https://localhost:8080/"
        },
        "id": "M6eN4sAPSyYD",
        "outputId": "6dff5fda-a8a5-4e6c-cdf7-708a75aeea41"
      },
      "execution_count": 35,
      "outputs": [
        {
          "output_type": "stream",
          "name": "stdout",
          "text": [
            "Student(no: 1001, name: 오쌤, score: Score(korean=0, english=0, math=0))\n"
          ]
        },
        {
          "output_type": "execute_result",
          "data": {
            "text/plain": [
              "학생(no: 1001, name: 오쌤, score: 점수(국어=0, 영어=0, 수학=0))"
            ]
          },
          "metadata": {},
          "execution_count": 35
        }
      ]
    },
    {
      "cell_type": "code",
      "source": [
        "student2 = Student(1002, '홍길동', score2)\n",
        "print(student2)\n",
        "print('총점:', student2.score.calculate_sum())\n",
        "print('평균:', student2.score.calculate_mean())\n",
        "student2"
      ],
      "metadata": {
        "colab": {
          "base_uri": "https://localhost:8080/"
        },
        "id": "7PjUdEYaVLfz",
        "outputId": "401ac606-5f62-4698-fbc3-d42db82c12b0"
      },
      "execution_count": 36,
      "outputs": [
        {
          "output_type": "stream",
          "name": "stdout",
          "text": [
            "Student(no: 1002, name: 홍길동, score: Score(korean=100, english=95, math=88))\n",
            "총점: 283\n",
            "평균: 94.33333333333333\n"
          ]
        },
        {
          "output_type": "execute_result",
          "data": {
            "text/plain": [
              "학생(no: 1002, name: 홍길동, score: 점수(국어=100, 영어=95, 수학=88))"
            ]
          },
          "metadata": {},
          "execution_count": 36
        }
      ]
    },
    {
      "cell_type": "code",
      "source": [
        "student3 = Student(2001, 'Scott', Score(99, 85, 98))\n",
        "print(student3)\n",
        "print(student3.score.calculate_sum())\n",
        "print(student3.score.calculate_mean())"
      ],
      "metadata": {
        "colab": {
          "base_uri": "https://localhost:8080/"
        },
        "id": "R1dny6HkWT6T",
        "outputId": "53c3d57c-6ef6-48ce-fe5b-acb6241569eb"
      },
      "execution_count": 38,
      "outputs": [
        {
          "output_type": "stream",
          "name": "stdout",
          "text": [
            "Student(no: 2001, name: Scott, score: Score(korean=99, english=85, math=98))\n",
            "282\n",
            "94.0\n"
          ]
        }
      ]
    }
  ]
}