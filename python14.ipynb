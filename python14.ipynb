{
  "nbformat": 4,
  "nbformat_minor": 0,
  "metadata": {
    "colab": {
      "provenance": [],
      "toc_visible": true,
      "authorship_tag": "ABX9TyPXiOb0n9ZBg0y7U2T2g5gp",
      "include_colab_link": true
    },
    "kernelspec": {
      "name": "python3",
      "display_name": "Python 3"
    },
    "language_info": {
      "name": "python"
    }
  },
  "cells": [
    {
      "cell_type": "markdown",
      "metadata": {
        "id": "view-in-github",
        "colab_type": "text"
      },
      "source": [
        "<a href=\"https://colab.research.google.com/github/JakeOh/202504_itwill_oracle88/blob/main/python14.ipynb\" target=\"_parent\"><img src=\"https://colab.research.google.com/assets/colab-badge.svg\" alt=\"Open In Colab\"/></a>"
      ]
    },
    {
      "cell_type": "markdown",
      "source": [
        "# Ex1. Score 클래스"
      ],
      "metadata": {
        "id": "5pCNBhum9Sx8"
      }
    },
    {
      "cell_type": "markdown",
      "source": [
        "*   속성(attributes):\n",
        "    *   국어, 영어, 수학 점수\n",
        "    *   국어, 영어, 수학 점수의 기본값은 0.\n",
        "*   기능(functionality):\n",
        "    *   `__str__`: `Score(korean=100, english=100, math=100)` 포맷의 문자열을 리턴\n",
        "    *   `__repr__`: `점수(국어=100, 영어=100, 수학=100)` 포맷의 문자열을 리턴\n",
        "    *   `calculate_sum`: 세 과목의 총점 리턴\n",
        "    *   `calculate_mean`: 세 과목의 평균 리턴\n"
      ],
      "metadata": {
        "id": "hN0J3esd9VaT"
      }
    },
    {
      "cell_type": "markdown",
      "source": [
        "# Ex2. Student 클래스"
      ],
      "metadata": {
        "id": "fhiJxz9K9tSE"
      }
    },
    {
      "cell_type": "markdown",
      "source": [
        "*   속성(attributes):\n",
        "    *   학생 이름, 점수(Score 객체)\n",
        "*   기능(functionality):\n",
        "    *   `__str__`: `Student(name: 홍길동, score: Score(korean=100, english=100, math=100))` 포맷의 문자열을 리턴\n",
        "    *   `__repr__`: `학생(name: 홍길동, score: 점수(국어=100, 영어=100, 수학=100))` 포맷의 문자열을 리턴\n",
        "*   테스트\n",
        "    *   Student 객체(인스턴스)를 생성.\n",
        "    *   Student 인스턴스를 출력.\n",
        "    *   생성된 객체에서 총점, 평균을 계산하는 메서드를 호출."
      ],
      "metadata": {
        "id": "4TqrYaM49yUL"
      }
    }
  ]
}