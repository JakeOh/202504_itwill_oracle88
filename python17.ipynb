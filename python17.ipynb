{
  "nbformat": 4,
  "nbformat_minor": 0,
  "metadata": {
    "colab": {
      "provenance": [],
      "mount_file_id": "1ZgekPbvT3WbwNFGSPNJVtUBToFty2KuS",
      "authorship_tag": "ABX9TyNdyykICGB1hPVT14PMNJMQ",
      "include_colab_link": true
    },
    "kernelspec": {
      "name": "python3",
      "display_name": "Python 3"
    },
    "language_info": {
      "name": "python"
    }
  },
  "cells": [
    {
      "cell_type": "markdown",
      "metadata": {
        "id": "view-in-github",
        "colab_type": "text"
      },
      "source": [
        "<a href=\"https://colab.research.google.com/github/JakeOh/202504_itwill_oracle88/blob/main/python17.ipynb\" target=\"_parent\"><img src=\"https://colab.research.google.com/assets/colab-badge.svg\" alt=\"Open In Colab\"/></a>"
      ]
    },
    {
      "cell_type": "markdown",
      "source": [
        "*   github의 [exam.csv 파일](https://github.com/JakeOh/202504_itwill_oracle88/blob/main/exam.csv)을 다운로드.\n",
        "*   Colab 연결(세션 활성화).\n",
        "*   Colab에 Google Drive 마운트(mount, 연결).\n",
        "*   개인 계정의 Google Drive에 exam.csv 파일을 업로드."
      ],
      "metadata": {
        "id": "CWWeq6gTRBnZ"
      }
    },
    {
      "cell_type": "code",
      "source": [
        "file_path = '/content/drive/MyDrive/Colab Notebooks/202505_oracle88/exam.csv'"
      ],
      "metadata": {
        "id": "pkKoSC7BbJrZ"
      },
      "execution_count": 8,
      "outputs": []
    },
    {
      "cell_type": "markdown",
      "source": [
        "1. exam.csv 파일을 open\n",
        "1. 파일의 첫번째 줄은 컬럼 이름들이기 때문에, 첫번째 줄은 읽고 무시.\n",
        "1. 파일의 두번째 줄부터 파일 끝(EOF)까지 4번 내용을 반복.\n",
        "1. 각 줄에서 읽은 내용을 쉼표(,)로 분리한 리스트를 빈 리스트에 append.\n",
        "> `[['1', '1', '50', '98', '50'], ['2', '1', '60', '97', '60'], ...]`\n",
        "1. 4번에서 만들어진 2차원 리스트는 문자열들을 저장하고 있는 리스트이기 때문에, 리스트의 모든 값들을 정수(int)로 변환\n",
        "> `[[1, 1, 50, 98, 50], [2, 1, 60, 97, 60], ...]`\n",
        "1. 수학 점수들로만 이루어진 1차원 리스트를 만듦.\n",
        "> `[50, 60, ...]`\n",
        "1. 수학 점수의 최댓값, 최솟값, 평균 출력.\n",
        "1. 1반 학생들의 수학 점수 총점, 평균, 최댓값, 최솟값 출력"
      ],
      "metadata": {
        "id": "fjW_HRQnQ16p"
      }
    },
    {
      "cell_type": "code",
      "source": [
        "with open(file_path) as f:  # 파일을 읽기 모드로 열기.\n",
        "    f.readline()  # 파일의 첫번째 줄을 읽음.\n",
        "    exam = []  # 파일에서 읽은 값들을 저장할 빈 리스트.\n",
        "    for line in f:  # 파일의 두번째 줄부터 파일 끝까지 한 줄씩 읽음.\n",
        "        # 한 줄 읽은 문자열에서 앞/뒤 공백(줄바꿈)을 제거한 후,\n",
        "        # ','로 구분해서 문자열들의 배열을 만들고, 배열 exam에 추가.\n",
        "        exam.append(line.strip().split(','))\n",
        "\n",
        "exam"
      ],
      "metadata": {
        "colab": {
          "base_uri": "https://localhost:8080/"
        },
        "id": "KcqiUDoSJr5s",
        "outputId": "57e0afea-34f4-4abe-d9d7-e1567ae54116"
      },
      "execution_count": 22,
      "outputs": [
        {
          "output_type": "execute_result",
          "data": {
            "text/plain": [
              "[['1', '1', '50', '98', '50'],\n",
              " ['2', '1', '60', '97', '60'],\n",
              " ['3', '1', '45', '86', '78'],\n",
              " ['4', '1', '30', '98', '58'],\n",
              " ['5', '2', '25', '80', '65'],\n",
              " ['6', '2', '50', '89', '98'],\n",
              " ['7', '2', '80', '90', '45'],\n",
              " ['8', '2', '90', '78', '25'],\n",
              " ['9', '3', '20', '98', '15'],\n",
              " ['10', '3', '50', '98', '45'],\n",
              " ['11', '3', '65', '65', '65'],\n",
              " ['12', '3', '45', '85', '32'],\n",
              " ['13', '4', '46', '98', '65'],\n",
              " ['14', '4', '48', '87', '12'],\n",
              " ['15', '4', '75', '56', '78'],\n",
              " ['16', '4', '58', '98', '65'],\n",
              " ['17', '5', '65', '68', '98'],\n",
              " ['18', '5', '80', '78', '90'],\n",
              " ['19', '5', '89', '68', '87'],\n",
              " ['20', '5', '78', '83', '58']]"
            ]
          },
          "metadata": {},
          "execution_count": 22
        }
      ]
    },
    {
      "cell_type": "code",
      "source": [
        "for i, row in enumerate(exam):\n",
        "    for j, val in enumerate(row):\n",
        "        exam[i][j] = int(val)\n",
        "\n",
        "exam"
      ],
      "metadata": {
        "colab": {
          "base_uri": "https://localhost:8080/"
        },
        "id": "102MqY4sNs6T",
        "outputId": "ccc6ec95-fb3f-4678-c7ba-12619e540dc5"
      },
      "execution_count": 25,
      "outputs": [
        {
          "output_type": "execute_result",
          "data": {
            "text/plain": [
              "[[1, 1, 50, 98, 50],\n",
              " [2, 1, 60, 97, 60],\n",
              " [3, 1, 45, 86, 78],\n",
              " [4, 1, 30, 98, 58],\n",
              " [5, 2, 25, 80, 65],\n",
              " [6, 2, 50, 89, 98],\n",
              " [7, 2, 80, 90, 45],\n",
              " [8, 2, 90, 78, 25],\n",
              " [9, 3, 20, 98, 15],\n",
              " [10, 3, 50, 98, 45],\n",
              " [11, 3, 65, 65, 65],\n",
              " [12, 3, 45, 85, 32],\n",
              " [13, 4, 46, 98, 65],\n",
              " [14, 4, 48, 87, 12],\n",
              " [15, 4, 75, 56, 78],\n",
              " [16, 4, 58, 98, 65],\n",
              " [17, 5, 65, 68, 98],\n",
              " [18, 5, 80, 78, 90],\n",
              " [19, 5, 89, 68, 87],\n",
              " [20, 5, 78, 83, 58]]"
            ]
          },
          "metadata": {},
          "execution_count": 25
        }
      ]
    },
    {
      "cell_type": "code",
      "source": [
        "array = ['1', '2', '3']\n",
        "for x in array:\n",
        "    x = int(x)  # array의 값을 변경하지 못함!\n",
        "print(array)"
      ],
      "metadata": {
        "colab": {
          "base_uri": "https://localhost:8080/"
        },
        "id": "129j_aR8Nqsq",
        "outputId": "ebafe996-a5ef-4f7e-c01c-0e88e6da005d"
      },
      "execution_count": 26,
      "outputs": [
        {
          "output_type": "stream",
          "name": "stdout",
          "text": [
            "['1', '2', '3']\n"
          ]
        }
      ]
    },
    {
      "cell_type": "code",
      "source": [
        "array = ['1', '2', '3']\n",
        "for i, x in enumerate(array):\n",
        "    array[i] = int(x)  # array의 값을 변경!\n",
        "print(array)"
      ],
      "metadata": {
        "colab": {
          "base_uri": "https://localhost:8080/"
        },
        "id": "dD3PJP2EQ50N",
        "outputId": "bb38b35f-6c26-4d46-e42c-16aa151c41a8"
      },
      "execution_count": 28,
      "outputs": [
        {
          "output_type": "stream",
          "name": "stdout",
          "text": [
            "[1, 2, 3]\n"
          ]
        }
      ]
    },
    {
      "cell_type": "code",
      "source": [
        "# step 1 ~ step 5\n",
        "with open(file_path) as f:\n",
        "    f.readline()\n",
        "    exam = []\n",
        "    for line in f:\n",
        "        row = line.strip().split(',')\n",
        "        student = [int(x) for x in row]\n",
        "        exam.append(student)\n",
        "\n",
        "exam"
      ],
      "metadata": {
        "colab": {
          "base_uri": "https://localhost:8080/"
        },
        "id": "hS72VpiESNTL",
        "outputId": "172ea0c8-4e8b-4c44-e111-9c1679be105c"
      },
      "execution_count": 29,
      "outputs": [
        {
          "output_type": "execute_result",
          "data": {
            "text/plain": [
              "[[1, 1, 50, 98, 50],\n",
              " [2, 1, 60, 97, 60],\n",
              " [3, 1, 45, 86, 78],\n",
              " [4, 1, 30, 98, 58],\n",
              " [5, 2, 25, 80, 65],\n",
              " [6, 2, 50, 89, 98],\n",
              " [7, 2, 80, 90, 45],\n",
              " [8, 2, 90, 78, 25],\n",
              " [9, 3, 20, 98, 15],\n",
              " [10, 3, 50, 98, 45],\n",
              " [11, 3, 65, 65, 65],\n",
              " [12, 3, 45, 85, 32],\n",
              " [13, 4, 46, 98, 65],\n",
              " [14, 4, 48, 87, 12],\n",
              " [15, 4, 75, 56, 78],\n",
              " [16, 4, 58, 98, 65],\n",
              " [17, 5, 65, 68, 98],\n",
              " [18, 5, 80, 78, 90],\n",
              " [19, 5, 89, 68, 87],\n",
              " [20, 5, 78, 83, 58]]"
            ]
          },
          "metadata": {},
          "execution_count": 29
        }
      ]
    },
    {
      "cell_type": "code",
      "source": [
        "# math = []  # 수학 점수들만 저장할 리스트.\n",
        "# for row in exam:\n",
        "#     math.append(row[2])\n",
        "\n",
        "math = [row[2] for row in exam]\n",
        "\n",
        "print(math)"
      ],
      "metadata": {
        "colab": {
          "base_uri": "https://localhost:8080/"
        },
        "id": "ZDE7gQSPWu5T",
        "outputId": "8b38b2b0-914c-42fd-d869-ca74286c0b4e"
      },
      "execution_count": 34,
      "outputs": [
        {
          "output_type": "stream",
          "name": "stdout",
          "text": [
            "[50, 60, 45, 30, 25, 50, 80, 90, 20, 50, 65, 45, 46, 48, 75, 58, 65, 80, 89, 78]\n"
          ]
        }
      ]
    },
    {
      "cell_type": "code",
      "source": [
        "print('수학 점수 최고값:', max(math))\n",
        "print('수학 점수 최저값:', min(math))\n",
        "print('수학 점수 평균:', sum(math) / len(math))"
      ],
      "metadata": {
        "colab": {
          "base_uri": "https://localhost:8080/"
        },
        "id": "5D-Wg_t2XpmT",
        "outputId": "3a13a09c-95b5-486b-9efe-01c7964646c2"
      },
      "execution_count": 35,
      "outputs": [
        {
          "output_type": "stream",
          "name": "stdout",
          "text": [
            "수학 점수 최고값: 90\n",
            "수학 점수 최저값: 20\n",
            "수학 점수 평균: 57.45\n"
          ]
        }
      ]
    },
    {
      "cell_type": "code",
      "source": [
        "# math_class1 = []  # 1반(class=1) 학생들의 수학 점수를 저장할 리스트.\n",
        "# for row in exam:\n",
        "#     if row[1] == 1:  # class=1인 경우\n",
        "#         math_class1.append(row[2])\n",
        "\n",
        "math_class1 = [row[2] for row in exam if row[1] == 1]\n",
        "\n",
        "math_class1"
      ],
      "metadata": {
        "colab": {
          "base_uri": "https://localhost:8080/"
        },
        "id": "J3Px2Kp1YO2S",
        "outputId": "bd6f95c6-01fb-4725-f0ee-995322183edf"
      },
      "execution_count": 37,
      "outputs": [
        {
          "output_type": "execute_result",
          "data": {
            "text/plain": [
              "[50, 60, 45, 30]"
            ]
          },
          "metadata": {},
          "execution_count": 37
        }
      ]
    },
    {
      "cell_type": "code",
      "source": [
        "print('1반 수학 점수 총점:', sum(math_class1))\n",
        "print('1반 수학 점수 평균:', sum(math_class1) / len(math_class1))\n",
        "print('1반 수학 점수 최댓값:', max(math_class1))\n",
        "print('1반 수학 점수 최솟값:', min(math_class1))"
      ],
      "metadata": {
        "colab": {
          "base_uri": "https://localhost:8080/"
        },
        "id": "IZfoRZFbZYDj",
        "outputId": "c048fc4b-0da2-489f-da0d-2668ce4f46d8"
      },
      "execution_count": 38,
      "outputs": [
        {
          "output_type": "stream",
          "name": "stdout",
          "text": [
            "1반 수학 점수 총점: 185\n",
            "1반 수학 점수 평균: 46.25\n",
            "1반 수학 점수 최댓값: 60\n",
            "1반 수학 점수 최솟값: 30\n"
          ]
        }
      ]
    },
    {
      "cell_type": "code",
      "source": [
        "def mean_by_class(cls):\n",
        "    math_by_class = [row[2] for row in exam if row[1] == cls]\n",
        "    mean = sum(math_by_class) / len(math_by_class)\n",
        "    print(f'{cls}반 수학 평균 = {mean}')"
      ],
      "metadata": {
        "id": "0rprFVm6aY-K"
      },
      "execution_count": 40,
      "outputs": []
    },
    {
      "cell_type": "code",
      "source": [
        "for x in range(1, 6):\n",
        "    mean_by_class(x)"
      ],
      "metadata": {
        "colab": {
          "base_uri": "https://localhost:8080/"
        },
        "id": "fdmkQxHgbXWj",
        "outputId": "a6f6ccaf-c44e-4c9b-d3a4-e72ffa60f6cd"
      },
      "execution_count": 44,
      "outputs": [
        {
          "output_type": "stream",
          "name": "stdout",
          "text": [
            "1반 수학 평균 = 46.25\n",
            "2반 수학 평균 = 61.25\n",
            "3반 수학 평균 = 45.0\n",
            "4반 수학 평균 = 56.75\n",
            "5반 수학 평균 = 78.0\n"
          ]
        }
      ]
    },
    {
      "cell_type": "code",
      "source": [
        "class Student:\n",
        "    def __init__(self, id, cls, math, english, science):\n",
        "        self.id = int(id)\n",
        "        self.cls = int(cls)\n",
        "        self.math = int(math)\n",
        "        self.english = int(english)\n",
        "        self.science = int(science)\n",
        "\n",
        "    def __str__(self):\n",
        "        return f'Student(id={self.id}, class={self.cls}, math={self.math}, english={self.english}, science={self.science})'\n",
        "\n",
        "    def __repr__(self):\n",
        "        return self.__str__()"
      ],
      "metadata": {
        "id": "Ls1hu_e2cTMi"
      },
      "execution_count": 45,
      "outputs": []
    },
    {
      "cell_type": "code",
      "source": [
        "exam2 = []\n",
        "with open(file_path) as f:\n",
        "    f.readline()\n",
        "    for line in f:\n",
        "        row = line.strip().split(',')\n",
        "        student = Student(row[0], row[1], row[2], row[3], row[4])\n",
        "        exam2.append(student)\n",
        "\n",
        "exam2  #> Student 객체들을 아이템으로 갖는 리스트."
      ],
      "metadata": {
        "colab": {
          "base_uri": "https://localhost:8080/"
        },
        "id": "WKYHfPqBdpja",
        "outputId": "50c2c3ea-0aeb-4cd2-d2bc-ec4ff0715eb7"
      },
      "execution_count": 48,
      "outputs": [
        {
          "output_type": "execute_result",
          "data": {
            "text/plain": [
              "[Student(id=1, class=1, math=50, english=98, science=50),\n",
              " Student(id=2, class=1, math=60, english=97, science=60),\n",
              " Student(id=3, class=1, math=45, english=86, science=78),\n",
              " Student(id=4, class=1, math=30, english=98, science=58),\n",
              " Student(id=5, class=2, math=25, english=80, science=65),\n",
              " Student(id=6, class=2, math=50, english=89, science=98),\n",
              " Student(id=7, class=2, math=80, english=90, science=45),\n",
              " Student(id=8, class=2, math=90, english=78, science=25),\n",
              " Student(id=9, class=3, math=20, english=98, science=15),\n",
              " Student(id=10, class=3, math=50, english=98, science=45),\n",
              " Student(id=11, class=3, math=65, english=65, science=65),\n",
              " Student(id=12, class=3, math=45, english=85, science=32),\n",
              " Student(id=13, class=4, math=46, english=98, science=65),\n",
              " Student(id=14, class=4, math=48, english=87, science=12),\n",
              " Student(id=15, class=4, math=75, english=56, science=78),\n",
              " Student(id=16, class=4, math=58, english=98, science=65),\n",
              " Student(id=17, class=5, math=65, english=68, science=98),\n",
              " Student(id=18, class=5, math=80, english=78, science=90),\n",
              " Student(id=19, class=5, math=89, english=68, science=87),\n",
              " Student(id=20, class=5, math=78, english=83, science=58)]"
            ]
          },
          "metadata": {},
          "execution_count": 48
        }
      ]
    },
    {
      "cell_type": "code",
      "source": [
        "# math2 = []\n",
        "# for x in exam2:\n",
        "#     math2.append(x.math)\n",
        "\n",
        "math2 = [x.math for x in exam2]\n",
        "\n",
        "print(math2)"
      ],
      "metadata": {
        "colab": {
          "base_uri": "https://localhost:8080/"
        },
        "id": "c4j-dJM7eqU7",
        "outputId": "dcbffc05-b56e-4447-e005-c9ae218034cc"
      },
      "execution_count": 53,
      "outputs": [
        {
          "output_type": "stream",
          "name": "stdout",
          "text": [
            "[50, 60, 45, 30, 25, 50, 80, 90, 20, 50, 65, 45, 46, 48, 75, 58, 65, 80, 89, 78]\n"
          ]
        }
      ]
    },
    {
      "cell_type": "code",
      "source": [
        "print('수학 점수 최댓값:', max(math2))\n",
        "print('수학 점수 최솟값:', min(math2))\n",
        "print('수학 점수 평균:', sum(math2) / len(math2))"
      ],
      "metadata": {
        "colab": {
          "base_uri": "https://localhost:8080/"
        },
        "id": "7YwjxxGrfHkS",
        "outputId": "fb0d2252-4899-46ea-f660-58927577b971"
      },
      "execution_count": 54,
      "outputs": [
        {
          "output_type": "stream",
          "name": "stdout",
          "text": [
            "수학 점수 최댓값: 90\n",
            "수학 점수 최솟값: 20\n",
            "수학 점수 평균: 57.45\n"
          ]
        }
      ]
    },
    {
      "cell_type": "code",
      "source": [
        "math2_class1 = []\n",
        "for x in exam2:\n",
        "    if x.cls == 1:\n",
        "        math2_class1.append(x.math)\n",
        "\n",
        "print(math2_class1)"
      ],
      "metadata": {
        "colab": {
          "base_uri": "https://localhost:8080/"
        },
        "id": "o9ib9eupfc4r",
        "outputId": "29553efc-d51b-426b-a514-40b61b7cbd8a"
      },
      "execution_count": 55,
      "outputs": [
        {
          "output_type": "stream",
          "name": "stdout",
          "text": [
            "[50, 60, 45, 30]\n"
          ]
        }
      ]
    },
    {
      "cell_type": "code",
      "source": [
        "def subject_mean_by_class(subject, cls):\n",
        "    \"\"\"\n",
        "    반 별로 과목의 평균 점수를 계산해서 출력.\n",
        "\n",
        "    @param subject: 과목 이름. 'math', 'english', 'science' 중 하나.\n",
        "    @param cls: 반 번호. 1 ~ 5.\n",
        "    \"\"\"\n",
        "    score = []  # 반 별 과목의 점수들을 저장할 리스트.\n",
        "    for student in exam2:\n",
        "        if student.cls == cls:\n",
        "            match subject:\n",
        "                case 'math':\n",
        "                    score.append(student.math)\n",
        "                case 'english':\n",
        "                    score.append(student.english)\n",
        "                case 'science:':\n",
        "                    score.append(student.science)\n",
        "\n",
        "    print(score)\n",
        "    mean = sum(score) / len(score)\n",
        "    print(f'{cls}반 {subject} 점수 평균 = ', mean)"
      ],
      "metadata": {
        "id": "Rew7ZZsqfwV1"
      },
      "execution_count": 58,
      "outputs": []
    },
    {
      "cell_type": "code",
      "source": [
        "subject_mean_by_class('math', 1)"
      ],
      "metadata": {
        "colab": {
          "base_uri": "https://localhost:8080/"
        },
        "id": "KPO-wVwThe9c",
        "outputId": "693ff913-a599-444b-88bd-dde462848373"
      },
      "execution_count": 59,
      "outputs": [
        {
          "output_type": "stream",
          "name": "stdout",
          "text": [
            "[50, 60, 45, 30]\n",
            "1반 math 점수 평균 =  46.25\n"
          ]
        }
      ]
    }
  ]
}