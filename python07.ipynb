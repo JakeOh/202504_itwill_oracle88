{
  "nbformat": 4,
  "nbformat_minor": 0,
  "metadata": {
    "colab": {
      "provenance": [],
      "toc_visible": true,
      "authorship_tag": "ABX9TyMngz/kRdT1IFTsNwjIqjzz",
      "include_colab_link": true
    },
    "kernelspec": {
      "name": "python3",
      "display_name": "Python 3"
    },
    "language_info": {
      "name": "python"
    }
  },
  "cells": [
    {
      "cell_type": "markdown",
      "metadata": {
        "id": "view-in-github",
        "colab_type": "text"
      },
      "source": [
        "<a href=\"https://colab.research.google.com/github/JakeOh/202504_itwill_oracle88/blob/main/python07.ipynb\" target=\"_parent\"><img src=\"https://colab.research.google.com/assets/colab-badge.svg\" alt=\"Open In Colab\"/></a>"
      ]
    },
    {
      "cell_type": "markdown",
      "source": [
        "# tuple(튜플)"
      ],
      "metadata": {
        "id": "I-SNC_NKYuYz"
      }
    },
    {
      "cell_type": "markdown",
      "source": [
        "*   tuple: 저장된 아이템들을 변경할 수 없는 리스트.\n",
        "*   인덱스 기반의 데이터 타입\n",
        "    *   indexing: 해당 인덱스 위치의 아이템 값을 읽음.\n",
        "    *   slicing: 해당 인덱스 범위의 아이템들로 이루어진 튜플을 만듦.\n",
        "*   append(), pop(), ... 등과 같은 아이템을 추가하거나 삭제하는 함수(메서드)를 제공하지 않음."
      ],
      "metadata": {
        "id": "uISUarH8Y8g6"
      }
    },
    {
      "cell_type": "code",
      "execution_count": 2,
      "metadata": {
        "colab": {
          "base_uri": "https://localhost:8080/"
        },
        "id": "IuR84QSzYoDR",
        "outputId": "092169c1-f734-46d6-d2dd-df2390d38370"
      },
      "outputs": [
        {
          "output_type": "stream",
          "name": "stdout",
          "text": [
            "<class 'tuple'>\n",
            "(1, 2, 10, 20, 1, 2, 2)\n"
          ]
        }
      ],
      "source": [
        "numbers = (1, 2, 10, 20, 1, 2, 2)\n",
        "print(type(numbers))\n",
        "print(numbers)"
      ]
    },
    {
      "cell_type": "code",
      "source": [
        "# tuple.count(value): tuple에서 value가 몇 개 있는 지를 리턴(반환).\n",
        "numbers.count(2)"
      ],
      "metadata": {
        "colab": {
          "base_uri": "https://localhost:8080/"
        },
        "id": "EHVvCnkxaQPU",
        "outputId": "7a9e9918-e931-4900-fe1a-b73bbb18cec2"
      },
      "execution_count": 3,
      "outputs": [
        {
          "output_type": "execute_result",
          "data": {
            "text/plain": [
              "3"
            ]
          },
          "metadata": {},
          "execution_count": 3
        }
      ]
    },
    {
      "cell_type": "code",
      "source": [
        "# tuple.index(value): tuple에서 value의 인덱스를 리턴(반환). 같은 값이 여러개 있으면 가장 먼저 나오는 인덱스.\n",
        "numbers.index(2)"
      ],
      "metadata": {
        "colab": {
          "base_uri": "https://localhost:8080/"
        },
        "id": "y1QU2ly-blny",
        "outputId": "b50456de-b30d-4b84-8f38-dc54f0f08038"
      },
      "execution_count": 4,
      "outputs": [
        {
          "output_type": "execute_result",
          "data": {
            "text/plain": [
              "1"
            ]
          },
          "metadata": {},
          "execution_count": 4
        }
      ]
    },
    {
      "cell_type": "markdown",
      "source": [
        "## indexing"
      ],
      "metadata": {
        "id": "msZM0xFIcPCa"
      }
    },
    {
      "cell_type": "code",
      "source": [
        "numbers"
      ],
      "metadata": {
        "colab": {
          "base_uri": "https://localhost:8080/"
        },
        "id": "VLYEYdYjcTeE",
        "outputId": "40da7c55-e2ec-4b36-b4a6-7271bf9aa935"
      },
      "execution_count": 5,
      "outputs": [
        {
          "output_type": "execute_result",
          "data": {
            "text/plain": [
              "(1, 2, 10, 20, 1, 2, 2)"
            ]
          },
          "metadata": {},
          "execution_count": 5
        }
      ]
    },
    {
      "cell_type": "code",
      "source": [
        "numbers[0]  # 튜플 numbers의 첫번째 아이템"
      ],
      "metadata": {
        "colab": {
          "base_uri": "https://localhost:8080/"
        },
        "id": "0XlY6jzncXMF",
        "outputId": "63e1e162-ce9f-48d5-d350-7a7c9b2dee37"
      },
      "execution_count": 6,
      "outputs": [
        {
          "output_type": "execute_result",
          "data": {
            "text/plain": [
              "1"
            ]
          },
          "metadata": {},
          "execution_count": 6
        }
      ]
    },
    {
      "cell_type": "code",
      "source": [
        "numbers[-1]  # 튜플 numbers의 마지막 아이템"
      ],
      "metadata": {
        "colab": {
          "base_uri": "https://localhost:8080/"
        },
        "id": "lVifZBWqciGL",
        "outputId": "00b1bd42-b90e-437f-f58d-8da495c84f63"
      },
      "execution_count": 7,
      "outputs": [
        {
          "output_type": "execute_result",
          "data": {
            "text/plain": [
              "2"
            ]
          },
          "metadata": {},
          "execution_count": 7
        }
      ]
    },
    {
      "cell_type": "markdown",
      "source": [
        "## slicing"
      ],
      "metadata": {
        "id": "EwljeM_EdCqL"
      }
    },
    {
      "cell_type": "code",
      "source": [
        "numbers[:3]  # 튜플 numbers에서 앞에서 3개 아이템을 잘라냄."
      ],
      "metadata": {
        "colab": {
          "base_uri": "https://localhost:8080/"
        },
        "id": "GzqGvnDGdEZb",
        "outputId": "55e83fb6-2eea-4930-e129-62e23fbf6790"
      },
      "execution_count": 9,
      "outputs": [
        {
          "output_type": "execute_result",
          "data": {
            "text/plain": [
              "(1, 2, 10)"
            ]
          },
          "metadata": {},
          "execution_count": 9
        }
      ]
    },
    {
      "cell_type": "code",
      "source": [
        "numbers[-3:]  # 튜플 numbers에서 끝에서 3개 아이템을 잘라냄."
      ],
      "metadata": {
        "colab": {
          "base_uri": "https://localhost:8080/"
        },
        "id": "hOYMiZ7TdcL6",
        "outputId": "fc33fe8b-4e91-4e05-e992-aa895286cec6"
      },
      "execution_count": 11,
      "outputs": [
        {
          "output_type": "execute_result",
          "data": {
            "text/plain": [
              "(1, 2, 2)"
            ]
          },
          "metadata": {},
          "execution_count": 11
        }
      ]
    },
    {
      "cell_type": "markdown",
      "source": [
        "## decomposition (분해)"
      ],
      "metadata": {
        "id": "NGybXMHceBXq"
      }
    },
    {
      "cell_type": "code",
      "source": [
        "integers = (1, 2, 3)\n",
        "# x = integers[0]\n",
        "# y = integers[1]\n",
        "# z = integers[2]\n",
        "\n",
        "x, y, z = integers\n",
        "print(x, y, z)"
      ],
      "metadata": {
        "colab": {
          "base_uri": "https://localhost:8080/"
        },
        "id": "K9C-AeJaeJ1S",
        "outputId": "c06a4c91-61f6-491c-d7a6-90a749559901"
      },
      "execution_count": 12,
      "outputs": [
        {
          "output_type": "stream",
          "name": "stdout",
          "text": [
            "1 2 3\n"
          ]
        }
      ]
    },
    {
      "cell_type": "code",
      "source": [
        "names = ['홍길동', '오쌤']\n",
        "# person1 = names[0]\n",
        "# person2 = names[1]\n",
        "\n",
        "person1, person2 = names\n",
        "print(person1, person2)"
      ],
      "metadata": {
        "colab": {
          "base_uri": "https://localhost:8080/"
        },
        "id": "-YdDMaizewUE",
        "outputId": "fb332333-3b5f-4829-c4d5-0303d7f71a97"
      },
      "execution_count": 13,
      "outputs": [
        {
          "output_type": "stream",
          "name": "stdout",
          "text": [
            "홍길동 오쌤\n"
          ]
        }
      ]
    },
    {
      "cell_type": "markdown",
      "source": [
        "## tuple과 for 반복문"
      ],
      "metadata": {
        "id": "EXgk-KQBfoba"
      }
    },
    {
      "cell_type": "code",
      "source": [
        "for x in (1, 10, 2, -20, 100):\n",
        "    print(x)"
      ],
      "metadata": {
        "colab": {
          "base_uri": "https://localhost:8080/"
        },
        "id": "d84yT8mgfZXc",
        "outputId": "6e3dbe22-191e-4f74-bb08-a3db57dbbc0f"
      },
      "execution_count": 14,
      "outputs": [
        {
          "output_type": "stream",
          "name": "stdout",
          "text": [
            "1\n",
            "10\n",
            "2\n",
            "-20\n",
            "100\n"
          ]
        }
      ]
    },
    {
      "cell_type": "code",
      "source": [
        "matrix = (\n",
        "    (1, 2, 3),\n",
        "    (4, 5, 6)\n",
        ")\n",
        "print(matrix)"
      ],
      "metadata": {
        "colab": {
          "base_uri": "https://localhost:8080/"
        },
        "id": "XvG7emJTgFf7",
        "outputId": "52ac96b1-e75d-43e4-ce41-076107eb24fb"
      },
      "execution_count": 16,
      "outputs": [
        {
          "output_type": "stream",
          "name": "stdout",
          "text": [
            "((1, 2, 3), (4, 5, 6))\n"
          ]
        }
      ]
    },
    {
      "cell_type": "code",
      "source": [
        "matrix[0]"
      ],
      "metadata": {
        "colab": {
          "base_uri": "https://localhost:8080/"
        },
        "id": "l059bygEgj4b",
        "outputId": "94aa62fc-c987-4a41-d01b-95a89220ee45"
      },
      "execution_count": 17,
      "outputs": [
        {
          "output_type": "execute_result",
          "data": {
            "text/plain": [
              "(1, 2, 3)"
            ]
          },
          "metadata": {},
          "execution_count": 17
        }
      ]
    },
    {
      "cell_type": "code",
      "source": [
        "matrix[0][0]"
      ],
      "metadata": {
        "colab": {
          "base_uri": "https://localhost:8080/"
        },
        "id": "aDWLZHgmgv1S",
        "outputId": "002de8a8-eeca-4401-9d13-bb57174d4818"
      },
      "execution_count": 18,
      "outputs": [
        {
          "output_type": "execute_result",
          "data": {
            "text/plain": [
              "1"
            ]
          },
          "metadata": {},
          "execution_count": 18
        }
      ]
    },
    {
      "cell_type": "code",
      "source": [
        "for row in matrix:\n",
        "    for x in row:\n",
        "        print(x, end='\\t')\n",
        "    print()"
      ],
      "metadata": {
        "colab": {
          "base_uri": "https://localhost:8080/"
        },
        "id": "SEkIZ3TDg4Ga",
        "outputId": "55b3a9d8-7878-4d5e-911f-5e293b242fd3"
      },
      "execution_count": 19,
      "outputs": [
        {
          "output_type": "stream",
          "name": "stdout",
          "text": [
            "1\t2\t3\t\n",
            "4\t5\t6\t\n"
          ]
        }
      ]
    }
  ]
}