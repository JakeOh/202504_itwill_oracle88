{
  "nbformat": 4,
  "nbformat_minor": 0,
  "metadata": {
    "colab": {
      "provenance": [],
      "toc_visible": true,
      "authorship_tag": "ABX9TyPAOzIr7z4KRGZHFRIpcjSf",
      "include_colab_link": true
    },
    "kernelspec": {
      "name": "python3",
      "display_name": "Python 3"
    },
    "language_info": {
      "name": "python"
    }
  },
  "cells": [
    {
      "cell_type": "markdown",
      "metadata": {
        "id": "view-in-github",
        "colab_type": "text"
      },
      "source": [
        "<a href=\"https://colab.research.google.com/github/JakeOh/202504_itwill_oracle88/blob/main/python11.ipynb\" target=\"_parent\"><img src=\"https://colab.research.google.com/assets/colab-badge.svg\" alt=\"Open In Colab\"/></a>"
      ]
    },
    {
      "cell_type": "markdown",
      "source": [
        "# 함수(Function)"
      ],
      "metadata": {
        "id": "QGmhgJ9TzKiV"
      }
    },
    {
      "cell_type": "markdown",
      "source": [
        "*   **함수(function)**: 기능을 수행하는 코드 블록.\n",
        "*   **인수(argument)**: 함수가 기능을 수행하기 위해서 값이 필요한 경우, 함수를 호출할 때 함수에게 전달해 주는 값.\n",
        "*   **매개변수(parameter)**: 아규먼트를 저장하기 위해서, 함수를 정의할 때 선언하는 변수.\n",
        "*   **반환값(return value)**: 함수가 기능을 수행한 후에 그 결과로 함수를 호출한 곳에 되돌려 주는 값.\n",
        "    *   함수에 따라서 반환값이 있는 함수도 있고, 반환값이 없는 함수도 있음.\n",
        "        * 예: print() 함수는 반환값이 없음."
      ],
      "metadata": {
        "id": "yCpzaPpKzTQr"
      }
    },
    {
      "cell_type": "code",
      "execution_count": 1,
      "metadata": {
        "colab": {
          "base_uri": "https://localhost:8080/"
        },
        "id": "ii81DueAzIuC",
        "outputId": "c14e7779-0dc2-443a-d25d-eb81247685a4"
      },
      "outputs": [
        {
          "output_type": "stream",
          "name": "stdout",
          "text": [
            "6\n"
          ]
        }
      ],
      "source": [
        "result = len('안녕하세요.')\n",
        "print(result)\n",
        "\n",
        "# 함수 이름: len\n",
        "# argument: '안녕하세요.'\n",
        "# 함수 호출: len('안녕하세요.')\n",
        "# 반환값: 6"
      ]
    },
    {
      "cell_type": "markdown",
      "source": [
        "# 함수 선언(정의)"
      ],
      "metadata": {
        "id": "5qfwklYo3K1F"
      }
    },
    {
      "cell_type": "markdown",
      "source": [
        "```\n",
        "def function_name([parameter1, parameter2, ...]):\n",
        "    [\"\"\"문서화 주석(documentation comments): 함수에 대한 설명\"\"\"]\n",
        "    함수가 수행할 기능을 코드 블록으로 작성\n",
        "    [return 반환값]\n",
        "```"
      ],
      "metadata": {
        "id": "8lxGMEWo3P0k"
      }
    },
    {
      "cell_type": "code",
      "source": [
        "def subtract(x, y):\n",
        "    \"\"\"x - y를 리턴하는 함수\"\"\"\n",
        "    return x - y"
      ],
      "metadata": {
        "id": "Zwe3sLt64Oo8"
      },
      "execution_count": 2,
      "outputs": []
    },
    {
      "cell_type": "code",
      "source": [
        "# subtract() 함수를 호출.\n",
        "result = subtract(1, 2)\n",
        "print(result)"
      ],
      "metadata": {
        "colab": {
          "base_uri": "https://localhost:8080/"
        },
        "id": "8uukN_rl4uGD",
        "outputId": "56ec04e1-ce98-4789-a9f3-0bab96a11c79"
      },
      "execution_count": 3,
      "outputs": [
        {
          "output_type": "stream",
          "name": "stdout",
          "text": [
            "-1\n"
          ]
        }
      ]
    },
    {
      "cell_type": "code",
      "source": [
        "print(subtract(2, 1))"
      ],
      "metadata": {
        "colab": {
          "base_uri": "https://localhost:8080/"
        },
        "id": "bKtADtOh5o00",
        "outputId": "158ee4a7-2b59-4ccb-c82f-5c32e9f01eec"
      },
      "execution_count": 4,
      "outputs": [
        {
          "output_type": "stream",
          "name": "stdout",
          "text": [
            "1\n"
          ]
        }
      ]
    },
    {
      "cell_type": "markdown",
      "source": [
        "## 값을 반환하지 않는 함수 선언"
      ],
      "metadata": {
        "id": "JiEkJOiK-KvD"
      }
    },
    {
      "cell_type": "code",
      "source": [
        "def repeat_message(msg, n):\n",
        "    \"\"\"\n",
        "    msg를 n번 반복해서 출력하는 함수.\n",
        "\n",
        "    @param msg - 출력할 메시지. 문자열 타입.\n",
        "    @param n - 출력할 횟수. 0 또는 양의 정수.\n",
        "    @return None\n",
        "    \"\"\"\n",
        "    for _ in range(n):\n",
        "        print(msg)\n",
        "\n",
        "    # return None  # return None 문장은 생략 가능."
      ],
      "metadata": {
        "id": "6i_CVy-t-Wmt"
      },
      "execution_count": 5,
      "outputs": []
    },
    {
      "cell_type": "code",
      "source": [
        "repeat_message('안녕하세요', 3)"
      ],
      "metadata": {
        "colab": {
          "base_uri": "https://localhost:8080/"
        },
        "id": "AgvacWVOAaC2",
        "outputId": "613a605c-cb41-40d6-a312-a1fbb659fce5"
      },
      "execution_count": 6,
      "outputs": [
        {
          "output_type": "stream",
          "name": "stdout",
          "text": [
            "안녕하세요\n",
            "안녕하세요\n",
            "안녕하세요\n"
          ]
        }
      ]
    },
    {
      "cell_type": "code",
      "source": [
        "repeat_message('Hello, Python!', 5)"
      ],
      "metadata": {
        "colab": {
          "base_uri": "https://localhost:8080/"
        },
        "id": "aWbC8IvXA1Rk",
        "outputId": "a08961b4-0545-45bc-d66d-a3837968ef4d"
      },
      "execution_count": 7,
      "outputs": [
        {
          "output_type": "stream",
          "name": "stdout",
          "text": [
            "Hello, Python!\n",
            "Hello, Python!\n",
            "Hello, Python!\n",
            "Hello, Python!\n",
            "Hello, Python!\n"
          ]
        }
      ]
    },
    {
      "cell_type": "markdown",
      "source": [
        "## 2개 이상의 값을 반환하는 함수 선언"
      ],
      "metadata": {
        "id": "Mty0QS38Bif7"
      }
    },
    {
      "cell_type": "code",
      "source": [
        "def plus_and_minus(x, y):\n",
        "    \"\"\"\n",
        "    두 숫자들의 덧셈과 뺄셈 결과를 반환하는 함수.\n",
        "\n",
        "    @param x: 숫자 타입(int 또는 float).\n",
        "    @param y: 숫자 타입(int 또는 float).\n",
        "    @return x + y, x - y\n",
        "    \"\"\"\n",
        "    return x + y, x - y"
      ],
      "metadata": {
        "id": "IElPC8h2BnYl"
      },
      "execution_count": 8,
      "outputs": []
    },
    {
      "cell_type": "code",
      "source": [
        "a, b = plus_and_minus(1, 2)\n",
        "print(a, b)"
      ],
      "metadata": {
        "colab": {
          "base_uri": "https://localhost:8080/"
        },
        "id": "VwGB3ezJC3fM",
        "outputId": "42598b6d-9426-4db9-9023-d440a8108899"
      },
      "execution_count": 9,
      "outputs": [
        {
          "output_type": "stream",
          "name": "stdout",
          "text": [
            "3 -1\n"
          ]
        }
      ]
    },
    {
      "cell_type": "code",
      "source": [
        "result = plus_and_minus(1, 2)  # 리턴값들을 아이템으로 갖는 tuple이 저장됨.\n",
        "print(result)"
      ],
      "metadata": {
        "colab": {
          "base_uri": "https://localhost:8080/"
        },
        "id": "3jzfKO2VDi08",
        "outputId": "e0c5d8a8-6397-45df-ed0a-647535a08b68"
      },
      "execution_count": 10,
      "outputs": [
        {
          "output_type": "stream",
          "name": "stdout",
          "text": [
            "(3, -1)\n"
          ]
        }
      ]
    },
    {
      "cell_type": "code",
      "source": [
        "import random"
      ],
      "metadata": {
        "id": "mOKxtrygdK2M"
      },
      "execution_count": 11,
      "outputs": []
    },
    {
      "cell_type": "markdown",
      "source": [
        "## 연습문제 1."
      ],
      "metadata": {
        "id": "1O709s1NbIM1"
      }
    },
    {
      "cell_type": "markdown",
      "source": [
        "*   함수 이름: make_list\n",
        "*   기능: [start, end) 범위의 정수 난수 n개를 갖는 리스트를 리턴.\n",
        "*   파라미터: start(정수), end(정수), n(0 또는 양의 정수)"
      ],
      "metadata": {
        "id": "jo3RNLN9bNc1"
      }
    },
    {
      "cell_type": "code",
      "source": [
        "def make_list(start, end, n):\n",
        "    \"\"\"\n",
        "    [start, end) 범위의 난수 n개로 이루어진 리스트를 리턴.\n",
        "\n",
        "    @param start: int. 난수의 시작 범위.\n",
        "    @param end: int. 난수의 끝 범위.\n",
        "    @param n: 0 또는 양의 정수. 난수 개수. 리스트의 크기.\n",
        "    @return: [start, end) 범위의 난수 n개로 이루어진 리스트.\n",
        "    \"\"\"\n",
        "    # array = []  # 빈 리스트\n",
        "    # for _ in range(n):  # n번 반복\n",
        "    #     array.append(random.randrange(start, end))  # [start, end) 범위의 난수를 리스트에 추가\n",
        "\n",
        "    # return array\n",
        "\n",
        "    return [random.randrange(start, end) for _ in range(n)]"
      ],
      "metadata": {
        "id": "z4bmsjr3l3d0"
      },
      "execution_count": 18,
      "outputs": []
    },
    {
      "cell_type": "code",
      "source": [
        "my_list = make_list(0, 100, 10)\n",
        "print(my_list)"
      ],
      "metadata": {
        "colab": {
          "base_uri": "https://localhost:8080/"
        },
        "id": "I7rgWqfMnpAd",
        "outputId": "c54067c7-e808-49a8-aa75-930e446a3cd2"
      },
      "execution_count": 20,
      "outputs": [
        {
          "output_type": "stream",
          "name": "stdout",
          "text": [
            "[67, 21, 32, 60, 89, 42, 60, 41, 80, 61]\n"
          ]
        }
      ]
    },
    {
      "cell_type": "markdown",
      "source": [
        "## 연습문제 2."
      ],
      "metadata": {
        "id": "rmz_aVoUcT-E"
      }
    },
    {
      "cell_type": "markdown",
      "source": [
        "*   함수 이름: calculate_sum\n",
        "*   기능: 숫자(정수, 실수)들을 원소로 갖는 리스트를 전달받아서, 그 리스트의 모든 원소들의 합계를 리턴.\n",
        "*   파라미터: array(리스트)"
      ],
      "metadata": {
        "id": "9-FCjPhpcWRt"
      }
    },
    {
      "cell_type": "code",
      "source": [
        "def calculate_sum(array):\n",
        "    \"\"\"\n",
        "    숫자를 원소로 갖는 리스트의 모든 원소들의 합계를 리턴.\n",
        "\n",
        "    :arg array: 숫자들을 원소로 갖는 리스트.\n",
        "    :returns: 리스트의 모든 원소들의 합계.\n",
        "    \"\"\"\n",
        "    result = 0\n",
        "    for x in array:\n",
        "        result += x\n",
        "\n",
        "    return result"
      ],
      "metadata": {
        "id": "0lvKvKuOos7M"
      },
      "execution_count": 21,
      "outputs": []
    },
    {
      "cell_type": "code",
      "source": [
        "my_list = make_list(0, 10, 5)\n",
        "print(my_list)\n",
        "total = calculate_sum(my_list)\n",
        "print(total)"
      ],
      "metadata": {
        "colab": {
          "base_uri": "https://localhost:8080/"
        },
        "id": "9NR-UVUtptoF",
        "outputId": "4a9e45a8-56a2-45af-ce09-015a31a0d14c"
      },
      "execution_count": 22,
      "outputs": [
        {
          "output_type": "stream",
          "name": "stdout",
          "text": [
            "[8, 5, 5, 4, 1]\n",
            "23\n"
          ]
        }
      ]
    },
    {
      "cell_type": "markdown",
      "source": [
        "## 연습문제 3."
      ],
      "metadata": {
        "id": "htM2gjNFcwEt"
      }
    },
    {
      "cell_type": "markdown",
      "source": [
        "*   함수 이름: calculate_mean\n",
        "*   기능: 숫자들을 원소로 갖는 리스트의 원소들의 평균을 리턴.\n",
        "*   파라미터: array(리스트)"
      ],
      "metadata": {
        "id": "I84irGbUcyk8"
      }
    },
    {
      "cell_type": "code",
      "source": [
        "def calculate_mean(array):\n",
        "    \"\"\"\n",
        "    숫자들의 리스트 array의 모든 원소들의 평균을 리턴.\n",
        "\n",
        "    :arg array: 숫자들을 원소로 갖는 리스트.\n",
        "    :returns: 리스트의 모든 원소들의 평균.\n",
        "    \"\"\"\n",
        "    total = calculate_sum(array)\n",
        "    mean = total / len(array)\n",
        "\n",
        "    return mean"
      ],
      "metadata": {
        "id": "10n9BaVqqWQU"
      },
      "execution_count": 23,
      "outputs": []
    },
    {
      "cell_type": "code",
      "source": [
        "my_list = make_list(0, 10, 5)\n",
        "print(my_list)\n",
        "total = calculate_sum(my_list)\n",
        "print('total =', total)\n",
        "mean = calculate_mean(my_list)\n",
        "print('mean =', mean)"
      ],
      "metadata": {
        "colab": {
          "base_uri": "https://localhost:8080/"
        },
        "id": "IalZRmqerv9k",
        "outputId": "52538d51-0b16-41ca-cd74-824effa4b92f"
      },
      "execution_count": 26,
      "outputs": [
        {
          "output_type": "stream",
          "name": "stdout",
          "text": [
            "[1, 9, 4, 4, 9]\n",
            "total = 27\n",
            "mean = 5.4\n"
          ]
        }
      ]
    },
    {
      "cell_type": "markdown",
      "source": [
        "## 연습문제 4."
      ],
      "metadata": {
        "id": "ETcvyHAJsWmF"
      }
    },
    {
      "cell_type": "markdown",
      "source": [
        "*   함수 이름: find_min_and_max\n",
        "*   기능: 숫자들을 원소로 갖는 리스트를 아규먼트로 전달받아서, 리스트의 최솟값과 최댓값을 리턴."
      ],
      "metadata": {
        "id": "dt1DlQpbsbV0"
      }
    },
    {
      "cell_type": "code",
      "source": [
        "def find_min_and_max(array):\n",
        "    # return min(array), max(array)\n",
        "\n",
        "    min_array = array[0]  # 리스트의 첫번째 원소를 최솟값이라고 가정\n",
        "    max_array = array[0]  # 리스트의 첫번째 원소를 최댓값이라고 가정\n",
        "    for x in array:  # 리스트의 모든 원소들을 순서대로 반복하면서\n",
        "        if x < min_array:  # 리스트에서 찾은 값이 최솟값보다 작다면\n",
        "            min_array = x  # 최솟값을 리스트에서 찾은 값으로 변경.\n",
        "        if x > max_array:  # 리스트에서 찾은 값이 최댓값보다 크다면\n",
        "            max_array = x  # 최댓값을 리스트에서 찾은 값으로 변경.\n",
        "\n",
        "    return min_array, max_array"
      ],
      "metadata": {
        "id": "L0fEvQx8s2Gl"
      },
      "execution_count": 27,
      "outputs": []
    },
    {
      "cell_type": "code",
      "source": [
        "my_list = make_list(-100, 100, 10)\n",
        "print(my_list)\n",
        "min_my_list, max_my_list = find_min_and_max(my_list)\n",
        "print(min_my_list, max_my_list)"
      ],
      "metadata": {
        "colab": {
          "base_uri": "https://localhost:8080/"
        },
        "id": "pv5CAEY8v9tN",
        "outputId": "d83cdb1a-9a24-4cfd-c607-fbe9956ed44a"
      },
      "execution_count": 28,
      "outputs": [
        {
          "output_type": "stream",
          "name": "stdout",
          "text": [
            "[63, -39, 52, 92, 33, -24, -56, 26, 4, -53]\n",
            "-56 92\n"
          ]
        }
      ]
    },
    {
      "cell_type": "code",
      "source": [
        "# sorted(list): list를 (오름차순) 정렬된 새로운 리스트를 리턴.\n",
        "# sorted(iterable, reverse=False): 오름차순 정렬\n",
        "# sorted(iterable, reverse=True): 내림차순 정렬\n",
        "sorted(my_list)"
      ],
      "metadata": {
        "colab": {
          "base_uri": "https://localhost:8080/"
        },
        "id": "LDlPieS7wj6c",
        "outputId": "8eaab177-bd36-4678-8c1b-ce51d0345dbf"
      },
      "execution_count": 35,
      "outputs": [
        {
          "output_type": "execute_result",
          "data": {
            "text/plain": [
              "[-56, -53, -39, -24, 4, 26, 33, 52, 63, 92]"
            ]
          },
          "metadata": {},
          "execution_count": 35
        }
      ]
    },
    {
      "cell_type": "code",
      "source": [
        "def find_min_and_max2(array):\n",
        "    sorted_array = sorted(array)\n",
        "    return sorted_array[0], sorted_array[-1]"
      ],
      "metadata": {
        "id": "ntZyiNTBxMbM"
      },
      "execution_count": 30,
      "outputs": []
    },
    {
      "cell_type": "code",
      "source": [
        "find_min_and_max2(my_list)"
      ],
      "metadata": {
        "colab": {
          "base_uri": "https://localhost:8080/"
        },
        "id": "YAKul-O0xiEl",
        "outputId": "91ff0d11-dd3c-4952-b15c-2bd7b29a0142"
      },
      "execution_count": 31,
      "outputs": [
        {
          "output_type": "execute_result",
          "data": {
            "text/plain": [
              "(-56, 92)"
            ]
          },
          "metadata": {},
          "execution_count": 31
        }
      ]
    },
    {
      "cell_type": "markdown",
      "source": [
        "# Default Argument(기본 인수)"
      ],
      "metadata": {
        "id": "mVWSPQjg3AbV"
      }
    },
    {
      "cell_type": "markdown",
      "source": [
        "기본 인수(default argument):\n",
        "\n",
        "*   함수를 선언할 때 파라미터에 설정하는 기본값.\n",
        "    *   default parameter: 기본값이 설정된 파라미터(매개변수).\n",
        "*   함수를 호출할 때 default parameter에 값을 전달하지 않으면, default argument가 기본값으로 사용됨.\n",
        "*   함수를 호출할 때 default parameter에 값을 전달하면, 기본값은 무시되고 전달한 아규먼트가 사용됨."
      ],
      "metadata": {
        "id": "xSphDvbu3Fvk"
      }
    },
    {
      "cell_type": "code",
      "source": [
        "def repeat_message2(msg, n=1):\n",
        "    for _ in range(n):\n",
        "        print(msg)"
      ],
      "metadata": {
        "id": "5wY-coca1pbl"
      },
      "execution_count": 36,
      "outputs": []
    },
    {
      "cell_type": "code",
      "source": [
        "# default parameter에 값을 전달하지 않는 경우:\n",
        "repeat_message2('안녕하세요!')"
      ],
      "metadata": {
        "colab": {
          "base_uri": "https://localhost:8080/"
        },
        "id": "WWjmKkQH4wT4",
        "outputId": "dd61ba38-d709-4ff8-b7ba-d465fb1a001c"
      },
      "execution_count": 37,
      "outputs": [
        {
          "output_type": "stream",
          "name": "stdout",
          "text": [
            "안녕하세요!\n"
          ]
        }
      ]
    },
    {
      "cell_type": "code",
      "source": [
        "# default parmeter에 값을 전달하는 경우:\n",
        "repeat_message2('Hello!', 5)"
      ],
      "metadata": {
        "colab": {
          "base_uri": "https://localhost:8080/"
        },
        "id": "vq31QpH15OSk",
        "outputId": "d7667b5c-ec41-4a2a-b773-4997450da4c8"
      },
      "execution_count": 38,
      "outputs": [
        {
          "output_type": "stream",
          "name": "stdout",
          "text": [
            "Hello!\n",
            "Hello!\n",
            "Hello!\n",
            "Hello!\n",
            "Hello!\n"
          ]
        }
      ]
    },
    {
      "cell_type": "markdown",
      "source": [
        "**(주의)** default parameter들은 반드시 기본값을 갖지 않는 파라미터들 뒤에 선언해야 함.\n",
        "\n",
        "기본값을 갖는 파라미터가 기본값을 갖지 않는 파라미터보다 먼저 선언되면 문법 오류가 발생함."
      ],
      "metadata": {
        "id": "PbbyK-SV6GO8"
      }
    },
    {
      "cell_type": "code",
      "source": [
        "def test(x, y=0):\n",
        "    pass"
      ],
      "metadata": {
        "id": "IL26Yc7W6eW8"
      },
      "execution_count": 42,
      "outputs": []
    },
    {
      "cell_type": "code",
      "source": [
        "def test_error(x=0, y):\n",
        "    pass"
      ],
      "metadata": {
        "colab": {
          "base_uri": "https://localhost:8080/",
          "height": 124
        },
        "id": "PvHv-_pm6whb",
        "outputId": "4501c523-ef40-4ef7-e628-917ab5520b49"
      },
      "execution_count": 43,
      "outputs": [
        {
          "output_type": "error",
          "ename": "SyntaxError",
          "evalue": "non-default argument follows default argument (<ipython-input-43-f895b8312743>, line 1)",
          "traceback": [
            "\u001b[0;36m  File \u001b[0;32m\"<ipython-input-43-f895b8312743>\"\u001b[0;36m, line \u001b[0;32m1\u001b[0m\n\u001b[0;31m    def test_error(x=0, y):\u001b[0m\n\u001b[0m                        ^\u001b[0m\n\u001b[0;31mSyntaxError\u001b[0m\u001b[0;31m:\u001b[0m non-default argument follows default argument\n"
          ]
        }
      ]
    },
    {
      "cell_type": "code",
      "source": [
        "def test2(x=0, y=0):\n",
        "    print(f'x = {x}, y = {y}')"
      ],
      "metadata": {
        "id": "GHJcP5Jr7KgW"
      },
      "execution_count": 45,
      "outputs": []
    },
    {
      "cell_type": "code",
      "source": [
        "test2()"
      ],
      "metadata": {
        "colab": {
          "base_uri": "https://localhost:8080/"
        },
        "id": "l3vGwvIv7kf7",
        "outputId": "3c1df61b-2e50-4252-fcb2-376d3137440f"
      },
      "execution_count": 46,
      "outputs": [
        {
          "output_type": "stream",
          "name": "stdout",
          "text": [
            "x = 0, y = 0\n"
          ]
        }
      ]
    },
    {
      "cell_type": "code",
      "source": [
        "test2(1)"
      ],
      "metadata": {
        "colab": {
          "base_uri": "https://localhost:8080/"
        },
        "id": "itzXWwg77pmT",
        "outputId": "c53849f6-1cb3-4907-e8bf-8dd4298a7a70"
      },
      "execution_count": 47,
      "outputs": [
        {
          "output_type": "stream",
          "name": "stdout",
          "text": [
            "x = 1, y = 0\n"
          ]
        }
      ]
    },
    {
      "cell_type": "code",
      "source": [
        "test2(0, 1)"
      ],
      "metadata": {
        "colab": {
          "base_uri": "https://localhost:8080/"
        },
        "id": "Dylr0Ooq78ac",
        "outputId": "0e28fbcb-af4c-4c25-867d-b5354af438a0"
      },
      "execution_count": 48,
      "outputs": [
        {
          "output_type": "stream",
          "name": "stdout",
          "text": [
            "x = 0, y = 1\n"
          ]
        }
      ]
    },
    {
      "cell_type": "code",
      "source": [
        "test2(y=1)"
      ],
      "metadata": {
        "colab": {
          "base_uri": "https://localhost:8080/"
        },
        "id": "oW3YSwHP8I3D",
        "outputId": "d7c6359a-0c08-45de-b4e6-492e8140a488"
      },
      "execution_count": 49,
      "outputs": [
        {
          "output_type": "stream",
          "name": "stdout",
          "text": [
            "x = 0, y = 1\n"
          ]
        }
      ]
    },
    {
      "cell_type": "code",
      "source": [
        "test2(y=-1, x=1)"
      ],
      "metadata": {
        "colab": {
          "base_uri": "https://localhost:8080/"
        },
        "id": "xATDkQXW9zN8",
        "outputId": "d5cb9a28-d9be-4eef-9204-66c9bd14c0f9"
      },
      "execution_count": 50,
      "outputs": [
        {
          "output_type": "stream",
          "name": "stdout",
          "text": [
            "x = 1, y = -1\n"
          ]
        }
      ]
    },
    {
      "cell_type": "markdown",
      "source": [
        "아규먼트 전달 방법: 함수를 호출할 때 아규먼트(들)을 넘겨주는 방법\n",
        "\n",
        "*   **positional argument**: 선언된 파라미터 순서대로 아규먼트들을 전달하는 방식.\n",
        "*   **keyword argument**: param_name=value 형식으로 아규먼트를 전달하는 방식.\n",
        "    *   keyword argument 방식을 사용할 때는 파라미터 순서를 지키지 않아도 됨.\n",
        "*   **(주의)**: 함수를 호출할 때 positional 방식과 keyword 방식을 함께 사용하는 경우에는, 반드시 postional argument를 먼저 전달하고 keyword argument들은 poistional 방식이 모두 끝난 후에 사용해야 함."
      ],
      "metadata": {
        "id": "uLUAgyGY8pFE"
      }
    },
    {
      "cell_type": "code",
      "source": [
        "test2(1, y=100)"
      ],
      "metadata": {
        "colab": {
          "base_uri": "https://localhost:8080/"
        },
        "id": "fUXGRs0a-iGv",
        "outputId": "5c9f94b3-6fb4-4354-ae4e-3fbb13d06f02"
      },
      "execution_count": 51,
      "outputs": [
        {
          "output_type": "stream",
          "name": "stdout",
          "text": [
            "x = 1, y = 100\n"
          ]
        }
      ]
    },
    {
      "cell_type": "code",
      "source": [
        "test2(x=1, 100)"
      ],
      "metadata": {
        "colab": {
          "base_uri": "https://localhost:8080/",
          "height": 124
        },
        "id": "lzv1YPBi-niW",
        "outputId": "77aa5648-abac-4ef4-efae-ecc256174fe0"
      },
      "execution_count": 52,
      "outputs": [
        {
          "output_type": "error",
          "ename": "SyntaxError",
          "evalue": "positional argument follows keyword argument (<ipython-input-52-a5fb75baab46>, line 1)",
          "traceback": [
            "\u001b[0;36m  File \u001b[0;32m\"<ipython-input-52-a5fb75baab46>\"\u001b[0;36m, line \u001b[0;32m1\u001b[0m\n\u001b[0;31m    test2(x=1, 100)\u001b[0m\n\u001b[0m                  ^\u001b[0m\n\u001b[0;31mSyntaxError\u001b[0m\u001b[0;31m:\u001b[0m positional argument follows keyword argument\n"
          ]
        }
      ]
    },
    {
      "cell_type": "markdown",
      "source": [
        "# Variable-Length Arguments(가변길이 인수)"
      ],
      "metadata": {
        "id": "YwuBRdVcWMe8"
      }
    },
    {
      "cell_type": "markdown",
      "source": [
        "*   함수 아규먼트 개수가 임의로 변할 수 있는 것. 함수를 호출할 때 아규먼트를 몇 개를 전달해도 됨.\n",
        "    *   아규먼트를 한 개도 전달하지 않아도 됨.\n",
        "*   함수를 선언할 때 파라미터 이름 앞에 `*`를 사용하면 가변길이 인수를 의미.\n",
        "*   함수 내부에서 가변길이 인수는 튜플(tuple)로 취급됨.\n",
        "    *   가변길이 인수는 인덱스를 가짐.\n",
        "    *   가변길이 인수는 for-in 구문에서 사용할 수 있음.\n",
        "*   가변길이 인수는 keyword argument 방식으로 값을 전달할 수 없음!\n",
        "*   함수를 선언할 때 가변길이 인수를 저장하는 파라미터는 오직 1개만 선언할 수 있음.\n",
        "*   가변길이 인수를 갖는 파라미터 뒤에 선언된 파라미터들에는 오직 keyword argument 방식으로만 값을 전달할 수 있음!"
      ],
      "metadata": {
        "id": "ez8YQsmQWUqj"
      }
    },
    {
      "cell_type": "code",
      "source": [
        "print('안녕!')  # 아규먼트 1개를 전달."
      ],
      "metadata": {
        "colab": {
          "base_uri": "https://localhost:8080/"
        },
        "id": "wLf3xJFnVsnT",
        "outputId": "ad4c4d9a-3562-4079-af3f-202283e3bd78"
      },
      "execution_count": 53,
      "outputs": [
        {
          "output_type": "stream",
          "name": "stdout",
          "text": [
            "안녕!\n"
          ]
        }
      ]
    },
    {
      "cell_type": "code",
      "source": [
        "print()  # 아규먼트를 전달하지 않음.\n",
        "print('안녕!', 'Hello', '파이썬')  # 아규먼트 3개를 전달."
      ],
      "metadata": {
        "colab": {
          "base_uri": "https://localhost:8080/"
        },
        "id": "YW6ksX9AX1X0",
        "outputId": "7d53ec6a-ce9d-4d17-e16d-6b34e3e94160"
      },
      "execution_count": 55,
      "outputs": [
        {
          "output_type": "stream",
          "name": "stdout",
          "text": [
            "\n",
            "안녕! Hello 파이썬\n"
          ]
        }
      ]
    },
    {
      "cell_type": "code",
      "source": [
        "def add_all(*args):\n",
        "    \"\"\"아규먼트로 전달된 모든 숫자들의 합계를 리턴. 아규먼트가 없는 경우에는 0을 리턴.\"\"\"\n",
        "    result = 0\n",
        "    for x in args:\n",
        "        result += x\n",
        "\n",
        "    return result"
      ],
      "metadata": {
        "id": "7dZLaJsxYABs"
      },
      "execution_count": 56,
      "outputs": []
    },
    {
      "cell_type": "code",
      "source": [
        "add_all()"
      ],
      "metadata": {
        "colab": {
          "base_uri": "https://localhost:8080/"
        },
        "id": "EUT6I8WfZ_jr",
        "outputId": "75c47ce4-257a-4f0e-df80-aa6eed24e909"
      },
      "execution_count": 57,
      "outputs": [
        {
          "output_type": "execute_result",
          "data": {
            "text/plain": [
              "0"
            ]
          },
          "metadata": {},
          "execution_count": 57
        }
      ]
    },
    {
      "cell_type": "code",
      "source": [
        "add_all(1, 2, 3, 4, 5)"
      ],
      "metadata": {
        "colab": {
          "base_uri": "https://localhost:8080/"
        },
        "id": "YK8vLyePaVwM",
        "outputId": "fbf002f3-91ca-48d3-87df-450c632f1f05"
      },
      "execution_count": 58,
      "outputs": [
        {
          "output_type": "execute_result",
          "data": {
            "text/plain": [
              "15"
            ]
          },
          "metadata": {},
          "execution_count": 58
        }
      ]
    },
    {
      "cell_type": "code",
      "source": [
        "def fn_test(x, *y):\n",
        "    print('x =', x)\n",
        "    print('y =', y)"
      ],
      "metadata": {
        "id": "G0IqT2ivfiw0"
      },
      "execution_count": 59,
      "outputs": []
    },
    {
      "cell_type": "code",
      "source": [
        "# fn_test()  #> TypeError 발생 - 파라미터 x에는 반드시 값(아규먼트)를 전달해야 하기 때문에\n",
        "fn_test(1)  #> 가변길이 인수 y에는 값을 전달하지 않아도 됨.\n",
        "fn_test(x=100)\n",
        "# fn_test(x=1, 2)  #> SyntaxError(문법 오류) 발생 - keyword argument는 positional argument보다 먼저 사용될 수 없음.\n",
        "# fn_test(x=1, y=(1, 2, 3))  #> TypeError - 가변길이 인수는 keyword 방식으로 전달할 수 없음!\n",
        "fn_test(1, 1, 2, 3, 4)"
      ],
      "metadata": {
        "colab": {
          "base_uri": "https://localhost:8080/"
        },
        "id": "Mnf1O3pHfyYk",
        "outputId": "1551c103-ddf9-462d-bac9-15aaf35e61ff"
      },
      "execution_count": 68,
      "outputs": [
        {
          "output_type": "stream",
          "name": "stdout",
          "text": [
            "x = 1\n",
            "y = ()\n",
            "x = 100\n",
            "y = ()\n",
            "x = 1\n",
            "y = (1, 2, 3, 4)\n"
          ]
        }
      ]
    },
    {
      "cell_type": "code",
      "source": [
        "def fn_error(*x, *y):\n",
        "    pass"
      ],
      "metadata": {
        "colab": {
          "base_uri": "https://localhost:8080/",
          "height": 124
        },
        "id": "628ykBpYip6D",
        "outputId": "80646bf9-d555-445d-c6b1-768cf0375b96"
      },
      "execution_count": 69,
      "outputs": [
        {
          "output_type": "error",
          "ename": "SyntaxError",
          "evalue": "* argument may appear only once (<ipython-input-69-5a59fb825e8a>, line 1)",
          "traceback": [
            "\u001b[0;36m  File \u001b[0;32m\"<ipython-input-69-5a59fb825e8a>\"\u001b[0;36m, line \u001b[0;32m1\u001b[0m\n\u001b[0;31m    def fn_error(*x, *y):\u001b[0m\n\u001b[0m                     ^\u001b[0m\n\u001b[0;31mSyntaxError\u001b[0m\u001b[0;31m:\u001b[0m * argument may appear only once\n"
          ]
        }
      ]
    },
    {
      "cell_type": "code",
      "source": [
        "def fn_test2(*args, x):\n",
        "    print('args =', args)\n",
        "    print('x =', x)"
      ],
      "metadata": {
        "id": "V9zovXOfiuP0"
      },
      "execution_count": 70,
      "outputs": []
    },
    {
      "cell_type": "code",
      "source": [
        "fn_test2(1, 2, 3, 4, 5)"
      ],
      "metadata": {
        "colab": {
          "base_uri": "https://localhost:8080/",
          "height": 168
        },
        "id": "PbkIt9DOjGD0",
        "outputId": "a2d19435-38b4-4f41-e5a1-2098416cd827"
      },
      "execution_count": 71,
      "outputs": [
        {
          "output_type": "error",
          "ename": "TypeError",
          "evalue": "fn_test2() missing 1 required keyword-only argument: 'x'",
          "traceback": [
            "\u001b[0;31m---------------------------------------------------------------------------\u001b[0m",
            "\u001b[0;31mTypeError\u001b[0m                                 Traceback (most recent call last)",
            "\u001b[0;32m<ipython-input-71-415b2aff1557>\u001b[0m in \u001b[0;36m<cell line: 0>\u001b[0;34m()\u001b[0m\n\u001b[0;32m----> 1\u001b[0;31m \u001b[0mfn_test2\u001b[0m\u001b[0;34m(\u001b[0m\u001b[0;36m1\u001b[0m\u001b[0;34m,\u001b[0m \u001b[0;36m2\u001b[0m\u001b[0;34m,\u001b[0m \u001b[0;36m3\u001b[0m\u001b[0;34m,\u001b[0m \u001b[0;36m4\u001b[0m\u001b[0;34m,\u001b[0m \u001b[0;36m5\u001b[0m\u001b[0;34m)\u001b[0m\u001b[0;34m\u001b[0m\u001b[0;34m\u001b[0m\u001b[0m\n\u001b[0m",
            "\u001b[0;31mTypeError\u001b[0m: fn_test2() missing 1 required keyword-only argument: 'x'"
          ]
        }
      ]
    },
    {
      "cell_type": "code",
      "source": [
        "fn_test2(1, 2, 3, 4, x=5)"
      ],
      "metadata": {
        "colab": {
          "base_uri": "https://localhost:8080/"
        },
        "id": "RgqJdQbKjjPj",
        "outputId": "3ab07f38-2e3a-4d3d-f77c-bff9ff9413e4"
      },
      "execution_count": 72,
      "outputs": [
        {
          "output_type": "stream",
          "name": "stdout",
          "text": [
            "args = (1, 2, 3, 4)\n",
            "x = 5\n"
          ]
        }
      ]
    },
    {
      "cell_type": "code",
      "source": [
        "print('a', 'b', 'c', sep=':')"
      ],
      "metadata": {
        "colab": {
          "base_uri": "https://localhost:8080/"
        },
        "id": "czvlhuOAj1HT",
        "outputId": "bf5c810e-1dda-4ff2-c4d3-61ab26dad415"
      },
      "execution_count": 74,
      "outputs": [
        {
          "output_type": "stream",
          "name": "stdout",
          "text": [
            "a:b:c\n"
          ]
        }
      ]
    },
    {
      "cell_type": "markdown",
      "source": [
        "## 연습문제"
      ],
      "metadata": {
        "id": "fOCEBhAckTED"
      }
    },
    {
      "cell_type": "code",
      "source": [
        "def calculate(*values, op):\n",
        "    \"\"\"\n",
        "    op가 '+'인 경우, values에 전달된 모든 숫자들의 합을 리턴. values가 없으면 0을 리턴.\n",
        "    (예) calculate(1, 2, 3, op='+') 호출하면 1+2+3을 리턴.\n",
        "    op가 '*'인 경우, values에 전달된 모든 숫자들의 곱을 리턴. values가 없으면 1을 리턴.\n",
        "    (예) calculate(1, 2, 3, op='*') 호출하면 1*2*3을 리턴.\n",
        "    op가 '+'도 아니고 '*'도 아닌 경우에는 ValueError를 발생(raise ValueError()).\n",
        "    \"\"\"\n",
        "    if op == '+':\n",
        "        result = 0\n",
        "        for x in values:\n",
        "            result += x\n",
        "    elif op == '*':\n",
        "        result = 1\n",
        "        for x in values:\n",
        "            result *= x\n",
        "    else:\n",
        "        raise ValueError(\"op의 값은 '+' 또는 '*'만 가능합니다.\")\n",
        "\n",
        "    return result"
      ],
      "metadata": {
        "id": "0Qasf4uRkWQ7"
      },
      "execution_count": 80,
      "outputs": []
    },
    {
      "cell_type": "code",
      "source": [
        "calculate(1, 2, 3, 4, 5, op='+')"
      ],
      "metadata": {
        "colab": {
          "base_uri": "https://localhost:8080/"
        },
        "id": "kzp4qQXXoB80",
        "outputId": "77afb389-153b-44fe-deb3-c0ddd86d1a0e"
      },
      "execution_count": 81,
      "outputs": [
        {
          "output_type": "execute_result",
          "data": {
            "text/plain": [
              "15"
            ]
          },
          "metadata": {},
          "execution_count": 81
        }
      ]
    },
    {
      "cell_type": "code",
      "source": [
        "calculate(1, 2, 3, 4, 5, op='*')"
      ],
      "metadata": {
        "colab": {
          "base_uri": "https://localhost:8080/"
        },
        "id": "FKgrWhrYoQYs",
        "outputId": "05f0f786-7b48-4e52-affa-52c4e8b6fb57"
      },
      "execution_count": 82,
      "outputs": [
        {
          "output_type": "execute_result",
          "data": {
            "text/plain": [
              "120"
            ]
          },
          "metadata": {},
          "execution_count": 82
        }
      ]
    },
    {
      "cell_type": "code",
      "source": [
        "calculate(1, 2, 3, op='/')"
      ],
      "metadata": {
        "colab": {
          "base_uri": "https://localhost:8080/",
          "height": 321
        },
        "id": "nAbHGOPIoYnD",
        "outputId": "796c5aed-0419-4b23-e894-97509b1e79b8"
      },
      "execution_count": 83,
      "outputs": [
        {
          "output_type": "error",
          "ename": "ValueError",
          "evalue": "op의 값은 '+' 또는 '*'만 가능합니다.",
          "traceback": [
            "\u001b[0;31m---------------------------------------------------------------------------\u001b[0m",
            "\u001b[0;31mValueError\u001b[0m                                Traceback (most recent call last)",
            "\u001b[0;32m<ipython-input-83-59ded1f1d256>\u001b[0m in \u001b[0;36m<cell line: 0>\u001b[0;34m()\u001b[0m\n\u001b[0;32m----> 1\u001b[0;31m \u001b[0mcalculate\u001b[0m\u001b[0;34m(\u001b[0m\u001b[0;36m1\u001b[0m\u001b[0;34m,\u001b[0m \u001b[0;36m2\u001b[0m\u001b[0;34m,\u001b[0m \u001b[0;36m3\u001b[0m\u001b[0;34m,\u001b[0m \u001b[0mop\u001b[0m\u001b[0;34m=\u001b[0m\u001b[0;34m'/'\u001b[0m\u001b[0;34m)\u001b[0m\u001b[0;34m\u001b[0m\u001b[0;34m\u001b[0m\u001b[0m\n\u001b[0m",
            "\u001b[0;32m<ipython-input-80-81ee4642bdac>\u001b[0m in \u001b[0;36mcalculate\u001b[0;34m(op, *values)\u001b[0m\n\u001b[1;32m     16\u001b[0m             \u001b[0mresult\u001b[0m \u001b[0;34m*=\u001b[0m \u001b[0mx\u001b[0m\u001b[0;34m\u001b[0m\u001b[0;34m\u001b[0m\u001b[0m\n\u001b[1;32m     17\u001b[0m     \u001b[0;32melse\u001b[0m\u001b[0;34m:\u001b[0m\u001b[0;34m\u001b[0m\u001b[0;34m\u001b[0m\u001b[0m\n\u001b[0;32m---> 18\u001b[0;31m         \u001b[0;32mraise\u001b[0m \u001b[0mValueError\u001b[0m\u001b[0;34m(\u001b[0m\u001b[0;34m\"op의 값은 '+' 또는 '*'만 가능합니다.\"\u001b[0m\u001b[0;34m)\u001b[0m\u001b[0;34m\u001b[0m\u001b[0;34m\u001b[0m\u001b[0m\n\u001b[0m\u001b[1;32m     19\u001b[0m \u001b[0;34m\u001b[0m\u001b[0m\n\u001b[1;32m     20\u001b[0m     \u001b[0;32mreturn\u001b[0m \u001b[0mresult\u001b[0m\u001b[0;34m\u001b[0m\u001b[0;34m\u001b[0m\u001b[0m\n",
            "\u001b[0;31mValueError\u001b[0m: op의 값은 '+' 또는 '*'만 가능합니다."
          ]
        }
      ]
    },
    {
      "cell_type": "markdown",
      "source": [
        "# Variable-Length Keyword Arguments(가변길이 키워드 인수)"
      ],
      "metadata": {
        "id": "ok-3rwATt1SE"
      }
    },
    {
      "cell_type": "markdown",
      "source": [
        "*   함수를 선언할 때 파라미터 이름 앞에 `**`를 사용함.\n",
        "*   함수를 호출할 때는 `param1=value1, param2=value2, ...`와 같은 형식으로 아규먼트들을 전달함.\n",
        "    *   가변길이 인수이기 때문에 전달하는 아규먼트 개수의 제한이 없음.\n",
        "    *   키워드 인수이기 때문에 반드시 키워드(파라미터 이름)과 함께 아규먼트를 전달해야 함.\n",
        "        *   키워드 이름은 자유롭게 만들 수 있음.\n",
        "*   함수 내부에서 가변길이 키워드 인수는 dict 타입 객체로 취급.\n",
        "    *   파라미터 이름이 dict의 키(key)가 됨.\n",
        "    *   아규먼트가 dict의 값(value)이 됨.\n",
        "*   가변길이 키워드 인수는 함수에서 오직 1개만 선언할 수 있음."
      ],
      "metadata": {
        "id": "k6H0AVl_uAEL"
      }
    },
    {
      "cell_type": "code",
      "source": [
        "def fn_test3(*args, **kwargs):\n",
        "    print('args =', args)  # 가변길이 인수 -> tuple\n",
        "    print('kwargs =', kwargs)  # 가변길이 키워드 인수 -> dict"
      ],
      "metadata": {
        "id": "qcgDFf6vvgub"
      },
      "execution_count": 84,
      "outputs": []
    },
    {
      "cell_type": "code",
      "source": [
        "fn_test3(1, 2, 'a', 'b', x=1, y=2, z='hello')"
      ],
      "metadata": {
        "colab": {
          "base_uri": "https://localhost:8080/"
        },
        "id": "udVz92lmv7GO",
        "outputId": "132795e3-44a4-4920-b940-85c21e77fdd0"
      },
      "execution_count": 85,
      "outputs": [
        {
          "output_type": "stream",
          "name": "stdout",
          "text": [
            "args = (1, 2, 'a', 'b')\n",
            "kwargs = {'x': 1, 'y': 2, 'z': 'hello'}\n"
          ]
        }
      ]
    },
    {
      "cell_type": "code",
      "source": [
        "def make_student_info(stu_no, stu_name, **kwargs):\n",
        "    student = {'no': stu_no, 'name': stu_name}\n",
        "    for k, v in kwargs.items():\n",
        "        # 가변길이 키워드 아규먼트들 중에서 키가 'email'이거나 'phone'인 경우에만 dict에 추가\n",
        "        if (k == 'email') or (k == 'phone'):\n",
        "            student[k] = v\n",
        "\n",
        "    return student"
      ],
      "metadata": {
        "id": "5I0LzjwiwGb7"
      },
      "execution_count": 86,
      "outputs": []
    },
    {
      "cell_type": "code",
      "source": [
        "make_student_info(1234, '홍길동')"
      ],
      "metadata": {
        "colab": {
          "base_uri": "https://localhost:8080/"
        },
        "id": "EkSRr-6yyJ_T",
        "outputId": "4e3b60e4-e04b-4748-fdc4-ad702964a0a1"
      },
      "execution_count": 87,
      "outputs": [
        {
          "output_type": "execute_result",
          "data": {
            "text/plain": [
              "{'no': 1234, 'name': '홍길동'}"
            ]
          },
          "metadata": {},
          "execution_count": 87
        }
      ]
    },
    {
      "cell_type": "code",
      "source": [
        "make_student_info(2233, '오쌤', phone='010-1111-2222', email='jake@itwill.com', gender='male', age=16)"
      ],
      "metadata": {
        "colab": {
          "base_uri": "https://localhost:8080/"
        },
        "id": "CBsUmhrgyPLD",
        "outputId": "bf702666-be81-4ea1-c3d4-6d7ea22b860c"
      },
      "execution_count": 88,
      "outputs": [
        {
          "output_type": "execute_result",
          "data": {
            "text/plain": [
              "{'no': 2233,\n",
              " 'name': '오쌤',\n",
              " 'phone': '010-1111-2222',\n",
              " 'email': 'jake@itwill.com'}"
            ]
          },
          "metadata": {},
          "execution_count": 88
        }
      ]
    }
  ]
}