{
  "nbformat": 4,
  "nbformat_minor": 0,
  "metadata": {
    "colab": {
      "provenance": [],
      "toc_visible": true,
      "authorship_tag": "ABX9TyOiv2SDFZA7C9+cwTTSbnRs",
      "include_colab_link": true
    },
    "kernelspec": {
      "name": "python3",
      "display_name": "Python 3"
    },
    "language_info": {
      "name": "python"
    }
  },
  "cells": [
    {
      "cell_type": "markdown",
      "metadata": {
        "id": "view-in-github",
        "colab_type": "text"
      },
      "source": [
        "<a href=\"https://colab.research.google.com/github/JakeOh/202504_itwill_oracle88/blob/main/python11.ipynb\" target=\"_parent\"><img src=\"https://colab.research.google.com/assets/colab-badge.svg\" alt=\"Open In Colab\"/></a>"
      ]
    },
    {
      "cell_type": "markdown",
      "source": [
        "# 함수(Function)"
      ],
      "metadata": {
        "id": "QGmhgJ9TzKiV"
      }
    },
    {
      "cell_type": "markdown",
      "source": [
        "*   **함수(function)**: 기능을 수행하는 코드 블록.\n",
        "*   **인수(argument)**: 함수가 기능을 수행하기 위해서 값이 필요한 경우, 함수를 호출할 때 함수에게 전달해 주는 값.\n",
        "*   **매개변수(parameter)**: 아규먼트를 저장하기 위해서, 함수를 정의할 때 선언하는 변수.\n",
        "*   **반환값(return value)**: 함수가 기능을 수행한 후에 그 결과로 함수를 호출한 곳에 되돌려 주는 값.\n",
        "    *   함수에 따라서 반환값이 있는 함수도 있고, 반환값이 없는 함수도 있음.\n",
        "        * 예: print() 함수는 반환값이 없음."
      ],
      "metadata": {
        "id": "yCpzaPpKzTQr"
      }
    },
    {
      "cell_type": "code",
      "execution_count": 1,
      "metadata": {
        "colab": {
          "base_uri": "https://localhost:8080/"
        },
        "id": "ii81DueAzIuC",
        "outputId": "1e0cdb70-38c8-4a92-c3fc-bcbab94ccaa1"
      },
      "outputs": [
        {
          "output_type": "stream",
          "name": "stdout",
          "text": [
            "6\n"
          ]
        }
      ],
      "source": [
        "result = len('안녕하세요.')\n",
        "print(result)\n",
        "\n",
        "# 함수 이름: len\n",
        "# argument: '안녕하세요.'\n",
        "# 함수 호출: len('안녕하세요.')\n",
        "# 반환값: 6"
      ]
    },
    {
      "cell_type": "markdown",
      "source": [
        "# 함수 선언(정의)"
      ],
      "metadata": {
        "id": "5qfwklYo3K1F"
      }
    },
    {
      "cell_type": "markdown",
      "source": [
        "```\n",
        "def function_name([parameter1, parameter2, ...]):\n",
        "    [\"\"\"문서화 주석(documentation comments): 함수에 대한 설명\"\"\"]\n",
        "    함수가 수행할 기능을 코드 블록으로 작성\n",
        "    [return 반환값]\n",
        "```"
      ],
      "metadata": {
        "id": "8lxGMEWo3P0k"
      }
    },
    {
      "cell_type": "code",
      "source": [
        "def subtract(x, y):\n",
        "    \"\"\"x - y를 리턴하는 함수\"\"\"\n",
        "    return x - y"
      ],
      "metadata": {
        "id": "Zwe3sLt64Oo8"
      },
      "execution_count": 2,
      "outputs": []
    },
    {
      "cell_type": "code",
      "source": [
        "# subtract() 함수를 호출.\n",
        "result = subtract(1, 2)\n",
        "print(result)"
      ],
      "metadata": {
        "colab": {
          "base_uri": "https://localhost:8080/"
        },
        "id": "8uukN_rl4uGD",
        "outputId": "90c429f4-7fce-4910-b620-f548bf918dd3"
      },
      "execution_count": 3,
      "outputs": [
        {
          "output_type": "stream",
          "name": "stdout",
          "text": [
            "-1\n"
          ]
        }
      ]
    },
    {
      "cell_type": "code",
      "source": [
        "print(subtract(2, 1))"
      ],
      "metadata": {
        "colab": {
          "base_uri": "https://localhost:8080/"
        },
        "id": "bKtADtOh5o00",
        "outputId": "270a2bb8-e57a-4119-851b-d291d9166fb2"
      },
      "execution_count": 4,
      "outputs": [
        {
          "output_type": "stream",
          "name": "stdout",
          "text": [
            "1\n"
          ]
        }
      ]
    },
    {
      "cell_type": "markdown",
      "source": [
        "## 값을 반환하지 않는 함수 선언"
      ],
      "metadata": {
        "id": "JiEkJOiK-KvD"
      }
    },
    {
      "cell_type": "code",
      "source": [
        "def repeat_message(msg, n):\n",
        "    \"\"\"\n",
        "    msg를 n번 반복해서 출력하는 함수.\n",
        "\n",
        "    @param msg - 출력할 메시지. 문자열 타입.\n",
        "    @param n - 출력할 횟수. 0 또는 양의 정수.\n",
        "    @return None\n",
        "    \"\"\"\n",
        "    for _ in range(n):\n",
        "        print(msg)\n",
        "\n",
        "    # return None  # return None 문장은 생략 가능."
      ],
      "metadata": {
        "id": "6i_CVy-t-Wmt"
      },
      "execution_count": 8,
      "outputs": []
    },
    {
      "cell_type": "code",
      "source": [
        "repeat_message('안녕하세요', 3)"
      ],
      "metadata": {
        "colab": {
          "base_uri": "https://localhost:8080/"
        },
        "id": "AgvacWVOAaC2",
        "outputId": "d4d493db-9aeb-4d26-eaf5-75f5df9691ae"
      },
      "execution_count": 9,
      "outputs": [
        {
          "output_type": "stream",
          "name": "stdout",
          "text": [
            "안녕하세요\n",
            "안녕하세요\n",
            "안녕하세요\n"
          ]
        }
      ]
    },
    {
      "cell_type": "code",
      "source": [
        "repeat_message('Hello, Python!', 5)"
      ],
      "metadata": {
        "colab": {
          "base_uri": "https://localhost:8080/"
        },
        "id": "aWbC8IvXA1Rk",
        "outputId": "20c40030-ec79-4ba8-cea9-d2c8fa6efa7d"
      },
      "execution_count": 10,
      "outputs": [
        {
          "output_type": "stream",
          "name": "stdout",
          "text": [
            "Hello, Python!\n",
            "Hello, Python!\n",
            "Hello, Python!\n",
            "Hello, Python!\n",
            "Hello, Python!\n"
          ]
        }
      ]
    },
    {
      "cell_type": "markdown",
      "source": [
        "## 2개 이상의 값을 반환하는 함수 선언"
      ],
      "metadata": {
        "id": "Mty0QS38Bif7"
      }
    },
    {
      "cell_type": "code",
      "source": [
        "def plus_and_minus(x, y):\n",
        "    \"\"\"\n",
        "    두 숫자들의 덧셈과 뺄셈 결과를 반환하는 함수.\n",
        "\n",
        "    @param x: 숫자 타입(int 또는 float).\n",
        "    @param y: 숫자 타입(int 또는 float).\n",
        "    @return x + y, x - y\n",
        "    \"\"\"\n",
        "    return x + y, x - y"
      ],
      "metadata": {
        "id": "IElPC8h2BnYl"
      },
      "execution_count": 17,
      "outputs": []
    },
    {
      "cell_type": "code",
      "source": [
        "a, b = plus_and_minus(1, 2)\n",
        "print(a, b)"
      ],
      "metadata": {
        "colab": {
          "base_uri": "https://localhost:8080/"
        },
        "id": "VwGB3ezJC3fM",
        "outputId": "4e4dcfeb-5266-432c-9720-50161284f296"
      },
      "execution_count": 18,
      "outputs": [
        {
          "output_type": "stream",
          "name": "stdout",
          "text": [
            "3 -1\n"
          ]
        }
      ]
    },
    {
      "cell_type": "code",
      "source": [
        "result = plus_and_minus(1, 2)  # 리턴값들을 아이템으로 갖는 tuple이 저장됨.\n",
        "print(result)"
      ],
      "metadata": {
        "colab": {
          "base_uri": "https://localhost:8080/"
        },
        "id": "3jzfKO2VDi08",
        "outputId": "35478a02-948a-4a9f-d18d-102712a1f3f8"
      },
      "execution_count": 19,
      "outputs": [
        {
          "output_type": "stream",
          "name": "stdout",
          "text": [
            "(3, -1)\n"
          ]
        }
      ]
    }
  ]
}