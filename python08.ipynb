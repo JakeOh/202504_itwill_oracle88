{
  "nbformat": 4,
  "nbformat_minor": 0,
  "metadata": {
    "colab": {
      "provenance": [],
      "toc_visible": true,
      "authorship_tag": "ABX9TyM9wlWb7VfqZyC3e0avYbne",
      "include_colab_link": true
    },
    "kernelspec": {
      "name": "python3",
      "display_name": "Python 3"
    },
    "language_info": {
      "name": "python"
    }
  },
  "cells": [
    {
      "cell_type": "markdown",
      "metadata": {
        "id": "view-in-github",
        "colab_type": "text"
      },
      "source": [
        "<a href=\"https://colab.research.google.com/github/JakeOh/202504_itwill_oracle88/blob/main/python08.ipynb\" target=\"_parent\"><img src=\"https://colab.research.google.com/assets/colab-badge.svg\" alt=\"Open In Colab\"/></a>"
      ]
    },
    {
      "cell_type": "code",
      "source": [
        "import random"
      ],
      "metadata": {
        "id": "EoV6zYjjlqPy"
      },
      "execution_count": null,
      "outputs": []
    },
    {
      "cell_type": "markdown",
      "source": [
        "# Ex 1."
      ],
      "metadata": {
        "id": "XMwQ_XF0lZ3S"
      }
    },
    {
      "cell_type": "markdown",
      "source": [
        "아래의 리스트 fruits에 저장된 문자열들의 길이를 저장하는 리스트를 만들고 출력하세요."
      ],
      "metadata": {
        "id": "NoReyufVldGh"
      }
    },
    {
      "cell_type": "code",
      "execution_count": null,
      "metadata": {
        "id": "cypI6FxklXbF"
      },
      "outputs": [],
      "source": [
        "fruits = ['apple', 'banana', 'cherry', 'durian', 'watermellon']"
      ]
    },
    {
      "cell_type": "markdown",
      "source": [
        "# Ex 2."
      ],
      "metadata": {
        "id": "0N4g8MUGlsBR"
      }
    },
    {
      "cell_type": "markdown",
      "source": [
        "*   1 이상 4 이하 범위의 난수 10개를 저장하는 리스트 gender_codes를 만들고 출력하세요.\n",
        "*   gender_codes의 값이 1 또는 3이면 'Male', 2 또는 4이면 'Female'을 저장하는 리스트 genders를 만들고 출력하세요."
      ],
      "metadata": {
        "id": "R1pj0AvdluCh"
      }
    },
    {
      "cell_type": "code",
      "source": [],
      "metadata": {
        "id": "Hn3WiZIBmPn6"
      },
      "execution_count": null,
      "outputs": []
    },
    {
      "cell_type": "markdown",
      "source": [
        "# Ex 3."
      ],
      "metadata": {
        "id": "CcYep2AYmOyi"
      }
    },
    {
      "cell_type": "markdown",
      "source": [
        "아래의 두 2차원 리스트 m1, m2에서 같은 인덱스에 있는 원소들끼리의 덧셈 결과를 저장하는 리스트를 만들고 출력하세요."
      ],
      "metadata": {
        "id": "_cfVO27NnlCS"
      }
    },
    {
      "cell_type": "code",
      "source": [
        "m1 = [\n",
        "    [1, 2, 3],\n",
        "    [4, 5, 6]\n",
        "]\n",
        "m2 = [\n",
        "    [1, 1, 1],\n",
        "    [2, 2, 2]\n",
        "]"
      ],
      "metadata": {
        "id": "n8XSLm5Pnxvq"
      },
      "execution_count": null,
      "outputs": []
    }
  ]
}