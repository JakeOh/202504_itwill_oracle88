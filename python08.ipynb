{
  "nbformat": 4,
  "nbformat_minor": 0,
  "metadata": {
    "colab": {
      "provenance": [],
      "toc_visible": true,
      "authorship_tag": "ABX9TyOz9vX7OM3dNu+6ZsdldHEp",
      "include_colab_link": true
    },
    "kernelspec": {
      "name": "python3",
      "display_name": "Python 3"
    },
    "language_info": {
      "name": "python"
    }
  },
  "cells": [
    {
      "cell_type": "markdown",
      "metadata": {
        "id": "view-in-github",
        "colab_type": "text"
      },
      "source": [
        "<a href=\"https://colab.research.google.com/github/JakeOh/202504_itwill_oracle88/blob/main/python08.ipynb\" target=\"_parent\"><img src=\"https://colab.research.google.com/assets/colab-badge.svg\" alt=\"Open In Colab\"/></a>"
      ]
    },
    {
      "cell_type": "code",
      "source": [
        "import random  # 난수 생성 함수(들)을 사용하기 위해서(random.randrange, ...)\n",
        "import math  # 수학 함수(들)을 사용하기 위해서(math.sqrt, ...)"
      ],
      "metadata": {
        "id": "EoV6zYjjlqPy"
      },
      "execution_count": 1,
      "outputs": []
    },
    {
      "cell_type": "markdown",
      "source": [
        "# Ex 1."
      ],
      "metadata": {
        "id": "XMwQ_XF0lZ3S"
      }
    },
    {
      "cell_type": "markdown",
      "source": [
        "아래의 리스트 fruits에 저장된 문자열들의 길이를 저장하는 리스트를 만들고 출력하세요."
      ],
      "metadata": {
        "id": "NoReyufVldGh"
      }
    },
    {
      "cell_type": "code",
      "execution_count": null,
      "metadata": {
        "colab": {
          "base_uri": "https://localhost:8080/"
        },
        "id": "cypI6FxklXbF",
        "outputId": "37ca4c6a-3b45-4c20-f021-ca672ecb1877"
      },
      "outputs": [
        {
          "output_type": "stream",
          "name": "stdout",
          "text": [
            "[5, 6, 6, 6, 11]\n"
          ]
        }
      ],
      "source": [
        "fruits = ['apple', 'banana', 'cherry', 'durian', 'watermellon']\n",
        "\n",
        "# lengths = []\n",
        "# for x in fruits:\n",
        "#     lengths.append(len(x))\n",
        "\n",
        "lengths = [len(x) for x in fruits]\n",
        "print(lengths)"
      ]
    },
    {
      "cell_type": "markdown",
      "source": [
        "# Ex 2."
      ],
      "metadata": {
        "id": "0N4g8MUGlsBR"
      }
    },
    {
      "cell_type": "markdown",
      "source": [
        "*   1 이상 4 이하 범위의 정수 난수 10개를 저장하는 리스트 gender_codes를 만들고 출력하세요.\n",
        "*   gender_codes의 값이 1 또는 3이면 'Male', 2 또는 4이면 'Female'을 저장하는 리스트 genders를 만들고 출력하세요."
      ],
      "metadata": {
        "id": "R1pj0AvdluCh"
      }
    },
    {
      "cell_type": "code",
      "source": [
        "gender_codes = [random.randrange(1, 5) for _ in range(10)]\n",
        "print(gender_codes)\n",
        "\n",
        "genders = ['Male' if x == 1 or x == 3 else 'Female' for x in gender_codes]\n",
        "print(genders)"
      ],
      "metadata": {
        "colab": {
          "base_uri": "https://localhost:8080/"
        },
        "id": "Hn3WiZIBmPn6",
        "outputId": "72479218-1cfb-4186-d90c-a3a4a8dbf819"
      },
      "execution_count": 4,
      "outputs": [
        {
          "output_type": "stream",
          "name": "stdout",
          "text": [
            "[3, 1, 1, 2, 2, 3, 1, 4, 2, 4]\n",
            "['Male', 'Male', 'Male', 'Female', 'Female', 'Male', 'Male', 'Female', 'Female', 'Female']\n"
          ]
        }
      ]
    },
    {
      "cell_type": "markdown",
      "source": [
        "# Ex 3."
      ],
      "metadata": {
        "id": "CcYep2AYmOyi"
      }
    },
    {
      "cell_type": "markdown",
      "source": [
        "아래의 두 2차원 리스트 m1, m2에서 같은 인덱스에 있는 원소들끼리의 덧셈 결과를 저장하는 리스트를 만들고 출력하세요."
      ],
      "metadata": {
        "id": "_cfVO27NnlCS"
      }
    },
    {
      "cell_type": "code",
      "source": [
        "m1 = [\n",
        "    [1, 2, 3],\n",
        "    [4, 5, 6]\n",
        "]\n",
        "m2 = [\n",
        "    [1, 1, 1],\n",
        "    [2, 2, 2]\n",
        "]\n",
        "\n",
        "result = []\n",
        "for row1, row2 in zip(m1, m2):\n",
        "    row_plus = []\n",
        "    for x, y in zip(row1, row2):\n",
        "        row_plus.append(x + y)\n",
        "    result.append(row_plus)\n",
        "\n",
        "print(result)"
      ],
      "metadata": {
        "colab": {
          "base_uri": "https://localhost:8080/"
        },
        "id": "n8XSLm5Pnxvq",
        "outputId": "99db4afd-de0b-4ebc-9e3f-bd533f118b50"
      },
      "execution_count": 5,
      "outputs": [
        {
          "output_type": "stream",
          "name": "stdout",
          "text": [
            "[[2, 3, 4], [6, 7, 8]]\n"
          ]
        }
      ]
    },
    {
      "cell_type": "code",
      "source": [
        "result = []\n",
        "for row1, row2 in zip(m1, m2):\n",
        "    row_plus = [x + y for x, y in zip(row1, row2)]\n",
        "    result.append(row_plus)\n",
        "\n",
        "print(result)"
      ],
      "metadata": {
        "colab": {
          "base_uri": "https://localhost:8080/"
        },
        "id": "8bCiazibT24Y",
        "outputId": "7e69830f-fdb1-4a17-b024-e5bf08516211"
      },
      "execution_count": 6,
      "outputs": [
        {
          "output_type": "stream",
          "name": "stdout",
          "text": [
            "[[2, 3, 4], [6, 7, 8]]\n"
          ]
        }
      ]
    },
    {
      "cell_type": "code",
      "source": [
        "result = [[x + y for x, y in zip(row1, row2)]\n",
        "          for row1, row2 in zip(m1, m2)]\n",
        "print(result)"
      ],
      "metadata": {
        "colab": {
          "base_uri": "https://localhost:8080/"
        },
        "id": "TGOeno4pU0QY",
        "outputId": "12483b19-4a82-441f-a97a-6b6f638a97f2"
      },
      "execution_count": 8,
      "outputs": [
        {
          "output_type": "stream",
          "name": "stdout",
          "text": [
            "[[2, 3, 4], [6, 7, 8]]\n"
          ]
        }
      ]
    },
    {
      "cell_type": "markdown",
      "source": [
        "# Ex 4."
      ],
      "metadata": {
        "id": "9ADGAFDhoqda"
      }
    },
    {
      "cell_type": "markdown",
      "source": [
        "1 이상 10 이하의 정수 5개를 저장하는 리스트 scores를 만들고 출력하세요."
      ],
      "metadata": {
        "id": "BshTKTlho-m6"
      }
    },
    {
      "cell_type": "code",
      "source": [
        "num_of_items = 5"
      ],
      "metadata": {
        "id": "4CIAQOwypU25"
      },
      "execution_count": 9,
      "outputs": []
    },
    {
      "cell_type": "code",
      "source": [
        "scores = [random.randrange(1, 11) for _ in range(num_of_items)]\n",
        "print(scores)"
      ],
      "metadata": {
        "id": "DRL8pZf6paRh",
        "colab": {
          "base_uri": "https://localhost:8080/"
        },
        "outputId": "9165212d-6c70-4e53-db58-4b5e72ff927d"
      },
      "execution_count": 12,
      "outputs": [
        {
          "output_type": "stream",
          "name": "stdout",
          "text": [
            "[1, 2, 2, 2, 8]\n"
          ]
        }
      ]
    },
    {
      "cell_type": "markdown",
      "source": [
        "# Ex 5."
      ],
      "metadata": {
        "id": "WKj2TF59pax5"
      }
    },
    {
      "cell_type": "markdown",
      "source": [
        "문제 4에서 만든 리스트 scores의 원소들의 합계를 계산하고 출력하세요."
      ],
      "metadata": {
        "id": "nVoQNnB6pct6"
      }
    },
    {
      "cell_type": "code",
      "source": [
        "total = sum(scores)\n",
        "print(total)"
      ],
      "metadata": {
        "colab": {
          "base_uri": "https://localhost:8080/"
        },
        "id": "viZcl8DFXqLY",
        "outputId": "d5022ea6-bc76-4644-d4c6-dc8247a46ed1"
      },
      "execution_count": 13,
      "outputs": [
        {
          "output_type": "stream",
          "name": "stdout",
          "text": [
            "15\n"
          ]
        }
      ]
    },
    {
      "cell_type": "code",
      "source": [
        "total = 0\n",
        "for x in scores:\n",
        "    total += x\n",
        "\n",
        "print(total)"
      ],
      "metadata": {
        "colab": {
          "base_uri": "https://localhost:8080/"
        },
        "id": "iv5rxutoZPkf",
        "outputId": "27049237-bc96-4991-9a78-bc5d227a1289"
      },
      "execution_count": 14,
      "outputs": [
        {
          "output_type": "stream",
          "name": "stdout",
          "text": [
            "15\n"
          ]
        }
      ]
    },
    {
      "cell_type": "markdown",
      "source": [
        "# Ex 6."
      ],
      "metadata": {
        "id": "Av1AzieoppsB"
      }
    },
    {
      "cell_type": "markdown",
      "source": [
        "문제 4에서 만든 리스트 scores의 원소들의 평균을 계산하고 출력하세요."
      ],
      "metadata": {
        "id": "9irHsQy_prR6"
      }
    },
    {
      "cell_type": "code",
      "source": [
        "mean = total / num_of_items\n",
        "print(mean)"
      ],
      "metadata": {
        "colab": {
          "base_uri": "https://localhost:8080/"
        },
        "id": "kbtF4ifReUov",
        "outputId": "b6b677bd-a418-4d87-db40-be13b38e577c"
      },
      "execution_count": 15,
      "outputs": [
        {
          "output_type": "stream",
          "name": "stdout",
          "text": [
            "3.0\n"
          ]
        }
      ]
    },
    {
      "cell_type": "markdown",
      "source": [
        "# Ex 7."
      ],
      "metadata": {
        "id": "DTi3Fn3bpyvK"
      }
    },
    {
      "cell_type": "markdown",
      "source": [
        "문제 4에서 만든 리스트 scores의 원소들의 분산을 계산하고 출력하세요."
      ],
      "metadata": {
        "id": "VD0spRtKp1d5"
      }
    },
    {
      "cell_type": "code",
      "source": [
        "# variations = []\n",
        "# for x in scores:\n",
        "#     variations.append((x - mean) ** 2)\n",
        "\n",
        "variations = [(x - mean) ** 2 for x in scores]\n",
        "print(variations)\n",
        "\n",
        "var = sum(variations) / (num_of_items - 1)\n",
        "print(var)"
      ],
      "metadata": {
        "colab": {
          "base_uri": "https://localhost:8080/"
        },
        "id": "tozz7hzIeiG_",
        "outputId": "65aab264-782d-4379-cbf5-9d57bc439188"
      },
      "execution_count": 18,
      "outputs": [
        {
          "output_type": "stream",
          "name": "stdout",
          "text": [
            "[4.0, 1.0, 1.0, 1.0, 25.0]\n",
            "8.0\n"
          ]
        }
      ]
    },
    {
      "cell_type": "markdown",
      "source": [
        "# Ex 8."
      ],
      "metadata": {
        "id": "-7UX7XLDp61B"
      }
    },
    {
      "cell_type": "markdown",
      "source": [
        "문제 4에서 만든 리스트 scores의 원소들의 표준편차를 계산하고 출력하세요."
      ],
      "metadata": {
        "id": "gcbwn_0Mp9ey"
      }
    },
    {
      "cell_type": "code",
      "source": [
        "std = math.sqrt(var)\n",
        "print(std)"
      ],
      "metadata": {
        "colab": {
          "base_uri": "https://localhost:8080/"
        },
        "id": "XNd8H2ZkhTfX",
        "outputId": "80ac7039-7aba-415e-b331-e57677cb23d2"
      },
      "execution_count": 19,
      "outputs": [
        {
          "output_type": "stream",
          "name": "stdout",
          "text": [
            "2.8284271247461903\n"
          ]
        }
      ]
    },
    {
      "cell_type": "markdown",
      "source": [
        "# Ex 9."
      ],
      "metadata": {
        "id": "RKvJyoUCqBxJ"
      }
    },
    {
      "cell_type": "markdown",
      "source": [
        "문제 4에서 만든 리스트 scores에서 최댓값을 찾고 출력하세요."
      ],
      "metadata": {
        "id": "iCMpTC7TqExZ"
      }
    },
    {
      "cell_type": "code",
      "source": [
        "max(scores)"
      ],
      "metadata": {
        "colab": {
          "base_uri": "https://localhost:8080/"
        },
        "id": "0y8deZ2nhjeo",
        "outputId": "c9722649-e71a-4777-a20c-2b4f82e5f3a1"
      },
      "execution_count": 20,
      "outputs": [
        {
          "output_type": "execute_result",
          "data": {
            "text/plain": [
              "8"
            ]
          },
          "metadata": {},
          "execution_count": 20
        }
      ]
    },
    {
      "cell_type": "code",
      "source": [
        "max_scores = scores[0]  # 리스트의 첫번째 값을 최댓값이라고 가정\n",
        "for x in scores:  # 리스트의 모든 원소들을 처음부터 끝까지 순서대로 반복하면서\n",
        "    if x > max_scores:  # 리스트의 원소가 최댓값으로 가정한 값보다 크다면\n",
        "        max_scores = x  # 리스트에서 찾은 값을 최댓값에 저장.\n",
        "\n",
        "print(max_scores)"
      ],
      "metadata": {
        "colab": {
          "base_uri": "https://localhost:8080/"
        },
        "id": "j2Zx5gYeh6gx",
        "outputId": "0b9ba4c4-5d76-4821-939c-4582629fbe33"
      },
      "execution_count": 22,
      "outputs": [
        {
          "output_type": "stream",
          "name": "stdout",
          "text": [
            "8\n"
          ]
        }
      ]
    },
    {
      "cell_type": "markdown",
      "source": [
        "# EX 10."
      ],
      "metadata": {
        "id": "O9lTHRtEqKYi"
      }
    },
    {
      "cell_type": "markdown",
      "source": [
        "문제 4에서 만든 리스트 scores에서 최솟값을 찾고 출력하세요."
      ],
      "metadata": {
        "id": "pnuj0iCjqMb5"
      }
    },
    {
      "cell_type": "code",
      "source": [
        "min(scores)"
      ],
      "metadata": {
        "colab": {
          "base_uri": "https://localhost:8080/"
        },
        "id": "q_203azNhziH",
        "outputId": "019091e2-b411-4098-e50b-86195c21de9f"
      },
      "execution_count": 21,
      "outputs": [
        {
          "output_type": "execute_result",
          "data": {
            "text/plain": [
              "1"
            ]
          },
          "metadata": {},
          "execution_count": 21
        }
      ]
    },
    {
      "cell_type": "code",
      "source": [
        "min_scores = scores[0]  # 리스트 scores의 첫번째 원소를 최솟값이라고 가정\n",
        "for x in scores:\n",
        "    min_scores = x if x < min_scores else min_scores\n",
        "\n",
        "print(min_scores)"
      ],
      "metadata": {
        "colab": {
          "base_uri": "https://localhost:8080/"
        },
        "id": "TLKxgX42kPRg",
        "outputId": "b7459b4d-adf7-4078-f9f7-77c4c89c671d"
      },
      "execution_count": 23,
      "outputs": [
        {
          "output_type": "stream",
          "name": "stdout",
          "text": [
            "1\n"
          ]
        }
      ]
    },
    {
      "cell_type": "markdown",
      "source": [
        "*   리스트의 모든 원소의 합계\n",
        "\n",
        "$$\n",
        "sum = \\sum_{i = 1}^{n} x_i = x_1 + x_2 + ... + x_n\n",
        "$$\n",
        "\n",
        "*   리스트의 모든 원소의 평균(mean)\n",
        "\n",
        "$$\n",
        "\\bar{x} = \\frac{1}{n} \\sum_{i = 1}^{n} x_i\n",
        "$$\n",
        "\n",
        "*   리스트의 모든 원소의 분산(variance)\n",
        "\n",
        "$$\n",
        "var = \\frac{1}{n - 1} \\sum_{i = 1}^{n} (x_i - \\bar{x})^2\n",
        "$$\n",
        "\n",
        "*   리스트의 모든 원소의 표준편차(standard deviation)\n",
        "\n",
        "$$\n",
        "std = \\sqrt{var}\n",
        "    = \\sqrt{\\frac{1}{n - 1} \\sum_{i = 1}^{n} (x_i - \\bar{x})^2}\n",
        "$$"
      ],
      "metadata": {
        "id": "CstD7iN8qOwJ"
      }
    }
  ]
}