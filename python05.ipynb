{
  "nbformat": 4,
  "nbformat_minor": 0,
  "metadata": {
    "colab": {
      "provenance": [],
      "toc_visible": true,
      "authorship_tag": "ABX9TyNJLe/a6L0nfx/Ya1rSacMV",
      "include_colab_link": true
    },
    "kernelspec": {
      "name": "python3",
      "display_name": "Python 3"
    },
    "language_info": {
      "name": "python"
    }
  },
  "cells": [
    {
      "cell_type": "markdown",
      "metadata": {
        "id": "view-in-github",
        "colab_type": "text"
      },
      "source": [
        "<a href=\"https://colab.research.google.com/github/JakeOh/202504_itwill_oracle88/blob/main/python05.ipynb\" target=\"_parent\"><img src=\"https://colab.research.google.com/assets/colab-badge.svg\" alt=\"Open In Colab\"/></a>"
      ]
    },
    {
      "cell_type": "markdown",
      "source": [
        "# for 반복문"
      ],
      "metadata": {
        "id": "DJ2nEw3sKH0j"
      }
    },
    {
      "cell_type": "markdown",
      "source": [
        "## 문법"
      ],
      "metadata": {
        "id": "Z5-d_JaZKMTq"
      }
    },
    {
      "cell_type": "markdown",
      "source": [
        "```\n",
        "for 변수 in iterable-type:\n",
        "    반복해서 실행할 코드 블록\n",
        "```\n",
        "\n",
        "*   iterable-type: 반복(iteration)이 가능한 데이터 타입.\n",
        "    *   str(문자열), range, list, tuple, dict, ...\n",
        "*   for 반복문은 iterable-type의 객체에서 원소들을 하나씩 순서대로 꺼내서 변수에 저장하고, 코드 블록을 수행.\n",
        "*   for 반복문은 iterable-type이 객체에서 더이상 꺼낼 원소가 없을 때 반복을 종료."
      ],
      "metadata": {
        "id": "rkPxwKJ4KPva"
      }
    },
    {
      "cell_type": "code",
      "execution_count": 1,
      "metadata": {
        "colab": {
          "base_uri": "https://localhost:8080/"
        },
        "id": "FcF_ck1XJ9Wj",
        "outputId": "30b5a45a-f75a-423a-d1af-8372b2afca90"
      },
      "outputs": [
        {
          "output_type": "stream",
          "name": "stdout",
          "text": [
            "안\n",
            "녕\n",
            "하\n",
            "세\n",
            "요\n",
            "!\n"
          ]
        }
      ],
      "source": [
        "for x in '안녕하세요!':\n",
        "    print(x)"
      ]
    },
    {
      "cell_type": "markdown",
      "source": [
        "## `range()` 함수와 for 반복문"
      ],
      "metadata": {
        "id": "7GxKnsjyMv3y"
      }
    },
    {
      "cell_type": "code",
      "source": [
        "# range(start, stop): iteration할 때마다 start <= x < stop 범위의 1씩 증가하는 정수를 생성함.\n",
        "for x in range(1, 6):\n",
        "    print(x)"
      ],
      "metadata": {
        "colab": {
          "base_uri": "https://localhost:8080/"
        },
        "id": "-HLt2zT2M5my",
        "outputId": "c905b1db-4561-42dc-9f47-0494a7149a8a"
      },
      "execution_count": 2,
      "outputs": [
        {
          "output_type": "stream",
          "name": "stdout",
          "text": [
            "1\n",
            "2\n",
            "3\n",
            "4\n",
            "5\n"
          ]
        }
      ]
    },
    {
      "cell_type": "code",
      "source": [
        "# range(stop): iteration을 할 때마다 0 <= x < stop 범위의 1씩 증가하는 정수를 생성함.\n",
        "for x in range(5):\n",
        "    print(x)"
      ],
      "metadata": {
        "colab": {
          "base_uri": "https://localhost:8080/"
        },
        "id": "xRwxxHwWNfeU",
        "outputId": "c152752d-2e69-433e-c802-3e97eefce347"
      },
      "execution_count": 3,
      "outputs": [
        {
          "output_type": "stream",
          "name": "stdout",
          "text": [
            "0\n",
            "1\n",
            "2\n",
            "3\n",
            "4\n"
          ]
        }
      ]
    },
    {
      "cell_type": "code",
      "source": [
        "# range(start, stop, step): step이 양수인 경우, start <= x < stop 범위의 step 만큼씩 증가하는 정수를 생성함.\n",
        "for x in range(0, 10, 2):\n",
        "    print(x)"
      ],
      "metadata": {
        "colab": {
          "base_uri": "https://localhost:8080/"
        },
        "id": "rJUGDqG1OqT1",
        "outputId": "32d39bb1-65e7-4f22-9c0a-de02ef0fc229"
      },
      "execution_count": 4,
      "outputs": [
        {
          "output_type": "stream",
          "name": "stdout",
          "text": [
            "0\n",
            "2\n",
            "4\n",
            "6\n",
            "8\n"
          ]
        }
      ]
    },
    {
      "cell_type": "code",
      "source": [
        "# range(start, stop, step): step이 음수인 경우, start >= x > stop 범위의 step 만큼씩 감소하는 정수를 생성함.\n",
        "for x in range(5, 0, -1):\n",
        "    print(x)"
      ],
      "metadata": {
        "colab": {
          "base_uri": "https://localhost:8080/"
        },
        "id": "3fmazDa2PnbO",
        "outputId": "47cac017-4cfd-43ad-e1fd-9d59fa830112"
      },
      "execution_count": 6,
      "outputs": [
        {
          "output_type": "stream",
          "name": "stdout",
          "text": [
            "5\n",
            "4\n",
            "3\n",
            "2\n",
            "1\n"
          ]
        }
      ]
    },
    {
      "cell_type": "markdown",
      "source": [
        "1 이상 10 미만의 홀수들을 내림차순으로 출력: 9 7 5 3 1"
      ],
      "metadata": {
        "id": "has8peBqQ26T"
      }
    },
    {
      "cell_type": "code",
      "source": [
        "for x in range(9, 0, -2):\n",
        "    print(x)"
      ],
      "metadata": {
        "colab": {
          "base_uri": "https://localhost:8080/"
        },
        "id": "qt46qf7bRApq",
        "outputId": "993bc9d2-5c27-49d5-e76e-52ad7a8f3812"
      },
      "execution_count": 7,
      "outputs": [
        {
          "output_type": "stream",
          "name": "stdout",
          "text": [
            "9\n",
            "7\n",
            "5\n",
            "3\n",
            "1\n"
          ]
        }
      ]
    },
    {
      "cell_type": "markdown",
      "source": [
        "아래와 같이 출력하세요.\n",
        "```\n",
        "*\n",
        "**\n",
        "***\n",
        "****\n",
        "*****\n",
        "```"
      ],
      "metadata": {
        "id": "5Ct4V-51RlLy"
      }
    },
    {
      "cell_type": "code",
      "source": [
        "for n in range(1, 6):\n",
        "    print('*' * n)"
      ],
      "metadata": {
        "colab": {
          "base_uri": "https://localhost:8080/"
        },
        "id": "cQt9g46eRbRN",
        "outputId": "a17529fc-4d5c-430c-a9f2-d701f6ef9937"
      },
      "execution_count": 8,
      "outputs": [
        {
          "output_type": "stream",
          "name": "stdout",
          "text": [
            "*\n",
            "**\n",
            "***\n",
            "****\n",
            "*****\n"
          ]
        }
      ]
    },
    {
      "cell_type": "markdown",
      "source": [
        "아래와 같이 출력하세요.\n",
        "```\n",
        "*****\n",
        "****\n",
        "***\n",
        "**\n",
        "*\n",
        "```"
      ],
      "metadata": {
        "id": "2FqEhXmzR-4j"
      }
    },
    {
      "cell_type": "code",
      "source": [
        "for n in range(5, 0, -1):\n",
        "    print('*' * n)"
      ],
      "metadata": {
        "colab": {
          "base_uri": "https://localhost:8080/"
        },
        "id": "RBfLoRnTSFRa",
        "outputId": "a38ec526-9d5b-40de-ad3a-4d5a02cc702b"
      },
      "execution_count": 9,
      "outputs": [
        {
          "output_type": "stream",
          "name": "stdout",
          "text": [
            "*****\n",
            "****\n",
            "***\n",
            "**\n",
            "*\n"
          ]
        }
      ]
    }
  ]
}