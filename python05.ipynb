{
  "nbformat": 4,
  "nbformat_minor": 0,
  "metadata": {
    "colab": {
      "provenance": [],
      "toc_visible": true,
      "authorship_tag": "ABX9TyNe4In3pVk8Ugbo6qmtmIrV",
      "include_colab_link": true
    },
    "kernelspec": {
      "name": "python3",
      "display_name": "Python 3"
    },
    "language_info": {
      "name": "python"
    }
  },
  "cells": [
    {
      "cell_type": "markdown",
      "metadata": {
        "id": "view-in-github",
        "colab_type": "text"
      },
      "source": [
        "<a href=\"https://colab.research.google.com/github/JakeOh/202504_itwill_oracle88/blob/main/python05.ipynb\" target=\"_parent\"><img src=\"https://colab.research.google.com/assets/colab-badge.svg\" alt=\"Open In Colab\"/></a>"
      ]
    },
    {
      "cell_type": "markdown",
      "source": [
        "# for 반복문"
      ],
      "metadata": {
        "id": "DJ2nEw3sKH0j"
      }
    },
    {
      "cell_type": "markdown",
      "source": [
        "## 문법"
      ],
      "metadata": {
        "id": "Z5-d_JaZKMTq"
      }
    },
    {
      "cell_type": "markdown",
      "source": [
        "```\n",
        "for 변수 in iterable-type:\n",
        "    반복해서 실행할 코드 블록\n",
        "```\n",
        "\n",
        "*   iterable-type: 반복(iteration)이 가능한 데이터 타입.\n",
        "    *   str(문자열), range, list, tuple, dict, ...\n",
        "*   for 반복문은 iterable-type의 객체에서 원소들을 하나씩 순서대로 꺼내서 변수에 저장하고, 코드 블록을 수행.\n",
        "*   for 반복문은 iterable-type이 객체에서 더이상 꺼낼 원소가 없을 때 반복을 종료."
      ],
      "metadata": {
        "id": "rkPxwKJ4KPva"
      }
    },
    {
      "cell_type": "code",
      "execution_count": 1,
      "metadata": {
        "colab": {
          "base_uri": "https://localhost:8080/"
        },
        "id": "FcF_ck1XJ9Wj",
        "outputId": "30b5a45a-f75a-423a-d1af-8372b2afca90"
      },
      "outputs": [
        {
          "output_type": "stream",
          "name": "stdout",
          "text": [
            "안\n",
            "녕\n",
            "하\n",
            "세\n",
            "요\n",
            "!\n"
          ]
        }
      ],
      "source": [
        "for x in '안녕하세요!':\n",
        "    print(x)"
      ]
    },
    {
      "cell_type": "markdown",
      "source": [
        "## `range()` 함수와 for 반복문"
      ],
      "metadata": {
        "id": "7GxKnsjyMv3y"
      }
    },
    {
      "cell_type": "code",
      "source": [
        "# range(start, stop): iteration할 때마다 start <= x < stop 범위의 1씩 증가하는 정수를 생성함.\n",
        "for x in range(1, 6):\n",
        "    print(x)"
      ],
      "metadata": {
        "colab": {
          "base_uri": "https://localhost:8080/"
        },
        "id": "-HLt2zT2M5my",
        "outputId": "c905b1db-4561-42dc-9f47-0494a7149a8a"
      },
      "execution_count": 2,
      "outputs": [
        {
          "output_type": "stream",
          "name": "stdout",
          "text": [
            "1\n",
            "2\n",
            "3\n",
            "4\n",
            "5\n"
          ]
        }
      ]
    },
    {
      "cell_type": "code",
      "source": [
        "# range(stop): iteration을 할 때마다 0 <= x < stop 범위의 1씩 증가하는 정수를 생성함.\n",
        "for x in range(5):\n",
        "    print(x)"
      ],
      "metadata": {
        "colab": {
          "base_uri": "https://localhost:8080/"
        },
        "id": "xRwxxHwWNfeU",
        "outputId": "c152752d-2e69-433e-c802-3e97eefce347"
      },
      "execution_count": 3,
      "outputs": [
        {
          "output_type": "stream",
          "name": "stdout",
          "text": [
            "0\n",
            "1\n",
            "2\n",
            "3\n",
            "4\n"
          ]
        }
      ]
    },
    {
      "cell_type": "code",
      "source": [
        "# range(start, stop, step): step이 양수인 경우, start <= x < stop 범위의 step 만큼씩 증가하는 정수를 생성함.\n",
        "for x in range(0, 10, 2):\n",
        "    print(x)"
      ],
      "metadata": {
        "colab": {
          "base_uri": "https://localhost:8080/"
        },
        "id": "rJUGDqG1OqT1",
        "outputId": "32d39bb1-65e7-4f22-9c0a-de02ef0fc229"
      },
      "execution_count": 4,
      "outputs": [
        {
          "output_type": "stream",
          "name": "stdout",
          "text": [
            "0\n",
            "2\n",
            "4\n",
            "6\n",
            "8\n"
          ]
        }
      ]
    },
    {
      "cell_type": "code",
      "source": [
        "# range(start, stop, step): step이 음수인 경우, start >= x > stop 범위의 step 만큼씩 감소하는 정수를 생성함.\n",
        "for x in range(5, 0, -1):\n",
        "    print(x)"
      ],
      "metadata": {
        "colab": {
          "base_uri": "https://localhost:8080/"
        },
        "id": "3fmazDa2PnbO",
        "outputId": "47cac017-4cfd-43ad-e1fd-9d59fa830112"
      },
      "execution_count": 6,
      "outputs": [
        {
          "output_type": "stream",
          "name": "stdout",
          "text": [
            "5\n",
            "4\n",
            "3\n",
            "2\n",
            "1\n"
          ]
        }
      ]
    },
    {
      "cell_type": "markdown",
      "source": [
        "1 이상 10 미만의 홀수들을 내림차순으로 출력: 9 7 5 3 1"
      ],
      "metadata": {
        "id": "has8peBqQ26T"
      }
    },
    {
      "cell_type": "code",
      "source": [
        "for x in range(9, 0, -2):\n",
        "    print(x)"
      ],
      "metadata": {
        "colab": {
          "base_uri": "https://localhost:8080/"
        },
        "id": "qt46qf7bRApq",
        "outputId": "993bc9d2-5c27-49d5-e76e-52ad7a8f3812"
      },
      "execution_count": 7,
      "outputs": [
        {
          "output_type": "stream",
          "name": "stdout",
          "text": [
            "9\n",
            "7\n",
            "5\n",
            "3\n",
            "1\n"
          ]
        }
      ]
    },
    {
      "cell_type": "markdown",
      "source": [
        "아래와 같이 출력하세요.\n",
        "```\n",
        "*\n",
        "**\n",
        "***\n",
        "****\n",
        "*****\n",
        "```"
      ],
      "metadata": {
        "id": "5Ct4V-51RlLy"
      }
    },
    {
      "cell_type": "code",
      "source": [
        "for n in range(1, 6):\n",
        "    print('*' * n)"
      ],
      "metadata": {
        "colab": {
          "base_uri": "https://localhost:8080/"
        },
        "id": "cQt9g46eRbRN",
        "outputId": "a17529fc-4d5c-430c-a9f2-d701f6ef9937"
      },
      "execution_count": 8,
      "outputs": [
        {
          "output_type": "stream",
          "name": "stdout",
          "text": [
            "*\n",
            "**\n",
            "***\n",
            "****\n",
            "*****\n"
          ]
        }
      ]
    },
    {
      "cell_type": "markdown",
      "source": [
        "아래와 같이 출력하세요.\n",
        "```\n",
        "*****\n",
        "****\n",
        "***\n",
        "**\n",
        "*\n",
        "```"
      ],
      "metadata": {
        "id": "2FqEhXmzR-4j"
      }
    },
    {
      "cell_type": "code",
      "source": [
        "for n in range(5, 0, -1):\n",
        "    print('*' * n)"
      ],
      "metadata": {
        "colab": {
          "base_uri": "https://localhost:8080/"
        },
        "id": "RBfLoRnTSFRa",
        "outputId": "a38ec526-9d5b-40de-ad3a-4d5a02cc702b"
      },
      "execution_count": 9,
      "outputs": [
        {
          "output_type": "stream",
          "name": "stdout",
          "text": [
            "*****\n",
            "****\n",
            "***\n",
            "**\n",
            "*\n"
          ]
        }
      ]
    },
    {
      "cell_type": "markdown",
      "source": [
        "## 중첩 for 문"
      ],
      "metadata": {
        "id": "u6ztBlXlW8E7"
      }
    },
    {
      "cell_type": "markdown",
      "source": [
        "for-in 문장과 range() 함수를 사용해서 구구단 1단부터 9단까지 출력."
      ],
      "metadata": {
        "id": "2hJVHpAzXFGy"
      }
    },
    {
      "cell_type": "code",
      "source": [
        "for x in range(1, 10):\n",
        "    print(f'----- {x}단 -----')\n",
        "    for y in range(1, 10):\n",
        "        print(f'{x} x {y} = {x * y}')"
      ],
      "metadata": {
        "colab": {
          "base_uri": "https://localhost:8080/"
        },
        "id": "lmPZlx72W__M",
        "outputId": "e156826f-fb42-4779-de9f-394135febdd5"
      },
      "execution_count": 11,
      "outputs": [
        {
          "output_type": "stream",
          "name": "stdout",
          "text": [
            "----- 1단 -----\n",
            "1 x 1 = 1\n",
            "1 x 2 = 2\n",
            "1 x 3 = 3\n",
            "1 x 4 = 4\n",
            "1 x 5 = 5\n",
            "1 x 6 = 6\n",
            "1 x 7 = 7\n",
            "1 x 8 = 8\n",
            "1 x 9 = 9\n",
            "----- 2단 -----\n",
            "2 x 1 = 2\n",
            "2 x 2 = 4\n",
            "2 x 3 = 6\n",
            "2 x 4 = 8\n",
            "2 x 5 = 10\n",
            "2 x 6 = 12\n",
            "2 x 7 = 14\n",
            "2 x 8 = 16\n",
            "2 x 9 = 18\n",
            "----- 3단 -----\n",
            "3 x 1 = 3\n",
            "3 x 2 = 6\n",
            "3 x 3 = 9\n",
            "3 x 4 = 12\n",
            "3 x 5 = 15\n",
            "3 x 6 = 18\n",
            "3 x 7 = 21\n",
            "3 x 8 = 24\n",
            "3 x 9 = 27\n",
            "----- 4단 -----\n",
            "4 x 1 = 4\n",
            "4 x 2 = 8\n",
            "4 x 3 = 12\n",
            "4 x 4 = 16\n",
            "4 x 5 = 20\n",
            "4 x 6 = 24\n",
            "4 x 7 = 28\n",
            "4 x 8 = 32\n",
            "4 x 9 = 36\n",
            "----- 5단 -----\n",
            "5 x 1 = 5\n",
            "5 x 2 = 10\n",
            "5 x 3 = 15\n",
            "5 x 4 = 20\n",
            "5 x 5 = 25\n",
            "5 x 6 = 30\n",
            "5 x 7 = 35\n",
            "5 x 8 = 40\n",
            "5 x 9 = 45\n",
            "----- 6단 -----\n",
            "6 x 1 = 6\n",
            "6 x 2 = 12\n",
            "6 x 3 = 18\n",
            "6 x 4 = 24\n",
            "6 x 5 = 30\n",
            "6 x 6 = 36\n",
            "6 x 7 = 42\n",
            "6 x 8 = 48\n",
            "6 x 9 = 54\n",
            "----- 7단 -----\n",
            "7 x 1 = 7\n",
            "7 x 2 = 14\n",
            "7 x 3 = 21\n",
            "7 x 4 = 28\n",
            "7 x 5 = 35\n",
            "7 x 6 = 42\n",
            "7 x 7 = 49\n",
            "7 x 8 = 56\n",
            "7 x 9 = 63\n",
            "----- 8단 -----\n",
            "8 x 1 = 8\n",
            "8 x 2 = 16\n",
            "8 x 3 = 24\n",
            "8 x 4 = 32\n",
            "8 x 5 = 40\n",
            "8 x 6 = 48\n",
            "8 x 7 = 56\n",
            "8 x 8 = 64\n",
            "8 x 9 = 72\n",
            "----- 9단 -----\n",
            "9 x 1 = 9\n",
            "9 x 2 = 18\n",
            "9 x 3 = 27\n",
            "9 x 4 = 36\n",
            "9 x 5 = 45\n",
            "9 x 6 = 54\n",
            "9 x 7 = 63\n",
            "9 x 8 = 72\n",
            "9 x 9 = 81\n"
          ]
        }
      ]
    },
    {
      "cell_type": "markdown",
      "source": [
        "## break, continue"
      ],
      "metadata": {
        "id": "3-aLM3UzY5K7"
      }
    },
    {
      "cell_type": "markdown",
      "source": [
        "*   `break`: iteration을 종료.\n",
        "*   `continue`: 그 다음 iteration을 수행."
      ],
      "metadata": {
        "id": "w36p1I6XY89C"
      }
    },
    {
      "cell_type": "code",
      "source": [
        "for x in range(1, 6):\n",
        "    if x == 3:\n",
        "        break\n",
        "    print(x)"
      ],
      "metadata": {
        "colab": {
          "base_uri": "https://localhost:8080/"
        },
        "id": "QRb32ee-ZOci",
        "outputId": "df3e304a-21e6-4eb3-facd-bdb7fbf9aef3"
      },
      "execution_count": 12,
      "outputs": [
        {
          "output_type": "stream",
          "name": "stdout",
          "text": [
            "1\n",
            "2\n"
          ]
        }
      ]
    },
    {
      "cell_type": "code",
      "source": [
        "for x in range(1, 6):\n",
        "    if x == 3:\n",
        "        continue\n",
        "    print(x)"
      ],
      "metadata": {
        "colab": {
          "base_uri": "https://localhost:8080/"
        },
        "id": "ou6ZQ_uuZfa8",
        "outputId": "ba727f52-89e2-4dcf-b5b2-892fb9d5cb68"
      },
      "execution_count": 13,
      "outputs": [
        {
          "output_type": "stream",
          "name": "stdout",
          "text": [
            "1\n",
            "2\n",
            "4\n",
            "5\n"
          ]
        }
      ]
    },
    {
      "cell_type": "markdown",
      "source": [
        "구구단을 출력할 때 1단은 1 x 1 까지, 2단은 2 x 2 까지, 3단은 3 x 3 까지, ..., 9단은 9 x 9까지 출력하세요.\n",
        "*   break 문장을 사용하는 방법\n",
        "*   break 문장을 사용하지 않는 방법"
      ],
      "metadata": {
        "id": "oD3ihQLOa-gb"
      }
    },
    {
      "cell_type": "code",
      "source": [
        "for x in range(1, 10):\n",
        "    for y in range(1, 10):\n",
        "        print(f'{x} x {y} = {x * y}')\n",
        "        if x == y:\n",
        "            break\n",
        "    print('-' * 10)"
      ],
      "metadata": {
        "colab": {
          "base_uri": "https://localhost:8080/"
        },
        "id": "okgL9zp3c4ir",
        "outputId": "c6677c6b-c4b6-453b-8f7d-9cdb8ccf6bdc"
      },
      "execution_count": 16,
      "outputs": [
        {
          "output_type": "stream",
          "name": "stdout",
          "text": [
            "1 x 1 = 1\n",
            "----------\n",
            "2 x 1 = 2\n",
            "2 x 2 = 4\n",
            "----------\n",
            "3 x 1 = 3\n",
            "3 x 2 = 6\n",
            "3 x 3 = 9\n",
            "----------\n",
            "4 x 1 = 4\n",
            "4 x 2 = 8\n",
            "4 x 3 = 12\n",
            "4 x 4 = 16\n",
            "----------\n",
            "5 x 1 = 5\n",
            "5 x 2 = 10\n",
            "5 x 3 = 15\n",
            "5 x 4 = 20\n",
            "5 x 5 = 25\n",
            "----------\n",
            "6 x 1 = 6\n",
            "6 x 2 = 12\n",
            "6 x 3 = 18\n",
            "6 x 4 = 24\n",
            "6 x 5 = 30\n",
            "6 x 6 = 36\n",
            "----------\n",
            "7 x 1 = 7\n",
            "7 x 2 = 14\n",
            "7 x 3 = 21\n",
            "7 x 4 = 28\n",
            "7 x 5 = 35\n",
            "7 x 6 = 42\n",
            "7 x 7 = 49\n",
            "----------\n",
            "8 x 1 = 8\n",
            "8 x 2 = 16\n",
            "8 x 3 = 24\n",
            "8 x 4 = 32\n",
            "8 x 5 = 40\n",
            "8 x 6 = 48\n",
            "8 x 7 = 56\n",
            "8 x 8 = 64\n",
            "----------\n",
            "9 x 1 = 9\n",
            "9 x 2 = 18\n",
            "9 x 3 = 27\n",
            "9 x 4 = 36\n",
            "9 x 5 = 45\n",
            "9 x 6 = 54\n",
            "9 x 7 = 63\n",
            "9 x 8 = 72\n",
            "9 x 9 = 81\n",
            "----------\n"
          ]
        }
      ]
    },
    {
      "cell_type": "code",
      "source": [
        "for x in range(1, 10):\n",
        "    for y in range(1, x + 1):\n",
        "        print(f'{x} x {y} = {x * y}')\n",
        "    print('-' * 10)"
      ],
      "metadata": {
        "colab": {
          "base_uri": "https://localhost:8080/"
        },
        "id": "LxPcQ0yTd1f7",
        "outputId": "e0397337-7def-4237-a0dd-03a0677820a6"
      },
      "execution_count": 17,
      "outputs": [
        {
          "output_type": "stream",
          "name": "stdout",
          "text": [
            "1 x 1 = 1\n",
            "----------\n",
            "2 x 1 = 2\n",
            "2 x 2 = 4\n",
            "----------\n",
            "3 x 1 = 3\n",
            "3 x 2 = 6\n",
            "3 x 3 = 9\n",
            "----------\n",
            "4 x 1 = 4\n",
            "4 x 2 = 8\n",
            "4 x 3 = 12\n",
            "4 x 4 = 16\n",
            "----------\n",
            "5 x 1 = 5\n",
            "5 x 2 = 10\n",
            "5 x 3 = 15\n",
            "5 x 4 = 20\n",
            "5 x 5 = 25\n",
            "----------\n",
            "6 x 1 = 6\n",
            "6 x 2 = 12\n",
            "6 x 3 = 18\n",
            "6 x 4 = 24\n",
            "6 x 5 = 30\n",
            "6 x 6 = 36\n",
            "----------\n",
            "7 x 1 = 7\n",
            "7 x 2 = 14\n",
            "7 x 3 = 21\n",
            "7 x 4 = 28\n",
            "7 x 5 = 35\n",
            "7 x 6 = 42\n",
            "7 x 7 = 49\n",
            "----------\n",
            "8 x 1 = 8\n",
            "8 x 2 = 16\n",
            "8 x 3 = 24\n",
            "8 x 4 = 32\n",
            "8 x 5 = 40\n",
            "8 x 6 = 48\n",
            "8 x 7 = 56\n",
            "8 x 8 = 64\n",
            "----------\n",
            "9 x 1 = 9\n",
            "9 x 2 = 18\n",
            "9 x 3 = 27\n",
            "9 x 4 = 36\n",
            "9 x 5 = 45\n",
            "9 x 6 = 54\n",
            "9 x 7 = 63\n",
            "9 x 8 = 72\n",
            "9 x 9 = 81\n",
            "----------\n"
          ]
        }
      ]
    },
    {
      "cell_type": "markdown",
      "source": [
        "1부터 10(포함)까지 정수들을 한 줄에 출력"
      ],
      "metadata": {
        "id": "8PAqmDErewWd"
      }
    },
    {
      "cell_type": "code",
      "source": [
        "for x in range(1, 11):\n",
        "    print(x, end='\\t')"
      ],
      "metadata": {
        "colab": {
          "base_uri": "https://localhost:8080/"
        },
        "id": "uIT88VA5fAtj",
        "outputId": "cd00f849-db4a-45e4-c838-b4818f363e64"
      },
      "execution_count": 19,
      "outputs": [
        {
          "output_type": "stream",
          "name": "stdout",
          "text": [
            "1\t2\t3\t4\t5\t6\t7\t8\t9\t10\t"
          ]
        }
      ]
    },
    {
      "cell_type": "markdown",
      "source": [
        "# 연습문제"
      ],
      "metadata": {
        "id": "689LRZ2Cg41a"
      }
    },
    {
      "cell_type": "markdown",
      "source": [
        "## 1."
      ],
      "metadata": {
        "id": "mdai5hhwg8ci"
      }
    },
    {
      "cell_type": "markdown",
      "source": [
        "아래와 같이 출력하는 코드를 작성하세요.\n",
        "\n",
        "```\n",
        "1 little 2 little 3 little indian\n",
        "4 little 5 little 6 little indian\n",
        "7 little 8 little 9 little indian\n",
        "10 little indian boys!\n",
        "```\n"
      ],
      "metadata": {
        "id": "R6_SsKIKg91y"
      }
    },
    {
      "cell_type": "markdown",
      "source": [
        "## 2."
      ],
      "metadata": {
        "id": "l8gHkPorhFlq"
      }
    },
    {
      "cell_type": "markdown",
      "source": [
        "아래와 같이 출력하는 코드를 작성하세요.\n",
        "\n",
        "```\n",
        "1  2  *  4  5  *  7  8  *  10\n",
        "11 12 *  14 15 *  17 18 *  20\n",
        "21 22 *  24 25 *  27 28 *  *\n",
        "*  *  *  *  *  *  *  *  *  40\n",
        "...\n",
        "81 82 *  84 85 *  87 88 *  *\n",
        "*  *  *  *  *  *  *  *  *  100\n",
        "```\n"
      ],
      "metadata": {
        "id": "ZzMzkf1phHsq"
      }
    }
  ]
}