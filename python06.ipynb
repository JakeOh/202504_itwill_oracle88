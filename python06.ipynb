{
  "nbformat": 4,
  "nbformat_minor": 0,
  "metadata": {
    "colab": {
      "provenance": [],
      "toc_visible": true,
      "authorship_tag": "ABX9TyNwmHc2jBcSjmeW3oY+TVTM",
      "include_colab_link": true
    },
    "kernelspec": {
      "name": "python3",
      "display_name": "Python 3"
    },
    "language_info": {
      "name": "python"
    }
  },
  "cells": [
    {
      "cell_type": "markdown",
      "metadata": {
        "id": "view-in-github",
        "colab_type": "text"
      },
      "source": [
        "<a href=\"https://colab.research.google.com/github/JakeOh/202504_itwill_oracle88/blob/main/python06.ipynb\" target=\"_parent\"><img src=\"https://colab.research.google.com/assets/colab-badge.svg\" alt=\"Open In Colab\"/></a>"
      ]
    },
    {
      "cell_type": "markdown",
      "source": [
        "# 리스트(List)"
      ],
      "metadata": {
        "id": "rq2ilqBaQ2Cx"
      }
    },
    {
      "cell_type": "markdown",
      "source": [
        "*   `list`: 여러 개의 값들을 하나의 변수에 저장하기 위한 데이터 타입.\n",
        "*   element(원소, 요소): 리스트에 저장된 각각의 값.\n",
        "*   index(인덱스): 리스트에서 각각의 원소들이 저장된 위치(번호).\n",
        "    *   리스트의 인덱스는 **0**부터 시작.\n",
        "    *   리스트의 마지막 인덱스는 (원소 개수 - 1).\n",
        "*   리스트는 원소들을 변경(추가, 삭제)할 수 있음.\n",
        "    *   `tuple`과 다른 점!"
      ],
      "metadata": {
        "id": "f31fjI2pQ7NI"
      }
    },
    {
      "cell_type": "code",
      "execution_count": null,
      "metadata": {
        "colab": {
          "base_uri": "https://localhost:8080/"
        },
        "id": "fBFcR46dQtnU",
        "outputId": "0a277946-c232-4c08-f745-b471977f9cc8"
      },
      "outputs": [
        {
          "output_type": "stream",
          "name": "stdout",
          "text": [
            "<class 'list'>\n",
            "[1, 2, 10, 20, -1, -2]\n"
          ]
        }
      ],
      "source": [
        "# 숫자들을 저장하는 list\n",
        "numbers = [1, 2, 10, 20, -1, -2]\n",
        "print(type(numbers))\n",
        "print(numbers)"
      ]
    },
    {
      "cell_type": "code",
      "source": [
        "# 여러가지 타입의 원소들을 저장하는 list\n",
        "values = [1, 2, 'hello', '안녕', True, False]\n",
        "print(type(values))\n",
        "print(values)"
      ],
      "metadata": {
        "colab": {
          "base_uri": "https://localhost:8080/"
        },
        "id": "j6dYhrbCTPG7",
        "outputId": "df23ed39-29cc-4f21-d23b-fca36dc737bf"
      },
      "execution_count": null,
      "outputs": [
        {
          "output_type": "stream",
          "name": "stdout",
          "text": [
            "<class 'list'>\n",
            "[1, 2, 'hello', '안녕', True, False]\n"
          ]
        }
      ]
    },
    {
      "cell_type": "markdown",
      "source": [
        "## Indexing"
      ],
      "metadata": {
        "id": "v8WBtcwVUErY"
      }
    },
    {
      "cell_type": "markdown",
      "source": [
        "인덱스를 사용해서 리스트의 원소를 사용하는 방법."
      ],
      "metadata": {
        "id": "SJjniC5fUKt3"
      }
    },
    {
      "cell_type": "code",
      "source": [
        "numbers  # print(numbers)"
      ],
      "metadata": {
        "colab": {
          "base_uri": "https://localhost:8080/"
        },
        "id": "e-0wh4geUTqh",
        "outputId": "f912aaeb-7251-4b4b-fd0e-2b6d924e2cd0"
      },
      "execution_count": null,
      "outputs": [
        {
          "output_type": "execute_result",
          "data": {
            "text/plain": [
              "[1, 2, 10, 20, -1, -2]"
            ]
          },
          "metadata": {},
          "execution_count": 7
        }
      ]
    },
    {
      "cell_type": "code",
      "source": [
        "numbers[0]  # 리스트 numbers의 첫번째 원소"
      ],
      "metadata": {
        "colab": {
          "base_uri": "https://localhost:8080/"
        },
        "id": "Fim8qCvdUY5K",
        "outputId": "338532db-f4ac-47ca-9a8e-709b1fdf0ed8"
      },
      "execution_count": null,
      "outputs": [
        {
          "output_type": "execute_result",
          "data": {
            "text/plain": [
              "1"
            ]
          },
          "metadata": {},
          "execution_count": 8
        }
      ]
    },
    {
      "cell_type": "code",
      "source": [
        "numbers[5]  # 리스트 numbers의 마지막 원소(인덱스 5번 원소)"
      ],
      "metadata": {
        "colab": {
          "base_uri": "https://localhost:8080/"
        },
        "id": "-zEyQ8tlWDIE",
        "outputId": "0e3e68e0-d7b6-41a4-b24b-ea6d21fd8dbb"
      },
      "execution_count": null,
      "outputs": [
        {
          "output_type": "execute_result",
          "data": {
            "text/plain": [
              "-2"
            ]
          },
          "metadata": {},
          "execution_count": 9
        }
      ]
    },
    {
      "cell_type": "code",
      "source": [
        "numbers[3]  # 리스트 numbers에서 인덱스가 3인 원소"
      ],
      "metadata": {
        "colab": {
          "base_uri": "https://localhost:8080/"
        },
        "id": "gd3QsBxlWRFJ",
        "outputId": "e1cbaba4-2b45-419e-e6c4-5d057426d523"
      },
      "execution_count": null,
      "outputs": [
        {
          "output_type": "execute_result",
          "data": {
            "text/plain": [
              "20"
            ]
          },
          "metadata": {},
          "execution_count": 10
        }
      ]
    },
    {
      "cell_type": "code",
      "source": [
        "numbers[-1]  # 리스트 numbers의 마지막 원소"
      ],
      "metadata": {
        "colab": {
          "base_uri": "https://localhost:8080/"
        },
        "id": "2_AisqOlWXjB",
        "outputId": "bc296854-d5ef-41dc-89af-f595ca6c74b1"
      },
      "execution_count": null,
      "outputs": [
        {
          "output_type": "execute_result",
          "data": {
            "text/plain": [
              "-2"
            ]
          },
          "metadata": {},
          "execution_count": 11
        }
      ]
    },
    {
      "cell_type": "code",
      "source": [
        "numbers[-2]  # 리스트 numbers의 끝에서 두번째 원소"
      ],
      "metadata": {
        "colab": {
          "base_uri": "https://localhost:8080/"
        },
        "id": "_3y1lQqEXRWN",
        "outputId": "b60b19b2-2345-4433-de7a-5fa5dad4a941"
      },
      "execution_count": null,
      "outputs": [
        {
          "output_type": "execute_result",
          "data": {
            "text/plain": [
              "-1"
            ]
          },
          "metadata": {},
          "execution_count": 12
        }
      ]
    },
    {
      "cell_type": "markdown",
      "source": [
        "## Slicing"
      ],
      "metadata": {
        "id": "KwsdRT9vcCLR"
      }
    },
    {
      "cell_type": "markdown",
      "source": [
        "`list[start:end]`\n",
        "\n",
        "*   list에서 인덱스가 start <= index < end 범위의 원소들을 잘라내는 방법.\n",
        "*   시작 인덱스 start를 생략하면, 시작 인덱스는 0번.\n",
        "*   마지막 인덱스 end를 생략하면, 리스트의 마지막 원소까지 잘라냄.\n",
        "*   slicing의 결과는 **새로운 리스트!**"
      ],
      "metadata": {
        "id": "J63GFBXdcL14"
      }
    },
    {
      "cell_type": "code",
      "source": [
        "numbers[1:4]"
      ],
      "metadata": {
        "colab": {
          "base_uri": "https://localhost:8080/"
        },
        "id": "-cBXfbDwcDgp",
        "outputId": "ec8cd673-92de-431c-a176-0e2bcfbad613"
      },
      "execution_count": null,
      "outputs": [
        {
          "output_type": "execute_result",
          "data": {
            "text/plain": [
              "[2, 10, 20]"
            ]
          },
          "metadata": {},
          "execution_count": 13
        }
      ]
    },
    {
      "cell_type": "code",
      "source": [
        "numbers[:3]"
      ],
      "metadata": {
        "colab": {
          "base_uri": "https://localhost:8080/"
        },
        "id": "zSIN-vYAda_a",
        "outputId": "8fd50383-09f6-44c1-e277-de59dae1c782"
      },
      "execution_count": null,
      "outputs": [
        {
          "output_type": "execute_result",
          "data": {
            "text/plain": [
              "[1, 2, 10]"
            ]
          },
          "metadata": {},
          "execution_count": 15
        }
      ]
    },
    {
      "cell_type": "code",
      "source": [
        "numbers[3:]"
      ],
      "metadata": {
        "colab": {
          "base_uri": "https://localhost:8080/"
        },
        "id": "zBjIAaX1eVoX",
        "outputId": "fe4e5730-a0eb-459b-bdd5-fe0d3ad27742"
      },
      "execution_count": null,
      "outputs": [
        {
          "output_type": "execute_result",
          "data": {
            "text/plain": [
              "[20, -1, -2]"
            ]
          },
          "metadata": {},
          "execution_count": 16
        }
      ]
    },
    {
      "cell_type": "code",
      "source": [
        "numbers[:]"
      ],
      "metadata": {
        "colab": {
          "base_uri": "https://localhost:8080/"
        },
        "id": "aefaH0l0egdh",
        "outputId": "8167bf79-9a46-4037-b0e0-92bb99e553d5"
      },
      "execution_count": null,
      "outputs": [
        {
          "output_type": "execute_result",
          "data": {
            "text/plain": [
              "[1, 2, 10, 20, -1, -2]"
            ]
          },
          "metadata": {},
          "execution_count": 18
        }
      ]
    },
    {
      "cell_type": "code",
      "source": [
        "# 리스트 numbers에서 마지막 2개 원소만 선택(slicing)\n",
        "numbers[-2:]"
      ],
      "metadata": {
        "colab": {
          "base_uri": "https://localhost:8080/"
        },
        "id": "-3812iRDfXvx",
        "outputId": "aa741644-398e-4ebe-e008-3c8c3644fa60"
      },
      "execution_count": null,
      "outputs": [
        {
          "output_type": "execute_result",
          "data": {
            "text/plain": [
              "[-1, -2]"
            ]
          },
          "metadata": {},
          "execution_count": 19
        }
      ]
    },
    {
      "cell_type": "code",
      "source": [
        "print(numbers[0])    # indexing: 리스트에서 해당 인덱스의 원소(값) 1개를 찾음.\n",
        "print(numbers[0:1])  # slicing: 리스트에서 일부분을 잘라낸 리스트."
      ],
      "metadata": {
        "colab": {
          "base_uri": "https://localhost:8080/"
        },
        "id": "D_0mYuqhf54h",
        "outputId": "70b64858-0b87-4b2e-8057-6a2e37fc9bdc"
      },
      "execution_count": null,
      "outputs": [
        {
          "output_type": "stream",
          "name": "stdout",
          "text": [
            "1\n",
            "[1]\n"
          ]
        }
      ]
    },
    {
      "cell_type": "markdown",
      "source": [
        "## 문자열(String)"
      ],
      "metadata": {
        "id": "XVgZLDkFg9f4"
      }
    },
    {
      "cell_type": "markdown",
      "source": [
        "문자열: 문자들의 리스트.\n",
        "\n",
        "*   인덱스를 사용할 수 있음.\n",
        "    *   indexing: 해당 인덱스의 문자 1개를 선택.\n",
        "    *   slicing: 문자열의 일부를 잘라냄."
      ],
      "metadata": {
        "id": "J1-JKVufhE3Y"
      }
    },
    {
      "cell_type": "code",
      "source": [
        "message = '안녕, Python!'  # 문자 11개를 갖는 문자열. 11개의 문자들을 원소로 갖는 리스트"
      ],
      "metadata": {
        "id": "AeBrQlxGhmOg"
      },
      "execution_count": null,
      "outputs": []
    },
    {
      "cell_type": "code",
      "source": [
        "# 문자열 message에서 첫번쩨 문자를 선택\n",
        "message[0]"
      ],
      "metadata": {
        "colab": {
          "base_uri": "https://localhost:8080/",
          "height": 39
        },
        "id": "xS1NMweJh86R",
        "outputId": "ba5f7cee-21a8-4114-da0c-a00748bb5b3a"
      },
      "execution_count": null,
      "outputs": [
        {
          "output_type": "execute_result",
          "data": {
            "text/plain": [
              "'안'"
            ],
            "application/vnd.google.colaboratory.intrinsic+json": {
              "type": "string"
            }
          },
          "metadata": {},
          "execution_count": 22
        }
      ]
    },
    {
      "cell_type": "code",
      "source": [
        "# 문자열 message에서 마지막 문자\n",
        "message[-1]"
      ],
      "metadata": {
        "colab": {
          "base_uri": "https://localhost:8080/",
          "height": 39
        },
        "id": "cOpG9B6EiJH5",
        "outputId": "1fd47e00-9dbd-4b77-e30d-c7a09197f3b1"
      },
      "execution_count": null,
      "outputs": [
        {
          "output_type": "execute_result",
          "data": {
            "text/plain": [
              "'!'"
            ],
            "application/vnd.google.colaboratory.intrinsic+json": {
              "type": "string"
            }
          },
          "metadata": {},
          "execution_count": 24
        }
      ]
    },
    {
      "cell_type": "code",
      "source": [
        "# 문자열 message에서 첫 두글자를 slicing\n",
        "message[:2]"
      ],
      "metadata": {
        "colab": {
          "base_uri": "https://localhost:8080/",
          "height": 39
        },
        "id": "yWc_1TnpibWI",
        "outputId": "a501cdba-0803-45ff-8fd2-b1752e6e5b66"
      },
      "execution_count": null,
      "outputs": [
        {
          "output_type": "execute_result",
          "data": {
            "text/plain": [
              "'안녕'"
            ],
            "application/vnd.google.colaboratory.intrinsic+json": {
              "type": "string"
            }
          },
          "metadata": {},
          "execution_count": 25
        }
      ]
    },
    {
      "cell_type": "code",
      "source": [
        "# 문자열 message에서 마지막 세글자를 slicing\n",
        "message[-3:]"
      ],
      "metadata": {
        "colab": {
          "base_uri": "https://localhost:8080/",
          "height": 39
        },
        "id": "2INGN965iuJx",
        "outputId": "75443c2f-8077-4d8e-d28a-57be583306b2"
      },
      "execution_count": null,
      "outputs": [
        {
          "output_type": "execute_result",
          "data": {
            "text/plain": [
              "'on!'"
            ],
            "application/vnd.google.colaboratory.intrinsic+json": {
              "type": "string"
            }
          },
          "metadata": {},
          "execution_count": 26
        }
      ]
    },
    {
      "cell_type": "markdown",
      "source": [
        "## list의 산술 연산"
      ],
      "metadata": {
        "id": "GiNS2XYsjOZI"
      }
    },
    {
      "cell_type": "code",
      "source": [
        "# 문자열의 +\n",
        "'hello' + '안녕'"
      ],
      "metadata": {
        "colab": {
          "base_uri": "https://localhost:8080/",
          "height": 39
        },
        "id": "c14XsSW9i2vh",
        "outputId": "22e8b0c1-2d1a-40d1-a0aa-cfc3427dd087"
      },
      "execution_count": null,
      "outputs": [
        {
          "output_type": "execute_result",
          "data": {
            "text/plain": [
              "'hello안녕'"
            ],
            "application/vnd.google.colaboratory.intrinsic+json": {
              "type": "string"
            }
          },
          "metadata": {},
          "execution_count": 27
        }
      ]
    },
    {
      "cell_type": "code",
      "source": [
        "# list의 +\n",
        "[1, 2, 3] + [100, 200]"
      ],
      "metadata": {
        "colab": {
          "base_uri": "https://localhost:8080/"
        },
        "id": "BCBpiDpNjyHa",
        "outputId": "9b1557d2-9c91-4271-f440-99215aa835f8"
      },
      "execution_count": null,
      "outputs": [
        {
          "output_type": "execute_result",
          "data": {
            "text/plain": [
              "[1, 2, 3, 100, 200]"
            ]
          },
          "metadata": {},
          "execution_count": 28
        }
      ]
    },
    {
      "cell_type": "code",
      "source": [
        "# 문자열의 *\n",
        "'안녕' * 5"
      ],
      "metadata": {
        "colab": {
          "base_uri": "https://localhost:8080/",
          "height": 39
        },
        "id": "n8KVuqtjj41Z",
        "outputId": "b9c9ae79-4681-4d6e-d6b0-831cb7a31cc5"
      },
      "execution_count": null,
      "outputs": [
        {
          "output_type": "execute_result",
          "data": {
            "text/plain": [
              "'안녕안녕안녕안녕안녕'"
            ],
            "application/vnd.google.colaboratory.intrinsic+json": {
              "type": "string"
            }
          },
          "metadata": {},
          "execution_count": 29
        }
      ]
    },
    {
      "cell_type": "code",
      "source": [
        "# list의 *\n",
        "[1, 2, 3] * 5"
      ],
      "metadata": {
        "colab": {
          "base_uri": "https://localhost:8080/"
        },
        "id": "awt8CkuukLxY",
        "outputId": "afebdc08-3119-4190-8783-dd5c143d30a1"
      },
      "execution_count": null,
      "outputs": [
        {
          "output_type": "execute_result",
          "data": {
            "text/plain": [
              "[1, 2, 3, 1, 2, 3, 1, 2, 3, 1, 2, 3, 1, 2, 3]"
            ]
          },
          "metadata": {},
          "execution_count": 30
        }
      ]
    },
    {
      "cell_type": "markdown",
      "source": [
        "# list의 기능들 - 함수(메서드)"
      ],
      "metadata": {
        "id": "ijKou9AVHaut"
      }
    },
    {
      "cell_type": "markdown",
      "source": [
        "## 원소 추가"
      ],
      "metadata": {
        "id": "cQbcrkQ4HwM1"
      }
    },
    {
      "cell_type": "code",
      "source": [
        "numbers = [1, 2, 3, 4, 5]\n",
        "print(numbers)"
      ],
      "metadata": {
        "colab": {
          "base_uri": "https://localhost:8080/"
        },
        "id": "kkNr5uCrH0pV",
        "outputId": "fedab15e-be33-4aea-8387-a1aec47116ff"
      },
      "execution_count": 1,
      "outputs": [
        {
          "output_type": "stream",
          "name": "stdout",
          "text": [
            "[1, 2, 3, 4, 5]\n"
          ]
        }
      ]
    },
    {
      "cell_type": "code",
      "source": [
        "# list.append(값): 값을 list의 가장 마지막 위치에 추가.\n",
        "numbers.append(100)\n",
        "print(numbers)"
      ],
      "metadata": {
        "colab": {
          "base_uri": "https://localhost:8080/"
        },
        "id": "3G7fcfNMID1k",
        "outputId": "c278bc6d-3201-4ee8-bc87-3a332821f40a"
      },
      "execution_count": 2,
      "outputs": [
        {
          "output_type": "stream",
          "name": "stdout",
          "text": [
            "[1, 2, 3, 4, 5, 100]\n"
          ]
        }
      ]
    },
    {
      "cell_type": "code",
      "source": [
        "# list.insert(index, object): list의 index 위치에 object를 삽입.\n",
        "numbers.insert(0, 123)\n",
        "print(numbers)"
      ],
      "metadata": {
        "colab": {
          "base_uri": "https://localhost:8080/"
        },
        "id": "ZE47gEblI4Wf",
        "outputId": "14b6ede7-2eec-478f-b542-bd99ffe09114"
      },
      "execution_count": 3,
      "outputs": [
        {
          "output_type": "stream",
          "name": "stdout",
          "text": [
            "[123, 1, 2, 3, 4, 5, 100]\n"
          ]
        }
      ]
    },
    {
      "cell_type": "code",
      "source": [
        "# list.extend(iterable): iterable 타입 객체의 원소들을 하나씩 list에 추가.\n",
        "# numbers = numbers + [-1, -2, -3]\n",
        "numbers.extend([-1, -2, -3])\n",
        "print(numbers)"
      ],
      "metadata": {
        "colab": {
          "base_uri": "https://localhost:8080/"
        },
        "id": "X4xCsQ2wKVDt",
        "outputId": "d058dfb8-9613-4238-d441-5089e62c6b81"
      },
      "execution_count": 4,
      "outputs": [
        {
          "output_type": "stream",
          "name": "stdout",
          "text": [
            "[123, 1, 2, 3, 4, 5, 100, -1, -2, -3]\n"
          ]
        }
      ]
    },
    {
      "cell_type": "code",
      "source": [
        "numbers.append([111, 222])\n",
        "print(numbers)\n",
        "# list.append(another_list): another_list를 list의 가장 마지막에 추가. extend() 함수의 결과와 다름!"
      ],
      "metadata": {
        "colab": {
          "base_uri": "https://localhost:8080/"
        },
        "id": "hrBRTEs8MIeV",
        "outputId": "1b987c66-185d-4e68-d34b-6b79ef858654"
      },
      "execution_count": 5,
      "outputs": [
        {
          "output_type": "stream",
          "name": "stdout",
          "text": [
            "[123, 1, 2, 3, 4, 5, 100, -1, -2, -3, [111, 222]]\n"
          ]
        }
      ]
    },
    {
      "cell_type": "markdown",
      "source": [
        "## 원소 삭제"
      ],
      "metadata": {
        "id": "cwkWUWzsNMvE"
      }
    },
    {
      "cell_type": "code",
      "source": [
        "numbers = [1, 2, 3, 10, 20, 30, 1, 2, 3]\n",
        "print(numbers)"
      ],
      "metadata": {
        "colab": {
          "base_uri": "https://localhost:8080/"
        },
        "id": "Yf6xj1huNQ5e",
        "outputId": "8fe506f7-ae1f-48e4-d023-9f33687058f1"
      },
      "execution_count": 6,
      "outputs": [
        {
          "output_type": "stream",
          "name": "stdout",
          "text": [
            "[1, 2, 3, 10, 20, 30, 1, 2, 3]\n"
          ]
        }
      ]
    },
    {
      "cell_type": "code",
      "source": [
        "# list.pop(): list의 가장 마지막 원소를 삭제.\n",
        "numbers.pop()\n",
        "print(numbers)"
      ],
      "metadata": {
        "colab": {
          "base_uri": "https://localhost:8080/"
        },
        "id": "4Wst-AUDNdL3",
        "outputId": "b75f2767-429f-4b9f-a261-6b328f7c2864"
      },
      "execution_count": 7,
      "outputs": [
        {
          "output_type": "stream",
          "name": "stdout",
          "text": [
            "[1, 2, 3, 10, 20, 30, 1, 2]\n"
          ]
        }
      ]
    },
    {
      "cell_type": "code",
      "source": [
        "# list.pop(index): 해당 index 위치의 원소를 삭제.\n",
        "# index 파라미터의 기본값은 -1이기 때문에, 아규먼트를 전달하지 않으면 가장 마지막 원소가 삭제됨.\n",
        "numbers.pop(1)\n",
        "print(numbers)"
      ],
      "metadata": {
        "colab": {
          "base_uri": "https://localhost:8080/"
        },
        "id": "chXdpA5ZOJod",
        "outputId": "bab146de-7790-40c9-d0da-ba734252b8c9"
      },
      "execution_count": 8,
      "outputs": [
        {
          "output_type": "stream",
          "name": "stdout",
          "text": [
            "[1, 3, 10, 20, 30, 1, 2]\n"
          ]
        }
      ]
    },
    {
      "cell_type": "code",
      "source": [
        "# list.remove(value): list의 원소들 중에서 가장 먼저 나오는 value를 삭제.\n",
        "numbers.remove(1)\n",
        "print(numbers)"
      ],
      "metadata": {
        "colab": {
          "base_uri": "https://localhost:8080/"
        },
        "id": "0oDlJcPVOVvH",
        "outputId": "a481604f-a83d-4dd0-adde-21b7ac8e5252"
      },
      "execution_count": 9,
      "outputs": [
        {
          "output_type": "stream",
          "name": "stdout",
          "text": [
            "[3, 10, 20, 30, 1, 2]\n"
          ]
        }
      ]
    },
    {
      "cell_type": "code",
      "source": [
        "# list.clear(): list의 모든 원소들을 삭제.\n",
        "numbers.clear()\n",
        "print(numbers)"
      ],
      "metadata": {
        "colab": {
          "base_uri": "https://localhost:8080/"
        },
        "id": "ZDVWsZrfPmMN",
        "outputId": "aff1fd44-ed15-45e9-e58c-15f53688983d"
      },
      "execution_count": 10,
      "outputs": [
        {
          "output_type": "stream",
          "name": "stdout",
          "text": [
            "[]\n"
          ]
        }
      ]
    }
  ]
}