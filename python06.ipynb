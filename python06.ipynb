{
  "nbformat": 4,
  "nbformat_minor": 0,
  "metadata": {
    "colab": {
      "provenance": [],
      "toc_visible": true,
      "authorship_tag": "ABX9TyOejUE5R5dreVBdEr14guSv",
      "include_colab_link": true
    },
    "kernelspec": {
      "name": "python3",
      "display_name": "Python 3"
    },
    "language_info": {
      "name": "python"
    }
  },
  "cells": [
    {
      "cell_type": "markdown",
      "metadata": {
        "id": "view-in-github",
        "colab_type": "text"
      },
      "source": [
        "<a href=\"https://colab.research.google.com/github/JakeOh/202504_itwill_oracle88/blob/main/python06.ipynb\" target=\"_parent\"><img src=\"https://colab.research.google.com/assets/colab-badge.svg\" alt=\"Open In Colab\"/></a>"
      ]
    },
    {
      "cell_type": "markdown",
      "source": [
        "# 리스트(List)"
      ],
      "metadata": {
        "id": "rq2ilqBaQ2Cx"
      }
    },
    {
      "cell_type": "markdown",
      "source": [
        "*   `list`: 여러 개의 값들을 하나의 변수에 저장하기 위한 데이터 타입.\n",
        "*   element(원소, 요소): 리스트에 저장된 각각의 값.\n",
        "*   index(인덱스): 리스트에서 각각의 원소들이 저장된 위치(번호).\n",
        "    *   리스트의 인덱스는 **0**부터 시작.\n",
        "    *   리스트의 마지막 인덱스는 (원소 개수 - 1).\n",
        "*   리스트는 원소들을 변경(추가, 삭제)할 수 있음.\n",
        "    *   `tuple`과 다른 점!"
      ],
      "metadata": {
        "id": "f31fjI2pQ7NI"
      }
    },
    {
      "cell_type": "code",
      "execution_count": null,
      "metadata": {
        "colab": {
          "base_uri": "https://localhost:8080/"
        },
        "id": "fBFcR46dQtnU",
        "outputId": "0a277946-c232-4c08-f745-b471977f9cc8"
      },
      "outputs": [
        {
          "output_type": "stream",
          "name": "stdout",
          "text": [
            "<class 'list'>\n",
            "[1, 2, 10, 20, -1, -2]\n"
          ]
        }
      ],
      "source": [
        "# 숫자들을 저장하는 list\n",
        "numbers = [1, 2, 10, 20, -1, -2]\n",
        "print(type(numbers))\n",
        "print(numbers)"
      ]
    },
    {
      "cell_type": "code",
      "source": [
        "# 여러가지 타입의 원소들을 저장하는 list\n",
        "values = [1, 2, 'hello', '안녕', True, False]\n",
        "print(type(values))\n",
        "print(values)"
      ],
      "metadata": {
        "colab": {
          "base_uri": "https://localhost:8080/"
        },
        "id": "j6dYhrbCTPG7",
        "outputId": "df23ed39-29cc-4f21-d23b-fca36dc737bf"
      },
      "execution_count": null,
      "outputs": [
        {
          "output_type": "stream",
          "name": "stdout",
          "text": [
            "<class 'list'>\n",
            "[1, 2, 'hello', '안녕', True, False]\n"
          ]
        }
      ]
    },
    {
      "cell_type": "markdown",
      "source": [
        "## Indexing"
      ],
      "metadata": {
        "id": "v8WBtcwVUErY"
      }
    },
    {
      "cell_type": "markdown",
      "source": [
        "인덱스를 사용해서 리스트의 원소를 사용하는 방법."
      ],
      "metadata": {
        "id": "SJjniC5fUKt3"
      }
    },
    {
      "cell_type": "code",
      "source": [
        "numbers  # print(numbers)"
      ],
      "metadata": {
        "colab": {
          "base_uri": "https://localhost:8080/"
        },
        "id": "e-0wh4geUTqh",
        "outputId": "f912aaeb-7251-4b4b-fd0e-2b6d924e2cd0"
      },
      "execution_count": null,
      "outputs": [
        {
          "output_type": "execute_result",
          "data": {
            "text/plain": [
              "[1, 2, 10, 20, -1, -2]"
            ]
          },
          "metadata": {},
          "execution_count": 7
        }
      ]
    },
    {
      "cell_type": "code",
      "source": [
        "numbers[0]  # 리스트 numbers의 첫번째 원소"
      ],
      "metadata": {
        "colab": {
          "base_uri": "https://localhost:8080/"
        },
        "id": "Fim8qCvdUY5K",
        "outputId": "338532db-f4ac-47ca-9a8e-709b1fdf0ed8"
      },
      "execution_count": null,
      "outputs": [
        {
          "output_type": "execute_result",
          "data": {
            "text/plain": [
              "1"
            ]
          },
          "metadata": {},
          "execution_count": 8
        }
      ]
    },
    {
      "cell_type": "code",
      "source": [
        "numbers[5]  # 리스트 numbers의 마지막 원소(인덱스 5번 원소)"
      ],
      "metadata": {
        "colab": {
          "base_uri": "https://localhost:8080/"
        },
        "id": "-zEyQ8tlWDIE",
        "outputId": "0e3e68e0-d7b6-41a4-b24b-ea6d21fd8dbb"
      },
      "execution_count": null,
      "outputs": [
        {
          "output_type": "execute_result",
          "data": {
            "text/plain": [
              "-2"
            ]
          },
          "metadata": {},
          "execution_count": 9
        }
      ]
    },
    {
      "cell_type": "code",
      "source": [
        "numbers[3]  # 리스트 numbers에서 인덱스가 3인 원소"
      ],
      "metadata": {
        "colab": {
          "base_uri": "https://localhost:8080/"
        },
        "id": "gd3QsBxlWRFJ",
        "outputId": "e1cbaba4-2b45-419e-e6c4-5d057426d523"
      },
      "execution_count": null,
      "outputs": [
        {
          "output_type": "execute_result",
          "data": {
            "text/plain": [
              "20"
            ]
          },
          "metadata": {},
          "execution_count": 10
        }
      ]
    },
    {
      "cell_type": "code",
      "source": [
        "numbers[-1]  # 리스트 numbers의 마지막 원소"
      ],
      "metadata": {
        "colab": {
          "base_uri": "https://localhost:8080/"
        },
        "id": "2_AisqOlWXjB",
        "outputId": "bc296854-d5ef-41dc-89af-f595ca6c74b1"
      },
      "execution_count": null,
      "outputs": [
        {
          "output_type": "execute_result",
          "data": {
            "text/plain": [
              "-2"
            ]
          },
          "metadata": {},
          "execution_count": 11
        }
      ]
    },
    {
      "cell_type": "code",
      "source": [
        "numbers[-2]  # 리스트 numbers의 끝에서 두번째 원소"
      ],
      "metadata": {
        "colab": {
          "base_uri": "https://localhost:8080/"
        },
        "id": "_3y1lQqEXRWN",
        "outputId": "b60b19b2-2345-4433-de7a-5fa5dad4a941"
      },
      "execution_count": null,
      "outputs": [
        {
          "output_type": "execute_result",
          "data": {
            "text/plain": [
              "-1"
            ]
          },
          "metadata": {},
          "execution_count": 12
        }
      ]
    },
    {
      "cell_type": "markdown",
      "source": [
        "## Slicing"
      ],
      "metadata": {
        "id": "KwsdRT9vcCLR"
      }
    },
    {
      "cell_type": "markdown",
      "source": [
        "`list[start:end]`\n",
        "\n",
        "*   list에서 인덱스가 start <= index < end 범위의 원소들을 잘라내는 방법.\n",
        "*   시작 인덱스 start를 생략하면, 시작 인덱스는 0번.\n",
        "*   마지막 인덱스 end를 생략하면, 리스트의 마지막 원소까지 잘라냄.\n",
        "*   slicing의 결과는 **새로운 리스트!**"
      ],
      "metadata": {
        "id": "J63GFBXdcL14"
      }
    },
    {
      "cell_type": "code",
      "source": [
        "numbers[1:4]"
      ],
      "metadata": {
        "colab": {
          "base_uri": "https://localhost:8080/"
        },
        "id": "-cBXfbDwcDgp",
        "outputId": "ec8cd673-92de-431c-a176-0e2bcfbad613"
      },
      "execution_count": null,
      "outputs": [
        {
          "output_type": "execute_result",
          "data": {
            "text/plain": [
              "[2, 10, 20]"
            ]
          },
          "metadata": {},
          "execution_count": 13
        }
      ]
    },
    {
      "cell_type": "code",
      "source": [
        "numbers[:3]"
      ],
      "metadata": {
        "colab": {
          "base_uri": "https://localhost:8080/"
        },
        "id": "zSIN-vYAda_a",
        "outputId": "8fd50383-09f6-44c1-e277-de59dae1c782"
      },
      "execution_count": null,
      "outputs": [
        {
          "output_type": "execute_result",
          "data": {
            "text/plain": [
              "[1, 2, 10]"
            ]
          },
          "metadata": {},
          "execution_count": 15
        }
      ]
    },
    {
      "cell_type": "code",
      "source": [
        "numbers[3:]"
      ],
      "metadata": {
        "colab": {
          "base_uri": "https://localhost:8080/"
        },
        "id": "zBjIAaX1eVoX",
        "outputId": "fe4e5730-a0eb-459b-bdd5-fe0d3ad27742"
      },
      "execution_count": null,
      "outputs": [
        {
          "output_type": "execute_result",
          "data": {
            "text/plain": [
              "[20, -1, -2]"
            ]
          },
          "metadata": {},
          "execution_count": 16
        }
      ]
    },
    {
      "cell_type": "code",
      "source": [
        "numbers[:]"
      ],
      "metadata": {
        "colab": {
          "base_uri": "https://localhost:8080/"
        },
        "id": "aefaH0l0egdh",
        "outputId": "8167bf79-9a46-4037-b0e0-92bb99e553d5"
      },
      "execution_count": null,
      "outputs": [
        {
          "output_type": "execute_result",
          "data": {
            "text/plain": [
              "[1, 2, 10, 20, -1, -2]"
            ]
          },
          "metadata": {},
          "execution_count": 18
        }
      ]
    },
    {
      "cell_type": "code",
      "source": [
        "# 리스트 numbers에서 마지막 2개 원소만 선택(slicing)\n",
        "numbers[-2:]"
      ],
      "metadata": {
        "colab": {
          "base_uri": "https://localhost:8080/"
        },
        "id": "-3812iRDfXvx",
        "outputId": "aa741644-398e-4ebe-e008-3c8c3644fa60"
      },
      "execution_count": null,
      "outputs": [
        {
          "output_type": "execute_result",
          "data": {
            "text/plain": [
              "[-1, -2]"
            ]
          },
          "metadata": {},
          "execution_count": 19
        }
      ]
    },
    {
      "cell_type": "code",
      "source": [
        "print(numbers[0])    # indexing: 리스트에서 해당 인덱스의 원소(값) 1개를 찾음.\n",
        "print(numbers[0:1])  # slicing: 리스트에서 일부분을 잘라낸 리스트."
      ],
      "metadata": {
        "colab": {
          "base_uri": "https://localhost:8080/"
        },
        "id": "D_0mYuqhf54h",
        "outputId": "70b64858-0b87-4b2e-8057-6a2e37fc9bdc"
      },
      "execution_count": null,
      "outputs": [
        {
          "output_type": "stream",
          "name": "stdout",
          "text": [
            "1\n",
            "[1]\n"
          ]
        }
      ]
    },
    {
      "cell_type": "markdown",
      "source": [
        "## 문자열(String)"
      ],
      "metadata": {
        "id": "XVgZLDkFg9f4"
      }
    },
    {
      "cell_type": "markdown",
      "source": [
        "문자열: 문자들의 리스트.\n",
        "\n",
        "*   인덱스를 사용할 수 있음.\n",
        "    *   indexing: 해당 인덱스의 문자 1개를 선택.\n",
        "    *   slicing: 문자열의 일부를 잘라냄."
      ],
      "metadata": {
        "id": "J1-JKVufhE3Y"
      }
    },
    {
      "cell_type": "code",
      "source": [
        "message = '안녕, Python!'  # 문자 11개를 갖는 문자열. 11개의 문자들을 원소로 갖는 리스트"
      ],
      "metadata": {
        "id": "AeBrQlxGhmOg"
      },
      "execution_count": null,
      "outputs": []
    },
    {
      "cell_type": "code",
      "source": [
        "# 문자열 message에서 첫번쩨 문자를 선택\n",
        "message[0]"
      ],
      "metadata": {
        "colab": {
          "base_uri": "https://localhost:8080/",
          "height": 39
        },
        "id": "xS1NMweJh86R",
        "outputId": "ba5f7cee-21a8-4114-da0c-a00748bb5b3a"
      },
      "execution_count": null,
      "outputs": [
        {
          "output_type": "execute_result",
          "data": {
            "text/plain": [
              "'안'"
            ],
            "application/vnd.google.colaboratory.intrinsic+json": {
              "type": "string"
            }
          },
          "metadata": {},
          "execution_count": 22
        }
      ]
    },
    {
      "cell_type": "code",
      "source": [
        "# 문자열 message에서 마지막 문자\n",
        "message[-1]"
      ],
      "metadata": {
        "colab": {
          "base_uri": "https://localhost:8080/",
          "height": 39
        },
        "id": "cOpG9B6EiJH5",
        "outputId": "1fd47e00-9dbd-4b77-e30d-c7a09197f3b1"
      },
      "execution_count": null,
      "outputs": [
        {
          "output_type": "execute_result",
          "data": {
            "text/plain": [
              "'!'"
            ],
            "application/vnd.google.colaboratory.intrinsic+json": {
              "type": "string"
            }
          },
          "metadata": {},
          "execution_count": 24
        }
      ]
    },
    {
      "cell_type": "code",
      "source": [
        "# 문자열 message에서 첫 두글자를 slicing\n",
        "message[:2]"
      ],
      "metadata": {
        "colab": {
          "base_uri": "https://localhost:8080/",
          "height": 39
        },
        "id": "yWc_1TnpibWI",
        "outputId": "a501cdba-0803-45ff-8fd2-b1752e6e5b66"
      },
      "execution_count": null,
      "outputs": [
        {
          "output_type": "execute_result",
          "data": {
            "text/plain": [
              "'안녕'"
            ],
            "application/vnd.google.colaboratory.intrinsic+json": {
              "type": "string"
            }
          },
          "metadata": {},
          "execution_count": 25
        }
      ]
    },
    {
      "cell_type": "code",
      "source": [
        "# 문자열 message에서 마지막 세글자를 slicing\n",
        "message[-3:]"
      ],
      "metadata": {
        "colab": {
          "base_uri": "https://localhost:8080/",
          "height": 39
        },
        "id": "2INGN965iuJx",
        "outputId": "75443c2f-8077-4d8e-d28a-57be583306b2"
      },
      "execution_count": null,
      "outputs": [
        {
          "output_type": "execute_result",
          "data": {
            "text/plain": [
              "'on!'"
            ],
            "application/vnd.google.colaboratory.intrinsic+json": {
              "type": "string"
            }
          },
          "metadata": {},
          "execution_count": 26
        }
      ]
    },
    {
      "cell_type": "markdown",
      "source": [
        "## list의 산술 연산"
      ],
      "metadata": {
        "id": "GiNS2XYsjOZI"
      }
    },
    {
      "cell_type": "code",
      "source": [
        "# 문자열의 +\n",
        "'hello' + '안녕'"
      ],
      "metadata": {
        "colab": {
          "base_uri": "https://localhost:8080/",
          "height": 39
        },
        "id": "c14XsSW9i2vh",
        "outputId": "22e8b0c1-2d1a-40d1-a0aa-cfc3427dd087"
      },
      "execution_count": null,
      "outputs": [
        {
          "output_type": "execute_result",
          "data": {
            "text/plain": [
              "'hello안녕'"
            ],
            "application/vnd.google.colaboratory.intrinsic+json": {
              "type": "string"
            }
          },
          "metadata": {},
          "execution_count": 27
        }
      ]
    },
    {
      "cell_type": "code",
      "source": [
        "# list의 +\n",
        "[1, 2, 3] + [100, 200]"
      ],
      "metadata": {
        "colab": {
          "base_uri": "https://localhost:8080/"
        },
        "id": "BCBpiDpNjyHa",
        "outputId": "9b1557d2-9c91-4271-f440-99215aa835f8"
      },
      "execution_count": null,
      "outputs": [
        {
          "output_type": "execute_result",
          "data": {
            "text/plain": [
              "[1, 2, 3, 100, 200]"
            ]
          },
          "metadata": {},
          "execution_count": 28
        }
      ]
    },
    {
      "cell_type": "code",
      "source": [
        "# 문자열의 *\n",
        "'안녕' * 5"
      ],
      "metadata": {
        "colab": {
          "base_uri": "https://localhost:8080/",
          "height": 39
        },
        "id": "n8KVuqtjj41Z",
        "outputId": "b9c9ae79-4681-4d6e-d6b0-831cb7a31cc5"
      },
      "execution_count": null,
      "outputs": [
        {
          "output_type": "execute_result",
          "data": {
            "text/plain": [
              "'안녕안녕안녕안녕안녕'"
            ],
            "application/vnd.google.colaboratory.intrinsic+json": {
              "type": "string"
            }
          },
          "metadata": {},
          "execution_count": 29
        }
      ]
    },
    {
      "cell_type": "code",
      "source": [
        "# list의 *\n",
        "[1, 2, 3] * 5"
      ],
      "metadata": {
        "colab": {
          "base_uri": "https://localhost:8080/"
        },
        "id": "awt8CkuukLxY",
        "outputId": "afebdc08-3119-4190-8783-dd5c143d30a1"
      },
      "execution_count": null,
      "outputs": [
        {
          "output_type": "execute_result",
          "data": {
            "text/plain": [
              "[1, 2, 3, 1, 2, 3, 1, 2, 3, 1, 2, 3, 1, 2, 3]"
            ]
          },
          "metadata": {},
          "execution_count": 30
        }
      ]
    },
    {
      "cell_type": "markdown",
      "source": [
        "# list의 기능들 - 함수(메서드)"
      ],
      "metadata": {
        "id": "ijKou9AVHaut"
      }
    },
    {
      "cell_type": "markdown",
      "source": [
        "## 원소 추가"
      ],
      "metadata": {
        "id": "cQbcrkQ4HwM1"
      }
    },
    {
      "cell_type": "code",
      "source": [
        "numbers = [1, 2, 3, 4, 5]\n",
        "print(numbers)"
      ],
      "metadata": {
        "colab": {
          "base_uri": "https://localhost:8080/"
        },
        "id": "kkNr5uCrH0pV",
        "outputId": "fedab15e-be33-4aea-8387-a1aec47116ff"
      },
      "execution_count": 1,
      "outputs": [
        {
          "output_type": "stream",
          "name": "stdout",
          "text": [
            "[1, 2, 3, 4, 5]\n"
          ]
        }
      ]
    },
    {
      "cell_type": "code",
      "source": [
        "# list.append(값): 값을 list의 가장 마지막 위치에 추가.\n",
        "numbers.append(100)\n",
        "print(numbers)"
      ],
      "metadata": {
        "colab": {
          "base_uri": "https://localhost:8080/"
        },
        "id": "3G7fcfNMID1k",
        "outputId": "c278bc6d-3201-4ee8-bc87-3a332821f40a"
      },
      "execution_count": 2,
      "outputs": [
        {
          "output_type": "stream",
          "name": "stdout",
          "text": [
            "[1, 2, 3, 4, 5, 100]\n"
          ]
        }
      ]
    },
    {
      "cell_type": "code",
      "source": [
        "# list.insert(index, object): list의 index 위치에 object를 삽입.\n",
        "numbers.insert(0, 123)\n",
        "print(numbers)"
      ],
      "metadata": {
        "colab": {
          "base_uri": "https://localhost:8080/"
        },
        "id": "ZE47gEblI4Wf",
        "outputId": "14b6ede7-2eec-478f-b542-bd99ffe09114"
      },
      "execution_count": 3,
      "outputs": [
        {
          "output_type": "stream",
          "name": "stdout",
          "text": [
            "[123, 1, 2, 3, 4, 5, 100]\n"
          ]
        }
      ]
    },
    {
      "cell_type": "code",
      "source": [
        "# list.extend(iterable): iterable 타입 객체의 원소들을 하나씩 list에 추가.\n",
        "# numbers = numbers + [-1, -2, -3]\n",
        "numbers.extend([-1, -2, -3])\n",
        "print(numbers)"
      ],
      "metadata": {
        "colab": {
          "base_uri": "https://localhost:8080/"
        },
        "id": "X4xCsQ2wKVDt",
        "outputId": "d058dfb8-9613-4238-d441-5089e62c6b81"
      },
      "execution_count": 4,
      "outputs": [
        {
          "output_type": "stream",
          "name": "stdout",
          "text": [
            "[123, 1, 2, 3, 4, 5, 100, -1, -2, -3]\n"
          ]
        }
      ]
    },
    {
      "cell_type": "code",
      "source": [
        "numbers.append([111, 222])\n",
        "print(numbers)\n",
        "# list.append(another_list): another_list를 list의 가장 마지막에 추가. extend() 함수의 결과와 다름!"
      ],
      "metadata": {
        "colab": {
          "base_uri": "https://localhost:8080/"
        },
        "id": "hrBRTEs8MIeV",
        "outputId": "1b987c66-185d-4e68-d34b-6b79ef858654"
      },
      "execution_count": 5,
      "outputs": [
        {
          "output_type": "stream",
          "name": "stdout",
          "text": [
            "[123, 1, 2, 3, 4, 5, 100, -1, -2, -3, [111, 222]]\n"
          ]
        }
      ]
    },
    {
      "cell_type": "markdown",
      "source": [
        "## 원소 삭제"
      ],
      "metadata": {
        "id": "cwkWUWzsNMvE"
      }
    },
    {
      "cell_type": "code",
      "source": [
        "numbers = [1, 2, 3, 10, 20, 30, 1, 2, 3]\n",
        "print(numbers)"
      ],
      "metadata": {
        "colab": {
          "base_uri": "https://localhost:8080/"
        },
        "id": "Yf6xj1huNQ5e",
        "outputId": "8fe506f7-ae1f-48e4-d023-9f33687058f1"
      },
      "execution_count": 6,
      "outputs": [
        {
          "output_type": "stream",
          "name": "stdout",
          "text": [
            "[1, 2, 3, 10, 20, 30, 1, 2, 3]\n"
          ]
        }
      ]
    },
    {
      "cell_type": "code",
      "source": [
        "# list.pop(): list의 가장 마지막 원소를 삭제.\n",
        "numbers.pop()\n",
        "print(numbers)"
      ],
      "metadata": {
        "colab": {
          "base_uri": "https://localhost:8080/"
        },
        "id": "4Wst-AUDNdL3",
        "outputId": "b75f2767-429f-4b9f-a261-6b328f7c2864"
      },
      "execution_count": 7,
      "outputs": [
        {
          "output_type": "stream",
          "name": "stdout",
          "text": [
            "[1, 2, 3, 10, 20, 30, 1, 2]\n"
          ]
        }
      ]
    },
    {
      "cell_type": "code",
      "source": [
        "# list.pop(index): 해당 index 위치의 원소를 삭제.\n",
        "# index 파라미터의 기본값은 -1이기 때문에, 아규먼트를 전달하지 않으면 가장 마지막 원소가 삭제됨.\n",
        "numbers.pop(1)\n",
        "print(numbers)"
      ],
      "metadata": {
        "colab": {
          "base_uri": "https://localhost:8080/"
        },
        "id": "chXdpA5ZOJod",
        "outputId": "bab146de-7790-40c9-d0da-ba734252b8c9"
      },
      "execution_count": 8,
      "outputs": [
        {
          "output_type": "stream",
          "name": "stdout",
          "text": [
            "[1, 3, 10, 20, 30, 1, 2]\n"
          ]
        }
      ]
    },
    {
      "cell_type": "code",
      "source": [
        "# list.remove(value): list의 원소들 중에서 가장 먼저 나오는 value를 삭제.\n",
        "numbers.remove(1)\n",
        "print(numbers)"
      ],
      "metadata": {
        "colab": {
          "base_uri": "https://localhost:8080/"
        },
        "id": "0oDlJcPVOVvH",
        "outputId": "a481604f-a83d-4dd0-adde-21b7ac8e5252"
      },
      "execution_count": 9,
      "outputs": [
        {
          "output_type": "stream",
          "name": "stdout",
          "text": [
            "[3, 10, 20, 30, 1, 2]\n"
          ]
        }
      ]
    },
    {
      "cell_type": "code",
      "source": [
        "# list.clear(): list의 모든 원소들을 삭제.\n",
        "numbers.clear()\n",
        "print(numbers)"
      ],
      "metadata": {
        "colab": {
          "base_uri": "https://localhost:8080/"
        },
        "id": "ZDVWsZrfPmMN",
        "outputId": "aff1fd44-ed15-45e9-e58c-15f53688983d"
      },
      "execution_count": 10,
      "outputs": [
        {
          "output_type": "stream",
          "name": "stdout",
          "text": [
            "[]\n"
          ]
        }
      ]
    },
    {
      "cell_type": "markdown",
      "source": [
        "## 특정 인덱스의 원소 변경"
      ],
      "metadata": {
        "id": "180c-rSQVZad"
      }
    },
    {
      "cell_type": "code",
      "source": [
        "names = ['홍길동', 'Scott', 'Tiger']\n",
        "print(names)"
      ],
      "metadata": {
        "colab": {
          "base_uri": "https://localhost:8080/"
        },
        "id": "QO22ml_OVdfV",
        "outputId": "8d6359c1-5ba4-464f-ad6e-8d3d443b1533"
      },
      "execution_count": 11,
      "outputs": [
        {
          "output_type": "stream",
          "name": "stdout",
          "text": [
            "['홍길동', 'Scott', 'Tiger']\n"
          ]
        }
      ]
    },
    {
      "cell_type": "code",
      "source": [
        "# list[index] = value: list에서 index 위치의 값을 value로 변경.\n",
        "names[2] = '오쌤'\n",
        "print(names)"
      ],
      "metadata": {
        "colab": {
          "base_uri": "https://localhost:8080/"
        },
        "id": "BRLSWglMVpwn",
        "outputId": "250d11df-80aa-403a-d58c-1ea29013cad9"
      },
      "execution_count": 12,
      "outputs": [
        {
          "output_type": "stream",
          "name": "stdout",
          "text": [
            "['홍길동', 'Scott', '오쌤']\n"
          ]
        }
      ]
    },
    {
      "cell_type": "markdown",
      "source": [
        "# list와 for 반복문"
      ],
      "metadata": {
        "id": "jVbcyjC0WYIP"
      }
    },
    {
      "cell_type": "code",
      "source": [
        "numbers = [1, 2, 3, 10, 20, 30]\n",
        "# list의 아이템(값)들을 순서대로 반복:\n",
        "for x in numbers:\n",
        "    print(x)"
      ],
      "metadata": {
        "colab": {
          "base_uri": "https://localhost:8080/"
        },
        "id": "ttDzQXcYWbfu",
        "outputId": "3d9a1769-cb9f-4b67-962b-2809909a1567"
      },
      "execution_count": 13,
      "outputs": [
        {
          "output_type": "stream",
          "name": "stdout",
          "text": [
            "1\n",
            "2\n",
            "3\n",
            "10\n",
            "20\n",
            "30\n"
          ]
        }
      ]
    },
    {
      "cell_type": "code",
      "source": [
        "# list의 인덱스와 아이템들을 순서대로 반복:\n",
        "for index, value in enumerate(numbers):\n",
        "    print(index, ':', value)"
      ],
      "metadata": {
        "colab": {
          "base_uri": "https://localhost:8080/"
        },
        "id": "yGv3Y5jHXl4t",
        "outputId": "265e2f64-877a-467b-f161-0a215f034472"
      },
      "execution_count": 14,
      "outputs": [
        {
          "output_type": "stream",
          "name": "stdout",
          "text": [
            "0 : 1\n",
            "1 : 2\n",
            "2 : 3\n",
            "3 : 10\n",
            "4 : 20\n",
            "5 : 30\n"
          ]
        }
      ]
    },
    {
      "cell_type": "markdown",
      "source": [
        "*   빈 리스트 numbers를 만듦.\n",
        "*   리스트 numbers에 10 미만의 정수 난수 10개를 저장.\n",
        "*   numbers를 출력\n",
        "*   numbers의 원소들 중에서 짝수들만 찾아서 새로운 리스트 evens를 만들고 출력.\n",
        "*   numbers의 원소들 중에서 홀수들만 찾아서 새로운 리스트 odds를 만들고 출력."
      ],
      "metadata": {
        "id": "WkiAV8QQZB-0"
      }
    },
    {
      "cell_type": "code",
      "source": [
        "import random  # random 모듈의 함수(들)을 사용하기 위해서."
      ],
      "metadata": {
        "id": "AsoPf8G6aXzV"
      },
      "execution_count": 15,
      "outputs": []
    },
    {
      "cell_type": "code",
      "source": [
        "numbers = []  # 빈 리스트(empty list) 만듦\n",
        "\n",
        "# for _ in range(stop): range()의 값들을 반복 블록에서 사용하지 않을 때, 변수 이름 대신 밑줄(underscore, _)를 사용하기도 함.\n",
        "for _ in range(10):  # 10번 반복\n",
        "    rand_number = random.randrange(10)  # 0 이상 10 미만의 정수 난수 만듦.\n",
        "    numbers.append(rand_number)  # 난수를 리스트에 추가.\n",
        "\n",
        "print(numbers)  # 리스트를 출력"
      ],
      "metadata": {
        "colab": {
          "base_uri": "https://localhost:8080/"
        },
        "id": "4HMa5Z24hYIG",
        "outputId": "d45fcabb-4f40-49db-bff1-1cf6f11e0ed4"
      },
      "execution_count": 26,
      "outputs": [
        {
          "output_type": "stream",
          "name": "stdout",
          "text": [
            "[9, 6, 7, 1, 6, 3, 0, 9, 5, 1]\n"
          ]
        }
      ]
    },
    {
      "cell_type": "code",
      "source": [
        "evens = []  # 짝수들만 저장하기 위한 빈 리스트를 만듦.\n",
        "\n",
        "for x in numbers:  # 리스트 numbers의 아이템들을 순서대로 하나씩 반복하면서\n",
        "    if x % 2 == 0:  # 리스트에서 꺼낸 아이템 x가 짝수이면\n",
        "        evens.append(x)  # 리스트 evens에 짝수를 저장.\n",
        "\n",
        "print(evens)"
      ],
      "metadata": {
        "colab": {
          "base_uri": "https://localhost:8080/"
        },
        "id": "B4g0kYiChm6f",
        "outputId": "7e925483-0aff-466e-f93e-c1f6d92903e1"
      },
      "execution_count": 27,
      "outputs": [
        {
          "output_type": "stream",
          "name": "stdout",
          "text": [
            "[6, 6, 0]\n"
          ]
        }
      ]
    },
    {
      "cell_type": "code",
      "source": [
        "odds = []  # 홀수들을 저장하기 위한 빈 리스트를 만듦.\n",
        "for x in numbers:  # 리스트 numbers의 아이템들을 순서대로 하나씩 반복하면서\n",
        "    if x % 2:  # x를 2로 나눈 나머지가 있으면(x가 홀수이면)\n",
        "        odds.append(x)  # 리스트 odds에 홀수를 추가.\n",
        "print(odds)"
      ],
      "metadata": {
        "colab": {
          "base_uri": "https://localhost:8080/"
        },
        "id": "KGPZ0WuciOOH",
        "outputId": "c2e00ff9-c6be-42b5-d25f-3c75f33b6dba"
      },
      "execution_count": 28,
      "outputs": [
        {
          "output_type": "stream",
          "name": "stdout",
          "text": [
            "[9, 7, 1, 3, 9, 5, 1]\n"
          ]
        }
      ]
    },
    {
      "cell_type": "markdown",
      "source": [
        "*   integers 이름의 빈 리스트를 만듦.\n",
        "*   리스트 integers에 -10 이상 10 이하의 정수 난수 10개를 저장하고 출력.\n",
        "*   is_positives 이름의 빈 리스트를 만듦.\n",
        "*   integers의 원소가 양수이면 True, 그렇지 않으면 False를 is_positives에 저장하고 출력."
      ],
      "metadata": {
        "id": "mwgL3J7-l-LV"
      }
    },
    {
      "cell_type": "code",
      "source": [
        "integers = []\n",
        "\n",
        "for _ in range(10):\n",
        "    integers.append(random.randrange(-10, 11))\n",
        "\n",
        "print(integers)"
      ],
      "metadata": {
        "colab": {
          "base_uri": "https://localhost:8080/"
        },
        "id": "Pk0FG8MNiR8W",
        "outputId": "de247242-bec6-4a10-8afc-0c0006aeb691"
      },
      "execution_count": 31,
      "outputs": [
        {
          "output_type": "stream",
          "name": "stdout",
          "text": [
            "[-9, -2, -7, 6, 9, 4, 3, -10, 3, 6]\n"
          ]
        }
      ]
    },
    {
      "cell_type": "code",
      "source": [
        "is_positives = []\n",
        "\n",
        "for x in integers:\n",
        "    if x > 0:\n",
        "        is_positives.append(True)\n",
        "    else:\n",
        "        is_positives.append(False)\n",
        "\n",
        "print(is_positives)"
      ],
      "metadata": {
        "colab": {
          "base_uri": "https://localhost:8080/"
        },
        "id": "9fPaIEJDohSN",
        "outputId": "c23a41b6-0c18-425d-8ac1-68677b9feff3"
      },
      "execution_count": 32,
      "outputs": [
        {
          "output_type": "stream",
          "name": "stdout",
          "text": [
            "[False, False, False, True, True, True, True, False, True, True]\n"
          ]
        }
      ]
    },
    {
      "cell_type": "markdown",
      "source": [
        "## List Comprehension"
      ],
      "metadata": {
        "id": "OYwDMczC69Pe"
      }
    },
    {
      "cell_type": "code",
      "source": [
        "numbers = []\n",
        "for x in range(1, 11):\n",
        "    numbers.append(x)\n",
        "print(numbers)"
      ],
      "metadata": {
        "colab": {
          "base_uri": "https://localhost:8080/"
        },
        "id": "KPPW-37qpJm1",
        "outputId": "57b1cbc6-975a-4441-a0df-826f87336db0"
      },
      "execution_count": 33,
      "outputs": [
        {
          "output_type": "stream",
          "name": "stdout",
          "text": [
            "[1, 2, 3, 4, 5, 6, 7, 8, 9, 10]\n"
          ]
        }
      ]
    },
    {
      "cell_type": "code",
      "source": [
        "numbers = [x for x in range(1, 11)]\n",
        "print(numbers)"
      ],
      "metadata": {
        "colab": {
          "base_uri": "https://localhost:8080/"
        },
        "id": "59FwvIuy7pB9",
        "outputId": "fadd0a03-2de9-45b2-f3bf-467047b0da85"
      },
      "execution_count": 34,
      "outputs": [
        {
          "output_type": "stream",
          "name": "stdout",
          "text": [
            "[1, 2, 3, 4, 5, 6, 7, 8, 9, 10]\n"
          ]
        }
      ]
    },
    {
      "cell_type": "markdown",
      "source": [
        "1 ~ 10 까지 정수들의 제곱을 저장하는 리스트를 만들고 출력하세요.\n",
        "\n",
        "```\n",
        "[1, 4, 9, 16, ..., 81, 100]\n",
        "```"
      ],
      "metadata": {
        "id": "XhajYruZ8dwl"
      }
    },
    {
      "cell_type": "code",
      "source": [
        "squares = []\n",
        "for x in range(1, 11):\n",
        "    squares.append(x ** 2)\n",
        "print(squares)"
      ],
      "metadata": {
        "colab": {
          "base_uri": "https://localhost:8080/"
        },
        "id": "u_LyDDXn79Xz",
        "outputId": "2e8990dd-b366-4986-eda1-0e0f7ee4b8eb"
      },
      "execution_count": 35,
      "outputs": [
        {
          "output_type": "stream",
          "name": "stdout",
          "text": [
            "[1, 4, 9, 16, 25, 36, 49, 64, 81, 100]\n"
          ]
        }
      ]
    },
    {
      "cell_type": "code",
      "source": [
        "squares2 = [x ** 2 for x in range(1, 11)]\n",
        "print(squares2)"
      ],
      "metadata": {
        "colab": {
          "base_uri": "https://localhost:8080/"
        },
        "id": "Wf_-mDz091Nt",
        "outputId": "74ab5343-3159-454a-b9d0-a8fe452a84c0"
      },
      "execution_count": 36,
      "outputs": [
        {
          "output_type": "stream",
          "name": "stdout",
          "text": [
            "[1, 4, 9, 16, 25, 36, 49, 64, 81, 100]\n"
          ]
        }
      ]
    },
    {
      "cell_type": "markdown",
      "source": [
        "100 미만의 정수 난수 10개를 저장하는 리스트 rand_numbers를 만들고 출력하세요."
      ],
      "metadata": {
        "id": "ThagS8pN-N-F"
      }
    },
    {
      "cell_type": "code",
      "source": [
        "rand_numbers = [random.randrange(100) for _ in range(10)]\n",
        "print(rand_numbers)"
      ],
      "metadata": {
        "colab": {
          "base_uri": "https://localhost:8080/"
        },
        "id": "qRq5ZFyM-K91",
        "outputId": "11940131-cd5c-4e8f-b13b-e8c20579eb09"
      },
      "execution_count": 40,
      "outputs": [
        {
          "output_type": "stream",
          "name": "stdout",
          "text": [
            "[79, 98, 80, 37, 6, 36, 83, 2, 80, 19]\n"
          ]
        }
      ]
    },
    {
      "cell_type": "markdown",
      "source": [
        "rand_numbers에서 짝수들만 선택해서 새로운 리스트를 만들고 출력하세요."
      ],
      "metadata": {
        "id": "p5--sj6D_n78"
      }
    },
    {
      "cell_type": "code",
      "source": [
        "evens = [x for x in rand_numbers if x % 2 == 0]\n",
        "print(evens)"
      ],
      "metadata": {
        "colab": {
          "base_uri": "https://localhost:8080/"
        },
        "id": "vFprDtpD_PJN",
        "outputId": "070b7c80-b5e2-4547-f7f6-3c43d3af69a7"
      },
      "execution_count": 41,
      "outputs": [
        {
          "output_type": "stream",
          "name": "stdout",
          "text": [
            "[98, 80, 6, 36, 2, 80]\n"
          ]
        }
      ]
    },
    {
      "cell_type": "markdown",
      "source": [
        "rand_numbers에서 홀수들만 선택해서 새로운 리스트를 만들고 출력하세요."
      ],
      "metadata": {
        "id": "25NvYK3H_yet"
      }
    },
    {
      "cell_type": "code",
      "source": [
        "odds = [x for x in rand_numbers if x % 2]\n",
        "print(odds)"
      ],
      "metadata": {
        "colab": {
          "base_uri": "https://localhost:8080/"
        },
        "id": "lC1BkzH4_3mE",
        "outputId": "43b9d3e5-efd2-4a6c-fd1d-8adbd32fa984"
      },
      "execution_count": 42,
      "outputs": [
        {
          "output_type": "stream",
          "name": "stdout",
          "text": [
            "[79, 37, 83, 19]\n"
          ]
        }
      ]
    },
    {
      "cell_type": "markdown",
      "source": [
        "if-esle 표현식:\n",
        "\n",
        "```\n",
        "값1 if 조건식 else 값2\n",
        "```\n",
        "\n",
        "(조건식)을 만족하면 (값1)을 선택, 그렇지 않으면 (값2)를 선택"
      ],
      "metadata": {
        "id": "Fg_HZrShCUlU"
      }
    },
    {
      "cell_type": "code",
      "source": [
        "x = 2\n",
        "is_even = True if x % 2 == 0 else False\n",
        "print(is_even)"
      ],
      "metadata": {
        "colab": {
          "base_uri": "https://localhost:8080/"
        },
        "id": "jEfw6KpEB2uk",
        "outputId": "8bb7054f-80ad-43a2-8c13-c49ff6bb0eae"
      },
      "execution_count": 44,
      "outputs": [
        {
          "output_type": "stream",
          "name": "stdout",
          "text": [
            "True\n"
          ]
        }
      ]
    },
    {
      "cell_type": "markdown",
      "source": [
        "rand_numbers의 값이 짝수이면 True, 그렇지 않으면 False를 저장하는 리스트를 만들고 출력하세요."
      ],
      "metadata": {
        "id": "OvgVhmg1Dw5M"
      }
    },
    {
      "cell_type": "code",
      "source": [
        "is_evens = [True if x % 2 == 0 else False for x in rand_numbers]\n",
        "print(is_evens)"
      ],
      "metadata": {
        "colab": {
          "base_uri": "https://localhost:8080/"
        },
        "id": "lZp8liwQD7B8",
        "outputId": "e46bf708-8fd6-4230-dc09-ab2fd1ca16a3"
      },
      "execution_count": 45,
      "outputs": [
        {
          "output_type": "stream",
          "name": "stdout",
          "text": [
            "[False, True, True, False, True, True, False, True, True, False]\n"
          ]
        }
      ]
    },
    {
      "cell_type": "markdown",
      "source": [
        "# 다차원 리스트"
      ],
      "metadata": {
        "id": "X9WpBZGDLDFU"
      }
    },
    {
      "cell_type": "markdown",
      "source": [
        "다차원 리스트: 리스트들을 아이템(원소)로 갖는 리스트."
      ],
      "metadata": {
        "id": "VkSoVq5RLGlt"
      }
    },
    {
      "cell_type": "code",
      "source": [
        "matrix = [\n",
        "    [1, 2, 3, 4],\n",
        "    [4, 5, 6, 7],\n",
        "    [7, 8, 9, 10]\n",
        "]"
      ],
      "metadata": {
        "id": "-l42Lg9AJavt"
      },
      "execution_count": 49,
      "outputs": []
    },
    {
      "cell_type": "code",
      "source": [
        "print(matrix)"
      ],
      "metadata": {
        "colab": {
          "base_uri": "https://localhost:8080/"
        },
        "id": "F04ZVWomLkzE",
        "outputId": "4dfa0f8f-dbc7-406f-e8c2-98c926ff3c3e"
      },
      "execution_count": 50,
      "outputs": [
        {
          "output_type": "stream",
          "name": "stdout",
          "text": [
            "[[1, 2, 3, 4], [4, 5, 6, 7], [7, 8, 9, 10]]\n"
          ]
        }
      ]
    },
    {
      "cell_type": "code",
      "source": [
        "len(matrix)  # len(obj): obj가 갖고 있는 아이템들의 개수를 리턴."
      ],
      "metadata": {
        "colab": {
          "base_uri": "https://localhost:8080/"
        },
        "id": "i-hdzTt-Ll_U",
        "outputId": "1a6def34-6009-42f7-bd37-2d7e21a222d9"
      },
      "execution_count": 51,
      "outputs": [
        {
          "output_type": "execute_result",
          "data": {
            "text/plain": [
              "3"
            ]
          },
          "metadata": {},
          "execution_count": 51
        }
      ]
    },
    {
      "cell_type": "code",
      "source": [
        "matrix[0]"
      ],
      "metadata": {
        "colab": {
          "base_uri": "https://localhost:8080/"
        },
        "id": "F1Kx-C0BMphP",
        "outputId": "4653aefa-6d09-4a02-9f34-4c2a63d010c9"
      },
      "execution_count": 52,
      "outputs": [
        {
          "output_type": "execute_result",
          "data": {
            "text/plain": [
              "[1, 2, 3, 4]"
            ]
          },
          "metadata": {},
          "execution_count": 52
        }
      ]
    },
    {
      "cell_type": "code",
      "source": [
        "matrix[0][0]"
      ],
      "metadata": {
        "colab": {
          "base_uri": "https://localhost:8080/"
        },
        "id": "owVnDu4oMsX8",
        "outputId": "8052e08a-6253-45af-8fa0-c3655bc5eff1"
      },
      "execution_count": 53,
      "outputs": [
        {
          "output_type": "execute_result",
          "data": {
            "text/plain": [
              "1"
            ]
          },
          "metadata": {},
          "execution_count": 53
        }
      ]
    },
    {
      "cell_type": "markdown",
      "source": [
        "## 다차원 배열과 for 반복문"
      ],
      "metadata": {
        "id": "8HB8UhyfNVD8"
      }
    },
    {
      "cell_type": "code",
      "source": [
        "for row in matrix:\n",
        "    print(row)"
      ],
      "metadata": {
        "colab": {
          "base_uri": "https://localhost:8080/"
        },
        "id": "hqxPwETaM-ic",
        "outputId": "c0b97d05-d510-45cc-a75d-30ece20278e8"
      },
      "execution_count": 54,
      "outputs": [
        {
          "output_type": "stream",
          "name": "stdout",
          "text": [
            "[1, 2, 3, 4]\n",
            "[4, 5, 6, 7]\n",
            "[7, 8, 9, 10]\n"
          ]
        }
      ]
    },
    {
      "cell_type": "code",
      "source": [
        "for row in matrix:\n",
        "    for x in row:\n",
        "        print(x, end='\\t')\n",
        "    print()"
      ],
      "metadata": {
        "colab": {
          "base_uri": "https://localhost:8080/"
        },
        "id": "6EnVDUqSNfy8",
        "outputId": "4ab7a2f0-068e-4495-a326-ab4595a8b904"
      },
      "execution_count": 56,
      "outputs": [
        {
          "output_type": "stream",
          "name": "stdout",
          "text": [
            "1\t2\t3\t4\t\n",
            "4\t5\t6\t7\t\n",
            "7\t8\t9\t10\t\n"
          ]
        }
      ]
    },
    {
      "cell_type": "markdown",
      "source": [
        "# `zip()` 함수와 for 반복문"
      ],
      "metadata": {
        "id": "tEjtKVv-Pdu0"
      }
    },
    {
      "cell_type": "markdown",
      "source": [
        "두 리스트 numbers1과 numbers2의 같은 인덱스 위치의 원소들끼리의 합을 저장하는 리스트를 만들고 출력하세요."
      ],
      "metadata": {
        "id": "6c3k4vJGRJ59"
      }
    },
    {
      "cell_type": "code",
      "source": [
        "numbers1 = [1, 2, 3, 4, 5]\n",
        "numbers2 = [1, 3, 5, 7, 9]"
      ],
      "metadata": {
        "id": "5Bh4jtkYPoA0"
      },
      "execution_count": 57,
      "outputs": []
    },
    {
      "cell_type": "code",
      "source": [
        "# adds = []\n",
        "# for i in range(5):\n",
        "#     adds.append(numbers1[i] + numbers2[i])\n",
        "\n",
        "adds = [numbers1[i] + numbers2[i] for i in range(5)]  # range(len(numbers1))\n",
        "print(adds)"
      ],
      "metadata": {
        "colab": {
          "base_uri": "https://localhost:8080/"
        },
        "id": "AkcLQxk3RqKU",
        "outputId": "d942d11b-0c4b-4316-afd1-f526608f57a8"
      },
      "execution_count": 60,
      "outputs": [
        {
          "output_type": "stream",
          "name": "stdout",
          "text": [
            "[2, 5, 8, 11, 14]\n"
          ]
        }
      ]
    },
    {
      "cell_type": "code",
      "source": [
        "# adds2 = []\n",
        "# for x, y in zip(numbers1, numbers2):\n",
        "#     adds2.append(x + y)\n",
        "\n",
        "adds2 =[x + y for x, y in zip(numbers1, numbers2)]\n",
        "print(adds2)"
      ],
      "metadata": {
        "colab": {
          "base_uri": "https://localhost:8080/"
        },
        "id": "D5OCxPpWT3kM",
        "outputId": "63479360-31cf-4f17-9976-c15a7fc6e4fa"
      },
      "execution_count": 63,
      "outputs": [
        {
          "output_type": "stream",
          "name": "stdout",
          "text": [
            "[2, 5, 8, 11, 14]\n"
          ]
        }
      ]
    }
  ]
}