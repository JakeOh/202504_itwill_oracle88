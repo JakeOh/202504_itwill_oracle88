{
  "nbformat": 4,
  "nbformat_minor": 0,
  "metadata": {
    "colab": {
      "provenance": [],
      "toc_visible": true,
      "authorship_tag": "ABX9TyPgtgfCit4M6KHssVN3FJgG",
      "include_colab_link": true
    },
    "kernelspec": {
      "name": "python3",
      "display_name": "Python 3"
    },
    "language_info": {
      "name": "python"
    }
  },
  "cells": [
    {
      "cell_type": "markdown",
      "metadata": {
        "id": "view-in-github",
        "colab_type": "text"
      },
      "source": [
        "<a href=\"https://colab.research.google.com/github/JakeOh/202504_itwill_oracle88/blob/main/python06.ipynb\" target=\"_parent\"><img src=\"https://colab.research.google.com/assets/colab-badge.svg\" alt=\"Open In Colab\"/></a>"
      ]
    },
    {
      "cell_type": "markdown",
      "source": [
        "# 리스트(List)"
      ],
      "metadata": {
        "id": "rq2ilqBaQ2Cx"
      }
    },
    {
      "cell_type": "markdown",
      "source": [
        "*   `list`: 여러 개의 값들을 하나의 변수에 저장하기 위한 데이터 타입.\n",
        "*   element(원소, 요소): 리스트에 저장된 각각의 값.\n",
        "*   index(인덱스): 리스트에서 각각의 원소들이 저장된 위치(번호).\n",
        "    *   리스트의 인덱스는 **0**부터 시작.\n",
        "    *   리스트의 마지막 인덱스는 (원소 개수 - 1).\n",
        "*   리스트는 원소들을 변경(추가, 삭제)할 수 있음.\n",
        "    *   `tuple`과 다른 점!"
      ],
      "metadata": {
        "id": "f31fjI2pQ7NI"
      }
    },
    {
      "cell_type": "code",
      "execution_count": 1,
      "metadata": {
        "colab": {
          "base_uri": "https://localhost:8080/"
        },
        "id": "fBFcR46dQtnU",
        "outputId": "0a277946-c232-4c08-f745-b471977f9cc8"
      },
      "outputs": [
        {
          "output_type": "stream",
          "name": "stdout",
          "text": [
            "<class 'list'>\n",
            "[1, 2, 10, 20, -1, -2]\n"
          ]
        }
      ],
      "source": [
        "# 숫자들을 저장하는 list\n",
        "numbers = [1, 2, 10, 20, -1, -2]\n",
        "print(type(numbers))\n",
        "print(numbers)"
      ]
    },
    {
      "cell_type": "code",
      "source": [
        "# 여러가지 타입의 원소들을 저장하는 list\n",
        "values = [1, 2, 'hello', '안녕', True, False]\n",
        "print(type(values))\n",
        "print(values)"
      ],
      "metadata": {
        "colab": {
          "base_uri": "https://localhost:8080/"
        },
        "id": "j6dYhrbCTPG7",
        "outputId": "df23ed39-29cc-4f21-d23b-fca36dc737bf"
      },
      "execution_count": 6,
      "outputs": [
        {
          "output_type": "stream",
          "name": "stdout",
          "text": [
            "<class 'list'>\n",
            "[1, 2, 'hello', '안녕', True, False]\n"
          ]
        }
      ]
    },
    {
      "cell_type": "markdown",
      "source": [
        "## Indexing"
      ],
      "metadata": {
        "id": "v8WBtcwVUErY"
      }
    },
    {
      "cell_type": "markdown",
      "source": [
        "인덱스를 사용해서 리스트의 원소를 사용하는 방법."
      ],
      "metadata": {
        "id": "SJjniC5fUKt3"
      }
    },
    {
      "cell_type": "code",
      "source": [
        "numbers  # print(numbers)"
      ],
      "metadata": {
        "colab": {
          "base_uri": "https://localhost:8080/"
        },
        "id": "e-0wh4geUTqh",
        "outputId": "f912aaeb-7251-4b4b-fd0e-2b6d924e2cd0"
      },
      "execution_count": 7,
      "outputs": [
        {
          "output_type": "execute_result",
          "data": {
            "text/plain": [
              "[1, 2, 10, 20, -1, -2]"
            ]
          },
          "metadata": {},
          "execution_count": 7
        }
      ]
    },
    {
      "cell_type": "code",
      "source": [
        "numbers[0]  # 리스트 numbers의 첫번째 원소"
      ],
      "metadata": {
        "colab": {
          "base_uri": "https://localhost:8080/"
        },
        "id": "Fim8qCvdUY5K",
        "outputId": "338532db-f4ac-47ca-9a8e-709b1fdf0ed8"
      },
      "execution_count": 8,
      "outputs": [
        {
          "output_type": "execute_result",
          "data": {
            "text/plain": [
              "1"
            ]
          },
          "metadata": {},
          "execution_count": 8
        }
      ]
    },
    {
      "cell_type": "code",
      "source": [
        "numbers[5]  # 리스트 numbers의 마지막 원소(인덱스 5번 원소)"
      ],
      "metadata": {
        "colab": {
          "base_uri": "https://localhost:8080/"
        },
        "id": "-zEyQ8tlWDIE",
        "outputId": "0e3e68e0-d7b6-41a4-b24b-ea6d21fd8dbb"
      },
      "execution_count": 9,
      "outputs": [
        {
          "output_type": "execute_result",
          "data": {
            "text/plain": [
              "-2"
            ]
          },
          "metadata": {},
          "execution_count": 9
        }
      ]
    },
    {
      "cell_type": "code",
      "source": [
        "numbers[3]  # 리스트 numbers에서 인덱스가 3인 원소"
      ],
      "metadata": {
        "colab": {
          "base_uri": "https://localhost:8080/"
        },
        "id": "gd3QsBxlWRFJ",
        "outputId": "e1cbaba4-2b45-419e-e6c4-5d057426d523"
      },
      "execution_count": 10,
      "outputs": [
        {
          "output_type": "execute_result",
          "data": {
            "text/plain": [
              "20"
            ]
          },
          "metadata": {},
          "execution_count": 10
        }
      ]
    },
    {
      "cell_type": "code",
      "source": [
        "numbers[-1]  # 리스트 numbers의 마지막 원소"
      ],
      "metadata": {
        "colab": {
          "base_uri": "https://localhost:8080/"
        },
        "id": "2_AisqOlWXjB",
        "outputId": "bc296854-d5ef-41dc-89af-f595ca6c74b1"
      },
      "execution_count": 11,
      "outputs": [
        {
          "output_type": "execute_result",
          "data": {
            "text/plain": [
              "-2"
            ]
          },
          "metadata": {},
          "execution_count": 11
        }
      ]
    },
    {
      "cell_type": "code",
      "source": [
        "numbers[-2]  # 리스트 numbers의 끝에서 두번째 원소"
      ],
      "metadata": {
        "id": "_3y1lQqEXRWN"
      },
      "execution_count": null,
      "outputs": []
    }
  ]
}