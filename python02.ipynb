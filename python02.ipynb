{
  "nbformat": 4,
  "nbformat_minor": 0,
  "metadata": {
    "colab": {
      "provenance": [],
      "toc_visible": true,
      "authorship_tag": "ABX9TyOd8oaUx+VejYM6zeF/gPKY",
      "include_colab_link": true
    },
    "kernelspec": {
      "name": "python3",
      "display_name": "Python 3"
    },
    "language_info": {
      "name": "python"
    }
  },
  "cells": [
    {
      "cell_type": "markdown",
      "metadata": {
        "id": "view-in-github",
        "colab_type": "text"
      },
      "source": [
        "<a href=\"https://colab.research.google.com/github/JakeOh/202504_itwill_oracle88/blob/main/python02.ipynb\" target=\"_parent\"><img src=\"https://colab.research.google.com/assets/colab-badge.svg\" alt=\"Open In Colab\"/></a>"
      ]
    },
    {
      "cell_type": "markdown",
      "source": [
        "# 파이썬 자료 형(Python Data Type)"
      ],
      "metadata": {
        "id": "z0QnOQZFbJPo"
      }
    },
    {
      "cell_type": "markdown",
      "source": [
        "\n",
        "\n",
        "*   숫자 타입\n",
        "    *   정수: int\n",
        "    *   실수: float\n",
        "*   문자열 타입: str\n",
        "*   논리 타입: bool\n",
        "\n"
      ],
      "metadata": {
        "id": "a7jGSGOObQKH"
      }
    },
    {
      "cell_type": "code",
      "execution_count": 2,
      "metadata": {
        "colab": {
          "base_uri": "https://localhost:8080/"
        },
        "id": "qJghmE34aMf0",
        "outputId": "acc5fbd2-2acc-442f-f885-085ffb681c26"
      },
      "outputs": [
        {
          "output_type": "stream",
          "name": "stdout",
          "text": [
            "123\n",
            "<class 'int'>\n"
          ]
        }
      ],
      "source": [
        "# 변수 n에 정수 123을 저장\n",
        "n = 123\n",
        "# 변수 n을 출력\n",
        "print(n)\n",
        "# 변수 n의 타입을 출력\n",
        "print(type(n))"
      ]
    },
    {
      "cell_type": "code",
      "source": [
        "pi = 3.141592  # 변수 pi에 값 3.141592를 저장(할당)\n",
        "print(pi)  # 변수 pi에 할당된 값을 출력\n",
        "print(type(pi))  # 변수 pi의 타입의 출력"
      ],
      "metadata": {
        "colab": {
          "base_uri": "https://localhost:8080/"
        },
        "id": "AqcDBMSYdjYA",
        "outputId": "757c0b81-4b0d-48bf-ac2f-723fa22d8a6a"
      },
      "execution_count": 3,
      "outputs": [
        {
          "output_type": "stream",
          "name": "stdout",
          "text": [
            "3.141592\n",
            "<class 'float'>\n"
          ]
        }
      ]
    },
    {
      "cell_type": "code",
      "source": [
        "s = '안녕하세요'\n",
        "print(s)\n",
        "print(type(s))"
      ],
      "metadata": {
        "colab": {
          "base_uri": "https://localhost:8080/"
        },
        "id": "gjeMCjsCeSYW",
        "outputId": "47c49c25-8482-4347-9334-26ed3fa48669"
      },
      "execution_count": 4,
      "outputs": [
        {
          "output_type": "stream",
          "name": "stdout",
          "text": [
            "안녕하세요\n",
            "<class 'str'>\n"
          ]
        }
      ]
    },
    {
      "cell_type": "markdown",
      "source": [
        "논리 타입: 참(True) 또는 거짓(False)을 저장하는 타입."
      ],
      "metadata": {
        "id": "FClr9GbFevR2"
      }
    },
    {
      "cell_type": "code",
      "source": [
        "b = True\n",
        "print(b)\n",
        "print(type(b))"
      ],
      "metadata": {
        "colab": {
          "base_uri": "https://localhost:8080/"
        },
        "id": "XB1edVGGetzQ",
        "outputId": "9eabb601-2563-4828-a947-3d9cf778c380"
      },
      "execution_count": 9,
      "outputs": [
        {
          "output_type": "stream",
          "name": "stdout",
          "text": [
            "True\n",
            "<class 'bool'>\n"
          ]
        }
      ]
    },
    {
      "cell_type": "code",
      "source": [
        "b = 10 < 5\n",
        "print(b)"
      ],
      "metadata": {
        "colab": {
          "base_uri": "https://localhost:8080/"
        },
        "id": "MAGxyjLlf3hn",
        "outputId": "89982056-411b-421d-f91e-6bec9b1c0280"
      },
      "execution_count": 11,
      "outputs": [
        {
          "output_type": "stream",
          "name": "stdout",
          "text": [
            "False\n"
          ]
        }
      ]
    },
    {
      "cell_type": "markdown",
      "source": [
        "# 명시적 타입 변환(explicit type conversion)"
      ],
      "metadata": {
        "id": "LU9nALzGg3WY"
      }
    },
    {
      "cell_type": "markdown",
      "source": [
        "*   `int(arg)`: 아규먼트로 전달된 값을 정수로 변환하는 함수.\n",
        "    *   문자열 -> 정수\n",
        "    *   실수 -> 정수\n",
        "*   `float(arg)`: 아규먼트로 전달된 값을 실수로 변환하는 함수.\n",
        "    *   문자열 -> 실수\n",
        "    *   정수 -> 실수\n",
        "*   `str(arg)`: 아규먼트로 전달된 값을 문자열로 변환하는 함수.\n",
        "    *   정수, 실수, ... -> 문자열"
      ],
      "metadata": {
        "id": "B2zdbEfdg80Y"
      }
    },
    {
      "cell_type": "code",
      "source": [
        "num_str = '1004'\n",
        "print(type(num_str))  #> str\n",
        "num = int(num_str)  # 문자열을 정수로 변환해서 변수 num에 저장(할당)\n",
        "print(type(num))  #> int\n",
        "print(num)"
      ],
      "metadata": {
        "colab": {
          "base_uri": "https://localhost:8080/"
        },
        "id": "MLNZt-tSiWRp",
        "outputId": "703fe6e6-ddac-451a-81c6-3afab792ff73"
      },
      "execution_count": 14,
      "outputs": [
        {
          "output_type": "stream",
          "name": "stdout",
          "text": [
            "<class 'str'>\n",
            "<class 'int'>\n",
            "1004\n"
          ]
        }
      ]
    },
    {
      "cell_type": "code",
      "source": [
        "pi_int = int(pi)\n",
        "print(type(pi_int))\n",
        "print(pi_int)"
      ],
      "metadata": {
        "colab": {
          "base_uri": "https://localhost:8080/"
        },
        "id": "qv4SpwaximTh",
        "outputId": "53510759-7afd-4def-9610-b080f8e21d6d"
      },
      "execution_count": 15,
      "outputs": [
        {
          "output_type": "stream",
          "name": "stdout",
          "text": [
            "<class 'int'>\n",
            "3\n"
          ]
        }
      ]
    }
  ]
}