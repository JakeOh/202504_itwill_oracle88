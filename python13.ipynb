{
  "nbformat": 4,
  "nbformat_minor": 0,
  "metadata": {
    "colab": {
      "provenance": [],
      "toc_visible": true,
      "authorship_tag": "ABX9TyPwzF1CeTbO/TGfTsBrJg0Z",
      "include_colab_link": true
    },
    "kernelspec": {
      "name": "python3",
      "display_name": "Python 3"
    },
    "language_info": {
      "name": "python"
    }
  },
  "cells": [
    {
      "cell_type": "markdown",
      "metadata": {
        "id": "view-in-github",
        "colab_type": "text"
      },
      "source": [
        "<a href=\"https://colab.research.google.com/github/JakeOh/202504_itwill_oracle88/blob/main/python13.ipynb\" target=\"_parent\"><img src=\"https://colab.research.google.com/assets/colab-badge.svg\" alt=\"Open In Colab\"/></a>"
      ]
    },
    {
      "cell_type": "markdown",
      "source": [
        "# 객체지향 프로그래밍 배경"
      ],
      "metadata": {
        "id": "R6C1UPHdvvU6"
      }
    },
    {
      "cell_type": "code",
      "execution_count": 7,
      "metadata": {
        "id": "aq7okvjkvI9D"
      },
      "outputs": [],
      "source": [
        "students = [\n",
        "    {'name': '홍길동', 'korean': 90, 'english': 80, 'math': 70},\n",
        "    {'name': '오쌤', 'korean': 77, 'english': 66, 'math': 80},\n",
        "    {'name': 'Scott', 'korean': 50, 'english': 100, 'math': 95}\n",
        "]"
      ]
    },
    {
      "cell_type": "code",
      "source": [
        "# 이름, 총점, 평균을 출력.\n",
        "for s in students:\n",
        "    total = s['korean'] + s['english'] + s['math']\n",
        "    mean = total / 3\n",
        "    print(f'이름: {s[\"name\"]}, 총점: {total}, 평균:{mean}')\n",
        "    # f\"이름: {s['name']}, 총점: {total}, 평균: {mean}\""
      ],
      "metadata": {
        "colab": {
          "base_uri": "https://localhost:8080/"
        },
        "id": "mR6OLU8mw5oa",
        "outputId": "f8b2a5a3-f1e3-42e7-f2cb-de5b18835079"
      },
      "execution_count": 8,
      "outputs": [
        {
          "output_type": "stream",
          "name": "stdout",
          "text": [
            "이름: 홍길동, 총점: 240, 평균:80.0\n",
            "이름: 오쌤, 총점: 223, 평균:74.33333333333333\n",
            "이름: Scott, 총점: 245, 평균:81.66666666666667\n"
          ]
        }
      ]
    },
    {
      "cell_type": "markdown",
      "source": [
        "위의 프로그래밍 방식의 문제점은 dict의 키는 중복되지만 않게 만들면 되기 때문에, 반복문에서 총점과 평균을 계산하는 기능이 동작하지 않을 수도 있다."
      ],
      "metadata": {
        "id": "vFNH5QE50gOw"
      }
    },
    {
      "cell_type": "markdown",
      "source": [
        "## 함수형 프로그래밍(Functional Programming)"
      ],
      "metadata": {
        "id": "q1NbocRr06dJ"
      }
    },
    {
      "cell_type": "code",
      "source": [
        "def create_student(name, korean, english, math):\n",
        "    student = {'name': name,\n",
        "               'korean': korean,\n",
        "               'english': english,\n",
        "               'math': math}\n",
        "\n",
        "    return student"
      ],
      "metadata": {
        "id": "BjxNPtga1EZH"
      },
      "execution_count": 9,
      "outputs": []
    },
    {
      "cell_type": "code",
      "source": [
        "students = [\n",
        "    create_student('홍길동', 90, 100, 80),\n",
        "    create_student('오쌤', 50, 55, 65),\n",
        "    create_student('Scott', 70, 100, 90)\n",
        "]\n",
        "print(students)"
      ],
      "metadata": {
        "colab": {
          "base_uri": "https://localhost:8080/"
        },
        "id": "qnPhhu9X1chz",
        "outputId": "221ad46d-f804-4e8d-c558-afb7f6224794"
      },
      "execution_count": 10,
      "outputs": [
        {
          "output_type": "stream",
          "name": "stdout",
          "text": [
            "[{'name': '홍길동', 'korean': 90, 'english': 100, 'math': 80}, {'name': '오쌤', 'korean': 50, 'english': 55, 'math': 65}, {'name': 'Scott', 'korean': 70, 'english': 100, 'math': 90}]\n"
          ]
        }
      ]
    },
    {
      "cell_type": "code",
      "source": [
        "def get_total(student):\n",
        "    return student['korean'] + student['english'] + student['math']"
      ],
      "metadata": {
        "id": "WWXezt1K2TbQ"
      },
      "execution_count": 11,
      "outputs": []
    },
    {
      "cell_type": "code",
      "source": [
        "def get_mean(student):\n",
        "    return get_total(student) / 3"
      ],
      "metadata": {
        "id": "9E6JVftc2kJi"
      },
      "execution_count": 12,
      "outputs": []
    },
    {
      "cell_type": "code",
      "source": [
        "for s in students:\n",
        "    total = get_total(s)\n",
        "    mean = get_mean(s)\n",
        "    print(f\"이름: {s['name']}, 총점: {total}, 평균: {mean}\")"
      ],
      "metadata": {
        "colab": {
          "base_uri": "https://localhost:8080/"
        },
        "id": "p6D5xd3x2scg",
        "outputId": "2dba520a-e08e-4c04-847b-81fe3965f296"
      },
      "execution_count": 13,
      "outputs": [
        {
          "output_type": "stream",
          "name": "stdout",
          "text": [
            "이름: 홍길동, 총점: 270, 평균: 90.0\n",
            "이름: 오쌤, 총점: 170, 평균: 56.666666666666664\n",
            "이름: Scott, 총점: 260, 평균: 86.66666666666667\n"
          ]
        }
      ]
    },
    {
      "cell_type": "markdown",
      "source": [
        "총점을 계산하는 함수 get_total()과 평균을 계산하는 함수 get_mean()은 학생 dict와 매우 밀접한 관계를 가지고 있음.\n",
        "\n",
        "데이터(국어, 영어, 수학)와 기능(총점, 평균 계산)이 밀접한 관계를 가지고 있음.\n",
        "\n",
        "데이터와 기능을 하나로 묶을 수 있을까?"
      ],
      "metadata": {
        "id": "EAElJ7qY3SgQ"
      }
    },
    {
      "cell_type": "markdown",
      "source": [
        "## 객체 지향 프로그래밍(Object-Oriented Programming)"
      ],
      "metadata": {
        "id": "GHRoJ-e_4Jdn"
      }
    },
    {
      "cell_type": "markdown",
      "source": [
        "*   객체(object): 프로그램에서 구현할 대상. 자료 구조.\n",
        "*   클래스(class): 객체를 만들기 위한 설계도(코드).\n",
        "    *   속성(attribute, property): 객체가 가져야할 데이터.\n",
        "    *   메서드(method): 객체가 가져야할 기능. 클래스 내부에서 선언하는 함수.\n",
        "*   인스턴스(instance): 메모리에 생성된 객체. 클래스 타입으로 생성된 객체.\n",
        "*   생성자(constructor): 클래스 이름과 동일한 함수. 객체를 생성해 주는 함수.\n",
        "    *   생성자를 호출하면 클래스에서 선언된 `__init__()` 메서드가 호출됨."
      ],
      "metadata": {
        "id": "d7bZyH7x89oQ"
      }
    },
    {
      "cell_type": "code",
      "source": [
        "# 클래스 선언\n",
        "class Student:\n",
        "    # __init__() 메서드: 생성자를 호출했을 때 실행할 코드. 객체가 가져야 하는 속성의 값들을 초기화.\n",
        "    def __init__(self, name, korean, english, math):\n",
        "        self.name = name\n",
        "        self.korean = korean\n",
        "        self.english = english\n",
        "        self.math = math\n",
        "\n",
        "    # 메서드: 클래스에서 선언하는 메서드.\n",
        "    def get_total(self):\n",
        "        return self.korean + self.english + self.math\n",
        "\n",
        "    def get_mean(self):\n",
        "        return self.get_total() / 3"
      ],
      "metadata": {
        "id": "jVtxY9YS-uJv"
      },
      "execution_count": 14,
      "outputs": []
    },
    {
      "cell_type": "code",
      "source": [
        "student1 = Student('홍길동', 100, 80, 95)  # 생성자 호출. 객체 생성. 인스턴스 생성.\n",
        "print(student1)\n",
        "print('이름:', student1.name)\n",
        "print('국어 점수:', student1.korean)\n",
        "print('영어 점수:', student1.english)\n",
        "print('수학 점수:', student1.math)\n",
        "print('총점:', student1.get_total())\n",
        "print('평균:', student1.get_mean())"
      ],
      "metadata": {
        "colab": {
          "base_uri": "https://localhost:8080/"
        },
        "id": "mMqT40kIAPl6",
        "outputId": "97160b23-5d6c-4a66-be46-7bfda850a305"
      },
      "execution_count": 17,
      "outputs": [
        {
          "output_type": "stream",
          "name": "stdout",
          "text": [
            "<__main__.Student object at 0x7d522ad2a690>\n",
            "이름: 홍길동\n",
            "국어 점수: 100\n",
            "영어 점수: 80\n",
            "수학 점수: 95\n",
            "총점: 275\n",
            "평균: 91.66666666666667\n"
          ]
        }
      ]
    },
    {
      "cell_type": "code",
      "source": [
        "student2 = Student('오쌤', 50, 45, 33)\n",
        "print('이름:', student2.name)\n",
        "print('국어 점수:', student2.korean)\n",
        "print('영어 점수:', student2.english)\n",
        "print('수학 점수:', student2.math)\n",
        "print('총점:', student2.get_total())\n",
        "print('평균:', student2.get_mean())"
      ],
      "metadata": {
        "colab": {
          "base_uri": "https://localhost:8080/"
        },
        "id": "XbKzNNwdDzXA",
        "outputId": "6c5251e8-9cf6-4376-9557-2867ebdf9b53"
      },
      "execution_count": 18,
      "outputs": [
        {
          "output_type": "stream",
          "name": "stdout",
          "text": [
            "이름: 오쌤\n",
            "국어 점수: 50\n",
            "영어 점수: 45\n",
            "수학 점수: 33\n",
            "총점: 128\n",
            "평균: 42.666666666666664\n"
          ]
        }
      ]
    }
  ]
}