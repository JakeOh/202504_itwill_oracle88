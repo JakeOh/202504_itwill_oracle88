{
  "nbformat": 4,
  "nbformat_minor": 0,
  "metadata": {
    "colab": {
      "provenance": [],
      "toc_visible": true,
      "authorship_tag": "ABX9TyN8YtgTP8SerU2B6mroVpmJ",
      "include_colab_link": true
    },
    "kernelspec": {
      "name": "python3",
      "display_name": "Python 3"
    },
    "language_info": {
      "name": "python"
    }
  },
  "cells": [
    {
      "cell_type": "markdown",
      "metadata": {
        "id": "view-in-github",
        "colab_type": "text"
      },
      "source": [
        "<a href=\"https://colab.research.google.com/github/JakeOh/202504_itwill_oracle88/blob/main/python03.ipynb\" target=\"_parent\"><img src=\"https://colab.research.google.com/assets/colab-badge.svg\" alt=\"Open In Colab\"/></a>"
      ]
    },
    {
      "cell_type": "markdown",
      "source": [
        "# 조건문"
      ],
      "metadata": {
        "id": "bL4VTwly6c7f"
      }
    },
    {
      "cell_type": "markdown",
      "source": [
        "## else 없는 조건문"
      ],
      "metadata": {
        "id": "VLrQUpRK6iUc"
      }
    },
    {
      "cell_type": "markdown",
      "source": [
        "```\n",
        "if 조건식:\n",
        "    조건식을 만족할 때 실행할 코드 블록(문장들)\n",
        "```\n",
        "\n",
        "*   `if 조건식` 뒤에는 반드시 콜론(:)을 써야 함. 블록 시작을 의미.\n",
        "*   if 블록은 반드시 들여쓰기(indentation)를 해야 됨.\n",
        "*   들여쓰기의 크기는 일정해야 함."
      ],
      "metadata": {
        "id": "eCHs5RX36oes"
      }
    },
    {
      "cell_type": "code",
      "execution_count": 7,
      "metadata": {
        "colab": {
          "base_uri": "https://localhost:8080/"
        },
        "id": "J1Y-RC8S6PKv",
        "outputId": "ac898034-4219-4452-e70c-e9e398019c3b"
      },
      "outputs": [
        {
          "output_type": "stream",
          "name": "stdout",
          "text": [
            "몇 살이세요? -20\n",
            "=== end ===\n"
          ]
        }
      ],
      "source": [
        "age = int(input('몇 살이세요? '))\n",
        "if age >= 0:\n",
        "    print(f'당신은 {age}살이군요.')\n",
        "print('=== end ===')"
      ]
    },
    {
      "cell_type": "markdown",
      "source": [
        "## else 있는 조건문"
      ],
      "metadata": {
        "id": "ckOy7WiFCtk1"
      }
    },
    {
      "cell_type": "markdown",
      "source": [
        "```\n",
        "if 조건식:\n",
        "    조건식을 만족할 때 실행할 코드 블록 (1)\n",
        "else:\n",
        "    조건식을 만족하지 못할 때 실행할 코드 블록 (2)\n",
        "```\n",
        "\n",
        "*   조건식을 만족하면 (1) 블록을 실행. 조건을 만족하지 못하면 (2) 블록을 실행.\n",
        "*   `if 조건식`과 `else` 다음에는 반드시 콜론(:)을 써야 함.\n",
        "*   if 블록(1)과 else 블록(2)은 반드시 들여쓰기를 해야 함.\n",
        "*   들여쓰기의 크기는 일정해야 됨.\n"
      ],
      "metadata": {
        "id": "o3G3pF23Czld"
      }
    },
    {
      "cell_type": "code",
      "source": [
        "age = int(input('몇 살이세요? '))\n",
        "if age >= 0:\n",
        "    print(f'당신은 {age}살이군요.')\n",
        "else:\n",
        "    print('나이를 잘못 입력하셨어요.')\n",
        "print('=== end ===')"
      ],
      "metadata": {
        "colab": {
          "base_uri": "https://localhost:8080/"
        },
        "id": "J-r1ABwREP0M",
        "outputId": "686ee255-6f9c-4ee8-f946-78ba5024c555"
      },
      "execution_count": 9,
      "outputs": [
        {
          "output_type": "stream",
          "name": "stdout",
          "text": [
            "몇 살이세요? -1\n",
            "나이를 잘못 입력하셨어요.\n",
            "=== end ===\n"
          ]
        }
      ]
    },
    {
      "cell_type": "code",
      "source": [
        "# 정수를 입력받아서 변수에 저장\n",
        "number = int(input('정수 입력>>> '))\n",
        "\n",
        "if number % 2 == 0:\n",
        "    # 입력받은 정수가 짝수이면 '짝수'라고 출력\n",
        "    print('짝수')\n",
        "else:\n",
        "    # 그렇지 않으면 '홀수'라고 출력\n",
        "    print('홀수')"
      ],
      "metadata": {
        "colab": {
          "base_uri": "https://localhost:8080/"
        },
        "id": "ZiaZTK0mGiJs",
        "outputId": "8f7c13d3-7d2b-4705-ac24-a9460b51eb51"
      },
      "execution_count": 11,
      "outputs": [
        {
          "output_type": "stream",
          "name": "stdout",
          "text": [
            "정수 입력>>> 100\n",
            "짝수\n"
          ]
        }
      ]
    }
  ]
}