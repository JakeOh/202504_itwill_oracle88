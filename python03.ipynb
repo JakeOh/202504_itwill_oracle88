{
  "nbformat": 4,
  "nbformat_minor": 0,
  "metadata": {
    "colab": {
      "provenance": [],
      "toc_visible": true,
      "authorship_tag": "ABX9TyN2Nf1VdT2mgGoiwq+UoQxk",
      "include_colab_link": true
    },
    "kernelspec": {
      "name": "python3",
      "display_name": "Python 3"
    },
    "language_info": {
      "name": "python"
    }
  },
  "cells": [
    {
      "cell_type": "markdown",
      "metadata": {
        "id": "view-in-github",
        "colab_type": "text"
      },
      "source": [
        "<a href=\"https://colab.research.google.com/github/JakeOh/202504_itwill_oracle88/blob/main/python03.ipynb\" target=\"_parent\"><img src=\"https://colab.research.google.com/assets/colab-badge.svg\" alt=\"Open In Colab\"/></a>"
      ]
    },
    {
      "cell_type": "markdown",
      "source": [
        "# 조건문"
      ],
      "metadata": {
        "id": "bL4VTwly6c7f"
      }
    },
    {
      "cell_type": "markdown",
      "source": [
        "## else 없는 조건문"
      ],
      "metadata": {
        "id": "VLrQUpRK6iUc"
      }
    },
    {
      "cell_type": "markdown",
      "source": [
        "```\n",
        "if 조건식:\n",
        "    조건식을 만족할 때 실행할 코드 블록(문장들)\n",
        "```\n",
        "\n",
        "*   `if 조건식` 뒤에는 반드시 콜론(:)을 써야 함. 블록 시작을 의미.\n",
        "*   if 블록은 반드시 들여쓰기(indentation)를 해야 됨.\n",
        "*   들여쓰기의 크기는 일정해야 함."
      ],
      "metadata": {
        "id": "eCHs5RX36oes"
      }
    },
    {
      "cell_type": "code",
      "execution_count": null,
      "metadata": {
        "colab": {
          "base_uri": "https://localhost:8080/"
        },
        "id": "J1Y-RC8S6PKv",
        "outputId": "ac898034-4219-4452-e70c-e9e398019c3b"
      },
      "outputs": [
        {
          "output_type": "stream",
          "name": "stdout",
          "text": [
            "몇 살이세요? -20\n",
            "=== end ===\n"
          ]
        }
      ],
      "source": [
        "age = int(input('몇 살이세요? '))\n",
        "if age >= 0:\n",
        "    print(f'당신은 {age}살이군요.')\n",
        "print('=== end ===')"
      ]
    },
    {
      "cell_type": "markdown",
      "source": [
        "## else 있는 조건문"
      ],
      "metadata": {
        "id": "ckOy7WiFCtk1"
      }
    },
    {
      "cell_type": "markdown",
      "source": [
        "```\n",
        "if 조건식:\n",
        "    조건식을 만족할 때 실행할 코드 블록 (1)\n",
        "else:\n",
        "    조건식을 만족하지 못할 때 실행할 코드 블록 (2)\n",
        "```\n",
        "\n",
        "*   조건식을 만족하면 (1) 블록을 실행. 조건을 만족하지 못하면 (2) 블록을 실행.\n",
        "*   `if 조건식`과 `else` 다음에는 반드시 콜론(:)을 써야 함.\n",
        "*   if 블록(1)과 else 블록(2)은 반드시 들여쓰기를 해야 함.\n",
        "*   들여쓰기의 크기는 일정해야 됨.\n"
      ],
      "metadata": {
        "id": "o3G3pF23Czld"
      }
    },
    {
      "cell_type": "code",
      "source": [
        "age = int(input('몇 살이세요? '))\n",
        "if age >= 0:\n",
        "    print(f'당신은 {age}살이군요.')\n",
        "else:\n",
        "    print('나이를 잘못 입력하셨어요.')\n",
        "print('=== end ===')"
      ],
      "metadata": {
        "colab": {
          "base_uri": "https://localhost:8080/"
        },
        "id": "J-r1ABwREP0M",
        "outputId": "686ee255-6f9c-4ee8-f946-78ba5024c555"
      },
      "execution_count": null,
      "outputs": [
        {
          "output_type": "stream",
          "name": "stdout",
          "text": [
            "몇 살이세요? -1\n",
            "나이를 잘못 입력하셨어요.\n",
            "=== end ===\n"
          ]
        }
      ]
    },
    {
      "cell_type": "code",
      "source": [
        "# 정수를 입력받아서 변수에 저장\n",
        "number = int(input('정수 입력>>> '))\n",
        "\n",
        "if number % 2 == 0:\n",
        "    # 입력받은 정수가 짝수이면 '짝수'라고 출력\n",
        "    print('짝수')\n",
        "else:\n",
        "    # 그렇지 않으면 '홀수'라고 출력\n",
        "    print('홀수')"
      ],
      "metadata": {
        "colab": {
          "base_uri": "https://localhost:8080/"
        },
        "id": "ZiaZTK0mGiJs",
        "outputId": "8f7c13d3-7d2b-4705-ac24-a9460b51eb51"
      },
      "execution_count": null,
      "outputs": [
        {
          "output_type": "stream",
          "name": "stdout",
          "text": [
            "정수 입력>>> 100\n",
            "짝수\n"
          ]
        }
      ]
    },
    {
      "cell_type": "markdown",
      "source": [
        "Falsy Value: 파이썬에서 거짓(False)로 취급하는 값.\n",
        "\n",
        "*   숫자 0\n",
        "*   빈 문자열('', \"\")\n",
        "*   빈 리스트([])\n",
        "*   None(변수에 값을 할당하지 않을 때 사용하는 파이썬 예약어)\n"
      ],
      "metadata": {
        "id": "LA8x1gT1NJZW"
      }
    },
    {
      "cell_type": "code",
      "source": [
        "number = int(input('정수 입력>>> '))\n",
        "if number % 2:\n",
        "    # 변수 number를 2로 나눈 나머지가 있으면\n",
        "    print('홀수')\n",
        "else:\n",
        "    # 나머지가 없으면\n",
        "    print('짝수')"
      ],
      "metadata": {
        "colab": {
          "base_uri": "https://localhost:8080/"
        },
        "id": "4Am9BXNKONL1",
        "outputId": "ee8650ff-cfd7-4f7c-fdf0-616e7b02f04d"
      },
      "execution_count": null,
      "outputs": [
        {
          "output_type": "stream",
          "name": "stdout",
          "text": [
            "정수 입력>>> 1234\n",
            "짝수\n"
          ]
        }
      ]
    },
    {
      "cell_type": "markdown",
      "source": [
        "## chained conditionals"
      ],
      "metadata": {
        "id": "8vIe8dkFPiOc"
      }
    },
    {
      "cell_type": "markdown",
      "source": [
        "```\n",
        "if 조건식1:\n",
        "    (조건식1)이 True인 경우 실행할 블록\n",
        "elif 조건식2:\n",
        "    (조건식2)이 True인 경우 실행할 블록\n",
        "...\n",
        "else:\n",
        "    위의 조건식들이 False일 때 실행할 블록\n",
        "```\n",
        "\n",
        "*   모든 블록들은 같은 크기로 들여쓰기를 해야 함.\n",
        "*   `elif 조건식` 블록은 1개 이상이 있을 수 있음.\n",
        "*   else 블록은 생략할 수 있음.\n"
      ],
      "metadata": {
        "id": "I3czAlJ2Poac"
      }
    },
    {
      "cell_type": "code",
      "source": [
        "number = float(input('숫자 입력>>> '))\n",
        "if number > 0:\n",
        "    print('양수')\n",
        "elif number < 0:\n",
        "    print('음수')\n",
        "else:\n",
        "    print('zero')"
      ],
      "metadata": {
        "colab": {
          "base_uri": "https://localhost:8080/"
        },
        "id": "cFZOQF-qQ7WN",
        "outputId": "410f64be-d9b1-457a-f5cc-c59dd6b5ec82"
      },
      "execution_count": null,
      "outputs": [
        {
          "output_type": "stream",
          "name": "stdout",
          "text": [
            "숫자 입력>>> -1\n",
            "음수\n"
          ]
        }
      ]
    },
    {
      "cell_type": "markdown",
      "source": [
        "## 중첩 조건문"
      ],
      "metadata": {
        "id": "82HweTcXSfQN"
      }
    },
    {
      "cell_type": "markdown",
      "source": [
        "*   if 블록, elif 블록, 또는 else 블록 안에서 또다른 조건문(if 문, if-else 문, if-elif-else 문)을 사용하는 것.\n",
        "*   들여쓰기를 특히 주의!\n",
        "*   들여쓰기 방식에 따라서 전혀 다른 로직의 실행문이 될 수 있음.\n",
        "*   논리 연산자(and, or)를 사용하는 문장 또는 elif 블록을 중첩 조건문으로 바꿀 수 있음."
      ],
      "metadata": {
        "id": "nHpVAImNSi3s"
      }
    },
    {
      "cell_type": "code",
      "source": [
        "number = float(input('숫자 입력>>> '))\n",
        "if number > 0:\n",
        "    print('양수')\n",
        "else:\n",
        "    if number < 0:\n",
        "        print('음수')\n",
        "    else:\n",
        "        print('zero')"
      ],
      "metadata": {
        "colab": {
          "base_uri": "https://localhost:8080/"
        },
        "id": "jt-f4X4hTXvs",
        "outputId": "61cc0be1-96de-4de5-d7e3-2ee6b74a9895"
      },
      "execution_count": null,
      "outputs": [
        {
          "output_type": "stream",
          "name": "stdout",
          "text": [
            "숫자 입력>>> -123\n",
            "음수\n"
          ]
        }
      ]
    },
    {
      "cell_type": "markdown",
      "source": [
        "연습문제:\n",
        "\n",
        "1. 정수를 3개 입력받고 각각 변수에 저장\n",
        "2. 3개 정수의 총점, 평균을 계산하고 출력\n",
        "3. 평균이 90 이상이면 'A', 80 이상이면 'B', 70 이상이면 'C', 60 이상이면 'D', 60 미만이면 'F'라고 출력."
      ],
      "metadata": {
        "id": "2iURtwxGUqg1"
      }
    },
    {
      "cell_type": "code",
      "source": [
        "score1 = int(input('점수 1 입력>>> '))\n",
        "score2 = int(input('점수 2 입력>>> '))\n",
        "score3 = int(input('점수 3 입력>>> '))\n",
        "\n",
        "total = score1 + score2 + score3\n",
        "print(f'총점 = {total}')\n",
        "mean = total / 3\n",
        "print(f'평균 = {mean}')\n",
        "\n",
        "if mean >= 90:\n",
        "    print('A')\n",
        "elif mean >= 80:\n",
        "    print('B')\n",
        "elif mean >= 70:\n",
        "    print('C')\n",
        "elif mean >= 60:\n",
        "    print('D')\n",
        "else:\n",
        "    print('F')"
      ],
      "metadata": {
        "colab": {
          "base_uri": "https://localhost:8080/"
        },
        "id": "0XYjQc8cVced",
        "outputId": "6b19461d-9095-4ea5-f8e7-84864bd81da2"
      },
      "execution_count": null,
      "outputs": [
        {
          "output_type": "stream",
          "name": "stdout",
          "text": [
            "점수 1 입력>>> 71\n",
            "점수 2 입력>>> 80\n",
            "점수 3 입력>>> 74\n",
            "총점 = 225\n",
            "평균 = 75.0\n",
            "C\n"
          ]
        }
      ]
    },
    {
      "cell_type": "markdown",
      "source": [
        "# match 문"
      ],
      "metadata": {
        "id": "bpvKXjSkrC6M"
      }
    },
    {
      "cell_type": "markdown",
      "source": [
        "\n",
        "```\n",
        "match 변수(식):\n",
        "    case 값1:\n",
        "        변수(식)의 결과가 값1인 경우 실행할 코드 블록\n",
        "    case 값2:\n",
        "        변수(식)의 결과가 값2인 경우 실행할 코드 블록\n",
        "    ...\n",
        "```\n"
      ],
      "metadata": {
        "id": "wT2Sa0-orMZV"
      }
    },
    {
      "cell_type": "code",
      "source": [
        "day = int(input('0 ~ 6 사이의 정수 입력>>> '))\n",
        "match day:\n",
        "    case 0:\n",
        "        print('일요일')\n",
        "    case 1:\n",
        "        print('월요일')\n",
        "    case 2:\n",
        "        print('화요일')\n",
        "    case 3:\n",
        "        print('수요일')\n",
        "    case 4:\n",
        "        print('목요일')\n",
        "    case 5:\n",
        "        print('금요일')\n",
        "    case 6:\n",
        "        print('토요일')"
      ],
      "metadata": {
        "colab": {
          "base_uri": "https://localhost:8080/"
        },
        "id": "Y5QAzPIJryF8",
        "outputId": "603a9ea9-dc1e-4171-dee1-20ebf10039b8"
      },
      "execution_count": null,
      "outputs": [
        {
          "output_type": "stream",
          "name": "stdout",
          "text": [
            "0 ~ 6 사이의 정수 입력>>> 6\n",
            "토요일\n"
          ]
        }
      ]
    },
    {
      "cell_type": "code",
      "source": [
        "day = int(input('0 ~ 6 사이의 정수 입력>>> '))\n",
        "match day:\n",
        "    case 1 | 2 | 3 | 4 | 5:\n",
        "        print('학원 가야함.')\n",
        "    case 0 | 6:\n",
        "        print('주말.. 잘 놀아야지...')"
      ],
      "metadata": {
        "colab": {
          "base_uri": "https://localhost:8080/"
        },
        "id": "Cc5v26WvtTK8",
        "outputId": "42a8e8a8-7e3d-4201-8303-b238cbc97d4d"
      },
      "execution_count": null,
      "outputs": [
        {
          "output_type": "stream",
          "name": "stdout",
          "text": [
            "0 ~ 6 사이의 정수 입력>>> 0\n",
            "주말.. 잘 놀아야지...\n"
          ]
        }
      ]
    },
    {
      "cell_type": "code",
      "source": [
        "day = int(input('0 ~ 6 사이의 정수 입력>>> '))\n",
        "match day:\n",
        "    case 1 | 2 | 3 | 4 | 5:\n",
        "        print('평일')\n",
        "    case 0 | 6:\n",
        "        print('주말')\n",
        "    case _:  # 위에서 나열된 case들 이외의 나머지 전부\n",
        "        print('숫자를 잘못 입력했어요...')"
      ],
      "metadata": {
        "colab": {
          "base_uri": "https://localhost:8080/"
        },
        "id": "A511b7hcu_4z",
        "outputId": "2ca02b58-427d-4d7f-a1bb-ab917b9a6fa8"
      },
      "execution_count": null,
      "outputs": [
        {
          "output_type": "stream",
          "name": "stdout",
          "text": [
            "0 ~ 6 사이의 정수 입력>>> 123456789\n",
            "숫자를 잘못 입력했어요...\n"
          ]
        }
      ]
    },
    {
      "cell_type": "markdown",
      "source": [
        "# 난수(random number) 생성 방법"
      ],
      "metadata": {
        "id": "feZmmOFlwakk"
      }
    },
    {
      "cell_type": "code",
      "source": [
        "import random  # 난수 생성 기능(함수)들을 가지고 있는 random 모듈을 사용."
      ],
      "metadata": {
        "id": "KP1AEyrMwhxk"
      },
      "execution_count": null,
      "outputs": []
    },
    {
      "cell_type": "code",
      "source": [
        "random.random()  # random.random(): 0 <= x < 1 범위의 실수 난수를 생성."
      ],
      "metadata": {
        "colab": {
          "base_uri": "https://localhost:8080/"
        },
        "id": "0872KsinwoYl",
        "outputId": "5dc3f1ee-8264-4ebb-93ca-152f52e7d4ba"
      },
      "execution_count": null,
      "outputs": [
        {
          "output_type": "execute_result",
          "data": {
            "text/plain": [
              "0.9970323124115305"
            ]
          },
          "metadata": {},
          "execution_count": 115
        }
      ]
    },
    {
      "cell_type": "code",
      "source": [
        "random.randrange(0, 3)  # random.randrange(start, stop): start <= x < stop 범위의 정수 난수를 생성."
      ],
      "metadata": {
        "colab": {
          "base_uri": "https://localhost:8080/"
        },
        "id": "GhlyIs-dxuCF",
        "outputId": "3e9a5fa8-104f-467f-8edc-eaa08dd5ff2c"
      },
      "execution_count": null,
      "outputs": [
        {
          "output_type": "execute_result",
          "data": {
            "text/plain": [
              "0"
            ]
          },
          "metadata": {},
          "execution_count": 84
        }
      ]
    },
    {
      "cell_type": "code",
      "source": [
        "random.randrange(3)  # random.randrange(stop): 0 <= x < stop 범위의 정수 난수를 생성."
      ],
      "metadata": {
        "colab": {
          "base_uri": "https://localhost:8080/"
        },
        "id": "y8p2Lr05ylhk",
        "outputId": "795bb400-bd72-4ad0-8b08-6a0b211bb49a"
      },
      "execution_count": null,
      "outputs": [
        {
          "output_type": "execute_result",
          "data": {
            "text/plain": [
              "0"
            ]
          },
          "metadata": {},
          "execution_count": 110
        }
      ]
    },
    {
      "cell_type": "markdown",
      "source": [
        "# 연습문제"
      ],
      "metadata": {
        "id": "E-m8Kkrb3rCt"
      }
    },
    {
      "cell_type": "markdown",
      "source": [
        "가위, 바위, 보 게임의 승패를 출력:\n",
        "\n",
        "*   가위(1), 바위(2), 보(3)\n",
        "*   컴퓨터 - 1 이상 3 이하(4 미만)의 정수 한 개를 생성하고 변수에 저장.\n",
        "*   사용자 - 1 이상 3 이하의 정수를 입력받아서 변수에 저장.\n",
        "*   승패(조건문 작성) 출력."
      ],
      "metadata": {
        "id": "mAifnWWo3tQ7"
      }
    },
    {
      "cell_type": "code",
      "source": [
        "computer = random.randrange(1, 4)  # 1 <= x < 4 정수 난수.\n",
        "print(f'computer = {computer}')"
      ],
      "metadata": {
        "colab": {
          "base_uri": "https://localhost:8080/"
        },
        "id": "R1Oj7VU94ds8",
        "outputId": "cdfdccf0-9384-403f-cc07-3af71b0aa2a7"
      },
      "execution_count": null,
      "outputs": [
        {
          "output_type": "stream",
          "name": "stdout",
          "text": [
            "computer = 1\n"
          ]
        }
      ]
    },
    {
      "cell_type": "code",
      "source": [
        "print('=== 가위 바위 보 ===')\n",
        "print('[1] 가위')\n",
        "print('[2] 바위')\n",
        "print('[3] 보')\n",
        "user = int(input('선택>>> '))\n",
        "print(f'user = {user}')"
      ],
      "metadata": {
        "colab": {
          "base_uri": "https://localhost:8080/"
        },
        "id": "13AZIenP47ZL",
        "outputId": "fec2e8eb-8dde-43a2-a8db-a52354dc78a3"
      },
      "execution_count": null,
      "outputs": [
        {
          "output_type": "stream",
          "name": "stdout",
          "text": [
            "=== 가위 바위 보 ===\n",
            "[1] 가위\n",
            "[2] 바위\n",
            "[3] 보\n",
            "선택>>> 2\n",
            "user = 2\n"
          ]
        }
      ]
    },
    {
      "cell_type": "code",
      "source": [
        "if user == 1:  # 사용자가 가위를 낸 경우\n",
        "    if computer == 1:  # 컴퓨터가 가위를 낸 경우\n",
        "        print('비김')\n",
        "    elif computer == 2:  # 컴퓨터가 바위를 낸 경우\n",
        "        print('컴퓨터 승')\n",
        "    else:  # 컴퓨터가 보를 낸 경우\n",
        "        print('사용자 승')\n",
        "elif user == 2:  # 사용자가 바위를 낸 경우\n",
        "    if computer == 1:  # 컴퓨터가 가위를 낸 경우\n",
        "        print('사용자 승')\n",
        "    elif computer == 2:  # 컴퓨터가 바위를 낸 경우\n",
        "        print('비김')\n",
        "    else:  # 컴퓨터가 보를 낸 경우\n",
        "        print('컴퓨터 승')\n",
        "else:  # 사용자가 보를 낸 경우\n",
        "    if computer == 1:  # 컴퓨터가 가위를 낸 경우\n",
        "        print('컴퓨터 승')\n",
        "    elif computer == 2:  # 컴퓨터가 바위를 낸 경우\n",
        "        print('사용자 승')\n",
        "    else:  # 컴퓨터가 보를 낸 경우\n",
        "        print('비김')"
      ],
      "metadata": {
        "colab": {
          "base_uri": "https://localhost:8080/"
        },
        "id": "QacCy8p-56_d",
        "outputId": "d08df409-8afe-4dc2-e5a3-13ddc846be25"
      },
      "execution_count": null,
      "outputs": [
        {
          "output_type": "stream",
          "name": "stdout",
          "text": [
            "사용자 승\n"
          ]
        }
      ]
    },
    {
      "cell_type": "code",
      "source": [
        "if user == computer:  # 비긴 경우\n",
        "    print('비김')\n",
        "elif (user == 1 and computer == 3) or (user == 2 and computer == 1) or (user == 3 and computer == 2): # 사용자가 이긴 경우\n",
        "    print('사용자 승')\n",
        "else:  # 그 이외의 나머지(컴퓨터가 이긴 경우)\n",
        "    print('컴퓨터 승')"
      ],
      "metadata": {
        "colab": {
          "base_uri": "https://localhost:8080/"
        },
        "id": "reZ9DLORBeis",
        "outputId": "cf01b313-d3f1-48b1-f5e2-a4d2595656b1"
      },
      "execution_count": null,
      "outputs": [
        {
          "output_type": "stream",
          "name": "stdout",
          "text": [
            "사용자 승\n"
          ]
        }
      ]
    },
    {
      "cell_type": "code",
      "source": [
        "check = user - computer\n",
        "if check == 0:\n",
        "    print('비김')\n",
        "elif (check == -2 ) or (check == 1):\n",
        "    print('사용자 승')\n",
        "else:\n",
        "    print('컴퓨터 승')"
      ],
      "metadata": {
        "colab": {
          "base_uri": "https://localhost:8080/"
        },
        "id": "CV3_2lcBDh6U",
        "outputId": "486022e1-443b-4d36-dcdf-6c5621128f76"
      },
      "execution_count": null,
      "outputs": [
        {
          "output_type": "stream",
          "name": "stdout",
          "text": [
            "사용자 승\n"
          ]
        }
      ]
    }
  ]
}