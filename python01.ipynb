{
  "nbformat": 4,
  "nbformat_minor": 0,
  "metadata": {
    "colab": {
      "provenance": [],
      "toc_visible": true,
      "authorship_tag": "ABX9TyMn6lCZmwPytuID5Cf8E3h6"
    },
    "kernelspec": {
      "name": "python3",
      "display_name": "Python 3"
    },
    "language_info": {
      "name": "python"
    }
  },
  "cells": [
    {
      "cell_type": "markdown",
      "source": [
        "# 파이썬 소개"
      ],
      "metadata": {
        "id": "sDTKJMJcqj_3"
      }
    },
    {
      "cell_type": "code",
      "execution_count": 3,
      "metadata": {
        "colab": {
          "base_uri": "https://localhost:8080/"
        },
        "id": "jqxK0eFMoTAw",
        "outputId": "7c227a63-67c9-4fdf-db4c-604e873e4950"
      },
      "outputs": [
        {
          "output_type": "stream",
          "name": "stdout",
          "text": [
            "안녕하세요!\n"
          ]
        }
      ],
      "source": [
        "print('안녕하세요!')"
      ]
    },
    {
      "cell_type": "markdown",
      "source": [
        "## 파이썬 버전 확인"
      ],
      "metadata": {
        "id": "rYK1IvFLraTf"
      }
    },
    {
      "cell_type": "code",
      "source": [
        "import sys  # sys 모듈을 사용.\n",
        "print(sys.version)"
      ],
      "metadata": {
        "colab": {
          "base_uri": "https://localhost:8080/"
        },
        "id": "LHd9TgFOsBqH",
        "outputId": "ad3753b9-cf9f-4833-f1d8-5a9b491529c2"
      },
      "execution_count": 4,
      "outputs": [
        {
          "output_type": "stream",
          "name": "stdout",
          "text": [
            "3.11.12 (main, Apr  9 2025, 08:55:54) [GCC 11.4.0]\n"
          ]
        }
      ]
    },
    {
      "cell_type": "markdown",
      "source": [
        "## 여러가지 print 방법"
      ],
      "metadata": {
        "id": "I4OBMj5gyql4"
      }
    },
    {
      "cell_type": "code",
      "source": [
        "print(\"Hello, 파이썬!\")\n",
        "# 파이썬은 문자열을 작성할 때 작은따옴표('') 또는 큰따옴표(\"\")를 사용."
      ],
      "metadata": {
        "colab": {
          "base_uri": "https://localhost:8080/"
        },
        "id": "4CPChNUvyxDo",
        "outputId": "e2b0f566-37c4-403f-ee1b-c2951b20ab40"
      },
      "execution_count": 6,
      "outputs": [
        {
          "output_type": "stream",
          "name": "stdout",
          "text": [
            "Hello, 파이썬!\n"
          ]
        }
      ]
    },
    {
      "cell_type": "code",
      "source": [
        "print(\"I'm a boy.\")"
      ],
      "metadata": {
        "colab": {
          "base_uri": "https://localhost:8080/"
        },
        "id": "ibj78SPOz31o",
        "outputId": "06a2df65-67c9-46cb-f830-870876ea1337"
      },
      "execution_count": 8,
      "outputs": [
        {
          "output_type": "stream",
          "name": "stdout",
          "text": [
            "I'm a boy.\n"
          ]
        }
      ]
    },
    {
      "cell_type": "code",
      "source": [
        "print('I\\'m a girl.')"
      ],
      "metadata": {
        "colab": {
          "base_uri": "https://localhost:8080/"
        },
        "id": "XxOiED-j0tLZ",
        "outputId": "5efdb531-05c0-47d1-bfe4-ab09aa21e5ea"
      },
      "execution_count": 9,
      "outputs": [
        {
          "output_type": "stream",
          "name": "stdout",
          "text": [
            "I'm a girl.\n"
          ]
        }
      ]
    },
    {
      "cell_type": "code",
      "source": [
        "print('Hello', '안녕', 'Bon Jour')"
      ],
      "metadata": {
        "colab": {
          "base_uri": "https://localhost:8080/"
        },
        "id": "I58OjT3K1ZNJ",
        "outputId": "6c9be1ea-e5c0-4404-8f1b-8d7f6d742f43"
      },
      "execution_count": 10,
      "outputs": [
        {
          "output_type": "stream",
          "name": "stdout",
          "text": [
            "Hello 안녕 Bon Jour\n"
          ]
        }
      ]
    },
    {
      "cell_type": "markdown",
      "source": [
        "`print()` 함수는 아규먼트(argument)로 전달된 문자열을 화면(콘솔)에 출력.\n",
        "\n",
        "`print()` 함수에 아규먼트 여러개를 전달하면, 각각의 값들을 공백으로 연결해서 출력."
      ],
      "metadata": {
        "id": "q3M7x-VD1xbB"
      }
    },
    {
      "cell_type": "code",
      "source": [
        "print(1, 2, 3)"
      ],
      "metadata": {
        "colab": {
          "base_uri": "https://localhost:8080/"
        },
        "id": "IzKwKXLA3WXa",
        "outputId": "cb11a5cd-5e19-4441-c9e5-3be641e38a19"
      },
      "execution_count": 11,
      "outputs": [
        {
          "output_type": "stream",
          "name": "stdout",
          "text": [
            "1 2 3\n"
          ]
        }
      ]
    },
    {
      "cell_type": "code",
      "source": [
        "print(1 + 2)"
      ],
      "metadata": {
        "colab": {
          "base_uri": "https://localhost:8080/"
        },
        "id": "XX6_KKcU3iti",
        "outputId": "7a84186c-e910-496d-dd9d-b1005597b4b4"
      },
      "execution_count": 12,
      "outputs": [
        {
          "output_type": "stream",
          "name": "stdout",
          "text": [
            "3\n"
          ]
        }
      ]
    },
    {
      "cell_type": "code",
      "source": [
        "print(1, '+', 2, '=', 1 + 2)"
      ],
      "metadata": {
        "colab": {
          "base_uri": "https://localhost:8080/"
        },
        "id": "o7B_gsyj35b7",
        "outputId": "09ca8496-6c19-4f8b-e7e0-6c6ee20dbb77"
      },
      "execution_count": 13,
      "outputs": [
        {
          "output_type": "stream",
          "name": "stdout",
          "text": [
            "1 + 2 = 3\n"
          ]
        }
      ]
    },
    {
      "cell_type": "markdown",
      "source": [
        "placeholder 문자열과 `format()` 함수를 사용한 print"
      ],
      "metadata": {
        "id": "t-T7PAH74xiL"
      }
    },
    {
      "cell_type": "code",
      "source": [
        " print('{} + {} = {}'.format(1, 2, 1 + 2))"
      ],
      "metadata": {
        "colab": {
          "base_uri": "https://localhost:8080/"
        },
        "id": "rD113lfO4eqk",
        "outputId": "3d15a4b1-ac09-4114-ae84-0a427c7702c5"
      },
      "execution_count": 14,
      "outputs": [
        {
          "output_type": "stream",
          "name": "stdout",
          "text": [
            "1 + 2 = 3\n"
          ]
        }
      ]
    },
    {
      "cell_type": "code",
      "source": [
        "print('{x} + {y} = {z}'.format(x=123, y=456, z=123+456))"
      ],
      "metadata": {
        "colab": {
          "base_uri": "https://localhost:8080/"
        },
        "id": "uuI9J6qX5TOD",
        "outputId": "d9da9b36-55fc-4dbe-f117-4b5877952cb5"
      },
      "execution_count": 15,
      "outputs": [
        {
          "output_type": "stream",
          "name": "stdout",
          "text": [
            "123 + 456 = 579\n"
          ]
        }
      ]
    },
    {
      "cell_type": "code",
      "source": [],
      "metadata": {
        "id": "bx3t-w5V55e0"
      },
      "execution_count": null,
      "outputs": []
    }
  ]
}