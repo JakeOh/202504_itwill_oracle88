{
  "nbformat": 4,
  "nbformat_minor": 0,
  "metadata": {
    "colab": {
      "provenance": [],
      "toc_visible": true,
      "authorship_tag": "ABX9TyORp20m50+dfiEni51NFb8I",
      "include_colab_link": true
    },
    "kernelspec": {
      "name": "python3",
      "display_name": "Python 3"
    },
    "language_info": {
      "name": "python"
    }
  },
  "cells": [
    {
      "cell_type": "markdown",
      "metadata": {
        "id": "view-in-github",
        "colab_type": "text"
      },
      "source": [
        "<a href=\"https://colab.research.google.com/github/JakeOh/202504_itwill_oracle88/blob/main/python09.ipynb\" target=\"_parent\"><img src=\"https://colab.research.google.com/assets/colab-badge.svg\" alt=\"Open In Colab\"/></a>"
      ]
    },
    {
      "cell_type": "markdown",
      "source": [
        "# dict"
      ],
      "metadata": {
        "id": "nWPNAnlNsTl4"
      }
    },
    {
      "cell_type": "markdown",
      "source": [
        "*   사전(dictionary) 형식의 데이터 타입.\n",
        "*   키(key)를 기반으로 값(value)을 저장하는 데이터 타입.\n",
        "    *   list, tuple: 인덱스(index)를 기반으로 값(value)들을 저장하는 데이터 타입.\n",
        "    *   dict 타입에서 키(key)의 역할은 list나 tuple에서 인덱스와 비슷하게, dict에 저장된 값 1개를 참조하기 위한 용도.\n",
        "        *   키(key)는 중복된 값을 허용하지 않음."
      ],
      "metadata": {
        "id": "QQA6k09nsaDG"
      }
    },
    {
      "cell_type": "code",
      "execution_count": 1,
      "metadata": {
        "colab": {
          "base_uri": "https://localhost:8080/"
        },
        "id": "Rnf63n5-sF4j",
        "outputId": "895ce52c-31ba-48f7-9c65-91d152a7ab1e"
      },
      "outputs": [
        {
          "output_type": "stream",
          "name": "stdout",
          "text": [
            "<class 'dict'>\n",
            "{100: '홍길동', 101: '오쌤', 200: 'Scott'}\n"
          ]
        }
      ],
      "source": [
        "students = {100: '홍길동', 101: '오쌤', 200: 'Scott'}\n",
        "print(type(students))\n",
        "print(students)"
      ]
    },
    {
      "cell_type": "code",
      "source": [
        "# dict[key]: dict에서 key에 해당하는 값을 참조.\n",
        "students[200]"
      ],
      "metadata": {
        "colab": {
          "base_uri": "https://localhost:8080/",
          "height": 39
        },
        "id": "SrDy0c8-u2z2",
        "outputId": "c6460066-afa9-4f17-fd3c-2a0275a1c19f"
      },
      "execution_count": 4,
      "outputs": [
        {
          "output_type": "execute_result",
          "data": {
            "text/plain": [
              "'Scott'"
            ],
            "application/vnd.google.colaboratory.intrinsic+json": {
              "type": "string"
            }
          },
          "metadata": {},
          "execution_count": 4
        }
      ]
    },
    {
      "cell_type": "markdown",
      "source": [
        "## dict 함수(메서드)"
      ],
      "metadata": {
        "id": "UFkILxx0vok4"
      }
    },
    {
      "cell_type": "code",
      "source": [
        "# dict.keys(): dict 객체가 가지고 있는 key들의 리스트를 반환.\n",
        "students.keys()"
      ],
      "metadata": {
        "colab": {
          "base_uri": "https://localhost:8080/"
        },
        "id": "sFbwRujLvvsG",
        "outputId": "d9969d11-c630-44bb-b106-433220922157"
      },
      "execution_count": 5,
      "outputs": [
        {
          "output_type": "execute_result",
          "data": {
            "text/plain": [
              "dict_keys([100, 101, 200])"
            ]
          },
          "metadata": {},
          "execution_count": 5
        }
      ]
    },
    {
      "cell_type": "code",
      "source": [
        "# dict.values(): dict 객체의 값(value)들의 리스트를 반환.\n",
        "students.values()"
      ],
      "metadata": {
        "colab": {
          "base_uri": "https://localhost:8080/"
        },
        "id": "dbyW6vMHwVwn",
        "outputId": "31feaadb-b949-4b58-ac1b-072c4e6aea12"
      },
      "execution_count": 6,
      "outputs": [
        {
          "output_type": "execute_result",
          "data": {
            "text/plain": [
              "dict_values(['홍길동', '오쌤', 'Scott'])"
            ]
          },
          "metadata": {},
          "execution_count": 6
        }
      ]
    },
    {
      "cell_type": "code",
      "source": [
        "# dict.items(): (key, value) 튜플들의 리스트를 반환.\n",
        "students.items()"
      ],
      "metadata": {
        "colab": {
          "base_uri": "https://localhost:8080/"
        },
        "id": "US3QWTU-w9xX",
        "outputId": "e7c17e97-9a2a-4050-a750-4b337da7e92b"
      },
      "execution_count": 7,
      "outputs": [
        {
          "output_type": "execute_result",
          "data": {
            "text/plain": [
              "dict_items([(100, '홍길동'), (101, '오쌤'), (200, 'Scott')])"
            ]
          },
          "metadata": {},
          "execution_count": 7
        }
      ]
    },
    {
      "cell_type": "code",
      "source": [
        "# dict.get(key): key에 해당하는 value를 반환. dict[key]와 같은 기능.\n",
        "students.get(101)"
      ],
      "metadata": {
        "colab": {
          "base_uri": "https://localhost:8080/",
          "height": 39
        },
        "id": "CESYyPDIxr3W",
        "outputId": "ad09d57e-68f9-44cb-eff4-b79a3f5adf32"
      },
      "execution_count": 9,
      "outputs": [
        {
          "output_type": "execute_result",
          "data": {
            "text/plain": [
              "'오쌤'"
            ],
            "application/vnd.google.colaboratory.intrinsic+json": {
              "type": "string"
            }
          },
          "metadata": {},
          "execution_count": 9
        }
      ]
    },
    {
      "cell_type": "markdown",
      "source": [
        "`dict[key] = value`\n",
        "\n",
        "*   key가 dict에 없을 때는 key:value 아이템을 dict에 추가.\n",
        "*   key가 dict에 있을 때는 key에 해당하는 값을 새로운 값 value로 바꿈."
      ],
      "metadata": {
        "id": "XNlCQwTFyrm2"
      }
    },
    {
      "cell_type": "code",
      "source": [
        "students[300] = '홍길동'\n",
        "print(students)"
      ],
      "metadata": {
        "colab": {
          "base_uri": "https://localhost:8080/"
        },
        "id": "nLccbO4-ydMP",
        "outputId": "97981a3f-18b3-479e-aefc-8c82866b98e8"
      },
      "execution_count": 10,
      "outputs": [
        {
          "output_type": "stream",
          "name": "stdout",
          "text": [
            "{100: '홍길동', 101: '오쌤', 200: 'Scott', 300: '홍길동'}\n"
          ]
        }
      ]
    },
    {
      "cell_type": "code",
      "source": [
        "students[300] = '김길동'\n",
        "print(students)"
      ],
      "metadata": {
        "colab": {
          "base_uri": "https://localhost:8080/"
        },
        "id": "SHYKBIrazT8B",
        "outputId": "dff1d237-61af-48bf-f52f-3c8fe6a2a2ef"
      },
      "execution_count": 11,
      "outputs": [
        {
          "output_type": "stream",
          "name": "stdout",
          "text": [
            "{100: '홍길동', 101: '오쌤', 200: 'Scott', 300: '김길동'}\n"
          ]
        }
      ]
    },
    {
      "cell_type": "markdown",
      "source": [
        "# dict와 for 반복문"
      ],
      "metadata": {
        "id": "9RkZaPu0Gk0m"
      }
    },
    {
      "cell_type": "code",
      "source": [
        "# for-in 반복문에서 dict 객체를 사용하면 key들을 iteration함.\n",
        "for k in students:\n",
        "    print(k)"
      ],
      "metadata": {
        "colab": {
          "base_uri": "https://localhost:8080/"
        },
        "id": "ec70fRnizh4o",
        "outputId": "d6a17a3d-0228-4c9c-dd64-f7698edb5df7"
      },
      "execution_count": 13,
      "outputs": [
        {
          "output_type": "stream",
          "name": "stdout",
          "text": [
            "100\n",
            "101\n",
            "200\n",
            "300\n"
          ]
        }
      ]
    },
    {
      "cell_type": "code",
      "source": [
        "for k in students:\n",
        "    print(k, ':', students[k])  # students.get(k)"
      ],
      "metadata": {
        "colab": {
          "base_uri": "https://localhost:8080/"
        },
        "id": "pKQoriQBHMQQ",
        "outputId": "e94593c8-de86-4c71-ce8a-c7e3a6ecd694"
      },
      "execution_count": 15,
      "outputs": [
        {
          "output_type": "stream",
          "name": "stdout",
          "text": [
            "100 : 홍길동\n",
            "101 : 오쌤\n",
            "200 : Scott\n",
            "300 : 김길동\n"
          ]
        }
      ]
    },
    {
      "cell_type": "code",
      "source": [
        "for k, v in students.items():\n",
        "    print(k, '-', v)"
      ],
      "metadata": {
        "colab": {
          "base_uri": "https://localhost:8080/"
        },
        "id": "q8cUVeMYIG-3",
        "outputId": "5ef2e31f-c431-4d92-876e-7e0304e2562f"
      },
      "execution_count": 16,
      "outputs": [
        {
          "output_type": "stream",
          "name": "stdout",
          "text": [
            "100 - 홍길동\n",
            "101 - 오쌤\n",
            "200 - Scott\n",
            "300 - 김길동\n"
          ]
        }
      ]
    },
    {
      "cell_type": "code",
      "source": [
        "book = {'title': '파이썬 200제', 'author': '장삼용', 'publisher': '정보문화사'}\n",
        "print(book)"
      ],
      "metadata": {
        "colab": {
          "base_uri": "https://localhost:8080/"
        },
        "id": "W6nTDd5WIiHG",
        "outputId": "146656ab-e996-40f7-fb3d-c6d43dcb2c52"
      },
      "execution_count": 17,
      "outputs": [
        {
          "output_type": "stream",
          "name": "stdout",
          "text": [
            "{'title': '파이썬 200제', 'author': '장삼용', 'publisher': '정보문화사'}\n"
          ]
        }
      ]
    },
    {
      "cell_type": "code",
      "source": [
        "for k, v in book.items():\n",
        "    print(k, ':', v)"
      ],
      "metadata": {
        "colab": {
          "base_uri": "https://localhost:8080/"
        },
        "id": "UsaavyYOI4h-",
        "outputId": "6dc5f091-f687-4a1f-cc0d-0a3c45712b4a"
      },
      "execution_count": 19,
      "outputs": [
        {
          "output_type": "stream",
          "name": "stdout",
          "text": [
            "title : 파이썬 200제\n",
            "author : 장삼용\n",
            "publisher : 정보문화사\n"
          ]
        }
      ]
    },
    {
      "cell_type": "markdown",
      "source": [
        "# 다양한 자료를 저장하는 dict"
      ],
      "metadata": {
        "id": "o8vDjDajJjh-"
      }
    },
    {
      "cell_type": "code",
      "source": [
        "contact = {'name': '홍길동',\n",
        "           'phone': ['010-1234-5678', '02-0000-5678'],\n",
        "           'email': {'personal': 'hgd@naver.com', 'company': 'hgd@itwill.com'},\n",
        "           'no': 1}"
      ],
      "metadata": {
        "id": "MkCAVG9MJHvm"
      },
      "execution_count": 20,
      "outputs": []
    },
    {
      "cell_type": "code",
      "source": [
        "for k, v in contact.items():\n",
        "    print(k, ':', v)"
      ],
      "metadata": {
        "colab": {
          "base_uri": "https://localhost:8080/"
        },
        "id": "jGEQt-h5LCEI",
        "outputId": "92a54008-c30a-4ac2-b5f0-b356d72c5fde"
      },
      "execution_count": 21,
      "outputs": [
        {
          "output_type": "stream",
          "name": "stdout",
          "text": [
            "name : 홍길동\n",
            "phone : ['010-1234-5678', '02-0000-5678']\n",
            "email : {'personal': 'hgd@naver.com', 'company': 'hgd@itwill.com'}\n",
            "no : 1\n"
          ]
        }
      ]
    },
    {
      "cell_type": "code",
      "source": [
        "# contact.get('phone')\n",
        "contact['phone']"
      ],
      "metadata": {
        "colab": {
          "base_uri": "https://localhost:8080/"
        },
        "id": "ueUm1RD9LMD2",
        "outputId": "89b54a36-0b8f-41ca-f2d4-85353783bb0a"
      },
      "execution_count": 23,
      "outputs": [
        {
          "output_type": "execute_result",
          "data": {
            "text/plain": [
              "['010-1234-5678', '02-0000-5678']"
            ]
          },
          "metadata": {},
          "execution_count": 23
        }
      ]
    },
    {
      "cell_type": "code",
      "source": [
        "# contact.get('phone')[0]\n",
        "contact['phone'][0]"
      ],
      "metadata": {
        "colab": {
          "base_uri": "https://localhost:8080/",
          "height": 39
        },
        "id": "iYt1zIMjLsnO",
        "outputId": "0186de6d-848b-4d14-cba4-4f128019a184"
      },
      "execution_count": 25,
      "outputs": [
        {
          "output_type": "execute_result",
          "data": {
            "text/plain": [
              "'010-1234-5678'"
            ],
            "application/vnd.google.colaboratory.intrinsic+json": {
              "type": "string"
            }
          },
          "metadata": {},
          "execution_count": 25
        }
      ]
    },
    {
      "cell_type": "code",
      "source": [
        "contact['email']['company']"
      ],
      "metadata": {
        "colab": {
          "base_uri": "https://localhost:8080/",
          "height": 39
        },
        "id": "19gz56RrMZWe",
        "outputId": "5f04e04c-6f67-4524-dec1-22051906e63b"
      },
      "execution_count": 28,
      "outputs": [
        {
          "output_type": "execute_result",
          "data": {
            "text/plain": [
              "'hgd@itwill.com'"
            ],
            "application/vnd.google.colaboratory.intrinsic+json": {
              "type": "string"
            }
          },
          "metadata": {},
          "execution_count": 28
        }
      ]
    },
    {
      "cell_type": "markdown",
      "source": [
        "# dictionary comprehension"
      ],
      "metadata": {
        "id": "sbf7wJymNCNm"
      }
    },
    {
      "cell_type": "code",
      "source": [
        "emp_no = [1001, 1002, 1003, 1004]\n",
        "emp_name = ['scott', 'allen', 'king', '오쌤']\n",
        "\n",
        "# emp_no의 원소들을 key로 하고, emp_name의 원소들을 value으로 하는 dict를 만들고 출력.\n",
        "emp = {}  # empty dict\n",
        "for k, v in zip(emp_no, emp_name):\n",
        "    emp[k] = v\n",
        "\n",
        "print(emp)"
      ],
      "metadata": {
        "colab": {
          "base_uri": "https://localhost:8080/"
        },
        "id": "9jalp9m9NV7F",
        "outputId": "611ebc45-a89d-404c-ffda-abf5d3fffa31"
      },
      "execution_count": 29,
      "outputs": [
        {
          "output_type": "stream",
          "name": "stdout",
          "text": [
            "{1001: 'scott', 1002: 'allen', 1003: 'king', 1004: '오쌤'}\n"
          ]
        }
      ]
    },
    {
      "cell_type": "code",
      "source": [
        "emp2 = {k: v for k, v in zip(emp_no, emp_name)}\n",
        "print(emp2)"
      ],
      "metadata": {
        "colab": {
          "base_uri": "https://localhost:8080/"
        },
        "id": "WhMUZHyUPrwe",
        "outputId": "9fde546b-0fc3-454b-a6a2-0a01b0be629d"
      },
      "execution_count": 30,
      "outputs": [
        {
          "output_type": "stream",
          "name": "stdout",
          "text": [
            "{1001: 'scott', 1002: 'allen', 1003: 'king', 1004: '오쌤'}\n"
          ]
        }
      ]
    },
    {
      "cell_type": "code",
      "source": [
        "fruits = ['apple', 'banana', 'cherry', 'pineapple', 'watermellon', '딸기']\n",
        "\n",
        "# 리스트 fruits에 있는 과일 이름을 key로 하고, 그 문자열의 길이를 value로 하는 dict를 만들고 출력\n",
        "fruit_length = {}\n",
        "for k in fruits:\n",
        "    fruit_length[k] = len(k)\n",
        "\n",
        "print(fruit_length)"
      ],
      "metadata": {
        "colab": {
          "base_uri": "https://localhost:8080/"
        },
        "id": "LT5QE1FpUKre",
        "outputId": "319770aa-6e66-4ad9-92e4-d8a9e2e3e34c"
      },
      "execution_count": 31,
      "outputs": [
        {
          "output_type": "stream",
          "name": "stdout",
          "text": [
            "{'apple': 5, 'banana': 6, 'cherry': 6, 'pineapple': 9, 'watermellon': 11, '딸기': 2}\n"
          ]
        }
      ]
    },
    {
      "cell_type": "code",
      "source": [
        "fruit_length2 = {k: len(k) for k in fruits}\n",
        "print(fruit_length2)"
      ],
      "metadata": {
        "colab": {
          "base_uri": "https://localhost:8080/"
        },
        "id": "L8j2YNJSW3Bu",
        "outputId": "500bd136-4d62-439f-a374-5dec6c1cb715"
      },
      "execution_count": 32,
      "outputs": [
        {
          "output_type": "stream",
          "name": "stdout",
          "text": [
            "{'apple': 5, 'banana': 6, 'cherry': 6, 'pineapple': 9, 'watermellon': 11, '딸기': 2}\n"
          ]
        }
      ]
    }
  ]
}