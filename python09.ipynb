{
  "nbformat": 4,
  "nbformat_minor": 0,
  "metadata": {
    "colab": {
      "provenance": [],
      "toc_visible": true,
      "authorship_tag": "ABX9TyPIs8V8Fg71WgJzk8/Xm1ET",
      "include_colab_link": true
    },
    "kernelspec": {
      "name": "python3",
      "display_name": "Python 3"
    },
    "language_info": {
      "name": "python"
    }
  },
  "cells": [
    {
      "cell_type": "markdown",
      "metadata": {
        "id": "view-in-github",
        "colab_type": "text"
      },
      "source": [
        "<a href=\"https://colab.research.google.com/github/JakeOh/202504_itwill_oracle88/blob/main/python09.ipynb\" target=\"_parent\"><img src=\"https://colab.research.google.com/assets/colab-badge.svg\" alt=\"Open In Colab\"/></a>"
      ]
    },
    {
      "cell_type": "markdown",
      "source": [
        "# dict"
      ],
      "metadata": {
        "id": "nWPNAnlNsTl4"
      }
    },
    {
      "cell_type": "markdown",
      "source": [
        "*   사전(dictionary) 형식의 데이터 타입.\n",
        "*   키(key)를 기반으로 값(value)을 저장하는 데이터 타입.\n",
        "    *   list, tuple: 인덱스(index)를 기반으로 값(value)들을 저장하는 데이터 타입.\n",
        "    *   dict 타입에서 키(key)의 역할은 list나 tuple에서 인덱스와 비슷하게, dict에 저장된 값 1개를 참조하기 위한 용도.\n",
        "        *   키(key)는 중복된 값을 허용하지 않음."
      ],
      "metadata": {
        "id": "QQA6k09nsaDG"
      }
    },
    {
      "cell_type": "code",
      "execution_count": 1,
      "metadata": {
        "colab": {
          "base_uri": "https://localhost:8080/"
        },
        "id": "Rnf63n5-sF4j",
        "outputId": "895ce52c-31ba-48f7-9c65-91d152a7ab1e"
      },
      "outputs": [
        {
          "output_type": "stream",
          "name": "stdout",
          "text": [
            "<class 'dict'>\n",
            "{100: '홍길동', 101: '오쌤', 200: 'Scott'}\n"
          ]
        }
      ],
      "source": [
        "students = {100: '홍길동', 101: '오쌤', 200: 'Scott'}\n",
        "print(type(students))\n",
        "print(students)"
      ]
    },
    {
      "cell_type": "code",
      "source": [
        "# dict[key]: dict에서 key에 해당하는 값을 참조.\n",
        "students[200]"
      ],
      "metadata": {
        "colab": {
          "base_uri": "https://localhost:8080/",
          "height": 39
        },
        "id": "SrDy0c8-u2z2",
        "outputId": "c6460066-afa9-4f17-fd3c-2a0275a1c19f"
      },
      "execution_count": 4,
      "outputs": [
        {
          "output_type": "execute_result",
          "data": {
            "text/plain": [
              "'Scott'"
            ],
            "application/vnd.google.colaboratory.intrinsic+json": {
              "type": "string"
            }
          },
          "metadata": {},
          "execution_count": 4
        }
      ]
    },
    {
      "cell_type": "markdown",
      "source": [
        "## dict 함수(메서드)"
      ],
      "metadata": {
        "id": "UFkILxx0vok4"
      }
    },
    {
      "cell_type": "code",
      "source": [
        "# dict.keys(): dict 객체가 가지고 있는 key들의 리스트를 반환.\n",
        "students.keys()"
      ],
      "metadata": {
        "colab": {
          "base_uri": "https://localhost:8080/"
        },
        "id": "sFbwRujLvvsG",
        "outputId": "d9969d11-c630-44bb-b106-433220922157"
      },
      "execution_count": 5,
      "outputs": [
        {
          "output_type": "execute_result",
          "data": {
            "text/plain": [
              "dict_keys([100, 101, 200])"
            ]
          },
          "metadata": {},
          "execution_count": 5
        }
      ]
    },
    {
      "cell_type": "code",
      "source": [
        "# dict.values(): dict 객체의 값(value)들의 리스트를 반환.\n",
        "students.values()"
      ],
      "metadata": {
        "colab": {
          "base_uri": "https://localhost:8080/"
        },
        "id": "dbyW6vMHwVwn",
        "outputId": "31feaadb-b949-4b58-ac1b-072c4e6aea12"
      },
      "execution_count": 6,
      "outputs": [
        {
          "output_type": "execute_result",
          "data": {
            "text/plain": [
              "dict_values(['홍길동', '오쌤', 'Scott'])"
            ]
          },
          "metadata": {},
          "execution_count": 6
        }
      ]
    },
    {
      "cell_type": "code",
      "source": [
        "# dict.items(): (key, value) 튜플들의 리스트를 반환.\n",
        "students.items()"
      ],
      "metadata": {
        "colab": {
          "base_uri": "https://localhost:8080/"
        },
        "id": "US3QWTU-w9xX",
        "outputId": "e7c17e97-9a2a-4050-a750-4b337da7e92b"
      },
      "execution_count": 7,
      "outputs": [
        {
          "output_type": "execute_result",
          "data": {
            "text/plain": [
              "dict_items([(100, '홍길동'), (101, '오쌤'), (200, 'Scott')])"
            ]
          },
          "metadata": {},
          "execution_count": 7
        }
      ]
    },
    {
      "cell_type": "code",
      "source": [
        "# dict.get(key): key에 해당하는 value를 반환. dict[key]와 같은 기능.\n",
        "students.get(101)"
      ],
      "metadata": {
        "colab": {
          "base_uri": "https://localhost:8080/",
          "height": 39
        },
        "id": "CESYyPDIxr3W",
        "outputId": "ad09d57e-68f9-44cb-eff4-b79a3f5adf32"
      },
      "execution_count": 9,
      "outputs": [
        {
          "output_type": "execute_result",
          "data": {
            "text/plain": [
              "'오쌤'"
            ],
            "application/vnd.google.colaboratory.intrinsic+json": {
              "type": "string"
            }
          },
          "metadata": {},
          "execution_count": 9
        }
      ]
    },
    {
      "cell_type": "markdown",
      "source": [
        "`dict[key] = value`\n",
        "\n",
        "*   key가 dict에 없을 때는 key:value 아이템을 dict에 추가.\n",
        "*   key가 dict에 있을 때는 key에 해당하는 값을 새로운 값 value로 바꿈."
      ],
      "metadata": {
        "id": "XNlCQwTFyrm2"
      }
    },
    {
      "cell_type": "code",
      "source": [
        "students[300] = '홍길동'\n",
        "print(students)"
      ],
      "metadata": {
        "colab": {
          "base_uri": "https://localhost:8080/"
        },
        "id": "nLccbO4-ydMP",
        "outputId": "97981a3f-18b3-479e-aefc-8c82866b98e8"
      },
      "execution_count": 10,
      "outputs": [
        {
          "output_type": "stream",
          "name": "stdout",
          "text": [
            "{100: '홍길동', 101: '오쌤', 200: 'Scott', 300: '홍길동'}\n"
          ]
        }
      ]
    },
    {
      "cell_type": "code",
      "source": [
        "students[300] = '김길동'\n",
        "print(students)"
      ],
      "metadata": {
        "colab": {
          "base_uri": "https://localhost:8080/"
        },
        "id": "SHYKBIrazT8B",
        "outputId": "dff1d237-61af-48bf-f52f-3c8fe6a2a2ef"
      },
      "execution_count": 11,
      "outputs": [
        {
          "output_type": "stream",
          "name": "stdout",
          "text": [
            "{100: '홍길동', 101: '오쌤', 200: 'Scott', 300: '김길동'}\n"
          ]
        }
      ]
    },
    {
      "cell_type": "code",
      "source": [],
      "metadata": {
        "id": "ec70fRnizh4o"
      },
      "execution_count": null,
      "outputs": []
    }
  ]
}