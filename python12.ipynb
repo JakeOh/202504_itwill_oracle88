{
  "nbformat": 4,
  "nbformat_minor": 0,
  "metadata": {
    "colab": {
      "provenance": [],
      "toc_visible": true,
      "authorship_tag": "ABX9TyNYeEJbLFliv3OIeeEcaM+K",
      "include_colab_link": true
    },
    "kernelspec": {
      "name": "python3",
      "display_name": "Python 3"
    },
    "language_info": {
      "name": "python"
    }
  },
  "cells": [
    {
      "cell_type": "markdown",
      "metadata": {
        "id": "view-in-github",
        "colab_type": "text"
      },
      "source": [
        "<a href=\"https://colab.research.google.com/github/JakeOh/202504_itwill_oracle88/blob/main/python12.ipynb\" target=\"_parent\"><img src=\"https://colab.research.google.com/assets/colab-badge.svg\" alt=\"Open In Colab\"/></a>"
      ]
    },
    {
      "cell_type": "markdown",
      "source": [
        "# 1급 객체(first-class object)로서의 함수"
      ],
      "metadata": {
        "id": "QtChArk738cS"
      }
    },
    {
      "cell_type": "markdown",
      "source": [
        "**함수(function)는 객체(object).**\n",
        "\n",
        "*   객체: 숫자(int, float), 문자열(str), 논리값(True/Flase), list, dict, tuple, ...\n",
        "*   함수는 변수에 할당할 수 있음.\n",
        "*   함수의 아규먼트로 함수를 전달할 수 있음.\n",
        "*   함수의 반환값으로 함수를 사용할 수 있음.\n",
        "*   함수 내부에서 또다른 함수를 선언할 수 있음."
      ],
      "metadata": {
        "id": "B-wgH9--4Oq5"
      }
    },
    {
      "cell_type": "code",
      "execution_count": 1,
      "metadata": {
        "colab": {
          "base_uri": "https://localhost:8080/"
        },
        "id": "O88XMw3s3z4q",
        "outputId": "fa10d8ba-d4cf-4bbf-c419-5a2f3b5519ef"
      },
      "outputs": [
        {
          "output_type": "stream",
          "name": "stdout",
          "text": [
            "1\n"
          ]
        }
      ],
      "source": [
        "x = 1  # 정수 1을 변수 x에 할당(저장)\n",
        "print(x)  # 정수를 함수의 아규먼트로 전달."
      ]
    },
    {
      "cell_type": "code",
      "source": [
        "result = len('안녕!')  # len() 함수는 정수를 리턴.\n",
        "print(result)"
      ],
      "metadata": {
        "colab": {
          "base_uri": "https://localhost:8080/"
        },
        "id": "Yz9LoYjg52dJ",
        "outputId": "b35e5934-d2dc-4d77-ba0b-97ab3f1f96fe"
      },
      "execution_count": 2,
      "outputs": [
        {
          "output_type": "stream",
          "name": "stdout",
          "text": [
            "3\n"
          ]
        }
      ]
    },
    {
      "cell_type": "code",
      "source": [
        "def double(x):\n",
        "    return 2 * x"
      ],
      "metadata": {
        "id": "Or9zeCh26HtC"
      },
      "execution_count": 3,
      "outputs": []
    },
    {
      "cell_type": "code",
      "source": [
        "result = double(5)  # 함수 double을 호출하고 그 반환값을 변수 result에 저장\n",
        "print(result)"
      ],
      "metadata": {
        "colab": {
          "base_uri": "https://localhost:8080/"
        },
        "id": "1t8RwlRj6Rds",
        "outputId": "86130905-8e55-437b-b5bd-6ff21f559ce6"
      },
      "execution_count": 4,
      "outputs": [
        {
          "output_type": "stream",
          "name": "stdout",
          "text": [
            "10\n"
          ]
        }
      ]
    },
    {
      "cell_type": "code",
      "source": [
        "print(double(3))  # 함수 double을 호출하고 그 결과를 출력"
      ],
      "metadata": {
        "colab": {
          "base_uri": "https://localhost:8080/"
        },
        "id": "ZWqQbBc16cmC",
        "outputId": "b98bcaa3-e58e-4d87-b246-5452a6f9e4f3"
      },
      "execution_count": 5,
      "outputs": [
        {
          "output_type": "stream",
          "name": "stdout",
          "text": [
            "6\n"
          ]
        }
      ]
    },
    {
      "cell_type": "code",
      "source": [
        "print(double)  # double 이름의 함수 객체를 문자열로 표현해서 출력. 함수를 호출한 게 아님."
      ],
      "metadata": {
        "colab": {
          "base_uri": "https://localhost:8080/"
        },
        "id": "SN2APykO64Kh",
        "outputId": "f1ec93bc-b0c4-49be-f77d-7873fa229684"
      },
      "execution_count": 6,
      "outputs": [
        {
          "output_type": "stream",
          "name": "stdout",
          "text": [
            "<function double at 0x79903c41d800>\n"
          ]
        }
      ]
    },
    {
      "cell_type": "markdown",
      "source": [
        "## 함수를 변수에 할당"
      ],
      "metadata": {
        "id": "yJtIPRce7dER"
      }
    },
    {
      "cell_type": "code",
      "source": [
        "twice = double  # 함수 호출이 아니고, double 함수 객체를 변수 twice에 할당(저장)\n",
        "print(twice)"
      ],
      "metadata": {
        "colab": {
          "base_uri": "https://localhost:8080/"
        },
        "id": "rE6HmQTP7aTa",
        "outputId": "d685ca42-21cf-49d0-a81c-18275fcac432"
      },
      "execution_count": 7,
      "outputs": [
        {
          "output_type": "stream",
          "name": "stdout",
          "text": [
            "<function double at 0x79903c41d800>\n"
          ]
        }
      ]
    },
    {
      "cell_type": "code",
      "source": [
        "print(twice(10))  # twice() 함수 호출은 double() 함수 호출과 동일."
      ],
      "metadata": {
        "colab": {
          "base_uri": "https://localhost:8080/"
        },
        "id": "e5oY1oey74F7",
        "outputId": "8e5d54e3-4620-45b2-bc79-a82171f1abe2"
      },
      "execution_count": 8,
      "outputs": [
        {
          "output_type": "stream",
          "name": "stdout",
          "text": [
            "20\n"
          ]
        }
      ]
    },
    {
      "cell_type": "markdown",
      "source": [
        "## 아규먼트로 함수를 전달받는 함수"
      ],
      "metadata": {
        "id": "seq9f3vx9YWR"
      }
    },
    {
      "cell_type": "code",
      "source": [
        "def calculator(x, y, fn):\n",
        "    result = fn(x, y)\n",
        "\n",
        "    return result"
      ],
      "metadata": {
        "id": "Lf_sREW49e8I"
      },
      "execution_count": 9,
      "outputs": []
    },
    {
      "cell_type": "code",
      "source": [
        "def plus(x, y):\n",
        "    return x + y"
      ],
      "metadata": {
        "id": "tnPz-oq69v7a"
      },
      "execution_count": 10,
      "outputs": []
    },
    {
      "cell_type": "code",
      "source": [
        "result = calculator(1, 2, plus)\n",
        "print(result)"
      ],
      "metadata": {
        "colab": {
          "base_uri": "https://localhost:8080/"
        },
        "id": "Fms3Eid6-clb",
        "outputId": "c521c987-cead-4b37-beaa-aff68f46be34"
      },
      "execution_count": 11,
      "outputs": [
        {
          "output_type": "stream",
          "name": "stdout",
          "text": [
            "3\n"
          ]
        }
      ]
    },
    {
      "cell_type": "code",
      "source": [
        "def minus(x, y):\n",
        "    return x - y\n",
        "\n",
        "result = calculator(1, 2, minus)\n",
        "print(result)"
      ],
      "metadata": {
        "colab": {
          "base_uri": "https://localhost:8080/"
        },
        "id": "hiZLf4V6-oSK",
        "outputId": "73087bea-4911-4069-a29a-1a5ff91cf8db"
      },
      "execution_count": 12,
      "outputs": [
        {
          "output_type": "stream",
          "name": "stdout",
          "text": [
            "-1\n"
          ]
        }
      ]
    },
    {
      "cell_type": "code",
      "source": [
        "def is_greater(x, y):\n",
        "    return x > y\n",
        "\n",
        "result = calculator(1, 2, is_greater)\n",
        "print(result)"
      ],
      "metadata": {
        "colab": {
          "base_uri": "https://localhost:8080/"
        },
        "id": "kLs6za_OAb0I",
        "outputId": "eb5a2e42-f023-4ac8-8828-1049caba87ff"
      },
      "execution_count": 13,
      "outputs": [
        {
          "output_type": "stream",
          "name": "stdout",
          "text": [
            "False\n"
          ]
        }
      ]
    },
    {
      "cell_type": "markdown",
      "source": [
        "## 내부 함수, 함수를 리턴하는 함수"
      ],
      "metadata": {
        "id": "x1oCeJfRBP0h"
      }
    },
    {
      "cell_type": "markdown",
      "source": [
        "내부 함수(inner function), 지역 함수(local function):\n",
        "\n",
        "*   함수 내부에서 선언된 함수.\n",
        "*   선언된 함수 내부에서만 호출할 수 있음.\n",
        "*   선언된 함수 외부에서는 호출할 수 없음.\n",
        "*   외부 함수의 지역 변수들(파라미터 포함)을 사용할 수 있음!"
      ],
      "metadata": {
        "id": "lrZJVg5KCia5"
      }
    },
    {
      "cell_type": "code",
      "source": [
        "def make_incrementor(n):\n",
        "    # 내부 함수(지역 함수)\n",
        "    def add_n(x):\n",
        "        return x + n\n",
        "\n",
        "    # 함수 객체를 리턴.\n",
        "    return add_n"
      ],
      "metadata": {
        "id": "ZXKHpknkBV_4"
      },
      "execution_count": 16,
      "outputs": []
    },
    {
      "cell_type": "code",
      "source": [
        "plus_2 = make_incrementor(2)\n",
        "print(plus_2)\n",
        "result = plus_2(10)\n",
        "print(result)"
      ],
      "metadata": {
        "colab": {
          "base_uri": "https://localhost:8080/"
        },
        "id": "iMUhgQNgB6Nx",
        "outputId": "3c849878-211f-4108-e629-6ae0f39dd659"
      },
      "execution_count": 20,
      "outputs": [
        {
          "output_type": "stream",
          "name": "stdout",
          "text": [
            "<function make_incrementor.<locals>.add_n at 0x79900b4f1800>\n",
            "12\n"
          ]
        }
      ]
    },
    {
      "cell_type": "code",
      "source": [
        "plus_10 = make_incrementor(10)\n",
        "result = plus_10(100)\n",
        "print(result)"
      ],
      "metadata": {
        "colab": {
          "base_uri": "https://localhost:8080/"
        },
        "id": "ykP9P4RJEj7w",
        "outputId": "d895b812-c1e2-4947-b33e-4c5330d4db15"
      },
      "execution_count": 21,
      "outputs": [
        {
          "output_type": "stream",
          "name": "stdout",
          "text": [
            "110\n"
          ]
        }
      ]
    },
    {
      "cell_type": "code",
      "source": [
        "result = make_incrementor(100)(123)\n",
        "print(result)"
      ],
      "metadata": {
        "colab": {
          "base_uri": "https://localhost:8080/"
        },
        "id": "G50P1w46FUwh",
        "outputId": "23891469-f61f-4478-a201-825f505e6790"
      },
      "execution_count": 22,
      "outputs": [
        {
          "output_type": "stream",
          "name": "stdout",
          "text": [
            "223\n"
          ]
        }
      ]
    }
  ]
}