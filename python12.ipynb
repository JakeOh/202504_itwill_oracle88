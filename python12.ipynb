{
  "nbformat": 4,
  "nbformat_minor": 0,
  "metadata": {
    "colab": {
      "provenance": [],
      "toc_visible": true,
      "authorship_tag": "ABX9TyPgvduoZen+JFsLXQ3xXqvu",
      "include_colab_link": true
    },
    "kernelspec": {
      "name": "python3",
      "display_name": "Python 3"
    },
    "language_info": {
      "name": "python"
    }
  },
  "cells": [
    {
      "cell_type": "markdown",
      "metadata": {
        "id": "view-in-github",
        "colab_type": "text"
      },
      "source": [
        "<a href=\"https://colab.research.google.com/github/JakeOh/202504_itwill_oracle88/blob/main/python12.ipynb\" target=\"_parent\"><img src=\"https://colab.research.google.com/assets/colab-badge.svg\" alt=\"Open In Colab\"/></a>"
      ]
    },
    {
      "cell_type": "markdown",
      "source": [
        "# 1급 객체(first-class object)로서의 함수"
      ],
      "metadata": {
        "id": "QtChArk738cS"
      }
    },
    {
      "cell_type": "markdown",
      "source": [
        "**함수(function)는 객체(object).**\n",
        "\n",
        "*   객체: 숫자(int, float), 문자열(str), 논리값(True/Flase), list, dict, tuple, ...\n",
        "*   함수는 변수에 할당할 수 있음.\n",
        "*   함수의 아규먼트로 함수를 전달할 수 있음.\n",
        "*   함수의 반환값으로 함수를 사용할 수 있음.\n",
        "*   함수 내부에서 또다른 함수를 선언할 수 있음."
      ],
      "metadata": {
        "id": "B-wgH9--4Oq5"
      }
    },
    {
      "cell_type": "code",
      "execution_count": 1,
      "metadata": {
        "colab": {
          "base_uri": "https://localhost:8080/"
        },
        "id": "O88XMw3s3z4q",
        "outputId": "8ad1d81b-d801-4825-eb46-4893c3bca3b4"
      },
      "outputs": [
        {
          "output_type": "stream",
          "name": "stdout",
          "text": [
            "1\n"
          ]
        }
      ],
      "source": [
        "x = 1  # 정수 1을 변수 x에 할당(저장)\n",
        "print(x)  # 정수를 함수의 아규먼트로 전달."
      ]
    },
    {
      "cell_type": "code",
      "source": [
        "result = len('안녕!')  # len() 함수는 정수를 리턴.\n",
        "print(result)"
      ],
      "metadata": {
        "colab": {
          "base_uri": "https://localhost:8080/"
        },
        "id": "Yz9LoYjg52dJ",
        "outputId": "56765bc6-28dc-42b8-f7be-dd722da3d67d"
      },
      "execution_count": 2,
      "outputs": [
        {
          "output_type": "stream",
          "name": "stdout",
          "text": [
            "3\n"
          ]
        }
      ]
    },
    {
      "cell_type": "code",
      "source": [
        "def double(x):\n",
        "    return 2 * x"
      ],
      "metadata": {
        "id": "Or9zeCh26HtC"
      },
      "execution_count": 3,
      "outputs": []
    },
    {
      "cell_type": "code",
      "source": [
        "result = double(5)  # 함수 double을 호출하고 그 반환값을 변수 result에 저장\n",
        "print(result)"
      ],
      "metadata": {
        "colab": {
          "base_uri": "https://localhost:8080/"
        },
        "id": "1t8RwlRj6Rds",
        "outputId": "ffe137c4-4d64-471a-a1be-8f540284b0a6"
      },
      "execution_count": 4,
      "outputs": [
        {
          "output_type": "stream",
          "name": "stdout",
          "text": [
            "10\n"
          ]
        }
      ]
    },
    {
      "cell_type": "code",
      "source": [
        "print(double(3))  # 함수 double을 호출하고 그 결과를 출력"
      ],
      "metadata": {
        "colab": {
          "base_uri": "https://localhost:8080/"
        },
        "id": "ZWqQbBc16cmC",
        "outputId": "db772562-bbb9-48f9-9994-395f9e57ddc9"
      },
      "execution_count": 5,
      "outputs": [
        {
          "output_type": "stream",
          "name": "stdout",
          "text": [
            "6\n"
          ]
        }
      ]
    },
    {
      "cell_type": "code",
      "source": [
        "print(double)  # double 이름의 함수 객체를 문자열로 표현해서 출력. 함수를 호출한 게 아님."
      ],
      "metadata": {
        "colab": {
          "base_uri": "https://localhost:8080/"
        },
        "id": "SN2APykO64Kh",
        "outputId": "873621a0-9fd8-404f-f615-6e4849449ba4"
      },
      "execution_count": 6,
      "outputs": [
        {
          "output_type": "stream",
          "name": "stdout",
          "text": [
            "<function double at 0x7b8827774180>\n"
          ]
        }
      ]
    },
    {
      "cell_type": "markdown",
      "source": [
        "## 함수를 변수에 할당"
      ],
      "metadata": {
        "id": "yJtIPRce7dER"
      }
    },
    {
      "cell_type": "code",
      "source": [
        "twice = double  # 함수 호출이 아니고, double 함수 객체를 변수 twice에 할당(저장)\n",
        "print(twice)"
      ],
      "metadata": {
        "colab": {
          "base_uri": "https://localhost:8080/"
        },
        "id": "rE6HmQTP7aTa",
        "outputId": "a9a98b31-ea81-4bf6-beeb-34501f756c1f"
      },
      "execution_count": 7,
      "outputs": [
        {
          "output_type": "stream",
          "name": "stdout",
          "text": [
            "<function double at 0x7b8827774180>\n"
          ]
        }
      ]
    },
    {
      "cell_type": "code",
      "source": [
        "print(twice(10))  # twice() 함수 호출은 double() 함수 호출과 동일."
      ],
      "metadata": {
        "colab": {
          "base_uri": "https://localhost:8080/"
        },
        "id": "e5oY1oey74F7",
        "outputId": "3044807e-6761-4d95-c873-d00b31ff7a6a"
      },
      "execution_count": 8,
      "outputs": [
        {
          "output_type": "stream",
          "name": "stdout",
          "text": [
            "20\n"
          ]
        }
      ]
    },
    {
      "cell_type": "markdown",
      "source": [
        "## 아규먼트로 함수를 전달받는 함수"
      ],
      "metadata": {
        "id": "seq9f3vx9YWR"
      }
    },
    {
      "cell_type": "code",
      "source": [
        "def calculator(x, y, fn):\n",
        "    result = fn(x, y)\n",
        "\n",
        "    return result"
      ],
      "metadata": {
        "id": "Lf_sREW49e8I"
      },
      "execution_count": 9,
      "outputs": []
    },
    {
      "cell_type": "code",
      "source": [
        "def plus(x, y):\n",
        "    return x + y"
      ],
      "metadata": {
        "id": "tnPz-oq69v7a"
      },
      "execution_count": 10,
      "outputs": []
    },
    {
      "cell_type": "code",
      "source": [
        "result = calculator(1, 2, plus)\n",
        "print(result)"
      ],
      "metadata": {
        "colab": {
          "base_uri": "https://localhost:8080/"
        },
        "id": "Fms3Eid6-clb",
        "outputId": "2159cfd2-9a5e-4f75-ee42-830e5ec72ee1"
      },
      "execution_count": 11,
      "outputs": [
        {
          "output_type": "stream",
          "name": "stdout",
          "text": [
            "3\n"
          ]
        }
      ]
    },
    {
      "cell_type": "code",
      "source": [
        "def minus(x, y):\n",
        "    return x - y\n",
        "\n",
        "result = calculator(1, 2, minus)\n",
        "print(result)"
      ],
      "metadata": {
        "colab": {
          "base_uri": "https://localhost:8080/"
        },
        "id": "hiZLf4V6-oSK",
        "outputId": "592439a1-4cf5-454c-b184-06923bc33227"
      },
      "execution_count": 12,
      "outputs": [
        {
          "output_type": "stream",
          "name": "stdout",
          "text": [
            "-1\n"
          ]
        }
      ]
    },
    {
      "cell_type": "code",
      "source": [
        "def is_greater(x, y):\n",
        "    return x > y\n",
        "\n",
        "result = calculator(1, 2, is_greater)\n",
        "print(result)"
      ],
      "metadata": {
        "colab": {
          "base_uri": "https://localhost:8080/"
        },
        "id": "kLs6za_OAb0I",
        "outputId": "b4a7bab8-70e5-4521-fea0-2d8b95734b73"
      },
      "execution_count": 13,
      "outputs": [
        {
          "output_type": "stream",
          "name": "stdout",
          "text": [
            "False\n"
          ]
        }
      ]
    },
    {
      "cell_type": "markdown",
      "source": [
        "## 내부 함수, 함수를 리턴하는 함수"
      ],
      "metadata": {
        "id": "x1oCeJfRBP0h"
      }
    },
    {
      "cell_type": "markdown",
      "source": [
        "내부 함수(inner function), 지역 함수(local function):\n",
        "\n",
        "*   함수 내부에서 선언된 함수.\n",
        "*   선언된 함수 내부에서만 호출할 수 있음.\n",
        "*   선언된 함수 외부에서는 호출할 수 없음.\n",
        "*   외부 함수의 지역 변수들(파라미터 포함)을 사용할 수 있음!"
      ],
      "metadata": {
        "id": "lrZJVg5KCia5"
      }
    },
    {
      "cell_type": "code",
      "source": [
        "def make_incrementor(n):\n",
        "    # 내부 함수(지역 함수)\n",
        "    def add_n(x):\n",
        "        return x + n\n",
        "\n",
        "    # 함수 객체를 리턴.\n",
        "    return add_n"
      ],
      "metadata": {
        "id": "ZXKHpknkBV_4"
      },
      "execution_count": 14,
      "outputs": []
    },
    {
      "cell_type": "code",
      "source": [
        "plus_2 = make_incrementor(2)\n",
        "print(plus_2)\n",
        "result = plus_2(10)\n",
        "print(result)"
      ],
      "metadata": {
        "colab": {
          "base_uri": "https://localhost:8080/"
        },
        "id": "iMUhgQNgB6Nx",
        "outputId": "eded399e-db72-4449-eece-55519cd2d1e1"
      },
      "execution_count": 15,
      "outputs": [
        {
          "output_type": "stream",
          "name": "stdout",
          "text": [
            "<function make_incrementor.<locals>.add_n at 0x7b8827776840>\n",
            "12\n"
          ]
        }
      ]
    },
    {
      "cell_type": "code",
      "source": [
        "plus_10 = make_incrementor(10)\n",
        "result = plus_10(100)\n",
        "print(result)"
      ],
      "metadata": {
        "colab": {
          "base_uri": "https://localhost:8080/"
        },
        "id": "ykP9P4RJEj7w",
        "outputId": "14996c4d-9f52-42f7-f4f1-213dee405c53"
      },
      "execution_count": 16,
      "outputs": [
        {
          "output_type": "stream",
          "name": "stdout",
          "text": [
            "110\n"
          ]
        }
      ]
    },
    {
      "cell_type": "code",
      "source": [
        "result = make_incrementor(100)(123)\n",
        "print(result)"
      ],
      "metadata": {
        "colab": {
          "base_uri": "https://localhost:8080/"
        },
        "id": "G50P1w46FUwh",
        "outputId": "56700dae-ca5b-4ec5-e06b-f0c0a4f5ae5e"
      },
      "execution_count": 17,
      "outputs": [
        {
          "output_type": "stream",
          "name": "stdout",
          "text": [
            "223\n"
          ]
        }
      ]
    },
    {
      "cell_type": "markdown",
      "source": [
        "# 람다 표현식(Lambda Expression)"
      ],
      "metadata": {
        "id": "-Jx7Icv34qpi"
      }
    },
    {
      "cell_type": "markdown",
      "source": [
        "*   문법\n",
        "```\n",
        "lambda param1, param2, ...: expression(식)\n",
        "```\n",
        "\n",
        "*   이름이 없는 함수\n",
        "*   함수 이름 선언 없이, 함수 파라미터 선언과 반환값 또는 반환 식으로 함수를 정의(선언)하는 것.\n",
        "*   람다 표현식은 변수에 할당할 수 있음. **함수의 아규먼트로 전달할 수 있음.**"
      ],
      "metadata": {
        "id": "j_c9uytD5W1C"
      }
    },
    {
      "cell_type": "code",
      "source": [
        "# 함수 선언\n",
        "# def plus_one(x):\n",
        "#     return x + 1\n",
        "\n",
        "# 람다 표현식\n",
        "plus_one = lambda x: x + 1\n",
        "print(plus_one)\n",
        "print(plus_one(1))"
      ],
      "metadata": {
        "colab": {
          "base_uri": "https://localhost:8080/"
        },
        "id": "0jkZK6OS6Z9k",
        "outputId": "4290a41f-850e-4c5b-a039-07f513cc2346"
      },
      "execution_count": 19,
      "outputs": [
        {
          "output_type": "stream",
          "name": "stdout",
          "text": [
            "<function <lambda> at 0x7b8806a545e0>\n",
            "2\n"
          ]
        }
      ]
    },
    {
      "cell_type": "code",
      "source": [
        "# def add(x, y):\n",
        "#     return x + y\n",
        "\n",
        "add = lambda x, y: x + y\n",
        "print(add(100, 200))"
      ],
      "metadata": {
        "colab": {
          "base_uri": "https://localhost:8080/"
        },
        "id": "nlseGSYi7rjs",
        "outputId": "a56ac5a4-f116-4c46-91fe-76c7b8557996"
      },
      "execution_count": 20,
      "outputs": [
        {
          "output_type": "stream",
          "name": "stdout",
          "text": [
            "300\n"
          ]
        }
      ]
    },
    {
      "cell_type": "markdown",
      "source": [
        "함수 `calculator()`의 아규먼트로 람다 표현식을 전달"
      ],
      "metadata": {
        "id": "mx2Jfjac8gsC"
      }
    },
    {
      "cell_type": "code",
      "source": [
        "result = calculator(1, 2, lambda x, y: x + y)\n",
        "print(result)"
      ],
      "metadata": {
        "colab": {
          "base_uri": "https://localhost:8080/"
        },
        "id": "dmjRHViY8nDT",
        "outputId": "e117adf6-969d-4582-e888-f32a05712931"
      },
      "execution_count": 21,
      "outputs": [
        {
          "output_type": "stream",
          "name": "stdout",
          "text": [
            "3\n"
          ]
        }
      ]
    },
    {
      "cell_type": "code",
      "source": [
        "result = calculator(1, 2, lambda x, y: x - y)\n",
        "print(result)"
      ],
      "metadata": {
        "colab": {
          "base_uri": "https://localhost:8080/"
        },
        "id": "_q2z0bIH9R3s",
        "outputId": "a755cad2-d8ba-4dac-8212-671de57d4a05"
      },
      "execution_count": 22,
      "outputs": [
        {
          "output_type": "stream",
          "name": "stdout",
          "text": [
            "-1\n"
          ]
        }
      ]
    },
    {
      "cell_type": "code",
      "source": [
        "result = calculator(2, 3, lambda x, y: x * y)\n",
        "print(result)"
      ],
      "metadata": {
        "colab": {
          "base_uri": "https://localhost:8080/"
        },
        "id": "y7tONM8u9xNi",
        "outputId": "db3d4f7b-1235-4830-ddcc-7ff119f63eda"
      },
      "execution_count": 23,
      "outputs": [
        {
          "output_type": "stream",
          "name": "stdout",
          "text": [
            "6\n"
          ]
        }
      ]
    },
    {
      "cell_type": "code",
      "source": [
        "result = calculator(1, 2, lambda x, y: x / y)\n",
        "print(result)"
      ],
      "metadata": {
        "colab": {
          "base_uri": "https://localhost:8080/"
        },
        "id": "rJfi3xqz914a",
        "outputId": "9f4be516-0b3c-4911-d72d-924c662c0934"
      },
      "execution_count": 24,
      "outputs": [
        {
          "output_type": "stream",
          "name": "stdout",
          "text": [
            "0.5\n"
          ]
        }
      ]
    },
    {
      "cell_type": "markdown",
      "source": [
        "## lambda를 아규먼트로 전달하는 예"
      ],
      "metadata": {
        "id": "MRtgjyyFCfKT"
      }
    },
    {
      "cell_type": "markdown",
      "source": [
        "*   filter: 조건을 만족하는 원소들로 이루어진 리스트를 리턴.\n",
        "*   map: 원소들을 일정한 규칙에 따라서 다른 값으로 변환(매핑)."
      ],
      "metadata": {
        "id": "QI2VLM7dCmgB"
      }
    },
    {
      "cell_type": "code",
      "source": [
        "import random"
      ],
      "metadata": {
        "id": "qdsEbkwnDb4S"
      },
      "execution_count": 25,
      "outputs": []
    },
    {
      "cell_type": "code",
      "source": [
        "numbers = [random.randrange(10) for _ in range(10)]\n",
        "print(numbers)"
      ],
      "metadata": {
        "colab": {
          "base_uri": "https://localhost:8080/"
        },
        "id": "3h3rUp9RDgAb",
        "outputId": "5107c4b2-2e78-422d-f250-6d8ad0194ac0"
      },
      "execution_count": 26,
      "outputs": [
        {
          "output_type": "stream",
          "name": "stdout",
          "text": [
            "[9, 1, 2, 6, 7, 6, 7, 9, 5, 8]\n"
          ]
        }
      ]
    },
    {
      "cell_type": "markdown",
      "source": [
        "리스트 numbers에서 짝수들만 필터링한 리스트."
      ],
      "metadata": {
        "id": "UciwHMYzDzub"
      }
    },
    {
      "cell_type": "code",
      "source": [
        "# filter(function, iterable): iterable의 원소를 function의 아규먼트로 전달했을 때 True를 리턴하는 값들로 이루어진 filter 객체를 리턴.\n",
        "evens = filter(lambda x: x % 2 == 0, numbers)\n",
        "result = list(evens)  # 필터링된 객체를 리스트(list) 타입으로 변환.\n",
        "print(result)"
      ],
      "metadata": {
        "colab": {
          "base_uri": "https://localhost:8080/"
        },
        "id": "o_LrNpRWDsgT",
        "outputId": "3144fd2c-aadd-4a63-82ba-46606bb7c29c"
      },
      "execution_count": 28,
      "outputs": [
        {
          "output_type": "stream",
          "name": "stdout",
          "text": [
            "[2, 6, 6, 8]\n"
          ]
        }
      ]
    },
    {
      "cell_type": "markdown",
      "source": [
        "리스트 numbers 원소들의 제곱으로 이루어진 리스트."
      ],
      "metadata": {
        "id": "voX-Okr0F975"
      }
    },
    {
      "cell_type": "code",
      "source": [
        "# map(function, iterable): iterable의 원소들을 function의 아규먼트로 전달해서 function이 리턴해 주는 값들로 이루어진 map 객체를 리턴.\n",
        "squares = map(lambda x: x ** 2, numbers)\n",
        "result = list(squares)  # 매핑(변환)된 객체를 리스트 타입으로 변환.\n",
        "print(result)"
      ],
      "metadata": {
        "colab": {
          "base_uri": "https://localhost:8080/"
        },
        "id": "7OpQCUfBF9sS",
        "outputId": "f8ad7114-73b5-4567-8396-c373b0c76c5c"
      },
      "execution_count": 30,
      "outputs": [
        {
          "output_type": "stream",
          "name": "stdout",
          "text": [
            "[81, 1, 4, 36, 49, 36, 49, 81, 25, 64]\n"
          ]
        }
      ]
    },
    {
      "cell_type": "markdown",
      "source": [
        "연습문제 1.\n",
        "*   [-10, 10] 범위의 난수 10개를 원소로 갖는 리스트를 만듦.\n",
        "*   위의 리스트에서 음수들만 필터링한 리스트를 만들고 출력.\n",
        "*   홀수들만 필터링한 리스트를 만들고 출력."
      ],
      "metadata": {
        "id": "ENMqmTDuHbRb"
      }
    },
    {
      "cell_type": "code",
      "source": [
        "numbers = [random.randrange(-10, 11) for _ in range(10)]\n",
        "print(numbers)"
      ],
      "metadata": {
        "colab": {
          "base_uri": "https://localhost:8080/"
        },
        "id": "0tYT9IGBLMdp",
        "outputId": "0b761f6b-4367-49e6-f55d-be1a3e4d4da5"
      },
      "execution_count": 34,
      "outputs": [
        {
          "output_type": "stream",
          "name": "stdout",
          "text": [
            "[-8, -10, 4, -9, 7, 4, -3, 7, -1, 9]\n"
          ]
        }
      ]
    },
    {
      "cell_type": "code",
      "source": [
        "negatives = filter(lambda x: x < 0, numbers)\n",
        "print(list(negatives))  # 필터링한 객체를 리스트로 변환해서 출력"
      ],
      "metadata": {
        "colab": {
          "base_uri": "https://localhost:8080/"
        },
        "id": "fP_Ww-CVLjna",
        "outputId": "d213d70f-05c9-40af-c646-641a10816b63"
      },
      "execution_count": 35,
      "outputs": [
        {
          "output_type": "stream",
          "name": "stdout",
          "text": [
            "[-8, -10, -9, -3, -1]\n"
          ]
        }
      ]
    },
    {
      "cell_type": "code",
      "source": [
        "odds = filter(lambda x: x % 2 == 1, numbers)\n",
        "print(list(odds))"
      ],
      "metadata": {
        "colab": {
          "base_uri": "https://localhost:8080/"
        },
        "id": "hM-KTRpeMI56",
        "outputId": "b29a6524-076e-4ca4-c166-729740622348"
      },
      "execution_count": 36,
      "outputs": [
        {
          "output_type": "stream",
          "name": "stdout",
          "text": [
            "[-9, 7, -3, 7, -1, 9]\n"
          ]
        }
      ]
    },
    {
      "cell_type": "markdown",
      "source": [
        "연습문제 2.\n",
        "*   [0, 100) 범위의 난수 10개를 원소로 갖는 리스트를 만듦.\n",
        "*   위의 리스트의 원소가 짝수이면 'even', 홀수이면 'odd'로 매핑한 리스트를 만들고 출력.\n",
        "*   리스트의 원소가 0 ~ 19이면 'teen', 20 ~ 59이면 'adult', 60 이상이면 'senior'로 매핑한 리스트를 만들고 출력."
      ],
      "metadata": {
        "id": "74OLXc-jH0np"
      }
    },
    {
      "cell_type": "code",
      "source": [
        "numbers = [random.randrange(100) for _ in range(10)]\n",
        "print(numbers)"
      ],
      "metadata": {
        "colab": {
          "base_uri": "https://localhost:8080/"
        },
        "id": "lgh4zUZCHznq",
        "outputId": "c5dda797-3cfc-48ea-b0ad-ebba7bfdb226"
      },
      "execution_count": 37,
      "outputs": [
        {
          "output_type": "stream",
          "name": "stdout",
          "text": [
            "[91, 6, 73, 3, 27, 68, 38, 22, 21, 55]\n"
          ]
        }
      ]
    },
    {
      "cell_type": "code",
      "source": [
        "even_or_odd = map(lambda x: 'even' if x % 2 == 0 else 'odd', numbers)\n",
        "print(list(even_or_odd))  # 매핑(변환)된 객체를 리스트로 변환해서 출력"
      ],
      "metadata": {
        "colab": {
          "base_uri": "https://localhost:8080/"
        },
        "id": "UIGq3Af8M0Mj",
        "outputId": "a0c373fd-51e3-4566-ca18-216d9f1ce271"
      },
      "execution_count": 38,
      "outputs": [
        {
          "output_type": "stream",
          "name": "stdout",
          "text": [
            "['odd', 'even', 'odd', 'odd', 'odd', 'even', 'even', 'even', 'odd', 'odd']\n"
          ]
        }
      ]
    },
    {
      "cell_type": "code",
      "source": [
        "age = 65\n",
        "# if age < 20:\n",
        "#     category = 'teen'\n",
        "# elif age < 60:\n",
        "#     category = 'adult'\n",
        "# else:\n",
        "#     category = 'senior'\n",
        "\n",
        "category = 'teen' if age < 20 else ('adult' if age < 60 else 'senior')\n",
        "print(category)"
      ],
      "metadata": {
        "colab": {
          "base_uri": "https://localhost:8080/"
        },
        "id": "NfEhE_gbN_5a",
        "outputId": "fe07d3b8-7407-4c11-e362-83ec2d8e5fdd"
      },
      "execution_count": 41,
      "outputs": [
        {
          "output_type": "stream",
          "name": "stdout",
          "text": [
            "senior\n"
          ]
        }
      ]
    },
    {
      "cell_type": "code",
      "source": [
        "result = map(lambda x: 'teen' if x < 20 else ('adult' if x < 60 else 'senior'), numbers)\n",
        "print(list(result))"
      ],
      "metadata": {
        "colab": {
          "base_uri": "https://localhost:8080/"
        },
        "id": "7Vu7FryhPQVa",
        "outputId": "be1e276b-0b30-4ece-d9a8-15e4390669df"
      },
      "execution_count": 43,
      "outputs": [
        {
          "output_type": "stream",
          "name": "stdout",
          "text": [
            "['senior', 'teen', 'senior', 'teen', 'adult', 'senior', 'adult', 'adult', 'adult', 'adult']\n"
          ]
        }
      ]
    }
  ]
}