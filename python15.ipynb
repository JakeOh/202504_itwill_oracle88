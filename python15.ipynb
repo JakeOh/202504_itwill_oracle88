{
  "nbformat": 4,
  "nbformat_minor": 0,
  "metadata": {
    "colab": {
      "provenance": [],
      "toc_visible": true,
      "authorship_tag": "ABX9TyN0g88zBIDUKzGj6jHHT69F",
      "include_colab_link": true
    },
    "kernelspec": {
      "name": "python3",
      "display_name": "Python 3"
    },
    "language_info": {
      "name": "python"
    }
  },
  "cells": [
    {
      "cell_type": "markdown",
      "metadata": {
        "id": "view-in-github",
        "colab_type": "text"
      },
      "source": [
        "<a href=\"https://colab.research.google.com/github/JakeOh/202504_itwill_oracle88/blob/main/python15.ipynb\" target=\"_parent\"><img src=\"https://colab.research.google.com/assets/colab-badge.svg\" alt=\"Open In Colab\"/></a>"
      ]
    },
    {
      "cell_type": "markdown",
      "source": [
        "# str 클래스의 메서드"
      ],
      "metadata": {
        "id": "e6l51RqhcPNi"
      }
    },
    {
      "cell_type": "code",
      "execution_count": 1,
      "metadata": {
        "id": "K-nH7vmecLC3"
      },
      "outputs": [],
      "source": [
        "s = 'heLLo, pyTHon! 안녕, 파이썬...'"
      ]
    },
    {
      "cell_type": "code",
      "source": [
        "print(type(s))  # __str__()\n",
        "type(s)  # __repr__()"
      ],
      "metadata": {
        "colab": {
          "base_uri": "https://localhost:8080/"
        },
        "id": "yZAMSUyCchGc",
        "outputId": "1ee58c27-2188-4e07-bff2-60ec3044f4bf"
      },
      "execution_count": 4,
      "outputs": [
        {
          "output_type": "stream",
          "name": "stdout",
          "text": [
            "<class 'str'>\n"
          ]
        },
        {
          "output_type": "execute_result",
          "data": {
            "text/plain": [
              "str"
            ]
          },
          "metadata": {},
          "execution_count": 4
        }
      ]
    },
    {
      "cell_type": "code",
      "source": [
        "result = s.upper()  # uppercase(대문자)로 변환된 문자열을 리턴.\n",
        "print('result =', result)\n",
        "print('s =', s)  # 원본 문자열 s는 변경되지 않음!"
      ],
      "metadata": {
        "colab": {
          "base_uri": "https://localhost:8080/"
        },
        "id": "ZfOpz5ZYdF8S",
        "outputId": "13bdb5e9-c43c-4bb2-bad5-4401364fe7ad"
      },
      "execution_count": 5,
      "outputs": [
        {
          "output_type": "stream",
          "name": "stdout",
          "text": [
            "result = HELLO, PYTHON! 안녕, 파이썬...\n",
            "s = heLLo, pyTHon! 안녕, 파이썬...\n"
          ]
        }
      ]
    },
    {
      "cell_type": "code",
      "source": [
        "s.lower()  # lowercase(소문자)로 변환된 문자열을 리턴."
      ],
      "metadata": {
        "colab": {
          "base_uri": "https://localhost:8080/",
          "height": 39
        },
        "id": "ByRU8EhXeqsa",
        "outputId": "5652b284-0ea5-49ce-f8ee-104657158e68"
      },
      "execution_count": 6,
      "outputs": [
        {
          "output_type": "execute_result",
          "data": {
            "text/plain": [
              "'hello, python! 안녕, 파이썬...'"
            ],
            "application/vnd.google.colaboratory.intrinsic+json": {
              "type": "string"
            }
          },
          "metadata": {},
          "execution_count": 6
        }
      ]
    },
    {
      "cell_type": "code",
      "source": [
        "s.capitalize()  # 문장의 첫글자만 대문자로."
      ],
      "metadata": {
        "colab": {
          "base_uri": "https://localhost:8080/",
          "height": 39
        },
        "id": "gIC56g_5e1Mz",
        "outputId": "b855589b-301e-401b-be28-bfc89df38a62"
      },
      "execution_count": 7,
      "outputs": [
        {
          "output_type": "execute_result",
          "data": {
            "text/plain": [
              "'Hello, python! 안녕, 파이썬...'"
            ],
            "application/vnd.google.colaboratory.intrinsic+json": {
              "type": "string"
            }
          },
          "metadata": {},
          "execution_count": 7
        }
      ]
    },
    {
      "cell_type": "code",
      "source": [
        "# str.count(sub): 문자열 str 안에 sub가 몇 번 등장하는 지를 리턴.\n",
        "print(s)\n",
        "print(s.count('L'))\n",
        "print(s.count('l'))\n",
        "print(s.count('LL'))"
      ],
      "metadata": {
        "colab": {
          "base_uri": "https://localhost:8080/"
        },
        "id": "7kx9eGEFgFVD",
        "outputId": "269431c8-6408-48ef-8328-638bf9ae8e66"
      },
      "execution_count": 11,
      "outputs": [
        {
          "output_type": "stream",
          "name": "stdout",
          "text": [
            "heLLo, pyTHon! 안녕, 파이썬...\n",
            "2\n",
            "0\n",
            "1\n"
          ]
        }
      ]
    },
    {
      "cell_type": "code",
      "source": [
        "# str.find(패턴): 문자열 str에 패턴이 처음 등장하는 인덱스를 리턴. 문자열에 패턴이 없으면 -1을 리턴.\n",
        "print(s)\n",
        "print(s.find('py'))"
      ],
      "metadata": {
        "colab": {
          "base_uri": "https://localhost:8080/"
        },
        "id": "8qB0oLiLg6rD",
        "outputId": "5462f2af-6b80-4150-cba0-8cddef17170b"
      },
      "execution_count": 13,
      "outputs": [
        {
          "output_type": "stream",
          "name": "stdout",
          "text": [
            "heLLo, pyTHon! 안녕, 파이썬...\n",
            "7\n"
          ]
        }
      ]
    },
    {
      "cell_type": "code",
      "source": [
        "email = 'jake@itwill.com'\n",
        "\n",
        "# 문자열 email에서 '@' 나오는 인덱스를 찾음.\n",
        "idx = email.find('@')\n",
        "print(idx)\n",
        "\n",
        "# 문자열을 이메일 아이디와 이메일 도메인을 각각 출력.\n",
        "print(email[:idx])\n",
        "print(email[(idx + 1):])"
      ],
      "metadata": {
        "colab": {
          "base_uri": "https://localhost:8080/"
        },
        "id": "FD8iJSu1hglr",
        "outputId": "d99c5aae-909b-4d07-f29d-8dac6d2d13dc"
      },
      "execution_count": 18,
      "outputs": [
        {
          "output_type": "stream",
          "name": "stdout",
          "text": [
            "4\n",
            "jake\n",
            "itwill.com\n"
          ]
        }
      ]
    }
  ]
}