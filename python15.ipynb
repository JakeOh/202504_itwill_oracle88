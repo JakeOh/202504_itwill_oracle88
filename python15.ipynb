{
  "nbformat": 4,
  "nbformat_minor": 0,
  "metadata": {
    "colab": {
      "provenance": [],
      "toc_visible": true,
      "authorship_tag": "ABX9TyNv3NyahtTq3Xe5MZr3Dz9i",
      "include_colab_link": true
    },
    "kernelspec": {
      "name": "python3",
      "display_name": "Python 3"
    },
    "language_info": {
      "name": "python"
    }
  },
  "cells": [
    {
      "cell_type": "markdown",
      "metadata": {
        "id": "view-in-github",
        "colab_type": "text"
      },
      "source": [
        "<a href=\"https://colab.research.google.com/github/JakeOh/202504_itwill_oracle88/blob/main/python15.ipynb\" target=\"_parent\"><img src=\"https://colab.research.google.com/assets/colab-badge.svg\" alt=\"Open In Colab\"/></a>"
      ]
    },
    {
      "cell_type": "markdown",
      "source": [
        "# str 클래스의 메서드"
      ],
      "metadata": {
        "id": "e6l51RqhcPNi"
      }
    },
    {
      "cell_type": "code",
      "execution_count": null,
      "metadata": {
        "id": "K-nH7vmecLC3"
      },
      "outputs": [],
      "source": [
        "s = 'heLLo, pyTHon! 안녕, 파이썬...'"
      ]
    },
    {
      "cell_type": "code",
      "source": [
        "print(type(s))  # __str__()\n",
        "type(s)  # __repr__()"
      ],
      "metadata": {
        "colab": {
          "base_uri": "https://localhost:8080/"
        },
        "id": "yZAMSUyCchGc",
        "outputId": "1ee58c27-2188-4e07-bff2-60ec3044f4bf"
      },
      "execution_count": null,
      "outputs": [
        {
          "output_type": "stream",
          "name": "stdout",
          "text": [
            "<class 'str'>\n"
          ]
        },
        {
          "output_type": "execute_result",
          "data": {
            "text/plain": [
              "str"
            ]
          },
          "metadata": {},
          "execution_count": 4
        }
      ]
    },
    {
      "cell_type": "code",
      "source": [
        "result = s.upper()  # uppercase(대문자)로 변환된 문자열을 리턴.\n",
        "print('result =', result)\n",
        "print('s =', s)  # 원본 문자열 s는 변경되지 않음!"
      ],
      "metadata": {
        "colab": {
          "base_uri": "https://localhost:8080/"
        },
        "id": "ZfOpz5ZYdF8S",
        "outputId": "13bdb5e9-c43c-4bb2-bad5-4401364fe7ad"
      },
      "execution_count": null,
      "outputs": [
        {
          "output_type": "stream",
          "name": "stdout",
          "text": [
            "result = HELLO, PYTHON! 안녕, 파이썬...\n",
            "s = heLLo, pyTHon! 안녕, 파이썬...\n"
          ]
        }
      ]
    },
    {
      "cell_type": "code",
      "source": [
        "s.lower()  # lowercase(소문자)로 변환된 문자열을 리턴."
      ],
      "metadata": {
        "colab": {
          "base_uri": "https://localhost:8080/",
          "height": 39
        },
        "id": "ByRU8EhXeqsa",
        "outputId": "5652b284-0ea5-49ce-f8ee-104657158e68"
      },
      "execution_count": null,
      "outputs": [
        {
          "output_type": "execute_result",
          "data": {
            "text/plain": [
              "'hello, python! 안녕, 파이썬...'"
            ],
            "application/vnd.google.colaboratory.intrinsic+json": {
              "type": "string"
            }
          },
          "metadata": {},
          "execution_count": 6
        }
      ]
    },
    {
      "cell_type": "code",
      "source": [
        "s.capitalize()  # 문장의 첫글자만 대문자로."
      ],
      "metadata": {
        "colab": {
          "base_uri": "https://localhost:8080/",
          "height": 39
        },
        "id": "gIC56g_5e1Mz",
        "outputId": "b855589b-301e-401b-be28-bfc89df38a62"
      },
      "execution_count": null,
      "outputs": [
        {
          "output_type": "execute_result",
          "data": {
            "text/plain": [
              "'Hello, python! 안녕, 파이썬...'"
            ],
            "application/vnd.google.colaboratory.intrinsic+json": {
              "type": "string"
            }
          },
          "metadata": {},
          "execution_count": 7
        }
      ]
    },
    {
      "cell_type": "code",
      "source": [
        "# str.count(sub): 문자열 str 안에 sub가 몇 번 등장하는 지를 리턴.\n",
        "print(s)\n",
        "print(s.count('L'))\n",
        "print(s.count('l'))\n",
        "print(s.count('LL'))"
      ],
      "metadata": {
        "colab": {
          "base_uri": "https://localhost:8080/"
        },
        "id": "7kx9eGEFgFVD",
        "outputId": "269431c8-6408-48ef-8328-638bf9ae8e66"
      },
      "execution_count": null,
      "outputs": [
        {
          "output_type": "stream",
          "name": "stdout",
          "text": [
            "heLLo, pyTHon! 안녕, 파이썬...\n",
            "2\n",
            "0\n",
            "1\n"
          ]
        }
      ]
    },
    {
      "cell_type": "code",
      "source": [
        "# str.find(패턴): 문자열 str에 패턴이 처음 등장하는 인덱스를 리턴. 문자열에 패턴이 없으면 -1을 리턴.\n",
        "print(s)\n",
        "print(s.find('py'))"
      ],
      "metadata": {
        "colab": {
          "base_uri": "https://localhost:8080/"
        },
        "id": "8qB0oLiLg6rD",
        "outputId": "5462f2af-6b80-4150-cba0-8cddef17170b"
      },
      "execution_count": null,
      "outputs": [
        {
          "output_type": "stream",
          "name": "stdout",
          "text": [
            "heLLo, pyTHon! 안녕, 파이썬...\n",
            "7\n"
          ]
        }
      ]
    },
    {
      "cell_type": "code",
      "source": [
        "email = 'jake@itwill.com'\n",
        "\n",
        "# 문자열 email에서 '@' 나오는 인덱스를 찾음.\n",
        "idx = email.find('@')\n",
        "print(idx)\n",
        "\n",
        "# 문자열을 이메일 아이디와 이메일 도메인을 각각 출력.\n",
        "print(email[:idx])\n",
        "print(email[(idx + 1):])"
      ],
      "metadata": {
        "colab": {
          "base_uri": "https://localhost:8080/"
        },
        "id": "FD8iJSu1hglr",
        "outputId": "d99c5aae-909b-4d07-f29d-8dac6d2d13dc"
      },
      "execution_count": null,
      "outputs": [
        {
          "output_type": "stream",
          "name": "stdout",
          "text": [
            "4\n",
            "jake\n",
            "itwill.com\n"
          ]
        }
      ]
    },
    {
      "cell_type": "code",
      "source": [
        "msg = '파이썬 참 쉽죠?  파이썬 열심히 공부합시다.'\n",
        "result = msg.split()  # 공백(space, tab, enter)으로 구분한(자른) 문자열들의 리스트를 리턴\n",
        "result"
      ],
      "metadata": {
        "colab": {
          "base_uri": "https://localhost:8080/"
        },
        "id": "YXsd1Aoh0btq",
        "outputId": "84e0b07b-e127-460b-b37a-aa4966d24d1e"
      },
      "execution_count": 21,
      "outputs": [
        {
          "output_type": "execute_result",
          "data": {
            "text/plain": [
              "['파이썬', '참', '쉽죠?', '파이썬', '열심히', '공부합시다.']"
            ]
          },
          "metadata": {},
          "execution_count": 21
        }
      ]
    },
    {
      "cell_type": "code",
      "source": [
        "date_string = '2025-04-29'\n",
        "result = date_string.split(sep='-')  # sep 파라미터: 구분자(seperator)\n",
        "result"
      ],
      "metadata": {
        "colab": {
          "base_uri": "https://localhost:8080/"
        },
        "id": "7sEVLYir2o8C",
        "outputId": "36ff2b74-ffe3-43d4-f77b-903e13def52a"
      },
      "execution_count": 22,
      "outputs": [
        {
          "output_type": "execute_result",
          "data": {
            "text/plain": [
              "['2025', '04', '29']"
            ]
          },
          "metadata": {},
          "execution_count": 22
        }
      ]
    },
    {
      "cell_type": "code",
      "source": [
        "csv_string = '1,홍길동,100,90,80'  # csv(comma-separated values)\n",
        "csv_string.split(sep=',')"
      ],
      "metadata": {
        "colab": {
          "base_uri": "https://localhost:8080/"
        },
        "id": "V5P_YvaS3LiJ",
        "outputId": "43f8e3cf-8a3a-499c-913c-65e6a36fdd20"
      },
      "execution_count": 23,
      "outputs": [
        {
          "output_type": "execute_result",
          "data": {
            "text/plain": [
              "['1', '홍길동', '100', '90', '80']"
            ]
          },
          "metadata": {},
          "execution_count": 23
        }
      ]
    },
    {
      "cell_type": "code",
      "source": [
        "email = 'gildong.hong@naver.com'\n",
        "# 문자열 email에서 이메일 아이디와 도메인을 구분해서 출력\n",
        "result = email.split(sep='@')  #> ['gildong.hong', 'naver.com']\n",
        "print(result[0])\n",
        "print(result[1])"
      ],
      "metadata": {
        "colab": {
          "base_uri": "https://localhost:8080/"
        },
        "id": "jVCYjTWX4ImK",
        "outputId": "095882bc-eef8-4cc8-c31c-98ab5b0108d8"
      },
      "execution_count": 24,
      "outputs": [
        {
          "output_type": "stream",
          "name": "stdout",
          "text": [
            "gildong.hong\n",
            "naver.com\n"
          ]
        }
      ]
    },
    {
      "cell_type": "code",
      "source": [
        "# str.join(iterable): iterable의 아이템들을 str으로 연결한 문자열을 리턴.\n",
        "'/'.join(['2025', '04', '29'])"
      ],
      "metadata": {
        "colab": {
          "base_uri": "https://localhost:8080/",
          "height": 39
        },
        "id": "duXlPPh15UPS",
        "outputId": "205a6a5d-9a34-4068-8561-26742ca550f5"
      },
      "execution_count": 25,
      "outputs": [
        {
          "output_type": "execute_result",
          "data": {
            "text/plain": [
              "'2025/04/29'"
            ],
            "application/vnd.google.colaboratory.intrinsic+json": {
              "type": "string"
            }
          },
          "metadata": {},
          "execution_count": 25
        }
      ]
    },
    {
      "cell_type": "code",
      "source": [
        "','.join(['홍길동', '오쌤', 'Scott'])"
      ],
      "metadata": {
        "colab": {
          "base_uri": "https://localhost:8080/",
          "height": 39
        },
        "id": "ude8omMZ6D1i",
        "outputId": "7106a2c8-eb74-4cba-a4e3-6c071a5179af"
      },
      "execution_count": 27,
      "outputs": [
        {
          "output_type": "execute_result",
          "data": {
            "text/plain": [
              "'홍길동,오쌤,Scott'"
            ],
            "application/vnd.google.colaboratory.intrinsic+json": {
              "type": "string"
            }
          },
          "metadata": {},
          "execution_count": 27
        }
      ]
    },
    {
      "cell_type": "code",
      "source": [
        "msg = 'Hello,Python,안녕하세요,파이썬,12345'\n",
        "msg.replace(',', '::')  # str.replace(old, new): str에 등장하는 old를 new로 대체한 문자열을 리턴."
      ],
      "metadata": {
        "colab": {
          "base_uri": "https://localhost:8080/",
          "height": 39
        },
        "id": "dG1yQw5m6Rzh",
        "outputId": "acf23984-9411-4fed-a0d0-3ff7d0535923"
      },
      "execution_count": 29,
      "outputs": [
        {
          "output_type": "execute_result",
          "data": {
            "text/plain": [
              "'Hello::Python::안녕하세요::파이썬::12345'"
            ],
            "application/vnd.google.colaboratory.intrinsic+json": {
              "type": "string"
            }
          },
          "metadata": {},
          "execution_count": 29
        }
      ]
    },
    {
      "cell_type": "code",
      "source": [
        "msg.replace(',', '-', 2)  # str.replace(old, new, count): str에 등장하는 old를 new로 count번 대체."
      ],
      "metadata": {
        "colab": {
          "base_uri": "https://localhost:8080/",
          "height": 39
        },
        "id": "wT9DFl_J7U3z",
        "outputId": "eb9e4949-f168-4f7e-d9ad-4bd71c4fe849"
      },
      "execution_count": 31,
      "outputs": [
        {
          "output_type": "execute_result",
          "data": {
            "text/plain": [
              "'Hello-Python-안녕하세요,파이썬,12345'"
            ],
            "application/vnd.google.colaboratory.intrinsic+json": {
              "type": "string"
            }
          },
          "metadata": {},
          "execution_count": 31
        }
      ]
    },
    {
      "cell_type": "code",
      "source": [
        "msg = '안녕? 안녕하세요! Hello, Python.'\n",
        "msg.replace('?', '').replace('!', '').replace(',', '').replace('.', '').split()  # 메서드 연쇄 호출"
      ],
      "metadata": {
        "colab": {
          "base_uri": "https://localhost:8080/"
        },
        "id": "n64uiAFP8QUM",
        "outputId": "4ec1cbb5-82f7-4c71-88be-a928dc94f176"
      },
      "execution_count": 36,
      "outputs": [
        {
          "output_type": "execute_result",
          "data": {
            "text/plain": [
              "['안녕', '안녕하세요', 'Hello', 'Python']"
            ]
          },
          "metadata": {},
          "execution_count": 36
        }
      ]
    },
    {
      "cell_type": "code",
      "source": [
        "sentence = '      Hello, Python!        안녕하세요....       '\n",
        "print(sentence)\n",
        "print(sentence.lstrip())  # lstrip: left strip\n",
        "print(sentence.rstrip())  # rstrip: right strip\n",
        "print(sentence.strip())"
      ],
      "metadata": {
        "colab": {
          "base_uri": "https://localhost:8080/"
        },
        "id": "2AEgalGx9N06",
        "outputId": "461e232c-393c-4b72-f6da-33011a49f942"
      },
      "execution_count": 40,
      "outputs": [
        {
          "output_type": "stream",
          "name": "stdout",
          "text": [
            "      Hello, Python!        안녕하세요....       \n",
            "Hello, Python!        안녕하세요....       \n",
            "      Hello, Python!        안녕하세요....\n",
            "Hello, Python!        안녕하세요....\n"
          ]
        }
      ]
    }
  ]
}